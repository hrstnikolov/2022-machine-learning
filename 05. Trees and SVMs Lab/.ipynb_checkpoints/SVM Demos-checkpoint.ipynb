{
 "cells": [
  {
   "cell_type": "code",
   "execution_count": 1,
   "id": "caef6fa4-091c-4ccf-aaed-bacd23ae9381",
   "metadata": {},
   "outputs": [],
   "source": [
    "%matplotlib inline"
   ]
  },
  {
   "cell_type": "code",
   "execution_count": 63,
   "id": "66094827-e362-4cad-ac6b-7d9096d51d11",
   "metadata": {},
   "outputs": [],
   "source": [
    "import numpy as np\n",
    "import pandas as pd\n",
    "import matplotlib.pyplot as plt\n",
    "\n",
    "from sklearn.preprocessing import MinMaxScaler\n",
    "from sklearn.svm import SVC, LinearSVC\n",
    "from sklearn.model_selection import train_test_split, GridSearchCV\n",
    "from sklearn.metrics import accuracy_score, f1_score, classification_report, make_scorer"
   ]
  },
  {
   "cell_type": "markdown",
   "id": "e60b9caf-3134-496e-b44a-d571f1196a85",
   "metadata": {},
   "source": [
    "# SVM Demos"
   ]
  },
  {
   "cell_type": "code",
   "execution_count": 13,
   "id": "2ee5e1c3-9963-4cbb-b0da-fff42950edda",
   "metadata": {},
   "outputs": [
    {
     "name": "stdout",
     "output_type": "stream",
     "text": [
      "(26048, 100)\n",
      "(6513, 100)\n",
      "(26048,)\n",
      "(6513,)\n"
     ]
    }
   ],
   "source": [
    "income_data = pd.read_csv(\"../datasets/adult/adult.data\", header=None)\n",
    "income_data.columns = [\n",
    "    \"age\",\n",
    "    \"workclass\",\n",
    "    \"final_weight\",\n",
    "    \"education\",\n",
    "    \"education-num\",\n",
    "    \"marital-status\",\n",
    "    \"occupation\",\n",
    "    \"relationship\",\n",
    "    \"race\",\n",
    "    \"sex\",\n",
    "    \"capital_gain\",\n",
    "    \"capital_loss\",\n",
    "    \"hours_per_week\",\n",
    "    \"native_country\",\n",
    "    \"income_class\",\n",
    "]\n",
    "\n",
    "income_target = income_data.income_class\n",
    "income_target = income_target.str.strip()\n",
    "\n",
    "income_attributes = income_data.drop(columns=\"income_class\")\n",
    "income_attributes = pd.get_dummies(income_attributes, drop_first=True)\n",
    "scaler = MinMaxScaler()\n",
    "income_attributes = scaler.fit_transform(income_attributes)\n",
    "\n",
    "income_attributes_train, income_attributes_test, \\\n",
    "income_target_train, income_target_test, \\\n",
    "= train_test_split(income_attributes, income_target, train_size=0.8)\n",
    "\n",
    "for x in [income_attributes_train, income_attributes_test, income_target_train, income_target_test]:\n",
    "    print(x.shape)"
   ]
  },
  {
   "cell_type": "code",
   "execution_count": 17,
   "id": "a388af13-c848-413a-a7bb-2e8dd7ca3e4d",
   "metadata": {},
   "outputs": [],
   "source": [
    "linear_svc = LinearSVC(\n",
    "    penalty='l2',\n",
    "    loss='squared_hinge',\n",
    "    dual=True,\n",
    "    tol=0.0001,\n",
    "    C= 1e6,\n",
    "    max_iter = 10000,\n",
    ")"
   ]
  },
  {
   "cell_type": "code",
   "execution_count": 29,
   "id": "f80d6209-d93d-4251-b6b9-15f28589b289",
   "metadata": {},
   "outputs": [
    {
     "name": "stderr",
     "output_type": "stream",
     "text": [
      "C:\\Users\\a1056968\\Anaconda3\\envs\\machine_learning\\lib\\site-packages\\sklearn\\svm\\_base.py:1225: ConvergenceWarning: Liblinear failed to converge, increase the number of iterations.\n",
      "  warnings.warn(\n"
     ]
    },
    {
     "data": {
      "text/html": [
       "<style>#sk-container-id-3 {color: black;background-color: white;}#sk-container-id-3 pre{padding: 0;}#sk-container-id-3 div.sk-toggleable {background-color: white;}#sk-container-id-3 label.sk-toggleable__label {cursor: pointer;display: block;width: 100%;margin-bottom: 0;padding: 0.3em;box-sizing: border-box;text-align: center;}#sk-container-id-3 label.sk-toggleable__label-arrow:before {content: \"▸\";float: left;margin-right: 0.25em;color: #696969;}#sk-container-id-3 label.sk-toggleable__label-arrow:hover:before {color: black;}#sk-container-id-3 div.sk-estimator:hover label.sk-toggleable__label-arrow:before {color: black;}#sk-container-id-3 div.sk-toggleable__content {max-height: 0;max-width: 0;overflow: hidden;text-align: left;background-color: #f0f8ff;}#sk-container-id-3 div.sk-toggleable__content pre {margin: 0.2em;color: black;border-radius: 0.25em;background-color: #f0f8ff;}#sk-container-id-3 input.sk-toggleable__control:checked~div.sk-toggleable__content {max-height: 200px;max-width: 100%;overflow: auto;}#sk-container-id-3 input.sk-toggleable__control:checked~label.sk-toggleable__label-arrow:before {content: \"▾\";}#sk-container-id-3 div.sk-estimator input.sk-toggleable__control:checked~label.sk-toggleable__label {background-color: #d4ebff;}#sk-container-id-3 div.sk-label input.sk-toggleable__control:checked~label.sk-toggleable__label {background-color: #d4ebff;}#sk-container-id-3 input.sk-hidden--visually {border: 0;clip: rect(1px 1px 1px 1px);clip: rect(1px, 1px, 1px, 1px);height: 1px;margin: -1px;overflow: hidden;padding: 0;position: absolute;width: 1px;}#sk-container-id-3 div.sk-estimator {font-family: monospace;background-color: #f0f8ff;border: 1px dotted black;border-radius: 0.25em;box-sizing: border-box;margin-bottom: 0.5em;}#sk-container-id-3 div.sk-estimator:hover {background-color: #d4ebff;}#sk-container-id-3 div.sk-parallel-item::after {content: \"\";width: 100%;border-bottom: 1px solid gray;flex-grow: 1;}#sk-container-id-3 div.sk-label:hover label.sk-toggleable__label {background-color: #d4ebff;}#sk-container-id-3 div.sk-serial::before {content: \"\";position: absolute;border-left: 1px solid gray;box-sizing: border-box;top: 0;bottom: 0;left: 50%;z-index: 0;}#sk-container-id-3 div.sk-serial {display: flex;flex-direction: column;align-items: center;background-color: white;padding-right: 0.2em;padding-left: 0.2em;position: relative;}#sk-container-id-3 div.sk-item {position: relative;z-index: 1;}#sk-container-id-3 div.sk-parallel {display: flex;align-items: stretch;justify-content: center;background-color: white;position: relative;}#sk-container-id-3 div.sk-item::before, #sk-container-id-3 div.sk-parallel-item::before {content: \"\";position: absolute;border-left: 1px solid gray;box-sizing: border-box;top: 0;bottom: 0;left: 50%;z-index: -1;}#sk-container-id-3 div.sk-parallel-item {display: flex;flex-direction: column;z-index: 1;position: relative;background-color: white;}#sk-container-id-3 div.sk-parallel-item:first-child::after {align-self: flex-end;width: 50%;}#sk-container-id-3 div.sk-parallel-item:last-child::after {align-self: flex-start;width: 50%;}#sk-container-id-3 div.sk-parallel-item:only-child::after {width: 0;}#sk-container-id-3 div.sk-dashed-wrapped {border: 1px dashed gray;margin: 0 0.4em 0.5em 0.4em;box-sizing: border-box;padding-bottom: 0.4em;background-color: white;}#sk-container-id-3 div.sk-label label {font-family: monospace;font-weight: bold;display: inline-block;line-height: 1.2em;}#sk-container-id-3 div.sk-label-container {text-align: center;}#sk-container-id-3 div.sk-container {/* jupyter's `normalize.less` sets `[hidden] { display: none; }` but bootstrap.min.css set `[hidden] { display: none !important; }` so we also need the `!important` here to be able to override the default hidden behavior on the sphinx rendered scikit-learn.org. See: https://github.com/scikit-learn/scikit-learn/issues/21755 */display: inline-block !important;position: relative;}#sk-container-id-3 div.sk-text-repr-fallback {display: none;}</style><div id=\"sk-container-id-3\" class=\"sk-top-container\"><div class=\"sk-text-repr-fallback\"><pre>LinearSVC(C=1000000.0, max_iter=10000)</pre><b>In a Jupyter environment, please rerun this cell to show the HTML representation or trust the notebook. <br />On GitHub, the HTML representation is unable to render, please try loading this page with nbviewer.org.</b></div><div class=\"sk-container\" hidden><div class=\"sk-item\"><div class=\"sk-estimator sk-toggleable\"><input class=\"sk-toggleable__control sk-hidden--visually\" id=\"sk-estimator-id-3\" type=\"checkbox\" checked><label for=\"sk-estimator-id-3\" class=\"sk-toggleable__label sk-toggleable__label-arrow\">LinearSVC</label><div class=\"sk-toggleable__content\"><pre>LinearSVC(C=1000000.0, max_iter=10000)</pre></div></div></div></div></div>"
      ],
      "text/plain": [
       "LinearSVC(C=1000000.0, max_iter=10000)"
      ]
     },
     "execution_count": 29,
     "metadata": {},
     "output_type": "execute_result"
    }
   ],
   "source": [
    "linear_svc.fit(income_attributes_train, income_target_train)"
   ]
  },
  {
   "cell_type": "markdown",
   "id": "9c754ab9-d2a7-425e-92f3-48e08816a456",
   "metadata": {},
   "source": [
    "тегловните коефициенти на класификатора (модела) можем да ползваме за интерпретация кои са важните feature-и. Това се нарича **feature importances**."
   ]
  },
  {
   "cell_type": "code",
   "execution_count": 31,
   "id": "842a5f7a-ac1d-4173-ae1e-b96051988fa8",
   "metadata": {},
   "outputs": [
    {
     "data": {
      "text/plain": [
       "array([[-3.38700023e+00, -7.87053396e-01, -7.39325023e-01,\n",
       "        -7.19332974e-01, -7.06867061e-01, -6.33006200e-01,\n",
       "        -5.18366822e-01, -4.96677483e-01, -4.46403281e-01,\n",
       "        -3.87557499e-01, -3.85846609e-01, -3.74114109e-01,\n",
       "        -3.53517635e-01, -2.94391497e-01, -2.87371306e-01,\n",
       "        -2.78244476e-01, -2.42672234e-01, -2.21913384e-01,\n",
       "        -2.11896531e-01, -2.03136488e-01, -1.92391380e-01,\n",
       "        -1.82090138e-01, -1.81849893e-01, -1.78755071e-01,\n",
       "        -1.73329804e-01, -1.69053969e-01, -1.44728338e-01,\n",
       "        -1.32430277e-01, -1.11897161e-01, -1.07032285e-01,\n",
       "        -1.04572095e-01, -6.45400593e-02, -4.52668306e-02,\n",
       "        -1.68335807e-02, -1.32061708e-02, -1.12196940e-02,\n",
       "        -9.76046053e-03, -9.42193376e-03, -7.77154252e-03,\n",
       "         0.00000000e+00,  1.77095234e-02,  2.21172510e-02,\n",
       "         3.59332928e-02,  5.21040975e-02,  5.49636456e-02,\n",
       "         7.35498620e-02,  7.67747555e-02,  7.76144862e-02,\n",
       "         8.01692060e-02,  8.11102371e-02,  8.84476486e-02,\n",
       "         9.10949895e-02,  9.75361457e-02,  1.01230164e-01,\n",
       "         1.10862552e-01,  1.19376808e-01,  1.46526207e-01,\n",
       "         1.51451220e-01,  1.53534948e-01,  1.58519570e-01,\n",
       "         1.69098057e-01,  1.71898264e-01,  1.86866725e-01,\n",
       "         1.99528742e-01,  1.99664206e-01,  2.23542462e-01,\n",
       "         2.28219316e-01,  2.47467349e-01,  2.70534810e-01,\n",
       "         2.75339821e-01,  2.78408115e-01,  3.23562623e-01,\n",
       "         3.44022245e-01,  3.60502362e-01,  3.64034157e-01,\n",
       "         3.99219085e-01,  4.20368986e-01,  4.22298565e-01,\n",
       "         4.28492271e-01,  4.29050333e-01,  4.30938734e-01,\n",
       "         4.42433491e-01,  4.51311912e-01,  4.52483149e-01,\n",
       "         4.86844484e-01,  5.25759966e-01,  5.34721511e-01,\n",
       "         5.36355361e-01,  5.44422460e-01,  5.94619981e-01,\n",
       "         6.31064457e-01,  6.72633836e-01,  6.85737514e-01,\n",
       "         7.30029238e-01,  7.35264224e-01,  7.43549330e-01,\n",
       "         7.72583657e-01,  1.14060951e+00,  1.18620793e+00,\n",
       "         1.05386231e+01]])"
      ]
     },
     "execution_count": 31,
     "metadata": {},
     "output_type": "execute_result"
    }
   ],
   "source": [
    "np.sort(linear_svc.coef_)"
   ]
  },
  {
   "cell_type": "code",
   "execution_count": 58,
   "id": "bd27d7be-4889-4884-963f-c506de2d6bf2",
   "metadata": {},
   "outputs": [
    {
     "name": "stdout",
     "output_type": "stream",
     "text": [
      "Predicted\tActual\n",
      "1.0 \t\t <=50K\n",
      "1.0 \t\t >50K\n",
      "1.0 \t\t <=50K\n",
      "-1.0 \t\t <=50K\n",
      "1.0 \t\t >50K\n",
      "1.0 \t\t <=50K\n",
      "1.0 \t\t >50K\n",
      "1.0 \t\t <=50K\n"
     ]
    }
   ],
   "source": [
    "# Seems wrong?! TODO\n",
    "print(\"Predicted\\tActual\")\n",
    "for i in range(8):\n",
    "    predicted_class = np.sign(np.sum(income_attributes_test[i] * linear_svc.coef_))\n",
    "    actual_class = income_target_test.iloc[i]\n",
    "    print(predicted_class,\"\\t\\t\", actual_class)"
   ]
  },
  {
   "cell_type": "code",
   "execution_count": 69,
   "id": "12f1d9b7-96c1-49f7-94ad-c95121ce5654",
   "metadata": {},
   "outputs": [],
   "source": [
    "param_grid = {\n",
    "    \"C\": [0.01, 1, 10, 100, ],\n",
    "    \"loss\": [\"hinge\", \"squared_hinge\"],\n",
    "}\n",
    "\n",
    "linear_grid_search = GridSearchCV(\n",
    "    estimator=LinearSVC(max_iter = 1000),\n",
    "    param_grid=param_grid,\n",
    "    scoring = make_scorer(f1_score, pos_label=\">50K\"),\n",
    ")"
   ]
  },
  {
   "cell_type": "code",
   "execution_count": 70,
   "id": "8033fbb0-ef4b-467a-9996-c2000a8f1c94",
   "metadata": {
    "collapsed": true,
    "jupyter": {
     "outputs_hidden": true
    },
    "tags": []
   },
   "outputs": [
    {
     "name": "stderr",
     "output_type": "stream",
     "text": [
      "C:\\Users\\a1056968\\Anaconda3\\envs\\machine_learning\\lib\\site-packages\\sklearn\\svm\\_base.py:1225: ConvergenceWarning: Liblinear failed to converge, increase the number of iterations.\n",
      "  warnings.warn(\n",
      "C:\\Users\\a1056968\\Anaconda3\\envs\\machine_learning\\lib\\site-packages\\sklearn\\svm\\_base.py:1225: ConvergenceWarning: Liblinear failed to converge, increase the number of iterations.\n",
      "  warnings.warn(\n",
      "C:\\Users\\a1056968\\Anaconda3\\envs\\machine_learning\\lib\\site-packages\\sklearn\\svm\\_base.py:1225: ConvergenceWarning: Liblinear failed to converge, increase the number of iterations.\n",
      "  warnings.warn(\n",
      "C:\\Users\\a1056968\\Anaconda3\\envs\\machine_learning\\lib\\site-packages\\sklearn\\svm\\_base.py:1225: ConvergenceWarning: Liblinear failed to converge, increase the number of iterations.\n",
      "  warnings.warn(\n",
      "C:\\Users\\a1056968\\Anaconda3\\envs\\machine_learning\\lib\\site-packages\\sklearn\\svm\\_base.py:1225: ConvergenceWarning: Liblinear failed to converge, increase the number of iterations.\n",
      "  warnings.warn(\n",
      "C:\\Users\\a1056968\\Anaconda3\\envs\\machine_learning\\lib\\site-packages\\sklearn\\svm\\_base.py:1225: ConvergenceWarning: Liblinear failed to converge, increase the number of iterations.\n",
      "  warnings.warn(\n",
      "C:\\Users\\a1056968\\Anaconda3\\envs\\machine_learning\\lib\\site-packages\\sklearn\\svm\\_base.py:1225: ConvergenceWarning: Liblinear failed to converge, increase the number of iterations.\n",
      "  warnings.warn(\n",
      "C:\\Users\\a1056968\\Anaconda3\\envs\\machine_learning\\lib\\site-packages\\sklearn\\svm\\_base.py:1225: ConvergenceWarning: Liblinear failed to converge, increase the number of iterations.\n",
      "  warnings.warn(\n",
      "C:\\Users\\a1056968\\Anaconda3\\envs\\machine_learning\\lib\\site-packages\\sklearn\\svm\\_base.py:1225: ConvergenceWarning: Liblinear failed to converge, increase the number of iterations.\n",
      "  warnings.warn(\n",
      "C:\\Users\\a1056968\\Anaconda3\\envs\\machine_learning\\lib\\site-packages\\sklearn\\svm\\_base.py:1225: ConvergenceWarning: Liblinear failed to converge, increase the number of iterations.\n",
      "  warnings.warn(\n",
      "C:\\Users\\a1056968\\Anaconda3\\envs\\machine_learning\\lib\\site-packages\\sklearn\\svm\\_base.py:1225: ConvergenceWarning: Liblinear failed to converge, increase the number of iterations.\n",
      "  warnings.warn(\n",
      "C:\\Users\\a1056968\\Anaconda3\\envs\\machine_learning\\lib\\site-packages\\sklearn\\svm\\_base.py:1225: ConvergenceWarning: Liblinear failed to converge, increase the number of iterations.\n",
      "  warnings.warn(\n",
      "C:\\Users\\a1056968\\Anaconda3\\envs\\machine_learning\\lib\\site-packages\\sklearn\\svm\\_base.py:1225: ConvergenceWarning: Liblinear failed to converge, increase the number of iterations.\n",
      "  warnings.warn(\n",
      "C:\\Users\\a1056968\\Anaconda3\\envs\\machine_learning\\lib\\site-packages\\sklearn\\svm\\_base.py:1225: ConvergenceWarning: Liblinear failed to converge, increase the number of iterations.\n",
      "  warnings.warn(\n",
      "C:\\Users\\a1056968\\Anaconda3\\envs\\machine_learning\\lib\\site-packages\\sklearn\\svm\\_base.py:1225: ConvergenceWarning: Liblinear failed to converge, increase the number of iterations.\n",
      "  warnings.warn(\n",
      "C:\\Users\\a1056968\\Anaconda3\\envs\\machine_learning\\lib\\site-packages\\sklearn\\svm\\_base.py:1225: ConvergenceWarning: Liblinear failed to converge, increase the number of iterations.\n",
      "  warnings.warn(\n",
      "C:\\Users\\a1056968\\Anaconda3\\envs\\machine_learning\\lib\\site-packages\\sklearn\\svm\\_base.py:1225: ConvergenceWarning: Liblinear failed to converge, increase the number of iterations.\n",
      "  warnings.warn(\n",
      "C:\\Users\\a1056968\\Anaconda3\\envs\\machine_learning\\lib\\site-packages\\sklearn\\svm\\_base.py:1225: ConvergenceWarning: Liblinear failed to converge, increase the number of iterations.\n",
      "  warnings.warn(\n",
      "C:\\Users\\a1056968\\Anaconda3\\envs\\machine_learning\\lib\\site-packages\\sklearn\\svm\\_base.py:1225: ConvergenceWarning: Liblinear failed to converge, increase the number of iterations.\n",
      "  warnings.warn(\n",
      "C:\\Users\\a1056968\\Anaconda3\\envs\\machine_learning\\lib\\site-packages\\sklearn\\svm\\_base.py:1225: ConvergenceWarning: Liblinear failed to converge, increase the number of iterations.\n",
      "  warnings.warn(\n",
      "C:\\Users\\a1056968\\Anaconda3\\envs\\machine_learning\\lib\\site-packages\\sklearn\\svm\\_base.py:1225: ConvergenceWarning: Liblinear failed to converge, increase the number of iterations.\n",
      "  warnings.warn(\n",
      "C:\\Users\\a1056968\\Anaconda3\\envs\\machine_learning\\lib\\site-packages\\sklearn\\svm\\_base.py:1225: ConvergenceWarning: Liblinear failed to converge, increase the number of iterations.\n",
      "  warnings.warn(\n",
      "C:\\Users\\a1056968\\Anaconda3\\envs\\machine_learning\\lib\\site-packages\\sklearn\\svm\\_base.py:1225: ConvergenceWarning: Liblinear failed to converge, increase the number of iterations.\n",
      "  warnings.warn(\n",
      "C:\\Users\\a1056968\\Anaconda3\\envs\\machine_learning\\lib\\site-packages\\sklearn\\svm\\_base.py:1225: ConvergenceWarning: Liblinear failed to converge, increase the number of iterations.\n",
      "  warnings.warn(\n",
      "C:\\Users\\a1056968\\Anaconda3\\envs\\machine_learning\\lib\\site-packages\\sklearn\\svm\\_base.py:1225: ConvergenceWarning: Liblinear failed to converge, increase the number of iterations.\n",
      "  warnings.warn(\n",
      "C:\\Users\\a1056968\\Anaconda3\\envs\\machine_learning\\lib\\site-packages\\sklearn\\svm\\_base.py:1225: ConvergenceWarning: Liblinear failed to converge, increase the number of iterations.\n",
      "  warnings.warn(\n"
     ]
    },
    {
     "data": {
      "text/html": [
       "<style>#sk-container-id-6 {color: black;background-color: white;}#sk-container-id-6 pre{padding: 0;}#sk-container-id-6 div.sk-toggleable {background-color: white;}#sk-container-id-6 label.sk-toggleable__label {cursor: pointer;display: block;width: 100%;margin-bottom: 0;padding: 0.3em;box-sizing: border-box;text-align: center;}#sk-container-id-6 label.sk-toggleable__label-arrow:before {content: \"▸\";float: left;margin-right: 0.25em;color: #696969;}#sk-container-id-6 label.sk-toggleable__label-arrow:hover:before {color: black;}#sk-container-id-6 div.sk-estimator:hover label.sk-toggleable__label-arrow:before {color: black;}#sk-container-id-6 div.sk-toggleable__content {max-height: 0;max-width: 0;overflow: hidden;text-align: left;background-color: #f0f8ff;}#sk-container-id-6 div.sk-toggleable__content pre {margin: 0.2em;color: black;border-radius: 0.25em;background-color: #f0f8ff;}#sk-container-id-6 input.sk-toggleable__control:checked~div.sk-toggleable__content {max-height: 200px;max-width: 100%;overflow: auto;}#sk-container-id-6 input.sk-toggleable__control:checked~label.sk-toggleable__label-arrow:before {content: \"▾\";}#sk-container-id-6 div.sk-estimator input.sk-toggleable__control:checked~label.sk-toggleable__label {background-color: #d4ebff;}#sk-container-id-6 div.sk-label input.sk-toggleable__control:checked~label.sk-toggleable__label {background-color: #d4ebff;}#sk-container-id-6 input.sk-hidden--visually {border: 0;clip: rect(1px 1px 1px 1px);clip: rect(1px, 1px, 1px, 1px);height: 1px;margin: -1px;overflow: hidden;padding: 0;position: absolute;width: 1px;}#sk-container-id-6 div.sk-estimator {font-family: monospace;background-color: #f0f8ff;border: 1px dotted black;border-radius: 0.25em;box-sizing: border-box;margin-bottom: 0.5em;}#sk-container-id-6 div.sk-estimator:hover {background-color: #d4ebff;}#sk-container-id-6 div.sk-parallel-item::after {content: \"\";width: 100%;border-bottom: 1px solid gray;flex-grow: 1;}#sk-container-id-6 div.sk-label:hover label.sk-toggleable__label {background-color: #d4ebff;}#sk-container-id-6 div.sk-serial::before {content: \"\";position: absolute;border-left: 1px solid gray;box-sizing: border-box;top: 0;bottom: 0;left: 50%;z-index: 0;}#sk-container-id-6 div.sk-serial {display: flex;flex-direction: column;align-items: center;background-color: white;padding-right: 0.2em;padding-left: 0.2em;position: relative;}#sk-container-id-6 div.sk-item {position: relative;z-index: 1;}#sk-container-id-6 div.sk-parallel {display: flex;align-items: stretch;justify-content: center;background-color: white;position: relative;}#sk-container-id-6 div.sk-item::before, #sk-container-id-6 div.sk-parallel-item::before {content: \"\";position: absolute;border-left: 1px solid gray;box-sizing: border-box;top: 0;bottom: 0;left: 50%;z-index: -1;}#sk-container-id-6 div.sk-parallel-item {display: flex;flex-direction: column;z-index: 1;position: relative;background-color: white;}#sk-container-id-6 div.sk-parallel-item:first-child::after {align-self: flex-end;width: 50%;}#sk-container-id-6 div.sk-parallel-item:last-child::after {align-self: flex-start;width: 50%;}#sk-container-id-6 div.sk-parallel-item:only-child::after {width: 0;}#sk-container-id-6 div.sk-dashed-wrapped {border: 1px dashed gray;margin: 0 0.4em 0.5em 0.4em;box-sizing: border-box;padding-bottom: 0.4em;background-color: white;}#sk-container-id-6 div.sk-label label {font-family: monospace;font-weight: bold;display: inline-block;line-height: 1.2em;}#sk-container-id-6 div.sk-label-container {text-align: center;}#sk-container-id-6 div.sk-container {/* jupyter's `normalize.less` sets `[hidden] { display: none; }` but bootstrap.min.css set `[hidden] { display: none !important; }` so we also need the `!important` here to be able to override the default hidden behavior on the sphinx rendered scikit-learn.org. See: https://github.com/scikit-learn/scikit-learn/issues/21755 */display: inline-block !important;position: relative;}#sk-container-id-6 div.sk-text-repr-fallback {display: none;}</style><div id=\"sk-container-id-6\" class=\"sk-top-container\"><div class=\"sk-text-repr-fallback\"><pre>GridSearchCV(estimator=LinearSVC(),\n",
       "             param_grid={&#x27;C&#x27;: [0.01, 1, 10, 100],\n",
       "                         &#x27;loss&#x27;: [&#x27;hinge&#x27;, &#x27;squared_hinge&#x27;]},\n",
       "             scoring=make_scorer(f1_score, pos_label=&gt;50K))</pre><b>In a Jupyter environment, please rerun this cell to show the HTML representation or trust the notebook. <br />On GitHub, the HTML representation is unable to render, please try loading this page with nbviewer.org.</b></div><div class=\"sk-container\" hidden><div class=\"sk-item sk-dashed-wrapped\"><div class=\"sk-label-container\"><div class=\"sk-label sk-toggleable\"><input class=\"sk-toggleable__control sk-hidden--visually\" id=\"sk-estimator-id-10\" type=\"checkbox\" ><label for=\"sk-estimator-id-10\" class=\"sk-toggleable__label sk-toggleable__label-arrow\">GridSearchCV</label><div class=\"sk-toggleable__content\"><pre>GridSearchCV(estimator=LinearSVC(),\n",
       "             param_grid={&#x27;C&#x27;: [0.01, 1, 10, 100],\n",
       "                         &#x27;loss&#x27;: [&#x27;hinge&#x27;, &#x27;squared_hinge&#x27;]},\n",
       "             scoring=make_scorer(f1_score, pos_label=&gt;50K))</pre></div></div></div><div class=\"sk-parallel\"><div class=\"sk-parallel-item\"><div class=\"sk-item\"><div class=\"sk-label-container\"><div class=\"sk-label sk-toggleable\"><input class=\"sk-toggleable__control sk-hidden--visually\" id=\"sk-estimator-id-11\" type=\"checkbox\" ><label for=\"sk-estimator-id-11\" class=\"sk-toggleable__label sk-toggleable__label-arrow\">estimator: LinearSVC</label><div class=\"sk-toggleable__content\"><pre>LinearSVC()</pre></div></div></div><div class=\"sk-serial\"><div class=\"sk-item\"><div class=\"sk-estimator sk-toggleable\"><input class=\"sk-toggleable__control sk-hidden--visually\" id=\"sk-estimator-id-12\" type=\"checkbox\" ><label for=\"sk-estimator-id-12\" class=\"sk-toggleable__label sk-toggleable__label-arrow\">LinearSVC</label><div class=\"sk-toggleable__content\"><pre>LinearSVC()</pre></div></div></div></div></div></div></div></div></div></div>"
      ],
      "text/plain": [
       "GridSearchCV(estimator=LinearSVC(),\n",
       "             param_grid={'C': [0.01, 1, 10, 100],\n",
       "                         'loss': ['hinge', 'squared_hinge']},\n",
       "             scoring=make_scorer(f1_score, pos_label=>50K))"
      ]
     },
     "execution_count": 70,
     "metadata": {},
     "output_type": "execute_result"
    }
   ],
   "source": [
    "linear_grid_search.fit(income_attributes_train, income_target_train)"
   ]
  },
  {
   "cell_type": "code",
   "execution_count": 68,
   "id": "367fdf1c-6875-4bfc-911f-163616afb54b",
   "metadata": {},
   "outputs": [
    {
     "data": {
      "text/plain": [
       "{'C': 1, 'loss': 'squared_hinge'}"
      ]
     },
     "execution_count": 68,
     "metadata": {},
     "output_type": "execute_result"
    }
   ],
   "source": [
    "linear_grid_search.best_params_"
   ]
  },
  {
   "cell_type": "code",
   "execution_count": 71,
   "id": "94815935-d926-46b9-89c0-a743772fb472",
   "metadata": {},
   "outputs": [
    {
     "data": {
      "text/plain": [
       "{'mean_fit_time': array([0.22379608, 0.15300069, 0.22130098, 0.61760221, 0.75397968,\n",
       "        2.71148052, 4.22423034, 4.10031514]),\n",
       " 'std_fit_time': array([0.07367959, 0.03849641, 0.03897995, 0.05273338, 0.11896818,\n",
       "        0.47096226, 1.16206395, 0.31778346]),\n",
       " 'mean_score_time': array([0.09879832, 0.09900146, 0.07619872, 0.06079612, 0.07720094,\n",
       "        0.06627936, 0.07640023, 0.08499804]),\n",
       " 'std_score_time': array([0.01742902, 0.06444135, 0.0210284 , 0.01847655, 0.03199794,\n",
       "        0.01937166, 0.02108056, 0.01693184]),\n",
       " 'param_C': masked_array(data=[0.01, 0.01, 1, 1, 10, 10, 100, 100],\n",
       "              mask=[False, False, False, False, False, False, False, False],\n",
       "        fill_value='?',\n",
       "             dtype=object),\n",
       " 'param_loss': masked_array(data=['hinge', 'squared_hinge', 'hinge', 'squared_hinge',\n",
       "                    'hinge', 'squared_hinge', 'hinge', 'squared_hinge'],\n",
       "              mask=[False, False, False, False, False, False, False, False],\n",
       "        fill_value='?',\n",
       "             dtype=object),\n",
       " 'params': [{'C': 0.01, 'loss': 'hinge'},\n",
       "  {'C': 0.01, 'loss': 'squared_hinge'},\n",
       "  {'C': 1, 'loss': 'hinge'},\n",
       "  {'C': 1, 'loss': 'squared_hinge'},\n",
       "  {'C': 10, 'loss': 'hinge'},\n",
       "  {'C': 10, 'loss': 'squared_hinge'},\n",
       "  {'C': 100, 'loss': 'hinge'},\n",
       "  {'C': 100, 'loss': 'squared_hinge'}],\n",
       " 'split0_test_score': array([0.56821516, 0.61343354, 0.64088398, 0.64668483, 0.63466915,\n",
       "        0.6475931 , 0.55077087, 0.65249902]),\n",
       " 'split1_test_score': array([0.58756526, 0.6102774 , 0.64266667, 0.64900662, 0.64729549,\n",
       "        0.64986737, 0.61170732, 0.64745011]),\n",
       " 'split2_test_score': array([0.58704062, 0.63211009, 0.66096353, 0.67022222, 0.66516652,\n",
       "        0.67490075, 0.66871975, 0.65357292]),\n",
       " 'split3_test_score': array([0.60143198, 0.63486239, 0.65758401, 0.66248319, 0.6528404 ,\n",
       "        0.66158673, 0.65503356, 0.65581977]),\n",
       " 'split4_test_score': array([0.54454953, 0.6       , 0.61720227, 0.63648834, 0.61806209,\n",
       "        0.63839489, 0.64551607, 0.43580683]),\n",
       " 'mean_test_score': array([0.57776051, 0.61813668, 0.64386009, 0.65297704, 0.64360673,\n",
       "        0.65446857, 0.62634951, 0.60902973]),\n",
       " 'std_test_score': array([0.01968083, 0.01332541, 0.01550351, 0.01195823, 0.01610032,\n",
       "        0.01260911, 0.04221823, 0.08665481]),\n",
       " 'rank_test_score': array([8, 6, 3, 2, 4, 1, 5, 7])}"
      ]
     },
     "execution_count": 71,
     "metadata": {},
     "output_type": "execute_result"
    }
   ],
   "source": [
    "linear_grid_search.cv_results_"
   ]
  },
  {
   "cell_type": "code",
   "execution_count": 77,
   "id": "366cddfe-c33b-4349-8742-05a21758ac98",
   "metadata": {},
   "outputs": [],
   "source": [
    "test_predictions = linear_grid_search.best_estimator_.predict(income_attributes_test)"
   ]
  },
  {
   "cell_type": "code",
   "execution_count": 74,
   "id": "3e658958-94d4-409c-a753-cdbb1316a9b1",
   "metadata": {},
   "outputs": [
    {
     "data": {
      "text/plain": [
       "0.6639118457300276"
      ]
     },
     "execution_count": 74,
     "metadata": {},
     "output_type": "execute_result"
    }
   ],
   "source": [
    "f1_score(income_target_test, predictions, pos_label=\">50K\")"
   ]
  },
  {
   "cell_type": "markdown",
   "id": "110c937d-e3cb-44df-a117-61c4debaab8d",
   "metadata": {},
   "source": [
    "Това не е много силен модел. Вероятно основната причина е че ползваме линеен алгоритъм."
   ]
  },
  {
   "cell_type": "code",
   "execution_count": 78,
   "id": "501a3c0e-395d-4be9-a3e1-5e85ad98e2ce",
   "metadata": {},
   "outputs": [],
   "source": [
    "train_predictions = linear_grid_search.best_estimator_.predict(income_attributes_train)"
   ]
  },
  {
   "cell_type": "code",
   "execution_count": 81,
   "id": "9285c158-b606-4078-aa03-607173d22dc1",
   "metadata": {},
   "outputs": [
    {
     "name": "stdout",
     "output_type": "stream",
     "text": [
      "Training set\n",
      "              precision    recall  f1-score   support\n",
      "\n",
      "       <=50K       0.88      0.94      0.91     19832\n",
      "        >50K       0.74      0.59      0.66      6216\n",
      "\n",
      "    accuracy                           0.85     26048\n",
      "   macro avg       0.81      0.77      0.78     26048\n",
      "weighted avg       0.85      0.85      0.85     26048\n",
      "\n",
      "Testing set\n",
      "              precision    recall  f1-score   support\n",
      "\n",
      "       <=50K       0.87      0.94      0.90      4888\n",
      "        >50K       0.75      0.59      0.66      1625\n",
      "\n",
      "    accuracy                           0.85      6513\n",
      "   macro avg       0.81      0.76      0.78      6513\n",
      "weighted avg       0.84      0.85      0.84      6513\n",
      "\n"
     ]
    }
   ],
   "source": [
    "print(\"Training set\")\n",
    "print(classification_report(income_target_train, train_predictions))\n",
    "\n",
    "print(\"Testing set\")\n",
    "print(classification_report(income_target_test, test_predictions))"
   ]
  },
  {
   "cell_type": "markdown",
   "id": "a005c9c2-d2b0-4d65-8e73-54588c490a29",
   "metadata": {},
   "source": [
    "Моделът предсказва еднакво добре и двата сета следоватално е стабилен. Няма голяма нестабилност, няма high variance."
   ]
  },
  {
   "cell_type": "code",
   "execution_count": 83,
   "id": "7e913e9b-ffa8-43af-82e9-e6c45598bdc2",
   "metadata": {},
   "outputs": [],
   "source": [
    "svc = SVC(kernel='poly', degree=2, max_iter=1000)"
   ]
  },
  {
   "cell_type": "code",
   "execution_count": 84,
   "id": "d47c367c-a87d-4aed-8535-d07bd60aaa71",
   "metadata": {},
   "outputs": [
    {
     "name": "stderr",
     "output_type": "stream",
     "text": [
      "C:\\Users\\a1056968\\Anaconda3\\envs\\machine_learning\\lib\\site-packages\\sklearn\\svm\\_base.py:301: ConvergenceWarning: Solver terminated early (max_iter=1000).  Consider pre-processing your data with StandardScaler or MinMaxScaler.\n",
      "  warnings.warn(\n"
     ]
    },
    {
     "data": {
      "text/html": [
       "<style>#sk-container-id-7 {color: black;background-color: white;}#sk-container-id-7 pre{padding: 0;}#sk-container-id-7 div.sk-toggleable {background-color: white;}#sk-container-id-7 label.sk-toggleable__label {cursor: pointer;display: block;width: 100%;margin-bottom: 0;padding: 0.3em;box-sizing: border-box;text-align: center;}#sk-container-id-7 label.sk-toggleable__label-arrow:before {content: \"▸\";float: left;margin-right: 0.25em;color: #696969;}#sk-container-id-7 label.sk-toggleable__label-arrow:hover:before {color: black;}#sk-container-id-7 div.sk-estimator:hover label.sk-toggleable__label-arrow:before {color: black;}#sk-container-id-7 div.sk-toggleable__content {max-height: 0;max-width: 0;overflow: hidden;text-align: left;background-color: #f0f8ff;}#sk-container-id-7 div.sk-toggleable__content pre {margin: 0.2em;color: black;border-radius: 0.25em;background-color: #f0f8ff;}#sk-container-id-7 input.sk-toggleable__control:checked~div.sk-toggleable__content {max-height: 200px;max-width: 100%;overflow: auto;}#sk-container-id-7 input.sk-toggleable__control:checked~label.sk-toggleable__label-arrow:before {content: \"▾\";}#sk-container-id-7 div.sk-estimator input.sk-toggleable__control:checked~label.sk-toggleable__label {background-color: #d4ebff;}#sk-container-id-7 div.sk-label input.sk-toggleable__control:checked~label.sk-toggleable__label {background-color: #d4ebff;}#sk-container-id-7 input.sk-hidden--visually {border: 0;clip: rect(1px 1px 1px 1px);clip: rect(1px, 1px, 1px, 1px);height: 1px;margin: -1px;overflow: hidden;padding: 0;position: absolute;width: 1px;}#sk-container-id-7 div.sk-estimator {font-family: monospace;background-color: #f0f8ff;border: 1px dotted black;border-radius: 0.25em;box-sizing: border-box;margin-bottom: 0.5em;}#sk-container-id-7 div.sk-estimator:hover {background-color: #d4ebff;}#sk-container-id-7 div.sk-parallel-item::after {content: \"\";width: 100%;border-bottom: 1px solid gray;flex-grow: 1;}#sk-container-id-7 div.sk-label:hover label.sk-toggleable__label {background-color: #d4ebff;}#sk-container-id-7 div.sk-serial::before {content: \"\";position: absolute;border-left: 1px solid gray;box-sizing: border-box;top: 0;bottom: 0;left: 50%;z-index: 0;}#sk-container-id-7 div.sk-serial {display: flex;flex-direction: column;align-items: center;background-color: white;padding-right: 0.2em;padding-left: 0.2em;position: relative;}#sk-container-id-7 div.sk-item {position: relative;z-index: 1;}#sk-container-id-7 div.sk-parallel {display: flex;align-items: stretch;justify-content: center;background-color: white;position: relative;}#sk-container-id-7 div.sk-item::before, #sk-container-id-7 div.sk-parallel-item::before {content: \"\";position: absolute;border-left: 1px solid gray;box-sizing: border-box;top: 0;bottom: 0;left: 50%;z-index: -1;}#sk-container-id-7 div.sk-parallel-item {display: flex;flex-direction: column;z-index: 1;position: relative;background-color: white;}#sk-container-id-7 div.sk-parallel-item:first-child::after {align-self: flex-end;width: 50%;}#sk-container-id-7 div.sk-parallel-item:last-child::after {align-self: flex-start;width: 50%;}#sk-container-id-7 div.sk-parallel-item:only-child::after {width: 0;}#sk-container-id-7 div.sk-dashed-wrapped {border: 1px dashed gray;margin: 0 0.4em 0.5em 0.4em;box-sizing: border-box;padding-bottom: 0.4em;background-color: white;}#sk-container-id-7 div.sk-label label {font-family: monospace;font-weight: bold;display: inline-block;line-height: 1.2em;}#sk-container-id-7 div.sk-label-container {text-align: center;}#sk-container-id-7 div.sk-container {/* jupyter's `normalize.less` sets `[hidden] { display: none; }` but bootstrap.min.css set `[hidden] { display: none !important; }` so we also need the `!important` here to be able to override the default hidden behavior on the sphinx rendered scikit-learn.org. See: https://github.com/scikit-learn/scikit-learn/issues/21755 */display: inline-block !important;position: relative;}#sk-container-id-7 div.sk-text-repr-fallback {display: none;}</style><div id=\"sk-container-id-7\" class=\"sk-top-container\"><div class=\"sk-text-repr-fallback\"><pre>SVC(degree=2, kernel=&#x27;poly&#x27;, max_iter=1000)</pre><b>In a Jupyter environment, please rerun this cell to show the HTML representation or trust the notebook. <br />On GitHub, the HTML representation is unable to render, please try loading this page with nbviewer.org.</b></div><div class=\"sk-container\" hidden><div class=\"sk-item\"><div class=\"sk-estimator sk-toggleable\"><input class=\"sk-toggleable__control sk-hidden--visually\" id=\"sk-estimator-id-13\" type=\"checkbox\" checked><label for=\"sk-estimator-id-13\" class=\"sk-toggleable__label sk-toggleable__label-arrow\">SVC</label><div class=\"sk-toggleable__content\"><pre>SVC(degree=2, kernel=&#x27;poly&#x27;, max_iter=1000)</pre></div></div></div></div></div>"
      ],
      "text/plain": [
       "SVC(degree=2, kernel='poly', max_iter=1000)"
      ]
     },
     "execution_count": 84,
     "metadata": {},
     "output_type": "execute_result"
    }
   ],
   "source": [
    "svc.fit(income_attributes_train, income_target_train)"
   ]
  },
  {
   "cell_type": "code",
   "execution_count": 87,
   "id": "29b7c8aa-32c6-42c8-b682-45d1f0eb22ce",
   "metadata": {},
   "outputs": [],
   "source": [
    "# Нямаме коеф\n",
    "# svc.coef_"
   ]
  },
  {
   "cell_type": "code",
   "execution_count": 88,
   "id": "728d9a86-6a33-4482-b80a-5ecfa97b768d",
   "metadata": {},
   "outputs": [
    {
     "data": {
      "text/plain": [
       "array([-0.19647866,  0.47366197,  0.00297235, -0.21024704,  0.12134607,\n",
       "       -0.24626395,  0.00511959,  0.28019573, -0.12862762,  0.09808085])"
      ]
     },
     "execution_count": 88,
     "metadata": {},
     "output_type": "execute_result"
    }
   ],
   "source": [
    "svc.decision_function(income_attributes_train[:10])"
   ]
  },
  {
   "cell_type": "markdown",
   "id": "631837d0-e0c0-479f-b527-443e43dd5647",
   "metadata": {},
   "source": [
    "Проверка на първите 10 предсказания."
   ]
  },
  {
   "cell_type": "code",
   "execution_count": 96,
   "id": "e4cf025a-8d3c-4374-9964-1f5e0ac9b088",
   "metadata": {},
   "outputs": [
    {
     "data": {
      "text/plain": [
       "26015     True\n",
       "18062     True\n",
       "31943    False\n",
       "19123     True\n",
       "3438      True\n",
       "29122     True\n",
       "8758      True\n",
       "9170     False\n",
       "23857    False\n",
       "31263    False\n",
       "Name: income_class, dtype: bool"
      ]
     },
     "execution_count": 96,
     "metadata": {},
     "output_type": "execute_result"
    }
   ],
   "source": [
    "first_10_predictions = svc.predict(income_attributes_train[:10])\n",
    "income_target_test[:10] == first_10_predictions"
   ]
  },
  {
   "cell_type": "code",
   "execution_count": 97,
   "id": "e388ef45-4aa2-49b3-85f0-bd0fff9a9031",
   "metadata": {},
   "outputs": [],
   "source": [
    "svc_train_predictions = svc.predict(income_attributes_train)\n",
    "svc_test_predictions = svc.predict(income_attributes_test)"
   ]
  },
  {
   "cell_type": "code",
   "execution_count": 100,
   "id": "97c8a686-e410-4750-a193-48c37340758f",
   "metadata": {},
   "outputs": [
    {
     "name": "stdout",
     "output_type": "stream",
     "text": [
      "Classification reports for SVC with polynomial kernel\n",
      "\n",
      "1. Training set\n",
      "              precision    recall  f1-score   support\n",
      "\n",
      "       <=50K       0.93      0.56      0.70     19832\n",
      "        >50K       0.38      0.87      0.53      6216\n",
      "\n",
      "    accuracy                           0.63     26048\n",
      "   macro avg       0.66      0.71      0.61     26048\n",
      "weighted avg       0.80      0.63      0.66     26048\n",
      "\n",
      "2. Testing set\n",
      "              precision    recall  f1-score   support\n",
      "\n",
      "       <=50K       0.93      0.55      0.69      4888\n",
      "        >50K       0.39      0.88      0.54      1625\n",
      "\n",
      "    accuracy                           0.63      6513\n",
      "   macro avg       0.66      0.71      0.62      6513\n",
      "weighted avg       0.80      0.63      0.65      6513\n",
      "\n"
     ]
    }
   ],
   "source": [
    "print(\"Classification reports for SVC with polynomial kernel\\n\")\n",
    "print(\"1. Training set\")\n",
    "print(classification_report(income_target_train, svc_train_predictions))\n",
    "\n",
    "print(\"2. Testing set\")\n",
    "print(classification_report(income_target_test, svc_test_predictions))"
   ]
  },
  {
   "cell_type": "markdown",
   "id": "bf1ea6c1-052a-4b2b-9aa7-428f650b3c3b",
   "metadata": {},
   "source": [
    "## SVC with rbf kernel and different gamma-s"
   ]
  },
  {
   "cell_type": "code",
   "execution_count": 118,
   "id": "484b2bd3-bab7-4b5c-bd3a-98f147c1171e",
   "metadata": {},
   "outputs": [],
   "source": [
    "svc_gamma1 = SVC(kernel='rbf', gamma=0.1, C = 10000, max_iter=1000)\n",
    "svc_gamma100 = SVC(kernel='rbf', gamma=10, C = 10000,max_iter=1000)"
   ]
  },
  {
   "cell_type": "code",
   "execution_count": 119,
   "id": "39bf5f0c-6274-4e16-9c88-7ac6ba2f20ee",
   "metadata": {},
   "outputs": [
    {
     "name": "stderr",
     "output_type": "stream",
     "text": [
      "C:\\Users\\a1056968\\Anaconda3\\envs\\machine_learning\\lib\\site-packages\\sklearn\\svm\\_base.py:301: ConvergenceWarning: Solver terminated early (max_iter=1000).  Consider pre-processing your data with StandardScaler or MinMaxScaler.\n",
      "  warnings.warn(\n",
      "C:\\Users\\a1056968\\Anaconda3\\envs\\machine_learning\\lib\\site-packages\\sklearn\\svm\\_base.py:301: ConvergenceWarning: Solver terminated early (max_iter=1000).  Consider pre-processing your data with StandardScaler or MinMaxScaler.\n",
      "  warnings.warn(\n"
     ]
    },
    {
     "data": {
      "text/html": [
       "<style>#sk-container-id-12 {color: black;background-color: white;}#sk-container-id-12 pre{padding: 0;}#sk-container-id-12 div.sk-toggleable {background-color: white;}#sk-container-id-12 label.sk-toggleable__label {cursor: pointer;display: block;width: 100%;margin-bottom: 0;padding: 0.3em;box-sizing: border-box;text-align: center;}#sk-container-id-12 label.sk-toggleable__label-arrow:before {content: \"▸\";float: left;margin-right: 0.25em;color: #696969;}#sk-container-id-12 label.sk-toggleable__label-arrow:hover:before {color: black;}#sk-container-id-12 div.sk-estimator:hover label.sk-toggleable__label-arrow:before {color: black;}#sk-container-id-12 div.sk-toggleable__content {max-height: 0;max-width: 0;overflow: hidden;text-align: left;background-color: #f0f8ff;}#sk-container-id-12 div.sk-toggleable__content pre {margin: 0.2em;color: black;border-radius: 0.25em;background-color: #f0f8ff;}#sk-container-id-12 input.sk-toggleable__control:checked~div.sk-toggleable__content {max-height: 200px;max-width: 100%;overflow: auto;}#sk-container-id-12 input.sk-toggleable__control:checked~label.sk-toggleable__label-arrow:before {content: \"▾\";}#sk-container-id-12 div.sk-estimator input.sk-toggleable__control:checked~label.sk-toggleable__label {background-color: #d4ebff;}#sk-container-id-12 div.sk-label input.sk-toggleable__control:checked~label.sk-toggleable__label {background-color: #d4ebff;}#sk-container-id-12 input.sk-hidden--visually {border: 0;clip: rect(1px 1px 1px 1px);clip: rect(1px, 1px, 1px, 1px);height: 1px;margin: -1px;overflow: hidden;padding: 0;position: absolute;width: 1px;}#sk-container-id-12 div.sk-estimator {font-family: monospace;background-color: #f0f8ff;border: 1px dotted black;border-radius: 0.25em;box-sizing: border-box;margin-bottom: 0.5em;}#sk-container-id-12 div.sk-estimator:hover {background-color: #d4ebff;}#sk-container-id-12 div.sk-parallel-item::after {content: \"\";width: 100%;border-bottom: 1px solid gray;flex-grow: 1;}#sk-container-id-12 div.sk-label:hover label.sk-toggleable__label {background-color: #d4ebff;}#sk-container-id-12 div.sk-serial::before {content: \"\";position: absolute;border-left: 1px solid gray;box-sizing: border-box;top: 0;bottom: 0;left: 50%;z-index: 0;}#sk-container-id-12 div.sk-serial {display: flex;flex-direction: column;align-items: center;background-color: white;padding-right: 0.2em;padding-left: 0.2em;position: relative;}#sk-container-id-12 div.sk-item {position: relative;z-index: 1;}#sk-container-id-12 div.sk-parallel {display: flex;align-items: stretch;justify-content: center;background-color: white;position: relative;}#sk-container-id-12 div.sk-item::before, #sk-container-id-12 div.sk-parallel-item::before {content: \"\";position: absolute;border-left: 1px solid gray;box-sizing: border-box;top: 0;bottom: 0;left: 50%;z-index: -1;}#sk-container-id-12 div.sk-parallel-item {display: flex;flex-direction: column;z-index: 1;position: relative;background-color: white;}#sk-container-id-12 div.sk-parallel-item:first-child::after {align-self: flex-end;width: 50%;}#sk-container-id-12 div.sk-parallel-item:last-child::after {align-self: flex-start;width: 50%;}#sk-container-id-12 div.sk-parallel-item:only-child::after {width: 0;}#sk-container-id-12 div.sk-dashed-wrapped {border: 1px dashed gray;margin: 0 0.4em 0.5em 0.4em;box-sizing: border-box;padding-bottom: 0.4em;background-color: white;}#sk-container-id-12 div.sk-label label {font-family: monospace;font-weight: bold;display: inline-block;line-height: 1.2em;}#sk-container-id-12 div.sk-label-container {text-align: center;}#sk-container-id-12 div.sk-container {/* jupyter's `normalize.less` sets `[hidden] { display: none; }` but bootstrap.min.css set `[hidden] { display: none !important; }` so we also need the `!important` here to be able to override the default hidden behavior on the sphinx rendered scikit-learn.org. See: https://github.com/scikit-learn/scikit-learn/issues/21755 */display: inline-block !important;position: relative;}#sk-container-id-12 div.sk-text-repr-fallback {display: none;}</style><div id=\"sk-container-id-12\" class=\"sk-top-container\"><div class=\"sk-text-repr-fallback\"><pre>SVC(C=10000, gamma=10, max_iter=1000)</pre><b>In a Jupyter environment, please rerun this cell to show the HTML representation or trust the notebook. <br />On GitHub, the HTML representation is unable to render, please try loading this page with nbviewer.org.</b></div><div class=\"sk-container\" hidden><div class=\"sk-item\"><div class=\"sk-estimator sk-toggleable\"><input class=\"sk-toggleable__control sk-hidden--visually\" id=\"sk-estimator-id-18\" type=\"checkbox\" checked><label for=\"sk-estimator-id-18\" class=\"sk-toggleable__label sk-toggleable__label-arrow\">SVC</label><div class=\"sk-toggleable__content\"><pre>SVC(C=10000, gamma=10, max_iter=1000)</pre></div></div></div></div></div>"
      ],
      "text/plain": [
       "SVC(C=10000, gamma=10, max_iter=1000)"
      ]
     },
     "execution_count": 119,
     "metadata": {},
     "output_type": "execute_result"
    }
   ],
   "source": [
    "svc_gamma1.fit(income_attributes_train, income_target_train)\n",
    "svc_gamma100.fit(income_attributes_train, income_target_train)"
   ]
  },
  {
   "cell_type": "code",
   "execution_count": 120,
   "id": "b6093811-d1c6-4acd-80eb-2cfc34f20746",
   "metadata": {},
   "outputs": [],
   "source": [
    "svc_gamma1_test_predictions = svc_gamma1.predict(income_attributes_test)\n",
    "svc_gamma100_test_predictions = svc_gamma100.predict(income_attributes_test)"
   ]
  },
  {
   "cell_type": "code",
   "execution_count": 122,
   "id": "038ff60d-7fcb-40d2-9b5e-e10fbf6e7a48",
   "metadata": {},
   "outputs": [
    {
     "name": "stdout",
     "output_type": "stream",
     "text": [
      "Classification reports for SVC with rbf kernel and different gamma-s\n",
      "\n",
      "1. Gamma = 0.1\n",
      "              precision    recall  f1-score   support\n",
      "\n",
      "       <=50K       0.83      0.80      0.81      4888\n",
      "        >50K       0.45      0.50      0.47      1625\n",
      "\n",
      "    accuracy                           0.72      6513\n",
      "   macro avg       0.64      0.65      0.64      6513\n",
      "weighted avg       0.73      0.72      0.73      6513\n",
      "\n",
      "2. Gamma = 10\n",
      "              precision    recall  f1-score   support\n",
      "\n",
      "       <=50K       0.75      0.99      0.86      4888\n",
      "        >50K       0.40      0.01      0.02      1625\n",
      "\n",
      "    accuracy                           0.75      6513\n",
      "   macro avg       0.57      0.50      0.44      6513\n",
      "weighted avg       0.66      0.75      0.65      6513\n",
      "\n"
     ]
    }
   ],
   "source": [
    "print(\"Classification reports for SVC with rbf kernel and different gamma-s\\n\")\n",
    "print(\"1. Gamma = 0.1\")\n",
    "print(classification_report(income_target_test, svc_gamma1_test_predictions))\n",
    "\n",
    "print(\"2. Gamma = 10\")\n",
    "print(classification_report(income_target_test, svc_gamma100_test_predictions))"
   ]
  },
  {
   "cell_type": "markdown",
   "id": "c3777dee-4473-4b43-8e74-b487316a517e",
   "metadata": {},
   "source": [
    "Gamma = 0.1 e значително по-добра."
   ]
  },
  {
   "cell_type": "code",
   "execution_count": null,
   "id": "b23970c2-fcce-4012-9c59-39ca6a2d12cd",
   "metadata": {},
   "outputs": [],
   "source": []
  }
 ],
 "metadata": {
  "kernelspec": {
   "display_name": "Python 3 (ipykernel)",
   "language": "python",
   "name": "python3"
  },
  "language_info": {
   "codemirror_mode": {
    "name": "ipython",
    "version": 3
   },
   "file_extension": ".py",
   "mimetype": "text/x-python",
   "name": "python",
   "nbconvert_exporter": "python",
   "pygments_lexer": "ipython3",
   "version": "3.9.0"
  }
 },
 "nbformat": 4,
 "nbformat_minor": 5
}
