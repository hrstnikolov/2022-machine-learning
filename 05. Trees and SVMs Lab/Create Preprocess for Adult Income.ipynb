{
 "cells": [
  {
   "cell_type": "code",
   "execution_count": 1,
   "id": "2792d8bf-6a63-4c2b-9aeb-0a0f5cc54d15",
   "metadata": {},
   "outputs": [],
   "source": [
    "%matplotlib inline"
   ]
  },
  {
   "cell_type": "code",
   "execution_count": 2,
   "id": "e2d4caff-e920-4de4-9eb8-8dd84593bdc6",
   "metadata": {},
   "outputs": [],
   "source": [
    "import numpy as np\n",
    "import pandas as pd\n",
    "import matplotlib.pyplot as plt\n",
    "\n",
    "from IPython.display import display\n",
    "\n",
    "from sklearn.preprocessing import MinMaxScaler\n",
    "from sklearn.svm import SVC, LinearSVC\n",
    "from sklearn.model_selection import train_test_split, GridSearchCV\n",
    "from sklearn.metrics import accuracy_score, f1_score, classification_report, make_scorer\n",
    "\n",
    "from pathlib import Path"
   ]
  },
  {
   "cell_type": "markdown",
   "id": "17a6ee44-87db-453f-beff-1d4c64ed03f0",
   "metadata": {
    "tags": []
   },
   "source": [
    "# Create Preprocess for Adult Income"
   ]
  },
  {
   "cell_type": "markdown",
   "id": "91f391c8-2ec0-4cb8-aeee-433285be17af",
   "metadata": {
    "tags": []
   },
   "source": [
    "## Final preprocessing functions"
   ]
  },
  {
   "cell_type": "code",
   "execution_count": 101,
   "id": "15374cf2-3b8a-4851-b588-f2233dfeaa31",
   "metadata": {},
   "outputs": [],
   "source": [
    "income = pd.read_csv(\n",
    "    \"https://archive.ics.uci.edu/ml/machine-learning-databases/adult/adult.data\", header=None)"
   ]
  },
  {
   "cell_type": "code",
   "execution_count": 104,
   "id": "bdb881a0-6e0b-4a87-bf5d-3af9be4d6265",
   "metadata": {},
   "outputs": [],
   "source": [
    "def clean_income_dataset(df: pd.DataFrame):\n",
    "    col_mapper = {\n",
    "        0: 'age',\n",
    "        1: 'workclass',\n",
    "        2: 'final_weight',\n",
    "        3: 'education',\n",
    "        4: 'education_num',\n",
    "        5: 'marital_status',\n",
    "        6: 'occupation',\n",
    "        7: 'relationship',\n",
    "        8: 'race',\n",
    "        9: 'sex',\n",
    "        10: 'capital_gain',\n",
    "        11: 'capital_loss',\n",
    "        12: 'hours_per_week',\n",
    "        13: 'native_country',\n",
    "        14: 'income_class'\n",
    "    }\n",
    "\n",
    "    relevant_cols = ['age', 'workclass', 'final_weight', 'education',\n",
    "            'marital_status', 'occupation', 'relationship', 'race',\n",
    "            'sex', 'capital_gain', 'capital_loss', 'hours_per_week',\n",
    "            'native_country', 'income_class']\n",
    "    \n",
    "    categorical_cols = ['workclass', 'education', 'marital_status', \n",
    "                    'occupation', 'relationship', 'race', 'sex', \n",
    "                    'native_country', 'income_class',]\n",
    "    \n",
    "    def tweak_categorical_column(col: pd.Series):\n",
    "        return (col\n",
    "                .str.strip()\n",
    "                .str.lower()\n",
    "                .astype('category')\n",
    "                )\n",
    "    \n",
    "    df = df.rename(columns=col_mapper)\n",
    "\n",
    "    return (df\n",
    "            [relevant_cols]\n",
    "            .assign(**{col: tweak_categorical_column(df[col]) for col in categorical_cols})\n",
    "            .astype({'age': 'uint8', 'hours_per_week': 'uint8'})\n",
    "            )"
   ]
  },
  {
   "cell_type": "code",
   "execution_count": 105,
   "id": "720d5304-5751-4a77-b184-9c8e7bdefa39",
   "metadata": {},
   "outputs": [],
   "source": [
    "def split_income_dataset(df: pd.DataFrame):\n",
    "    labels = (df\n",
    "              .income_class\n",
    "              .pipe(pd.get_dummies, drop_first=True)\n",
    "             )\n",
    "    \n",
    "    attributes = (df\n",
    "                  .drop(columns=\"income_class\")\n",
    "                  .pipe(pd.get_dummies, drop_first=True)\n",
    "                  .pipe(MinMaxScaler().fit_transform)\n",
    "                  )\n",
    "\n",
    "    return train_test_split(attributes, labels, train_size=0.8, stratify=df.income_class)"
   ]
  },
  {
   "cell_type": "code",
   "execution_count": 106,
   "id": "1b83abf0-de23-4710-a0f8-634642cff385",
   "metadata": {},
   "outputs": [
    {
     "name": "stdout",
     "output_type": "stream",
     "text": [
      "(26048, 99)\n",
      "(6513, 99)\n",
      "(26048, 1)\n",
      "(6513, 1)\n"
     ]
    }
   ],
   "source": [
    "(attributes_train, attributes_test, labels_train, labels_test) = (income\n",
    "                                                                  .pipe(clean_income_dataset)\n",
    "                                                                  .pipe(split_income_dataset))\n",
    "\n",
    "for d in [attributes_train, attributes_test, labels_train, labels_test]:\n",
    "    print(d.shape)"
   ]
  },
  {
   "cell_type": "markdown",
   "id": "a6d76cf7-49f5-4289-80d2-d4fe8c38a752",
   "metadata": {
    "tags": []
   },
   "source": [
    "## Explore to develope the functions"
   ]
  },
  {
   "cell_type": "code",
   "execution_count": 107,
   "id": "37876151-4e93-40f6-81cc-5ccdbb959831",
   "metadata": {},
   "outputs": [],
   "source": [
    "col_mapper = {\n",
    "    0: 'age',\n",
    "    1: 'workclass',\n",
    "    2: 'final_weight',\n",
    "    3: 'education',\n",
    "    4: 'education_num',\n",
    "    5: 'marital_status',\n",
    "    6: 'occupation',\n",
    "    7: 'relationship',\n",
    "    8: 'race',\n",
    "    9: 'sex',\n",
    "    10: 'capital_gain',\n",
    "    11: 'capital_loss',\n",
    "    12: 'hours_per_week',\n",
    "    13: 'native_country',\n",
    "    14: 'income_class'\n",
    "}"
   ]
  },
  {
   "cell_type": "code",
   "execution_count": 83,
   "id": "7a681e07-cc7e-43f8-b1e0-f4eb2bfa02fe",
   "metadata": {},
   "outputs": [
    {
     "data": {
      "text/plain": [
       "age                int64\n",
       "workclass         object\n",
       "final_weight       int64\n",
       "education         object\n",
       "education-num      int64\n",
       "marital-status    object\n",
       "occupation        object\n",
       "relationship      object\n",
       "race              object\n",
       "sex               object\n",
       "capital_gain       int64\n",
       "capital_loss       int64\n",
       "hours_per_week     int64\n",
       "native_country    object\n",
       "income_class      object\n",
       "dtype: object"
      ]
     },
     "execution_count": 83,
     "metadata": {},
     "output_type": "execute_result"
    }
   ],
   "source": [
    "df.dtypes"
   ]
  },
  {
   "cell_type": "markdown",
   "id": "72d8dcb3-f142-4394-8d0d-f8d6d50e2a9f",
   "metadata": {},
   "source": [
    "### Object"
   ]
  },
  {
   "cell_type": "code",
   "execution_count": 84,
   "id": "6a38b5db-2798-4ab4-a266-7240d1ed6235",
   "metadata": {
    "tags": []
   },
   "outputs": [
    {
     "data": {
      "text/html": [
       "<div>\n",
       "<style scoped>\n",
       "    .dataframe tbody tr th:only-of-type {\n",
       "        vertical-align: middle;\n",
       "    }\n",
       "\n",
       "    .dataframe tbody tr th {\n",
       "        vertical-align: top;\n",
       "    }\n",
       "\n",
       "    .dataframe thead th {\n",
       "        text-align: right;\n",
       "    }\n",
       "</style>\n",
       "<table border=\"1\" class=\"dataframe\">\n",
       "  <thead>\n",
       "    <tr style=\"text-align: right;\">\n",
       "      <th></th>\n",
       "      <th>workclass</th>\n",
       "      <th>education</th>\n",
       "      <th>marital-status</th>\n",
       "      <th>occupation</th>\n",
       "      <th>relationship</th>\n",
       "      <th>race</th>\n",
       "      <th>sex</th>\n",
       "      <th>native_country</th>\n",
       "      <th>income_class</th>\n",
       "    </tr>\n",
       "  </thead>\n",
       "  <tbody>\n",
       "    <tr>\n",
       "      <th>count</th>\n",
       "      <td>32561</td>\n",
       "      <td>32561</td>\n",
       "      <td>32561</td>\n",
       "      <td>32561</td>\n",
       "      <td>32561</td>\n",
       "      <td>32561</td>\n",
       "      <td>32561</td>\n",
       "      <td>32561</td>\n",
       "      <td>32561</td>\n",
       "    </tr>\n",
       "    <tr>\n",
       "      <th>unique</th>\n",
       "      <td>9</td>\n",
       "      <td>16</td>\n",
       "      <td>7</td>\n",
       "      <td>15</td>\n",
       "      <td>6</td>\n",
       "      <td>5</td>\n",
       "      <td>2</td>\n",
       "      <td>42</td>\n",
       "      <td>2</td>\n",
       "    </tr>\n",
       "    <tr>\n",
       "      <th>top</th>\n",
       "      <td>Private</td>\n",
       "      <td>HS-grad</td>\n",
       "      <td>Married-civ-spouse</td>\n",
       "      <td>Prof-specialty</td>\n",
       "      <td>Husband</td>\n",
       "      <td>White</td>\n",
       "      <td>Male</td>\n",
       "      <td>United-States</td>\n",
       "      <td>&lt;=50K</td>\n",
       "    </tr>\n",
       "    <tr>\n",
       "      <th>freq</th>\n",
       "      <td>22696</td>\n",
       "      <td>10501</td>\n",
       "      <td>14976</td>\n",
       "      <td>4140</td>\n",
       "      <td>13193</td>\n",
       "      <td>27816</td>\n",
       "      <td>21790</td>\n",
       "      <td>29170</td>\n",
       "      <td>24720</td>\n",
       "    </tr>\n",
       "  </tbody>\n",
       "</table>\n",
       "</div>"
      ],
      "text/plain": [
       "       workclass education       marital-status       occupation relationship  \\\n",
       "count      32561     32561                32561            32561        32561   \n",
       "unique         9        16                    7               15            6   \n",
       "top      Private   HS-grad   Married-civ-spouse   Prof-specialty      Husband   \n",
       "freq       22696     10501                14976             4140        13193   \n",
       "\n",
       "          race    sex  native_country income_class  \n",
       "count    32561  32561           32561        32561  \n",
       "unique       5      2              42            2  \n",
       "top      White   Male   United-States        <=50K  \n",
       "freq     27816  21790           29170        24720  "
      ]
     },
     "execution_count": 84,
     "metadata": {},
     "output_type": "execute_result"
    }
   ],
   "source": [
    "df.select_dtypes('object').describe()"
   ]
  },
  {
   "cell_type": "code",
   "execution_count": 153,
   "id": "16ccd8ea-a2ae-46c3-911f-d488a3b911c9",
   "metadata": {
    "tags": []
   },
   "outputs": [
    {
     "data": {
      "text/plain": [
       "workclass         0\n",
       "education         0\n",
       "marital-status    0\n",
       "occupation        0\n",
       "relationship      0\n",
       "race              0\n",
       "sex               0\n",
       "native_country    0\n",
       "income_class      0\n",
       "dtype: int64"
      ]
     },
     "execution_count": 153,
     "metadata": {},
     "output_type": "execute_result"
    }
   ],
   "source": [
    "df.select_dtypes('object').isna().sum()"
   ]
  },
  {
   "cell_type": "markdown",
   "id": "4ee1e16e-2a1c-483c-b168-38fb21afc90a",
   "metadata": {
    "jp-MarkdownHeadingCollapsed": true,
    "tags": []
   },
   "source": [
    "#### workclass"
   ]
  },
  {
   "cell_type": "code",
   "execution_count": 96,
   "id": "541ce6ed-11bf-44d5-b375-34940c697c20",
   "metadata": {},
   "outputs": [
    {
     "data": {
      "text/plain": [
       "array([' State-gov', ' Self-emp-not-inc', ' Private', ' Federal-gov',\n",
       "       ' Local-gov', ' ?', ' Self-emp-inc', ' Without-pay',\n",
       "       ' Never-worked'], dtype=object)"
      ]
     },
     "execution_count": 96,
     "metadata": {},
     "output_type": "execute_result"
    }
   ],
   "source": [
    "pd.unique(df.workclass)"
   ]
  },
  {
   "cell_type": "code",
   "execution_count": 136,
   "id": "46bb9346-fd9a-4c4a-9994-3a5a208f66b1",
   "metadata": {},
   "outputs": [
    {
     "data": {
      "text/plain": [
       "['State-gov', 'Self-emp-not-inc', 'Private', 'Federal-gov', 'Local-gov', 'unknown', 'Self-emp-inc', 'Without-pay', 'Never-worked']\n",
       "Categories (9, object): ['Federal-gov', 'Local-gov', 'Never-worked', 'Private', ..., 'Self-emp-not-inc', 'State-gov', 'Without-pay', 'unknown']"
      ]
     },
     "execution_count": 136,
     "metadata": {},
     "output_type": "execute_result"
    }
   ],
   "source": [
    "(df\n",
    " .workclass\n",
    " .str.strip()\n",
    " .replace({'?': 'unknown'})\n",
    " .astype('category')\n",
    " .unique()\n",
    " )"
   ]
  },
  {
   "cell_type": "markdown",
   "id": "c025df26-bf55-4494-b95b-22118a6a9f96",
   "metadata": {
    "jp-MarkdownHeadingCollapsed": true,
    "tags": []
   },
   "source": [
    "#### Education"
   ]
  },
  {
   "cell_type": "code",
   "execution_count": 113,
   "id": "1a107495-1c49-4ef2-9427-d7fd4c5f2b67",
   "metadata": {},
   "outputs": [
    {
     "data": {
      "text/plain": [
       "array(['Bachelors', 'HS-grad', '11th', 'Masters', '9th', 'Some-college',\n",
       "       'Assoc-acdm', 'Assoc-voc', '7th-8th', 'Doctorate', 'Prof-school',\n",
       "       '5th-6th', '10th', '1st-4th', 'Preschool', '12th'], dtype=object)"
      ]
     },
     "execution_count": 113,
     "metadata": {},
     "output_type": "execute_result"
    }
   ],
   "source": [
    "(df\n",
    " .education\n",
    " .str.strip()\n",
    " .pipe(pd.Series.unique)\n",
    " )"
   ]
  },
  {
   "cell_type": "markdown",
   "id": "2d493e76-1aab-4600-8f46-f86f64df58b7",
   "metadata": {
    "tags": []
   },
   "source": [
    "#### Education"
   ]
  },
  {
   "cell_type": "code",
   "execution_count": 158,
   "id": "e22a40f8-f45a-4d9a-8b16-62e335412e86",
   "metadata": {},
   "outputs": [
    {
     "data": {
      "text/plain": [
       "array([' Bachelors', ' HS-grad', ' 11th', ' Masters', ' 9th',\n",
       "       ' Some-college', ' Assoc-acdm', ' Assoc-voc', ' 7th-8th',\n",
       "       ' Doctorate', ' Prof-school', ' 5th-6th', ' 10th', ' 1st-4th',\n",
       "       ' Preschool', ' 12th'], dtype=object)"
      ]
     },
     "execution_count": 158,
     "metadata": {},
     "output_type": "execute_result"
    }
   ],
   "source": [
    "(df\n",
    " .education\n",
    " .unique()\n",
    " )"
   ]
  },
  {
   "cell_type": "markdown",
   "id": "59d8399c-a7b4-41dc-b7b5-6971ce35d66f",
   "metadata": {
    "tags": []
   },
   "source": [
    "#### Sex, income_class"
   ]
  },
  {
   "cell_type": "code",
   "execution_count": 58,
   "id": "fdbab187-617b-4516-85ff-b9168edfae2d",
   "metadata": {},
   "outputs": [
    {
     "data": {
      "text/html": [
       "<div>\n",
       "<style scoped>\n",
       "    .dataframe tbody tr th:only-of-type {\n",
       "        vertical-align: middle;\n",
       "    }\n",
       "\n",
       "    .dataframe tbody tr th {\n",
       "        vertical-align: top;\n",
       "    }\n",
       "\n",
       "    .dataframe thead th {\n",
       "        text-align: right;\n",
       "    }\n",
       "</style>\n",
       "<table border=\"1\" class=\"dataframe\">\n",
       "  <thead>\n",
       "    <tr style=\"text-align: right;\">\n",
       "      <th></th>\n",
       "      <th>age</th>\n",
       "      <th>workclass</th>\n",
       "      <th>final_weight</th>\n",
       "      <th>education</th>\n",
       "      <th>education-num</th>\n",
       "      <th>marital-status</th>\n",
       "      <th>occupation</th>\n",
       "      <th>relationship</th>\n",
       "      <th>race</th>\n",
       "      <th>sex</th>\n",
       "      <th>capital_gain</th>\n",
       "      <th>capital_loss</th>\n",
       "      <th>hours_per_week</th>\n",
       "      <th>native_country</th>\n",
       "      <th>income_class</th>\n",
       "    </tr>\n",
       "  </thead>\n",
       "  <tbody>\n",
       "    <tr>\n",
       "      <th>0</th>\n",
       "      <td>39</td>\n",
       "      <td>State-gov</td>\n",
       "      <td>77516</td>\n",
       "      <td>Bachelors</td>\n",
       "      <td>13</td>\n",
       "      <td>Never-married</td>\n",
       "      <td>Adm-clerical</td>\n",
       "      <td>Not-in-family</td>\n",
       "      <td>White</td>\n",
       "      <td>Male</td>\n",
       "      <td>2174</td>\n",
       "      <td>0</td>\n",
       "      <td>40</td>\n",
       "      <td>United-States</td>\n",
       "      <td>&lt;=50K</td>\n",
       "    </tr>\n",
       "    <tr>\n",
       "      <th>1</th>\n",
       "      <td>50</td>\n",
       "      <td>Self-emp-not-inc</td>\n",
       "      <td>83311</td>\n",
       "      <td>Bachelors</td>\n",
       "      <td>13</td>\n",
       "      <td>Married-civ-spouse</td>\n",
       "      <td>Exec-managerial</td>\n",
       "      <td>Husband</td>\n",
       "      <td>White</td>\n",
       "      <td>Male</td>\n",
       "      <td>0</td>\n",
       "      <td>0</td>\n",
       "      <td>13</td>\n",
       "      <td>United-States</td>\n",
       "      <td>&lt;=50K</td>\n",
       "    </tr>\n",
       "    <tr>\n",
       "      <th>2</th>\n",
       "      <td>38</td>\n",
       "      <td>Private</td>\n",
       "      <td>215646</td>\n",
       "      <td>HS-grad</td>\n",
       "      <td>9</td>\n",
       "      <td>Divorced</td>\n",
       "      <td>Handlers-cleaners</td>\n",
       "      <td>Not-in-family</td>\n",
       "      <td>White</td>\n",
       "      <td>Male</td>\n",
       "      <td>0</td>\n",
       "      <td>0</td>\n",
       "      <td>40</td>\n",
       "      <td>United-States</td>\n",
       "      <td>&lt;=50K</td>\n",
       "    </tr>\n",
       "    <tr>\n",
       "      <th>3</th>\n",
       "      <td>53</td>\n",
       "      <td>Private</td>\n",
       "      <td>234721</td>\n",
       "      <td>11th</td>\n",
       "      <td>7</td>\n",
       "      <td>Married-civ-spouse</td>\n",
       "      <td>Handlers-cleaners</td>\n",
       "      <td>Husband</td>\n",
       "      <td>Black</td>\n",
       "      <td>Male</td>\n",
       "      <td>0</td>\n",
       "      <td>0</td>\n",
       "      <td>40</td>\n",
       "      <td>United-States</td>\n",
       "      <td>&lt;=50K</td>\n",
       "    </tr>\n",
       "    <tr>\n",
       "      <th>4</th>\n",
       "      <td>28</td>\n",
       "      <td>Private</td>\n",
       "      <td>338409</td>\n",
       "      <td>Bachelors</td>\n",
       "      <td>13</td>\n",
       "      <td>Married-civ-spouse</td>\n",
       "      <td>Prof-specialty</td>\n",
       "      <td>Wife</td>\n",
       "      <td>Black</td>\n",
       "      <td>Female</td>\n",
       "      <td>0</td>\n",
       "      <td>0</td>\n",
       "      <td>40</td>\n",
       "      <td>Cuba</td>\n",
       "      <td>&lt;=50K</td>\n",
       "    </tr>\n",
       "    <tr>\n",
       "      <th>...</th>\n",
       "      <td>...</td>\n",
       "      <td>...</td>\n",
       "      <td>...</td>\n",
       "      <td>...</td>\n",
       "      <td>...</td>\n",
       "      <td>...</td>\n",
       "      <td>...</td>\n",
       "      <td>...</td>\n",
       "      <td>...</td>\n",
       "      <td>...</td>\n",
       "      <td>...</td>\n",
       "      <td>...</td>\n",
       "      <td>...</td>\n",
       "      <td>...</td>\n",
       "      <td>...</td>\n",
       "    </tr>\n",
       "    <tr>\n",
       "      <th>32556</th>\n",
       "      <td>27</td>\n",
       "      <td>Private</td>\n",
       "      <td>257302</td>\n",
       "      <td>Assoc-acdm</td>\n",
       "      <td>12</td>\n",
       "      <td>Married-civ-spouse</td>\n",
       "      <td>Tech-support</td>\n",
       "      <td>Wife</td>\n",
       "      <td>White</td>\n",
       "      <td>Female</td>\n",
       "      <td>0</td>\n",
       "      <td>0</td>\n",
       "      <td>38</td>\n",
       "      <td>United-States</td>\n",
       "      <td>&lt;=50K</td>\n",
       "    </tr>\n",
       "    <tr>\n",
       "      <th>32557</th>\n",
       "      <td>40</td>\n",
       "      <td>Private</td>\n",
       "      <td>154374</td>\n",
       "      <td>HS-grad</td>\n",
       "      <td>9</td>\n",
       "      <td>Married-civ-spouse</td>\n",
       "      <td>Machine-op-inspct</td>\n",
       "      <td>Husband</td>\n",
       "      <td>White</td>\n",
       "      <td>Male</td>\n",
       "      <td>0</td>\n",
       "      <td>0</td>\n",
       "      <td>40</td>\n",
       "      <td>United-States</td>\n",
       "      <td>&gt;50K</td>\n",
       "    </tr>\n",
       "    <tr>\n",
       "      <th>32558</th>\n",
       "      <td>58</td>\n",
       "      <td>Private</td>\n",
       "      <td>151910</td>\n",
       "      <td>HS-grad</td>\n",
       "      <td>9</td>\n",
       "      <td>Widowed</td>\n",
       "      <td>Adm-clerical</td>\n",
       "      <td>Unmarried</td>\n",
       "      <td>White</td>\n",
       "      <td>Female</td>\n",
       "      <td>0</td>\n",
       "      <td>0</td>\n",
       "      <td>40</td>\n",
       "      <td>United-States</td>\n",
       "      <td>&lt;=50K</td>\n",
       "    </tr>\n",
       "    <tr>\n",
       "      <th>32559</th>\n",
       "      <td>22</td>\n",
       "      <td>Private</td>\n",
       "      <td>201490</td>\n",
       "      <td>HS-grad</td>\n",
       "      <td>9</td>\n",
       "      <td>Never-married</td>\n",
       "      <td>Adm-clerical</td>\n",
       "      <td>Own-child</td>\n",
       "      <td>White</td>\n",
       "      <td>Male</td>\n",
       "      <td>0</td>\n",
       "      <td>0</td>\n",
       "      <td>20</td>\n",
       "      <td>United-States</td>\n",
       "      <td>&lt;=50K</td>\n",
       "    </tr>\n",
       "    <tr>\n",
       "      <th>32560</th>\n",
       "      <td>52</td>\n",
       "      <td>Self-emp-inc</td>\n",
       "      <td>287927</td>\n",
       "      <td>HS-grad</td>\n",
       "      <td>9</td>\n",
       "      <td>Married-civ-spouse</td>\n",
       "      <td>Exec-managerial</td>\n",
       "      <td>Wife</td>\n",
       "      <td>White</td>\n",
       "      <td>Female</td>\n",
       "      <td>15024</td>\n",
       "      <td>0</td>\n",
       "      <td>40</td>\n",
       "      <td>United-States</td>\n",
       "      <td>&gt;50K</td>\n",
       "    </tr>\n",
       "  </tbody>\n",
       "</table>\n",
       "<p>32561 rows × 15 columns</p>\n",
       "</div>"
      ],
      "text/plain": [
       "       age          workclass  final_weight    education  education-num  \\\n",
       "0       39          State-gov         77516    Bachelors             13   \n",
       "1       50   Self-emp-not-inc         83311    Bachelors             13   \n",
       "2       38            Private        215646      HS-grad              9   \n",
       "3       53            Private        234721         11th              7   \n",
       "4       28            Private        338409    Bachelors             13   \n",
       "...    ...                ...           ...          ...            ...   \n",
       "32556   27            Private        257302   Assoc-acdm             12   \n",
       "32557   40            Private        154374      HS-grad              9   \n",
       "32558   58            Private        151910      HS-grad              9   \n",
       "32559   22            Private        201490      HS-grad              9   \n",
       "32560   52       Self-emp-inc        287927      HS-grad              9   \n",
       "\n",
       "            marital-status          occupation    relationship    race  \\\n",
       "0            Never-married        Adm-clerical   Not-in-family   White   \n",
       "1       Married-civ-spouse     Exec-managerial         Husband   White   \n",
       "2                 Divorced   Handlers-cleaners   Not-in-family   White   \n",
       "3       Married-civ-spouse   Handlers-cleaners         Husband   Black   \n",
       "4       Married-civ-spouse      Prof-specialty            Wife   Black   \n",
       "...                    ...                 ...             ...     ...   \n",
       "32556   Married-civ-spouse        Tech-support            Wife   White   \n",
       "32557   Married-civ-spouse   Machine-op-inspct         Husband   White   \n",
       "32558              Widowed        Adm-clerical       Unmarried   White   \n",
       "32559        Never-married        Adm-clerical       Own-child   White   \n",
       "32560   Married-civ-spouse     Exec-managerial            Wife   White   \n",
       "\n",
       "           sex  capital_gain  capital_loss  hours_per_week  native_country  \\\n",
       "0         Male          2174             0              40   United-States   \n",
       "1         Male             0             0              13   United-States   \n",
       "2         Male             0             0              40   United-States   \n",
       "3         Male             0             0              40   United-States   \n",
       "4       Female             0             0              40            Cuba   \n",
       "...        ...           ...           ...             ...             ...   \n",
       "32556   Female             0             0              38   United-States   \n",
       "32557     Male             0             0              40   United-States   \n",
       "32558   Female             0             0              40   United-States   \n",
       "32559     Male             0             0              20   United-States   \n",
       "32560   Female         15024             0              40   United-States   \n",
       "\n",
       "      income_class  \n",
       "0            <=50K  \n",
       "1            <=50K  \n",
       "2            <=50K  \n",
       "3            <=50K  \n",
       "4            <=50K  \n",
       "...            ...  \n",
       "32556        <=50K  \n",
       "32557         >50K  \n",
       "32558        <=50K  \n",
       "32559        <=50K  \n",
       "32560         >50K  \n",
       "\n",
       "[32561 rows x 15 columns]"
      ]
     },
     "execution_count": 58,
     "metadata": {},
     "output_type": "execute_result"
    }
   ],
   "source": [
    "(df\n",
    " .assign(income_class=df.income_class.astype('category'),\n",
    "         sex=df.sex.astype('category'))\n",
    " )"
   ]
  },
  {
   "cell_type": "code",
   "execution_count": 3,
   "id": "dcb5d4b2-7c32-4664-9898-8c29aa23f17f",
   "metadata": {},
   "outputs": [
    {
     "name": "stdout",
     "output_type": "stream",
     "text": [
      "(26048, 100)\n",
      "(6513, 100)\n",
      "(26048,)\n",
      "(6513,)\n"
     ]
    }
   ],
   "source": [
    "income_target = income_data.income_class\n",
    "income_target = income_target.str.strip()\n",
    "\n",
    "income_attributes = income_data.drop(columns=\"income_class\")\n",
    "income_attributes = pd.get_dummies(income_attributes, drop_first=True)\n",
    "scaler = MinMaxScaler()\n",
    "income_attributes = scaler.fit_transform(income_attributes)\n",
    "\n",
    "(\n",
    "    income_attributes_train,\n",
    "    income_attributes_test,\n",
    "    income_target_train,\n",
    "    income_target_test,\n",
    ") = train_test_split(income_attributes, income_target, train_size=0.8)\n",
    "\n",
    "for x in [\n",
    "    income_attributes_train,\n",
    "    income_attributes_test,\n",
    "    income_target_train,\n",
    "    income_target_test,\n",
    "]:\n",
    "    print(x.shape)"
   ]
  },
  {
   "cell_type": "markdown",
   "id": "33412347-d893-40d6-bfcd-62d30c805901",
   "metadata": {},
   "source": [
    "### Integers"
   ]
  },
  {
   "cell_type": "code",
   "execution_count": 51,
   "id": "0938096b-fe4d-4423-acc6-71d14bebe5f9",
   "metadata": {},
   "outputs": [
    {
     "data": {
      "text/html": [
       "<div>\n",
       "<style scoped>\n",
       "    .dataframe tbody tr th:only-of-type {\n",
       "        vertical-align: middle;\n",
       "    }\n",
       "\n",
       "    .dataframe tbody tr th {\n",
       "        vertical-align: top;\n",
       "    }\n",
       "\n",
       "    .dataframe thead th {\n",
       "        text-align: right;\n",
       "    }\n",
       "</style>\n",
       "<table border=\"1\" class=\"dataframe\">\n",
       "  <thead>\n",
       "    <tr style=\"text-align: right;\">\n",
       "      <th></th>\n",
       "      <th>age</th>\n",
       "      <th>final_weight</th>\n",
       "      <th>education_num</th>\n",
       "      <th>capital_gain</th>\n",
       "      <th>capital_loss</th>\n",
       "      <th>hours_per_week</th>\n",
       "    </tr>\n",
       "  </thead>\n",
       "  <tbody>\n",
       "    <tr>\n",
       "      <th>count</th>\n",
       "      <td>32561.000000</td>\n",
       "      <td>3.256100e+04</td>\n",
       "      <td>32561.000000</td>\n",
       "      <td>32561.000000</td>\n",
       "      <td>32561.000000</td>\n",
       "      <td>32561.000000</td>\n",
       "    </tr>\n",
       "    <tr>\n",
       "      <th>mean</th>\n",
       "      <td>38.581647</td>\n",
       "      <td>1.897784e+05</td>\n",
       "      <td>10.080679</td>\n",
       "      <td>1077.648844</td>\n",
       "      <td>87.303830</td>\n",
       "      <td>40.437456</td>\n",
       "    </tr>\n",
       "    <tr>\n",
       "      <th>std</th>\n",
       "      <td>13.640433</td>\n",
       "      <td>1.055500e+05</td>\n",
       "      <td>2.572720</td>\n",
       "      <td>7385.292085</td>\n",
       "      <td>402.960219</td>\n",
       "      <td>12.347429</td>\n",
       "    </tr>\n",
       "    <tr>\n",
       "      <th>min</th>\n",
       "      <td>17.000000</td>\n",
       "      <td>1.228500e+04</td>\n",
       "      <td>1.000000</td>\n",
       "      <td>0.000000</td>\n",
       "      <td>0.000000</td>\n",
       "      <td>1.000000</td>\n",
       "    </tr>\n",
       "    <tr>\n",
       "      <th>25%</th>\n",
       "      <td>28.000000</td>\n",
       "      <td>1.178270e+05</td>\n",
       "      <td>9.000000</td>\n",
       "      <td>0.000000</td>\n",
       "      <td>0.000000</td>\n",
       "      <td>40.000000</td>\n",
       "    </tr>\n",
       "    <tr>\n",
       "      <th>50%</th>\n",
       "      <td>37.000000</td>\n",
       "      <td>1.783560e+05</td>\n",
       "      <td>10.000000</td>\n",
       "      <td>0.000000</td>\n",
       "      <td>0.000000</td>\n",
       "      <td>40.000000</td>\n",
       "    </tr>\n",
       "    <tr>\n",
       "      <th>75%</th>\n",
       "      <td>48.000000</td>\n",
       "      <td>2.370510e+05</td>\n",
       "      <td>12.000000</td>\n",
       "      <td>0.000000</td>\n",
       "      <td>0.000000</td>\n",
       "      <td>45.000000</td>\n",
       "    </tr>\n",
       "    <tr>\n",
       "      <th>max</th>\n",
       "      <td>90.000000</td>\n",
       "      <td>1.484705e+06</td>\n",
       "      <td>16.000000</td>\n",
       "      <td>99999.000000</td>\n",
       "      <td>4356.000000</td>\n",
       "      <td>99.000000</td>\n",
       "    </tr>\n",
       "  </tbody>\n",
       "</table>\n",
       "</div>"
      ],
      "text/plain": [
       "                age  final_weight  education_num  capital_gain  capital_loss  \\\n",
       "count  32561.000000  3.256100e+04   32561.000000  32561.000000  32561.000000   \n",
       "mean      38.581647  1.897784e+05      10.080679   1077.648844     87.303830   \n",
       "std       13.640433  1.055500e+05       2.572720   7385.292085    402.960219   \n",
       "min       17.000000  1.228500e+04       1.000000      0.000000      0.000000   \n",
       "25%       28.000000  1.178270e+05       9.000000      0.000000      0.000000   \n",
       "50%       37.000000  1.783560e+05      10.000000      0.000000      0.000000   \n",
       "75%       48.000000  2.370510e+05      12.000000      0.000000      0.000000   \n",
       "max       90.000000  1.484705e+06      16.000000  99999.000000   4356.000000   \n",
       "\n",
       "       hours_per_week  \n",
       "count    32561.000000  \n",
       "mean        40.437456  \n",
       "std         12.347429  \n",
       "min          1.000000  \n",
       "25%         40.000000  \n",
       "50%         40.000000  \n",
       "75%         45.000000  \n",
       "max         99.000000  "
      ]
     },
     "execution_count": 51,
     "metadata": {},
     "output_type": "execute_result"
    }
   ],
   "source": [
    "(income\n",
    " .rename(columns=col_mapper)\n",
    " .select_dtypes('integer')\n",
    " .describe()\n",
    " )"
   ]
  },
  {
   "cell_type": "markdown",
   "id": "4e14da62-445e-4ef1-8898-883cfb681703",
   "metadata": {},
   "source": [
    "## Old versions"
   ]
  },
  {
   "cell_type": "code",
   "execution_count": 102,
   "id": "099f1971-09f2-4ca3-a513-e0a3a6e35362",
   "metadata": {
    "tags": []
   },
   "outputs": [],
   "source": [
    "# V1\n",
    "# def clean_income_dataset(df: pd.DataFrame):\n",
    "#     def tweak_categorical_column(df_, col):\n",
    "#         return (df_\n",
    "#                 [col]\n",
    "#                 .str.strip()\n",
    "#                 .str.lower()\n",
    "#                 .astype('category')\n",
    "#                 )\n",
    "\n",
    "#     col_mapper = {\n",
    "#         0: 'age',\n",
    "#         1: 'workclass',\n",
    "#         2: 'final_weight',\n",
    "#         3: 'education',\n",
    "#         4: 'education_num',\n",
    "#         5: 'marital_status',\n",
    "#         6: 'occupation',\n",
    "#         7: 'relationship',\n",
    "#         8: 'race',\n",
    "#         9: 'sex',\n",
    "#         10: 'capital_gain',\n",
    "#         11: 'capital_loss',\n",
    "#         12: 'hours_per_week',\n",
    "#         13: 'native_country',\n",
    "#         14: 'income_class'\n",
    "#     }\n",
    "#     df = df.rename(columns=col_mapper)\n",
    "\n",
    "#     cols = ['age', 'workclass', 'final_weight', 'education',\n",
    "#             'marital_status', 'occupation', 'relationship', 'race',\n",
    "#             'sex', 'capital_gain', 'capital_loss', 'hours_per_week',\n",
    "#             'native_country', 'income_class']\n",
    "#     return (df\n",
    "#             [cols]\n",
    "#             .assign(workclass=tweak_categorical_column(df.workclass),\n",
    "#                     education=tweak_categorical_column(df.education),\n",
    "#                     marital_status=tweak_categorical_column(df.marital_status),\n",
    "#                     occupation=tweak_categorical_column(df.occupation),\n",
    "#                     relationship=tweak_categorical_column(df.relationship),\n",
    "#                     race=tweak_categorical_column(df.race),\n",
    "#                     sex=tweak_categorical_column(df.sex),\n",
    "#                     native_country=tweak_categorical_column(df.native_country),\n",
    "#                     income_class=tweak_categorical_column(df.income_class),\n",
    "#                     )\n",
    "#             .astype({'age': 'uint8', 'hours_per_week': 'uint8'})\n",
    "#             )"
   ]
  }
 ],
 "metadata": {
  "kernelspec": {
   "display_name": "Python 3 (ipykernel)",
   "language": "python",
   "name": "python3"
  },
  "language_info": {
   "codemirror_mode": {
    "name": "ipython",
    "version": 3
   },
   "file_extension": ".py",
   "mimetype": "text/x-python",
   "name": "python",
   "nbconvert_exporter": "python",
   "pygments_lexer": "ipython3",
   "version": "3.9.0"
  }
 },
 "nbformat": 4,
 "nbformat_minor": 5
}
