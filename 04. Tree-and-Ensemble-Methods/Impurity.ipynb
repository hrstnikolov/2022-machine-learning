{
 "cells": [
  {
   "cell_type": "code",
   "execution_count": null,
   "id": "74e895d5-3578-457a-91ce-1174907f59ab",
   "metadata": {},
   "outputs": [],
   "source": [
    "%matplotlib inline"
   ]
  },
  {
   "cell_type": "code",
   "execution_count": 3,
   "id": "64e2d1cf-c2f6-4d56-943b-6e726f286b3a",
   "metadata": {},
   "outputs": [],
   "source": [
    "import pandas as pd\n",
    "import numpy as np\n",
    "import matplotlib.pyplot as plt"
   ]
  },
  {
   "cell_type": "markdown",
   "id": "284ccb0f-d962-4247-a719-782d9f3a6485",
   "metadata": {},
   "source": [
    "# Impurity Measurements"
   ]
  },
  {
   "cell_type": "code",
   "execution_count": 5,
   "id": "01886e09-f437-4ff4-b703-986876d223b5",
   "metadata": {},
   "outputs": [],
   "source": [
    "def entropy(p):\n",
    "    return -(p*np.log2(p) + (1-p)*np.log2(1-p))"
   ]
  },
  {
   "cell_type": "code",
   "execution_count": 7,
   "id": "286b7d42-9c47-489a-bf1b-939ed9ccce2a",
   "metadata": {},
   "outputs": [
    {
     "data": {
      "text/plain": [
       "0.5155217894467282"
      ]
     },
     "execution_count": 7,
     "metadata": {},
     "output_type": "execute_result"
    }
   ],
   "source": [
    "entropy(4000/4521)"
   ]
  },
  {
   "cell_type": "code",
   "execution_count": null,
   "id": "3150ffa3-e33d-4f6b-9b9b-9b749ede3b48",
   "metadata": {},
   "outputs": [],
   "source": []
  }
 ],
 "metadata": {
  "kernelspec": {
   "display_name": "Python 3 (ipykernel)",
   "language": "python",
   "name": "python3"
  },
  "language_info": {
   "codemirror_mode": {
    "name": "ipython",
    "version": 3
   },
   "file_extension": ".py",
   "mimetype": "text/x-python",
   "name": "python",
   "nbconvert_exporter": "python",
   "pygments_lexer": "ipython3",
   "version": "3.9.0"
  }
 },
 "nbformat": 4,
 "nbformat_minor": 5
}
