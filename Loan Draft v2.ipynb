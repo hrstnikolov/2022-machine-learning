{
 "cells": [
  {
   "cell_type": "code",
   "execution_count": 1,
   "id": "8f41cdf1-bc0b-4704-95b7-d90fa5ebd42c",
   "metadata": {},
   "outputs": [],
   "source": [
    "%matplotlib inline"
   ]
  },
  {
   "cell_type": "code",
   "execution_count": 81,
   "id": "b4834dad-e505-4f38-b16d-8964014cc8a5",
   "metadata": {},
   "outputs": [],
   "source": [
    "import numpy as np\n",
    "import pandas as pd\n",
    "import matplotlib.pyplot as plt\n",
    "\n",
    "from pathlib import Path\n",
    "from datetime import datetime\n",
    "\n",
    "from sklearn.preprocessing import StandardScaler, MinMaxScaler, OrdinalEncoder, OneHotEncoder\n",
    "from sklearn.model_selection import train_test_split, StratifiedKFold, GridSearchCV\n",
    "\n",
    "from sklearn.compose import ColumnTransformer, make_column_selector\n",
    "\n",
    "from sklearn.tree import DecisionTreeClassifier\n",
    "from sklearn.ensemble import RandomForestClassifier\n",
    "from sklearn.linear_model import LogisticRegression\n",
    "from sklearn.svm import LinearSVC, SVC\n",
    "\n",
    "from sklearn.metrics import f1_score, make_scorer"
   ]
  },
  {
   "cell_type": "markdown",
   "id": "04f87eb4-7247-46bc-8203-ab6b2f6fe82d",
   "metadata": {},
   "source": [
    "# Should This Loan be Approved or Not? Draft"
   ]
  },
  {
   "cell_type": "markdown",
   "id": "461fdb19-e0d2-4198-8099-75e98cf5c53f",
   "metadata": {
    "tags": []
   },
   "source": [
    "### Prepare data"
   ]
  },
  {
   "cell_type": "markdown",
   "id": "bbbb4f16-5fa0-4c8f-afea-a26317a886f9",
   "metadata": {},
   "source": [
    "#### Select relevant data\n",
    "\n",
    "1. Read data.\n",
    "1. Drop irrelevant variables (feature selection).\n",
    "1. Rename remaining variables.\n",
    "1. Format `approval_date` and sort out the new records (filtering)."
   ]
  },
  {
   "cell_type": "code",
   "execution_count": 3,
   "id": "bdd139c4-441e-4c00-a77c-4a6d23386fa5",
   "metadata": {},
   "outputs": [],
   "source": [
    "PROJECT_DIRECTORY = Path(r\"C:\\Users\\a1056968\\Desktop\\loan\")\n",
    "loan = pd.read_csv(PROJECT_DIRECTORY / \"SBAnational.csv\", low_memory=False)"
   ]
  },
  {
   "cell_type": "code",
   "execution_count": 4,
   "id": "5ea1f165-d18a-485a-8546-0e243ce46632",
   "metadata": {},
   "outputs": [],
   "source": [
    "irrelevant_variables = [\n",
    "    'LoanNr_ChkDgt',\n",
    "    'Name',\n",
    "    'City',\n",
    "    'Zip',\n",
    "    'Bank',\n",
    "    'BankState',\n",
    "    'ApprovalFY',\n",
    "    'ChgOffDate',\n",
    "    'DisbursementDate',\n",
    "    'BalanceGross',\n",
    "    'ChgOffPrinGr',\n",
    "]\n",
    "loan = loan.drop(columns=irrelevant_variables)"
   ]
  },
  {
   "cell_type": "code",
   "execution_count": 5,
   "id": "a118e54d-eace-49ae-a017-9af86684f3b6",
   "metadata": {},
   "outputs": [],
   "source": [
    "new_column_names = [\n",
    "    'state',\n",
    "    'naics',\n",
    "    'approval_date',\n",
    "    'term',\n",
    "    'employees_count',\n",
    "    'business_lifetime',\n",
    "    'created_jobs',\n",
    "    'retained_jobs',\n",
    "    'is_franchise',\n",
    "    'location_type',\n",
    "    'is_revolving_credit',\n",
    "    'is_lowdoc',\n",
    "    'disbursed_аmount',\n",
    "    'mis_status',\n",
    "    'gross_approved',\n",
    "    'sba_approved',\n",
    "]\n",
    "loan.columns = new_column_names"
   ]
  },
  {
   "cell_type": "code",
   "execution_count": 6,
   "id": "3ee89837-7699-4944-bbc9-909dc732e669",
   "metadata": {
    "tags": []
   },
   "outputs": [],
   "source": [
    "INVALID_DATE_THRESHOLD = \"2022-12-31\"\n",
    "loan.approval_date = pd.to_datetime(loan.approval_date, dayfirst=True)\n",
    "loan.loc[loan.approval_date > INVALID_DATE_THRESHOLD, \"approval_date\"] -= pd.DateOffset(years=100)\n",
    "\n",
    "START_DATE = \"1990-01-01\"\n",
    "loan = loan[loan.approval_date >= START_DATE]"
   ]
  },
  {
   "cell_type": "markdown",
   "id": "82029f39-c5e3-4a99-9b49-1be1b2ad668f",
   "metadata": {},
   "source": [
    "#### Handle data types and missing values\n",
    "\n",
    "1. Print data types and count of NA values.\n",
    "1. Drop the 4 pcs `NA` values for `state`. Verify there are no invalid state abbreviations.\n",
    "1. "
   ]
  },
  {
   "cell_type": "code",
   "execution_count": 7,
   "id": "9991487e-6a21-483d-9d01-f27e6b3d969b",
   "metadata": {
    "tags": []
   },
   "outputs": [
    {
     "name": "stdout",
     "output_type": "stream",
     "text": [
      "Data Types\n",
      "\n",
      "state                          object\n",
      "naics                           int64\n",
      "approval_date          datetime64[ns]\n",
      "term                            int64\n",
      "employees_count                 int64\n",
      "business_lifetime             float64\n",
      "created_jobs                    int64\n",
      "retained_jobs                   int64\n",
      "is_franchise                    int64\n",
      "location_type                   int64\n",
      "is_revolving_credit            object\n",
      "is_lowdoc                      object\n",
      "disbursed_аmount               object\n",
      "mis_status                     object\n",
      "gross_approved                 object\n",
      "sba_approved                   object\n",
      "dtype: object\n"
     ]
    }
   ],
   "source": [
    "print(f\"Data Types\\n\\n{loan.dtypes}\")"
   ]
  },
  {
   "cell_type": "code",
   "execution_count": 8,
   "id": "9e4dcade-e273-4d33-9f45-793ea472cf90",
   "metadata": {
    "tags": []
   },
   "outputs": [
    {
     "name": "stdout",
     "output_type": "stream",
     "text": [
      "NA Values Count\n",
      "\n",
      "state                     4\n",
      "naics                     0\n",
      "approval_date             0\n",
      "term                      0\n",
      "employees_count           0\n",
      "business_lifetime       136\n",
      "created_jobs              0\n",
      "retained_jobs             0\n",
      "is_franchise              0\n",
      "location_type             0\n",
      "is_revolving_credit    4528\n",
      "is_lowdoc              2582\n",
      "disbursed_аmount          0\n",
      "mis_status             1913\n",
      "gross_approved            0\n",
      "sba_approved              0\n",
      "dtype: int64\n"
     ]
    }
   ],
   "source": [
    "print(f\"NA Values Count\\n\\n{loan.isna().sum()}\")"
   ]
  },
  {
   "cell_type": "code",
   "execution_count": 9,
   "id": "e175eb92-5e70-4444-9a2c-c2f971e5b543",
   "metadata": {},
   "outputs": [
    {
     "name": "stdout",
     "output_type": "stream",
     "text": [
      "NA count: 0\n",
      "Invalid count: 0\n"
     ]
    }
   ],
   "source": [
    "loan = loan.dropna(subset=[\"state\",])\n",
    "\n",
    "STATES = pd.read_csv(PROJECT_DIRECTORY / \"Reference/state_abbreviations.csv\")\n",
    "invalid_count = len(loan) - loan.state.isin(STATES.Postal).sum()\n",
    "na_count = loan.state.isna().sum()\n",
    "print(f\"NA count: {na_count}\\nInvalid count: {invalid_count}\")"
   ]
  },
  {
   "cell_type": "code",
   "execution_count": 10,
   "id": "f3c17ae6-9f92-4707-838f-d577f41063c8",
   "metadata": {
    "tags": []
   },
   "outputs": [],
   "source": [
    "industry_sector = loan.naics // 10000\n",
    "loan['industry_sector'] = industry_sector"
   ]
  },
  {
   "cell_type": "code",
   "execution_count": 11,
   "id": "9b0c23bc-122c-41ce-bb04-084363f13dcf",
   "metadata": {},
   "outputs": [
    {
     "data": {
      "text/plain": [
       "0     179601\n",
       "44     83425\n",
       "81     71370\n",
       "54     67615\n",
       "72     67478\n",
       "23     65827\n",
       "62     54575\n",
       "42     47794\n",
       "45     41830\n",
       "33     37396\n",
       "56     32575\n",
       "48     20277\n",
       "32     17535\n",
       "71     14494\n",
       "53     13487\n",
       "31     11563\n",
       "51     11330\n",
       "52      9493\n",
       "11      8752\n",
       "61      6413\n",
       "49      2214\n",
       "21      1808\n",
       "22       654\n",
       "55       255\n",
       "92       227\n",
       "Name: industry_sector, dtype: int64"
      ]
     },
     "execution_count": 11,
     "metadata": {},
     "output_type": "execute_result"
    }
   ],
   "source": [
    "loan.industry_sector.value_counts(dropna=False)"
   ]
  },
  {
   "cell_type": "code",
   "execution_count": 12,
   "id": "63472abc-d16b-4647-a593-e9b9b447223f",
   "metadata": {},
   "outputs": [
    {
     "data": {
      "text/plain": [
       "179601"
      ]
     },
     "execution_count": 12,
     "metadata": {},
     "output_type": "execute_result"
    }
   ],
   "source": [
    "loan.naics[loan.naics == 0].count()"
   ]
  },
  {
   "cell_type": "code",
   "execution_count": 13,
   "id": "b79f01e2-a59a-4855-977d-cf3658d2806b",
   "metadata": {},
   "outputs": [],
   "source": [
    "loan = loan.drop(columns=\"naics\")"
   ]
  },
  {
   "cell_type": "code",
   "execution_count": 14,
   "id": "b002a95f-cce3-40fd-b984-9ce1b9119877",
   "metadata": {},
   "outputs": [],
   "source": [
    "def currency_to_float(series):\n",
    "    result = series.replace(\n",
    "        to_replace='[\\$,]',\n",
    "        value='',\n",
    "        regex=True,\n",
    "    )\n",
    "    result = result.astype(\"float64\")\n",
    "    \n",
    "    return result"
   ]
  },
  {
   "cell_type": "code",
   "execution_count": 15,
   "id": "171b8022-e11d-487d-b8c3-d5fe12c11dad",
   "metadata": {},
   "outputs": [
    {
     "data": {
      "text/html": [
       "<div>\n",
       "<style scoped>\n",
       "    .dataframe tbody tr th:only-of-type {\n",
       "        vertical-align: middle;\n",
       "    }\n",
       "\n",
       "    .dataframe tbody tr th {\n",
       "        vertical-align: top;\n",
       "    }\n",
       "\n",
       "    .dataframe thead th {\n",
       "        text-align: right;\n",
       "    }\n",
       "</style>\n",
       "<table border=\"1\" class=\"dataframe\">\n",
       "  <thead>\n",
       "    <tr style=\"text-align: right;\">\n",
       "      <th></th>\n",
       "      <th>state</th>\n",
       "      <th>approval_date</th>\n",
       "      <th>term</th>\n",
       "      <th>employees_count</th>\n",
       "      <th>business_lifetime</th>\n",
       "      <th>created_jobs</th>\n",
       "      <th>retained_jobs</th>\n",
       "      <th>is_franchise</th>\n",
       "      <th>location_type</th>\n",
       "      <th>is_revolving_credit</th>\n",
       "      <th>is_lowdoc</th>\n",
       "      <th>disbursed_аmount</th>\n",
       "      <th>mis_status</th>\n",
       "      <th>gross_approved</th>\n",
       "      <th>sba_approved</th>\n",
       "      <th>industry_sector</th>\n",
       "    </tr>\n",
       "  </thead>\n",
       "  <tbody>\n",
       "    <tr>\n",
       "      <th>0</th>\n",
       "      <td>IN</td>\n",
       "      <td>1997-02-28</td>\n",
       "      <td>84</td>\n",
       "      <td>4</td>\n",
       "      <td>2.0</td>\n",
       "      <td>0</td>\n",
       "      <td>0</td>\n",
       "      <td>1</td>\n",
       "      <td>0</td>\n",
       "      <td>N</td>\n",
       "      <td>Y</td>\n",
       "      <td>$60,000.00</td>\n",
       "      <td>P I F</td>\n",
       "      <td>$60,000.00</td>\n",
       "      <td>$48,000.00</td>\n",
       "      <td>45</td>\n",
       "    </tr>\n",
       "    <tr>\n",
       "      <th>1</th>\n",
       "      <td>IN</td>\n",
       "      <td>1997-02-28</td>\n",
       "      <td>60</td>\n",
       "      <td>2</td>\n",
       "      <td>2.0</td>\n",
       "      <td>0</td>\n",
       "      <td>0</td>\n",
       "      <td>1</td>\n",
       "      <td>0</td>\n",
       "      <td>N</td>\n",
       "      <td>Y</td>\n",
       "      <td>$40,000.00</td>\n",
       "      <td>P I F</td>\n",
       "      <td>$40,000.00</td>\n",
       "      <td>$32,000.00</td>\n",
       "      <td>72</td>\n",
       "    </tr>\n",
       "    <tr>\n",
       "      <th>2</th>\n",
       "      <td>IN</td>\n",
       "      <td>1997-02-28</td>\n",
       "      <td>180</td>\n",
       "      <td>7</td>\n",
       "      <td>1.0</td>\n",
       "      <td>0</td>\n",
       "      <td>0</td>\n",
       "      <td>1</td>\n",
       "      <td>0</td>\n",
       "      <td>N</td>\n",
       "      <td>N</td>\n",
       "      <td>$287,000.00</td>\n",
       "      <td>P I F</td>\n",
       "      <td>$287,000.00</td>\n",
       "      <td>$215,250.00</td>\n",
       "      <td>62</td>\n",
       "    </tr>\n",
       "    <tr>\n",
       "      <th>3</th>\n",
       "      <td>OK</td>\n",
       "      <td>1997-02-28</td>\n",
       "      <td>60</td>\n",
       "      <td>2</td>\n",
       "      <td>1.0</td>\n",
       "      <td>0</td>\n",
       "      <td>0</td>\n",
       "      <td>1</td>\n",
       "      <td>0</td>\n",
       "      <td>N</td>\n",
       "      <td>Y</td>\n",
       "      <td>$35,000.00</td>\n",
       "      <td>P I F</td>\n",
       "      <td>$35,000.00</td>\n",
       "      <td>$28,000.00</td>\n",
       "      <td>0</td>\n",
       "    </tr>\n",
       "    <tr>\n",
       "      <th>4</th>\n",
       "      <td>FL</td>\n",
       "      <td>1997-02-28</td>\n",
       "      <td>240</td>\n",
       "      <td>14</td>\n",
       "      <td>1.0</td>\n",
       "      <td>7</td>\n",
       "      <td>7</td>\n",
       "      <td>1</td>\n",
       "      <td>0</td>\n",
       "      <td>N</td>\n",
       "      <td>N</td>\n",
       "      <td>$229,000.00</td>\n",
       "      <td>P I F</td>\n",
       "      <td>$229,000.00</td>\n",
       "      <td>$229,000.00</td>\n",
       "      <td>0</td>\n",
       "    </tr>\n",
       "  </tbody>\n",
       "</table>\n",
       "</div>"
      ],
      "text/plain": [
       "  state approval_date  term  employees_count  business_lifetime  created_jobs  \\\n",
       "0    IN    1997-02-28    84                4                2.0             0   \n",
       "1    IN    1997-02-28    60                2                2.0             0   \n",
       "2    IN    1997-02-28   180                7                1.0             0   \n",
       "3    OK    1997-02-28    60                2                1.0             0   \n",
       "4    FL    1997-02-28   240               14                1.0             7   \n",
       "\n",
       "   retained_jobs  is_franchise  location_type is_revolving_credit is_lowdoc  \\\n",
       "0              0             1              0                   N         Y   \n",
       "1              0             1              0                   N         Y   \n",
       "2              0             1              0                   N         N   \n",
       "3              0             1              0                   N         Y   \n",
       "4              7             1              0                   N         N   \n",
       "\n",
       "  disbursed_аmount mis_status gross_approved  sba_approved  industry_sector  \n",
       "0      $60,000.00       P I F    $60,000.00    $48,000.00                45  \n",
       "1      $40,000.00       P I F    $40,000.00    $32,000.00                72  \n",
       "2     $287,000.00       P I F   $287,000.00   $215,250.00                62  \n",
       "3      $35,000.00       P I F    $35,000.00    $28,000.00                 0  \n",
       "4     $229,000.00       P I F   $229,000.00   $229,000.00                 0  "
      ]
     },
     "execution_count": 15,
     "metadata": {},
     "output_type": "execute_result"
    }
   ],
   "source": [
    "loan.head()"
   ]
  },
  {
   "cell_type": "code",
   "execution_count": 16,
   "id": "02865ba4-aa71-434a-8b6e-5c2567d928ce",
   "metadata": {},
   "outputs": [
    {
     "data": {
      "image/png": "[encoded data removed]",
      "text/plain": [
       "<Figure size 640x480 with 1 Axes>"
      ]
     },
     "metadata": {},
     "output_type": "display_data"
    }
   ],
   "source": [
    "plt.hist(loan.approval_date.dt.month, bins=12)\n",
    "plt.show()"
   ]
  },
  {
   "cell_type": "code",
   "execution_count": 17,
   "id": "9f7929dc-d72f-4d71-846c-79e042bef15f",
   "metadata": {},
   "outputs": [
    {
     "data": {
      "image/png": "[encoded data removed]",
      "text/plain": [
       "<Figure size 1500x1500 with 28 Axes>"
      ]
     },
     "metadata": {},
     "output_type": "display_data"
    }
   ],
   "source": [
    "n_plots = loan.approval_date.dt.year.nunique()\n",
    "fig, axs = plt.subplots(n_plots // 4 + 1, 4, figsize=(15, 15))\n",
    "\n",
    "for ax, (name, grouped_data) in zip(axs.flat, loan.groupby(loan.approval_date.dt.year)):\n",
    "    ax.hist(grouped_data.approval_date.dt.month, bins=12)\n",
    "    ax.set_title(name)\n",
    "\n",
    "plt.tight_layout()\n",
    "plt.show()"
   ]
  },
  {
   "cell_type": "markdown",
   "id": "bdb77c5f-279c-42ca-b52c-a340571d6e0a",
   "metadata": {},
   "source": [
    "loan"
   ]
  },
  {
   "cell_type": "code",
   "execution_count": 18,
   "id": "9d1ba7b3-7779-4fc6-ac7e-cd9fa9889f23",
   "metadata": {},
   "outputs": [
    {
     "data": {
      "image/png": "[encoded data removed]",
      "text/plain": [
       "<Figure size 1500x1500 with 28 Axes>"
      ]
     },
     "metadata": {},
     "output_type": "display_data"
    }
   ],
   "source": [
    "n_plots = loan.approval_date.dt.year.nunique()\n",
    "fig, axs = plt.subplots(n_plots // 4 + 1, 4, figsize=(15, 15))\n",
    "\n",
    "for ax, (name, grouped_data) in zip(axs.flat, loan.groupby(loan.approval_date.dt.year)):\n",
    "    ax.hist(grouped_data.approval_date.dt.month, bins=12)\n",
    "    ax.set_title(name)\n",
    "\n",
    "plt.tight_layout()\n",
    "plt.show()"
   ]
  },
  {
   "cell_type": "code",
   "execution_count": 19,
   "id": "9f723259-c9b5-49f8-bd8f-940503b2088f",
   "metadata": {},
   "outputs": [],
   "source": [
    "loan[[\"disbursed_аmount\", \"gross_approved\", \"sba_approved\"]] = loan[[\"disbursed_аmount\", \"gross_approved\", \"sba_approved\"]].apply(currency_to_float)"
   ]
  },
  {
   "cell_type": "code",
   "execution_count": 20,
   "id": "7aa8c2e8-068e-46ba-934c-cea5673c3d46",
   "metadata": {},
   "outputs": [
    {
     "data": {
      "text/plain": [
       "disbursed_аmount    0\n",
       "gross_approved      0\n",
       "sba_approved        0\n",
       "dtype: int64"
      ]
     },
     "execution_count": 20,
     "metadata": {},
     "output_type": "execute_result"
    }
   ],
   "source": [
    "loan[[\"disbursed_аmount\", \"gross_approved\", \"sba_approved\"]].isna().sum()"
   ]
  },
  {
   "cell_type": "code",
   "execution_count": 21,
   "id": "0286be58-8458-436a-bd7b-f4bfa01c8b6c",
   "metadata": {},
   "outputs": [],
   "source": [
    "amount_guaranteed_by_sba = currency_to_float(loan.sba_approved)\n",
    "total_amount = currency_to_float(loan.gross_approved)\n",
    "\n",
    "loan[\"sba_proportion\"] = amount_guaranteed_by_sba / total_amount"
   ]
  },
  {
   "cell_type": "code",
   "execution_count": 22,
   "id": "d901fc0b-fb12-4354-a708-f64b8d19eeca",
   "metadata": {},
   "outputs": [],
   "source": [
    "MAX_TERM_FOR_LOANS_NOT_BACKED_UP_BY_REALESTATE = 240\n",
    "loan[\"is_backed_by_realestate\"] = False\n",
    "loan.loc[loan.term >= MAX_TERM_FOR_LOANS_NOT_BACKED_UP_BY_REALESTATE, \"is_backed_by_realestate\"] = True"
   ]
  },
  {
   "cell_type": "code",
   "execution_count": 23,
   "id": "61c66e47-d8d1-43e2-8691-8067a935557c",
   "metadata": {},
   "outputs": [
    {
     "data": {
      "text/plain": [
       "1.0    621913\n",
       "2.0    244969\n",
       "0.0       970\n",
       "NaN       136\n",
       "Name: business_lifetime, dtype: int64"
      ]
     },
     "execution_count": 23,
     "metadata": {},
     "output_type": "execute_result"
    }
   ],
   "source": [
    "loan.business_lifetime.value_counts(dropna=False)"
   ]
  },
  {
   "cell_type": "code",
   "execution_count": 24,
   "id": "6649a2ca-d4a3-4723-89c2-24af10cacce7",
   "metadata": {},
   "outputs": [],
   "source": [
    "loan.business_lifetime = loan.business_lifetime.fillna(0)"
   ]
  },
  {
   "cell_type": "code",
   "execution_count": 25,
   "id": "8be816c1-7c0d-40a2-9480-f61f124b8b80",
   "metadata": {},
   "outputs": [],
   "source": [
    "loan.business_lifetime = loan.business_lifetime.astype(\"int64\")"
   ]
  },
  {
   "cell_type": "code",
   "execution_count": 26,
   "id": "e8edc54d-5903-4985-85ec-b407c4ad238e",
   "metadata": {},
   "outputs": [
    {
     "data": {
      "text/plain": [
       "0       602149\n",
       "1        63154\n",
       "2        57766\n",
       "3        28713\n",
       "4        20366\n",
       "         ...  \n",
       "223          1\n",
       "129          1\n",
       "252          1\n",
       "3100         1\n",
       "860          1\n",
       "Name: created_jobs, Length: 239, dtype: int64"
      ]
     },
     "execution_count": 26,
     "metadata": {},
     "output_type": "execute_result"
    }
   ],
   "source": [
    "loan.created_jobs.value_counts(dropna=False)"
   ]
  },
  {
   "cell_type": "code",
   "execution_count": 27,
   "id": "f8068cd9-2eeb-4090-9c32-4a5f9d12b933",
   "metadata": {},
   "outputs": [
    {
     "data": {
      "text/plain": [
       "0       412344\n",
       "1        88705\n",
       "2        76782\n",
       "3        49892\n",
       "4        39574\n",
       "         ...  \n",
       "217          1\n",
       "221          1\n",
       "342          1\n",
       "7250         1\n",
       "198          1\n",
       "Name: retained_jobs, Length: 351, dtype: int64"
      ]
     },
     "execution_count": 27,
     "metadata": {},
     "output_type": "execute_result"
    }
   ],
   "source": [
    "loan.retained_jobs.value_counts(dropna=False)"
   ]
  },
  {
   "cell_type": "code",
   "execution_count": 28,
   "id": "a3cf1ad9-ee63-46b0-9ec6-aef264cd59ed",
   "metadata": {},
   "outputs": [
    {
     "data": {
      "text/plain": [
       "1        633561\n",
       "0        184170\n",
       "78760      3345\n",
       "68020      1921\n",
       "50564      1018\n",
       "          ...  \n",
       "73200         1\n",
       "32175         1\n",
       "71680         1\n",
       "90500         1\n",
       "15930         1\n",
       "Name: is_franchise, Length: 2661, dtype: int64"
      ]
     },
     "execution_count": 28,
     "metadata": {},
     "output_type": "execute_result"
    }
   ],
   "source": [
    "loan.is_franchise.value_counts(dropna=False)"
   ]
  },
  {
   "cell_type": "code",
   "execution_count": 29,
   "id": "994ad3ec-b758-4ee0-8a66-7147faa1a537",
   "metadata": {},
   "outputs": [],
   "source": [
    "loan.loc[~loan.is_franchise.isin([1, 0]), \"is_franchise\"] = 2"
   ]
  },
  {
   "cell_type": "code",
   "execution_count": 30,
   "id": "aaa4e2f0-09b0-4872-bcd6-289b73fbe8d0",
   "metadata": {},
   "outputs": [
    {
     "data": {
      "text/plain": [
       "1    633561\n",
       "0    184170\n",
       "2     50257\n",
       "Name: is_franchise, dtype: int64"
      ]
     },
     "execution_count": 30,
     "metadata": {},
     "output_type": "execute_result"
    }
   ],
   "source": [
    "loan.is_franchise.value_counts(dropna=False)"
   ]
  },
  {
   "cell_type": "markdown",
   "id": "84ea94a4-ae47-4be7-9e7e-ee22a17b8bbc",
   "metadata": {},
   "source": [
    "0 = is NOT francise\n",
    "1 = IS francise\n",
    "2 = other / unknown"
   ]
  },
  {
   "cell_type": "code",
   "execution_count": 31,
   "id": "dd5015cd-9599-4970-8a2e-b4c05d8634e6",
   "metadata": {},
   "outputs": [],
   "source": [
    "loan = loan.drop(columns=\"is_franchise\")"
   ]
  },
  {
   "cell_type": "code",
   "execution_count": 32,
   "id": "a72fa0fb-874c-46a6-91e8-17b2d446f137",
   "metadata": {},
   "outputs": [
    {
     "data": {
      "text/plain": [
       "1    470654\n",
       "0    291991\n",
       "2    105343\n",
       "Name: location_type, dtype: int64"
      ]
     },
     "execution_count": 32,
     "metadata": {},
     "output_type": "execute_result"
    }
   ],
   "source": [
    "loan.location_type.value_counts(dropna=False)"
   ]
  },
  {
   "cell_type": "markdown",
   "id": "7daf51f2-754c-4dfa-a81d-5b7d643daa51",
   "metadata": {},
   "source": [
    "0: \"undefined\"\n",
    "1: \"urban\"\n",
    "2: \"rural\""
   ]
  },
  {
   "cell_type": "code",
   "execution_count": 33,
   "id": "34596eac-a264-468d-92c6-03079b795349",
   "metadata": {},
   "outputs": [],
   "source": [
    "loan = loan.drop(columns=\"location_type\")"
   ]
  },
  {
   "cell_type": "code",
   "execution_count": 34,
   "id": "4d25c5c6-8c25-4a27-bfc8-e8e33c1f055b",
   "metadata": {},
   "outputs": [
    {
     "data": {
      "text/plain": [
       "N      389141\n",
       "0      257602\n",
       "Y      201368\n",
       "T       15284\n",
       "NaN      4528\n",
       "1          23\n",
       "R          14\n",
       "`          11\n",
       "2           6\n",
       "C           2\n",
       "5           1\n",
       "-           1\n",
       "4           1\n",
       ".           1\n",
       "3           1\n",
       "A           1\n",
       "7           1\n",
       ",           1\n",
       "Q           1\n",
       "Name: is_revolving_credit, dtype: int64"
      ]
     },
     "execution_count": 34,
     "metadata": {},
     "output_type": "execute_result"
    }
   ],
   "source": [
    "loan.is_revolving_credit.value_counts(dropna=False)"
   ]
  },
  {
   "cell_type": "code",
   "execution_count": 35,
   "id": "f93e6163-a9da-4425-9088-98c031ece59e",
   "metadata": {},
   "outputs": [],
   "source": [
    "loan.loc[~loan.is_revolving_credit.isin([\"N\", \"Y\"]), \"is_revolving_credit\"] = 0"
   ]
  },
  {
   "cell_type": "code",
   "execution_count": 36,
   "id": "09499e4b-30fb-44bb-ba1c-5667b910491d",
   "metadata": {},
   "outputs": [
    {
     "data": {
      "text/plain": [
       "N    389141\n",
       "0    277479\n",
       "Y    201368\n",
       "Name: is_revolving_credit, dtype: int64"
      ]
     },
     "execution_count": 36,
     "metadata": {},
     "output_type": "execute_result"
    }
   ],
   "source": [
    "loan.is_revolving_credit.value_counts(dropna=False)"
   ]
  },
  {
   "cell_type": "markdown",
   "id": "110ca512-4147-4417-9061-1e46c19507d4",
   "metadata": {},
   "source": [
    "yes, no, 0 = unknown"
   ]
  },
  {
   "cell_type": "code",
   "execution_count": 37,
   "id": "f3f4115d-2ba8-46bd-9b26-7c69461a30e6",
   "metadata": {},
   "outputs": [],
   "source": [
    "loan = loan.drop(columns=\"is_revolving_credit\")"
   ]
  },
  {
   "cell_type": "code",
   "execution_count": 38,
   "id": "7ef5cbda-497e-4557-a716-4aea9914ac2e",
   "metadata": {},
   "outputs": [
    {
     "data": {
      "text/plain": [
       "N      751648\n",
       "Y      110333\n",
       "NaN      2582\n",
       "0        1491\n",
       "C         758\n",
       "S         603\n",
       "A         497\n",
       "R          75\n",
       "1           1\n",
       "Name: is_lowdoc, dtype: int64"
      ]
     },
     "execution_count": 38,
     "metadata": {},
     "output_type": "execute_result"
    }
   ],
   "source": [
    "loan.is_lowdoc.value_counts(dropna=False)"
   ]
  },
  {
   "cell_type": "code",
   "execution_count": 39,
   "id": "d7289784-4b36-455b-b81a-65f9d26b1d2f",
   "metadata": {},
   "outputs": [],
   "source": [
    "loan.loc[~loan.is_lowdoc.isin([\"N\", \"Y\"]), \"is_lowdoc\"] = 0"
   ]
  },
  {
   "cell_type": "code",
   "execution_count": 40,
   "id": "f7fefae7-d698-4257-9cb2-9173104c441e",
   "metadata": {},
   "outputs": [
    {
     "data": {
      "text/plain": [
       "N    751648\n",
       "Y    110333\n",
       "0      6007\n",
       "Name: is_lowdoc, dtype: int64"
      ]
     },
     "execution_count": 40,
     "metadata": {},
     "output_type": "execute_result"
    }
   ],
   "source": [
    "loan.is_lowdoc.value_counts(dropna=False)"
   ]
  },
  {
   "cell_type": "code",
   "execution_count": 41,
   "id": "7280fa37-6d12-4587-885b-f25ae03e8033",
   "metadata": {},
   "outputs": [],
   "source": [
    "loan = loan.drop(columns=\"is_lowdoc\")"
   ]
  },
  {
   "cell_type": "code",
   "execution_count": 42,
   "id": "41d20f0e-71ea-49a1-83dc-3483271e7eb5",
   "metadata": {},
   "outputs": [
    {
     "data": {
      "text/plain": [
       "P I F     716487\n",
       "CHGOFF    149588\n",
       "NaN         1913\n",
       "Name: mis_status, dtype: int64"
      ]
     },
     "execution_count": 42,
     "metadata": {},
     "output_type": "execute_result"
    }
   ],
   "source": [
    "loan.mis_status.value_counts(dropna=False)"
   ]
  },
  {
   "cell_type": "code",
   "execution_count": 43,
   "id": "96692dc1-aab2-4ca7-a0ae-26c0e25ed4fa",
   "metadata": {},
   "outputs": [
    {
     "data": {
      "text/plain": [
       "((867988, 14), (866075, 14))"
      ]
     },
     "execution_count": 43,
     "metadata": {},
     "output_type": "execute_result"
    }
   ],
   "source": [
    "loan.shape, loan.dropna(subset=[\"mis_status\"]).shape"
   ]
  },
  {
   "cell_type": "code",
   "execution_count": 44,
   "id": "af94b043-34d1-48fa-bcb0-2a6e4461f3ef",
   "metadata": {},
   "outputs": [],
   "source": [
    "loan = loan.dropna(subset=[\"mis_status\"])"
   ]
  },
  {
   "cell_type": "code",
   "execution_count": 45,
   "id": "5ad5e89f-f74c-411d-8460-5c4b2c7f053f",
   "metadata": {},
   "outputs": [
    {
     "data": {
      "text/plain": [
       "P I F     716487\n",
       "CHGOFF    149588\n",
       "Name: mis_status, dtype: int64"
      ]
     },
     "execution_count": 45,
     "metadata": {},
     "output_type": "execute_result"
    }
   ],
   "source": [
    "loan.mis_status.value_counts(dropna=False)"
   ]
  },
  {
   "cell_type": "code",
   "execution_count": 46,
   "id": "c6e7fc1b-c0bf-4729-8386-01181d8577fc",
   "metadata": {},
   "outputs": [],
   "source": [
    "loan.mis_status = loan.mis_status.replace({\n",
    "    \"P I F\": False,\n",
    "    \"CHGOFF\": True,\n",
    "})\n",
    "\n",
    "loan = loan.rename(columns = {\n",
    "    \"mis_status\": \"is_defaulted\",\n",
    "})"
   ]
  },
  {
   "cell_type": "code",
   "execution_count": 47,
   "id": "66fb1e58-b658-41f4-a99c-d0a69a0dcda8",
   "metadata": {},
   "outputs": [
    {
     "data": {
      "text/plain": [
       "False    716487\n",
       "True     149588\n",
       "Name: is_defaulted, dtype: int64"
      ]
     },
     "execution_count": 47,
     "metadata": {},
     "output_type": "execute_result"
    }
   ],
   "source": [
    "loan.is_defaulted.value_counts(dropna=False)"
   ]
  },
  {
   "cell_type": "code",
   "execution_count": 48,
   "id": "b54ee534-d5ca-42c8-b179-7fa7cb7e15dd",
   "metadata": {
    "tags": []
   },
   "outputs": [],
   "source": [
    "RECESSION_START = \"2007-12\"\n",
    "RECESSION_END = \"2009-06\"\n",
    "loan[\"is_during_recession\"] = (RECESSION_START <= loan.approval_date) & (loan.approval_date <= RECESSION_END)"
   ]
  },
  {
   "cell_type": "code",
   "execution_count": 49,
   "id": "d33e5991-6a5e-44d0-b9fa-4ad425ad2e0e",
   "metadata": {},
   "outputs": [],
   "source": [
    "loan = loan.drop(columns=[\"sba_approved\", \"gross_approved\"])"
   ]
  },
  {
   "cell_type": "code",
   "execution_count": 50,
   "id": "7a0bbf97-ea55-4a1a-85ae-eaa5effaeb74",
   "metadata": {},
   "outputs": [
    {
     "data": {
      "image/png": "[encoded data removed]",
      "text/plain": [
       "<Figure size 640x480 with 1 Axes>"
      ]
     },
     "metadata": {},
     "output_type": "display_data"
    }
   ],
   "source": [
    "proportion_of_defaults = loan.groupby(\"state\").is_defaulted.sum() / loan.groupby(\"state\").is_defaulted.count()\n",
    "\n",
    "x = proportion_of_defaults.nsmallest(5)\n",
    "plt.barh(x.index, x)\n",
    "\n",
    "x = proportion_of_defaults.nlargest(5).sort_values()\n",
    "plt.barh(x.index, x)\n",
    "\n",
    "plt.title(\"Proportion of defaulted loans by state\")\n",
    "plt.show()"
   ]
  },
  {
   "cell_type": "code",
   "execution_count": 51,
   "id": "909c8fd2-16f8-44de-a0b6-cec1db46bf50",
   "metadata": {},
   "outputs": [
    {
     "data": {
      "image/png": "[encoded data removed]",
      "text/plain": [
       "<Figure size 640x480 with 1 Axes>"
      ]
     },
     "metadata": {},
     "output_type": "display_data"
    }
   ],
   "source": [
    "INDUSTRY_SECTORS = {\n",
    "    11: \"Agriculture, forestry, fishing and hunting\",\n",
    "    21: \"Mining, quarrying, and oil and gas extraction\",\n",
    "    22: \"Utilities\",\n",
    "    23: \"Construction\",\n",
    "    31: \"Manufacturing\",\n",
    "    32: \"Manufacturing\",\n",
    "    33: \"Manufacturing\",\n",
    "    42: \"Wholesale trade\",\n",
    "    44: \"Retail trade\",\n",
    "    45: \"Retail trade\",\n",
    "    48: \"Transportation and warehousing\",\n",
    "    49: \"Transportation and warehousing\",\n",
    "    51: \"Information\",\n",
    "    52: \"Finance and insurance\",\n",
    "    53: \"Real estate and rental and leasing\",\n",
    "    54: \"Professional, scientific, and technical services\",\n",
    "    55: \"Management of companies and enterprises\",\n",
    "    56: \"Administrative and support and waste management and remediation services\",\n",
    "    61: \"Educational services\",\n",
    "    62: \"Health care and social assistance\",\n",
    "    71: \"Arts, entertainment, and recreation\",\n",
    "    72: \"Accommodation and food services\",\n",
    "    81: \"Other services (except public administration)\",\n",
    "    92: \"Public administration\",\n",
    "}\n",
    "\n",
    "proportion_of_defaults = loan.groupby(\"industry_sector\").is_defaulted.sum() / loan.groupby(\"industry_sector\").is_defaulted.count()\n",
    "proportion_of_defaults.index = [INDUSTRY_SECTORS.get(i, \"undefined\") for i in proportion_of_defaults.index]\n",
    "\n",
    "y = proportion_of_defaults.nsmallest(5)\n",
    "plt.barh(y.index, y.values)\n",
    "\n",
    "y = proportion_of_defaults.nlargest(5).sort_values()\n",
    "plt.barh(y.index, y.values)\n",
    "\n",
    "plt.title(\"Proportion of defaulted loans by industry_sector\")\n",
    "plt.show()"
   ]
  },
  {
   "cell_type": "code",
   "execution_count": 52,
   "id": "f33bdf91-f46b-4d21-9ddc-4413a10e1493",
   "metadata": {},
   "outputs": [],
   "source": [
    "def plot_proportion(series):\n",
    "    plt.pie(\n",
    "        x=series.value_counts(),\n",
    "        labels=series.value_counts().index,\n",
    "        autopct=\"%.1f\",\n",
    "    )\n",
    "    plt.show()"
   ]
  },
  {
   "cell_type": "code",
   "execution_count": 53,
   "id": "debd5c81-d23b-4df7-b0d7-2bf628d3a97a",
   "metadata": {},
   "outputs": [
    {
     "data": {
      "text/html": [
       "<div>\n",
       "<style scoped>\n",
       "    .dataframe tbody tr th:only-of-type {\n",
       "        vertical-align: middle;\n",
       "    }\n",
       "\n",
       "    .dataframe tbody tr th {\n",
       "        vertical-align: top;\n",
       "    }\n",
       "\n",
       "    .dataframe thead th {\n",
       "        text-align: right;\n",
       "    }\n",
       "</style>\n",
       "<table border=\"1\" class=\"dataframe\">\n",
       "  <thead>\n",
       "    <tr style=\"text-align: right;\">\n",
       "      <th></th>\n",
       "      <th>state</th>\n",
       "      <th>approval_date</th>\n",
       "      <th>term</th>\n",
       "      <th>employees_count</th>\n",
       "      <th>business_lifetime</th>\n",
       "      <th>created_jobs</th>\n",
       "      <th>retained_jobs</th>\n",
       "      <th>disbursed_аmount</th>\n",
       "      <th>is_defaulted</th>\n",
       "      <th>industry_sector</th>\n",
       "      <th>sba_proportion</th>\n",
       "      <th>is_backed_by_realestate</th>\n",
       "      <th>is_during_recession</th>\n",
       "    </tr>\n",
       "  </thead>\n",
       "  <tbody>\n",
       "    <tr>\n",
       "      <th>0</th>\n",
       "      <td>IN</td>\n",
       "      <td>1997-02-28</td>\n",
       "      <td>84</td>\n",
       "      <td>4</td>\n",
       "      <td>2</td>\n",
       "      <td>0</td>\n",
       "      <td>0</td>\n",
       "      <td>60000.0</td>\n",
       "      <td>False</td>\n",
       "      <td>45</td>\n",
       "      <td>0.80</td>\n",
       "      <td>False</td>\n",
       "      <td>False</td>\n",
       "    </tr>\n",
       "    <tr>\n",
       "      <th>1</th>\n",
       "      <td>IN</td>\n",
       "      <td>1997-02-28</td>\n",
       "      <td>60</td>\n",
       "      <td>2</td>\n",
       "      <td>2</td>\n",
       "      <td>0</td>\n",
       "      <td>0</td>\n",
       "      <td>40000.0</td>\n",
       "      <td>False</td>\n",
       "      <td>72</td>\n",
       "      <td>0.80</td>\n",
       "      <td>False</td>\n",
       "      <td>False</td>\n",
       "    </tr>\n",
       "    <tr>\n",
       "      <th>2</th>\n",
       "      <td>IN</td>\n",
       "      <td>1997-02-28</td>\n",
       "      <td>180</td>\n",
       "      <td>7</td>\n",
       "      <td>1</td>\n",
       "      <td>0</td>\n",
       "      <td>0</td>\n",
       "      <td>287000.0</td>\n",
       "      <td>False</td>\n",
       "      <td>62</td>\n",
       "      <td>0.75</td>\n",
       "      <td>False</td>\n",
       "      <td>False</td>\n",
       "    </tr>\n",
       "    <tr>\n",
       "      <th>3</th>\n",
       "      <td>OK</td>\n",
       "      <td>1997-02-28</td>\n",
       "      <td>60</td>\n",
       "      <td>2</td>\n",
       "      <td>1</td>\n",
       "      <td>0</td>\n",
       "      <td>0</td>\n",
       "      <td>35000.0</td>\n",
       "      <td>False</td>\n",
       "      <td>0</td>\n",
       "      <td>0.80</td>\n",
       "      <td>False</td>\n",
       "      <td>False</td>\n",
       "    </tr>\n",
       "    <tr>\n",
       "      <th>4</th>\n",
       "      <td>FL</td>\n",
       "      <td>1997-02-28</td>\n",
       "      <td>240</td>\n",
       "      <td>14</td>\n",
       "      <td>1</td>\n",
       "      <td>7</td>\n",
       "      <td>7</td>\n",
       "      <td>229000.0</td>\n",
       "      <td>False</td>\n",
       "      <td>0</td>\n",
       "      <td>1.00</td>\n",
       "      <td>True</td>\n",
       "      <td>False</td>\n",
       "    </tr>\n",
       "  </tbody>\n",
       "</table>\n",
       "</div>"
      ],
      "text/plain": [
       "  state approval_date  term  employees_count  business_lifetime  created_jobs  \\\n",
       "0    IN    1997-02-28    84                4                  2             0   \n",
       "1    IN    1997-02-28    60                2                  2             0   \n",
       "2    IN    1997-02-28   180                7                  1             0   \n",
       "3    OK    1997-02-28    60                2                  1             0   \n",
       "4    FL    1997-02-28   240               14                  1             7   \n",
       "\n",
       "   retained_jobs  disbursed_аmount  is_defaulted  industry_sector  \\\n",
       "0              0           60000.0         False               45   \n",
       "1              0           40000.0         False               72   \n",
       "2              0          287000.0         False               62   \n",
       "3              0           35000.0         False                0   \n",
       "4              7          229000.0         False                0   \n",
       "\n",
       "   sba_proportion  is_backed_by_realestate  is_during_recession  \n",
       "0            0.80                    False                False  \n",
       "1            0.80                    False                False  \n",
       "2            0.75                    False                False  \n",
       "3            0.80                    False                False  \n",
       "4            1.00                     True                False  "
      ]
     },
     "execution_count": 53,
     "metadata": {},
     "output_type": "execute_result"
    }
   ],
   "source": [
    "loan.head()"
   ]
  },
  {
   "cell_type": "code",
   "execution_count": 54,
   "id": "098757a5-a42b-43be-9a6b-e00f95fd0be5",
   "metadata": {},
   "outputs": [],
   "source": [
    "loan[\"approval_date_month\"] = loan.approval_date.dt.month"
   ]
  },
  {
   "cell_type": "code",
   "execution_count": 55,
   "id": "18727545-7ce5-4d42-9b92-20bf696bc028",
   "metadata": {},
   "outputs": [],
   "source": [
    "loan = loan.drop(columns=[\"approval_date\"])"
   ]
  },
  {
   "cell_type": "code",
   "execution_count": 56,
   "id": "86076de2-abbe-410a-8676-a2aed3758692",
   "metadata": {},
   "outputs": [
    {
     "data": {
      "text/plain": [
       "['state',\n",
       " 'term',\n",
       " 'employees_count',\n",
       " 'business_lifetime',\n",
       " 'created_jobs',\n",
       " 'retained_jobs',\n",
       " 'disbursed_аmount',\n",
       " 'is_defaulted',\n",
       " 'industry_sector',\n",
       " 'sba_proportion',\n",
       " 'is_backed_by_realestate',\n",
       " 'is_during_recession',\n",
       " 'approval_date_month']"
      ]
     },
     "execution_count": 56,
     "metadata": {},
     "output_type": "execute_result"
    }
   ],
   "source": [
    "list(loan.columns)"
   ]
  },
  {
   "cell_type": "code",
   "execution_count": 57,
   "id": "4ae5da87-9829-4026-8bd2-c30b78dbcc25",
   "metadata": {},
   "outputs": [],
   "source": [
    "loan = loan[[\n",
    "    'state',\n",
    "    'term',\n",
    "    'employees_count',\n",
    "    'business_lifetime',\n",
    "    'created_jobs',\n",
    "    'retained_jobs',\n",
    "    'disbursed_аmount',\n",
    "    'industry_sector',\n",
    "    'sba_proportion',\n",
    "    'is_backed_by_realestate',\n",
    "    'is_during_recession',\n",
    "    'approval_date_month',\n",
    "    'is_defaulted',\n",
    "]]"
   ]
  },
  {
   "cell_type": "code",
   "execution_count": 58,
   "id": "f3ca00ce-5eb3-4d40-8cf7-46bdde66054c",
   "metadata": {},
   "outputs": [
    {
     "data": {
      "text/plain": [
       "state                       object\n",
       "term                         int64\n",
       "employees_count              int64\n",
       "business_lifetime            int64\n",
       "created_jobs                 int64\n",
       "retained_jobs                int64\n",
       "disbursed_аmount           float64\n",
       "industry_sector              int64\n",
       "sba_proportion             float64\n",
       "is_backed_by_realestate       bool\n",
       "is_during_recession           bool\n",
       "approval_date_month          int64\n",
       "is_defaulted                  bool\n",
       "dtype: object"
      ]
     },
     "execution_count": 58,
     "metadata": {},
     "output_type": "execute_result"
    }
   ],
   "source": [
    "loan.dtypes"
   ]
  },
  {
   "cell_type": "code",
   "execution_count": 59,
   "id": "53218d47-1ab0-481d-8518-aa53529c713f",
   "metadata": {},
   "outputs": [
    {
     "data": {
      "text/plain": [
       "state                      0\n",
       "term                       0\n",
       "employees_count            0\n",
       "business_lifetime          0\n",
       "created_jobs               0\n",
       "retained_jobs              0\n",
       "disbursed_аmount           0\n",
       "industry_sector            0\n",
       "sba_proportion             0\n",
       "is_backed_by_realestate    0\n",
       "is_during_recession        0\n",
       "approval_date_month        0\n",
       "is_defaulted               0\n",
       "dtype: int64"
      ]
     },
     "execution_count": 59,
     "metadata": {},
     "output_type": "execute_result"
    }
   ],
   "source": [
    "loan.isna().sum()"
   ]
  },
  {
   "cell_type": "markdown",
   "id": "a09abd2a-fb97-4d8b-825e-6e83f4ba3003",
   "metadata": {},
   "source": [
    "### Model"
   ]
  },
  {
   "cell_type": "code",
   "execution_count": 60,
   "id": "3c4f0c8c-7f22-4af1-aa39-3450e94d812e",
   "metadata": {},
   "outputs": [],
   "source": [
    "loan_attributes = loan.drop(columns=\"is_defaulted\")\n",
    "is_defaulted = loan.is_defaulted"
   ]
  },
  {
   "cell_type": "code",
   "execution_count": 61,
   "id": "28416bbc-22b7-440e-810a-3310d6c7e53d",
   "metadata": {},
   "outputs": [],
   "source": [
    "categorical_features = [\n",
    "    'state',\n",
    "    'business_lifetime',\n",
    "    'industry_sector',\n",
    "    'approval_date_month',\n",
    "]\n",
    "loan_attributes[categorical_features] = loan_attributes[categorical_features].astype('category')"
   ]
  },
  {
   "cell_type": "code",
   "execution_count": 62,
   "id": "0f1bfc8b-3aca-4476-b5c5-c2a6ba58aed8",
   "metadata": {},
   "outputs": [],
   "source": [
    "boolean_features = [\n",
    "    'is_backed_by_realestate',\n",
    "    'is_during_recession',\n",
    "]\n",
    "loan_attributes[boolean_features] = loan_attributes[boolean_features].astype('bool')"
   ]
  },
  {
   "cell_type": "code",
   "execution_count": 63,
   "id": "94b68bc6-f38e-4d97-a829-48bec365bbd7",
   "metadata": {
    "collapsed": true,
    "jupyter": {
     "outputs_hidden": true
    },
    "tags": []
   },
   "outputs": [
    {
     "data": {
      "text/plain": [
       "state                      category\n",
       "term                          int64\n",
       "employees_count               int64\n",
       "business_lifetime          category\n",
       "created_jobs                  int64\n",
       "retained_jobs                 int64\n",
       "disbursed_аmount            float64\n",
       "industry_sector            category\n",
       "sba_proportion              float64\n",
       "is_backed_by_realestate        bool\n",
       "is_during_recession            bool\n",
       "approval_date_month        category\n",
       "dtype: object"
      ]
     },
     "execution_count": 63,
     "metadata": {},
     "output_type": "execute_result"
    }
   ],
   "source": [
    "loan_attributes.dtypes"
   ]
  },
  {
   "cell_type": "code",
   "execution_count": 64,
   "id": "5b0834ff-4b62-4611-8e28-cd5eb2664f5c",
   "metadata": {
    "collapsed": true,
    "jupyter": {
     "outputs_hidden": true
    },
    "tags": []
   },
   "outputs": [
    {
     "data": {
      "text/html": [
       "<div>\n",
       "<style scoped>\n",
       "    .dataframe tbody tr th:only-of-type {\n",
       "        vertical-align: middle;\n",
       "    }\n",
       "\n",
       "    .dataframe tbody tr th {\n",
       "        vertical-align: top;\n",
       "    }\n",
       "\n",
       "    .dataframe thead th {\n",
       "        text-align: right;\n",
       "    }\n",
       "</style>\n",
       "<table border=\"1\" class=\"dataframe\">\n",
       "  <thead>\n",
       "    <tr style=\"text-align: right;\">\n",
       "      <th></th>\n",
       "      <th>state</th>\n",
       "      <th>business_lifetime</th>\n",
       "      <th>industry_sector</th>\n",
       "      <th>is_backed_by_realestate</th>\n",
       "      <th>is_during_recession</th>\n",
       "      <th>approval_date_month</th>\n",
       "    </tr>\n",
       "  </thead>\n",
       "  <tbody>\n",
       "    <tr>\n",
       "      <th>0</th>\n",
       "      <td>IN</td>\n",
       "      <td>2</td>\n",
       "      <td>45</td>\n",
       "      <td>False</td>\n",
       "      <td>False</td>\n",
       "      <td>2</td>\n",
       "    </tr>\n",
       "    <tr>\n",
       "      <th>1</th>\n",
       "      <td>IN</td>\n",
       "      <td>2</td>\n",
       "      <td>72</td>\n",
       "      <td>False</td>\n",
       "      <td>False</td>\n",
       "      <td>2</td>\n",
       "    </tr>\n",
       "    <tr>\n",
       "      <th>2</th>\n",
       "      <td>IN</td>\n",
       "      <td>1</td>\n",
       "      <td>62</td>\n",
       "      <td>False</td>\n",
       "      <td>False</td>\n",
       "      <td>2</td>\n",
       "    </tr>\n",
       "    <tr>\n",
       "      <th>3</th>\n",
       "      <td>OK</td>\n",
       "      <td>1</td>\n",
       "      <td>0</td>\n",
       "      <td>False</td>\n",
       "      <td>False</td>\n",
       "      <td>2</td>\n",
       "    </tr>\n",
       "    <tr>\n",
       "      <th>4</th>\n",
       "      <td>FL</td>\n",
       "      <td>1</td>\n",
       "      <td>0</td>\n",
       "      <td>True</td>\n",
       "      <td>False</td>\n",
       "      <td>2</td>\n",
       "    </tr>\n",
       "  </tbody>\n",
       "</table>\n",
       "</div>"
      ],
      "text/plain": [
       "  state business_lifetime industry_sector  is_backed_by_realestate  \\\n",
       "0    IN                 2              45                    False   \n",
       "1    IN                 2              72                    False   \n",
       "2    IN                 1              62                    False   \n",
       "3    OK                 1               0                    False   \n",
       "4    FL                 1               0                     True   \n",
       "\n",
       "   is_during_recession approval_date_month  \n",
       "0                False                   2  \n",
       "1                False                   2  \n",
       "2                False                   2  \n",
       "3                False                   2  \n",
       "4                False                   2  "
      ]
     },
     "execution_count": 64,
     "metadata": {},
     "output_type": "execute_result"
    }
   ],
   "source": [
    "loan_attributes.select_dtypes([\"category\", \"bool\"]).head()"
   ]
  },
  {
   "cell_type": "code",
   "execution_count": 65,
   "id": "fa2aad79-6c56-4a18-9e19-b4961bba7780",
   "metadata": {
    "collapsed": true,
    "jupyter": {
     "outputs_hidden": true
    },
    "tags": []
   },
   "outputs": [
    {
     "name": "stdout",
     "output_type": "stream",
     "text": [
      "state \n",
      " CA    126321\n",
      "TX     67900\n",
      "NY     55696\n",
      "FL     40655\n",
      "PA     34234\n",
      "OH     31009\n",
      "IL     28631\n",
      "MA     24356\n",
      "MN     23769\n",
      "NJ     23596\n",
      "WA     22354\n",
      "GA     21218\n",
      "CO     20100\n",
      "WI     20019\n",
      "MI     19946\n",
      "MO     18992\n",
      "UT     18195\n",
      "AZ     17282\n",
      "NC     13749\n",
      "IN     13587\n",
      "MD     12997\n",
      "VA     12949\n",
      "CT     11986\n",
      "NH     11727\n",
      "IA     11062\n",
      "OR     10709\n",
      "KS     10498\n",
      "OK      9556\n",
      "LA      9265\n",
      "ID      9129\n",
      "TN      8978\n",
      "RI      8775\n",
      "MT      8251\n",
      "AL      7752\n",
      "NV      7687\n",
      "MS      7462\n",
      "KY      7241\n",
      "AR      6163\n",
      "NE      6064\n",
      "NM      5775\n",
      "ME      5711\n",
      "SC      5409\n",
      "ND      4986\n",
      "VT      4929\n",
      "SD      4109\n",
      "HI      3492\n",
      "WV      3155\n",
      "WY      2750\n",
      "AK      2157\n",
      "DE      2152\n",
      "DC      1590\n",
      "Name: state, dtype: int64\n",
      "business_lifetime \n",
      " 1    620537\n",
      "2    244434\n",
      "0      1104\n",
      "Name: business_lifetime, dtype: int64\n",
      "industry_sector \n",
      " 0     179404\n",
      "44     83255\n",
      "81     71147\n",
      "72     67389\n",
      "54     67367\n",
      "23     65673\n",
      "62     54473\n",
      "42     47724\n",
      "45     41724\n",
      "33     37318\n",
      "56     32419\n",
      "48     20165\n",
      "32     17504\n",
      "71     14470\n",
      "53     13443\n",
      "31     11546\n",
      "51     11313\n",
      "52      9467\n",
      "11      8742\n",
      "61      6389\n",
      "49      2203\n",
      "21      1808\n",
      "22       653\n",
      "55       254\n",
      "92       225\n",
      "Name: industry_sector, dtype: int64\n",
      "is_backed_by_realestate \n",
      " False    724536\n",
      "True     141539\n",
      "Name: is_backed_by_realestate, dtype: int64\n",
      "is_during_recession \n",
      " False    824106\n",
      "True      41969\n",
      "Name: is_during_recession, dtype: int64\n",
      "approval_date_month \n",
      " 3     80777\n",
      "9     80189\n",
      "4     77640\n",
      "8     76118\n",
      "6     75762\n",
      "5     74582\n",
      "7     73757\n",
      "12    66979\n",
      "10    66427\n",
      "11    65046\n",
      "1     64625\n",
      "2     64173\n",
      "Name: approval_date_month, dtype: int64\n"
     ]
    }
   ],
   "source": [
    "for c in loan_attributes.columns:\n",
    "    if loan_attributes[c].dtype in [\"category\", \"bool\"]:\n",
    "        print(c, \"\\n\", loan_attributes[c].value_counts())"
   ]
  },
  {
   "cell_type": "code",
   "execution_count": 66,
   "id": "f5980f61-f525-45b6-8f15-7bf1b110ef91",
   "metadata": {},
   "outputs": [
    {
     "data": {
      "text/plain": [
       "<866075x95 sparse matrix of type '<class 'numpy.float64'>'\n",
       "\twith 5196450 stored elements in Compressed Sparse Row format>"
      ]
     },
     "execution_count": 66,
     "metadata": {},
     "output_type": "execute_result"
    }
   ],
   "source": [
    "encoder = OneHotEncoder()\n",
    "encoder.fit_transform(loan_attributes.select_dtypes([\"category\", \"bool\"]))"
   ]
  },
  {
   "cell_type": "code",
   "execution_count": 67,
   "id": "a9ca981b-33dd-4db1-aa75-7215b3f359df",
   "metadata": {},
   "outputs": [],
   "source": [
    "scaler = MinMaxScaler()"
   ]
  },
  {
   "cell_type": "code",
   "execution_count": 68,
   "id": "74f1463b-baae-40b8-821b-b7e3a9cf3f38",
   "metadata": {},
   "outputs": [],
   "source": [
    "column_transformer = ColumnTransformer([\n",
    "    (\"categorical\", encoder, loan_attributes.select_dtypes([\"category\", \"bool\"]).columns),\n",
    "    (\"numeric\", scaler, loan_attributes.select_dtypes([\"int64\", \"float64\"]).columns),\n",
    "])"
   ]
  },
  {
   "cell_type": "code",
   "execution_count": 75,
   "id": "bf9ccf40-d7e4-4a83-a29b-22aed598734a",
   "metadata": {},
   "outputs": [],
   "source": [
    "loan_attributes_transformed = column_transformer.fit_transform(loan_attributes)"
   ]
  },
  {
   "cell_type": "code",
   "execution_count": 70,
   "id": "508e6696-e6b8-4b5d-8751-9fb943a36c07",
   "metadata": {
    "collapsed": true,
    "jupyter": {
     "outputs_hidden": true
    },
    "tags": []
   },
   "outputs": [
    {
     "data": {
      "text/plain": [
       "state                      category\n",
       "term                          int64\n",
       "employees_count               int64\n",
       "business_lifetime          category\n",
       "created_jobs                  int64\n",
       "retained_jobs                 int64\n",
       "disbursed_аmount            float64\n",
       "industry_sector            category\n",
       "sba_proportion              float64\n",
       "is_backed_by_realestate        bool\n",
       "is_during_recession            bool\n",
       "approval_date_month        category\n",
       "dtype: object"
      ]
     },
     "execution_count": 70,
     "metadata": {},
     "output_type": "execute_result"
    }
   ],
   "source": [
    "loan_attributes.dtypes"
   ]
  },
  {
   "cell_type": "code",
   "execution_count": 77,
   "id": "262ea426-afb7-4f7a-b394-d6e67c0c5d56",
   "metadata": {},
   "outputs": [
    {
     "data": {
      "text/plain": [
       "(866075, 101)"
      ]
     },
     "execution_count": 77,
     "metadata": {},
     "output_type": "execute_result"
    }
   ],
   "source": [
    "loan_attributes_transformed.shape"
   ]
  },
  {
   "cell_type": "code",
   "execution_count": null,
   "id": "4bdcceaf-7bc3-4205-8609-468152b11aa6",
   "metadata": {},
   "outputs": [
    {
     "data": {
      "text/plain": [
       "False    716487\n",
       "True     149588\n",
       "Name: is_defaulted, dtype: int64"
      ]
     },
     "execution_count": 79,
     "metadata": {},
     "output_type": "execute_result"
    }
   ],
   "source": [
    "is_defaulted.value_counts(dropna=False)"
   ]
  },
  {
   "cell_type": "code",
   "execution_count": 80,
   "id": "d5440dc9-414f-4afe-89a7-a40947ca4046",
   "metadata": {},
   "outputs": [],
   "source": [
    "X_train, X_test, y_train, y_test = train_test_split(\n",
    "    loan_attributes_transformed, is_defaulted, stratify=is_defaulted, test_size=0.1)"
   ]
  },
  {
   "cell_type": "code",
   "execution_count": 86,
   "id": "08202ad2-66ac-4cd1-b2f4-bafa51e51afa",
   "metadata": {},
   "outputs": [],
   "source": [
    "logreg = LogisticRegression(C=10)"
   ]
  },
  {
   "cell_type": "code",
   "execution_count": 87,
   "id": "864495db-f5aa-4b0d-a8c7-dbaaebc3bb9c",
   "metadata": {},
   "outputs": [
    {
     "name": "stderr",
     "output_type": "stream",
     "text": [
      "C:\\Users\\a1056968\\Anaconda3\\envs\\machine_learning\\lib\\site-packages\\sklearn\\linear_model\\_logistic.py:444: ConvergenceWarning: lbfgs failed to converge (status=1):\n",
      "STOP: TOTAL NO. of ITERATIONS REACHED LIMIT.\n",
      "\n",
      "Increase the number of iterations (max_iter) or scale the data as shown in:\n",
      "    https://scikit-learn.org/stable/modules/preprocessing.html\n",
      "Please also refer to the documentation for alternative solver options:\n",
      "    https://scikit-learn.org/stable/modules/linear_model.html#logistic-regression\n",
      "  n_iter_i = _check_optimize_result(\n"
     ]
    },
    {
     "data": {
      "text/html": [
       "<style>#sk-container-id-2 {color: black;background-color: white;}#sk-container-id-2 pre{padding: 0;}#sk-container-id-2 div.sk-toggleable {background-color: white;}#sk-container-id-2 label.sk-toggleable__label {cursor: pointer;display: block;width: 100%;margin-bottom: 0;padding: 0.3em;box-sizing: border-box;text-align: center;}#sk-container-id-2 label.sk-toggleable__label-arrow:before {content: \"▸\";float: left;margin-right: 0.25em;color: #696969;}#sk-container-id-2 label.sk-toggleable__label-arrow:hover:before {color: black;}#sk-container-id-2 div.sk-estimator:hover label.sk-toggleable__label-arrow:before {color: black;}#sk-container-id-2 div.sk-toggleable__content {max-height: 0;max-width: 0;overflow: hidden;text-align: left;background-color: #f0f8ff;}#sk-container-id-2 div.sk-toggleable__content pre {margin: 0.2em;color: black;border-radius: 0.25em;background-color: #f0f8ff;}#sk-container-id-2 input.sk-toggleable__control:checked~div.sk-toggleable__content {max-height: 200px;max-width: 100%;overflow: auto;}#sk-container-id-2 input.sk-toggleable__control:checked~label.sk-toggleable__label-arrow:before {content: \"▾\";}#sk-container-id-2 div.sk-estimator input.sk-toggleable__control:checked~label.sk-toggleable__label {background-color: #d4ebff;}#sk-container-id-2 div.sk-label input.sk-toggleable__control:checked~label.sk-toggleable__label {background-color: #d4ebff;}#sk-container-id-2 input.sk-hidden--visually {border: 0;clip: rect(1px 1px 1px 1px);clip: rect(1px, 1px, 1px, 1px);height: 1px;margin: -1px;overflow: hidden;padding: 0;position: absolute;width: 1px;}#sk-container-id-2 div.sk-estimator {font-family: monospace;background-color: #f0f8ff;border: 1px dotted black;border-radius: 0.25em;box-sizing: border-box;margin-bottom: 0.5em;}#sk-container-id-2 div.sk-estimator:hover {background-color: #d4ebff;}#sk-container-id-2 div.sk-parallel-item::after {content: \"\";width: 100%;border-bottom: 1px solid gray;flex-grow: 1;}#sk-container-id-2 div.sk-label:hover label.sk-toggleable__label {background-color: #d4ebff;}#sk-container-id-2 div.sk-serial::before {content: \"\";position: absolute;border-left: 1px solid gray;box-sizing: border-box;top: 0;bottom: 0;left: 50%;z-index: 0;}#sk-container-id-2 div.sk-serial {display: flex;flex-direction: column;align-items: center;background-color: white;padding-right: 0.2em;padding-left: 0.2em;position: relative;}#sk-container-id-2 div.sk-item {position: relative;z-index: 1;}#sk-container-id-2 div.sk-parallel {display: flex;align-items: stretch;justify-content: center;background-color: white;position: relative;}#sk-container-id-2 div.sk-item::before, #sk-container-id-2 div.sk-parallel-item::before {content: \"\";position: absolute;border-left: 1px solid gray;box-sizing: border-box;top: 0;bottom: 0;left: 50%;z-index: -1;}#sk-container-id-2 div.sk-parallel-item {display: flex;flex-direction: column;z-index: 1;position: relative;background-color: white;}#sk-container-id-2 div.sk-parallel-item:first-child::after {align-self: flex-end;width: 50%;}#sk-container-id-2 div.sk-parallel-item:last-child::after {align-self: flex-start;width: 50%;}#sk-container-id-2 div.sk-parallel-item:only-child::after {width: 0;}#sk-container-id-2 div.sk-dashed-wrapped {border: 1px dashed gray;margin: 0 0.4em 0.5em 0.4em;box-sizing: border-box;padding-bottom: 0.4em;background-color: white;}#sk-container-id-2 div.sk-label label {font-family: monospace;font-weight: bold;display: inline-block;line-height: 1.2em;}#sk-container-id-2 div.sk-label-container {text-align: center;}#sk-container-id-2 div.sk-container {/* jupyter's `normalize.less` sets `[hidden] { display: none; }` but bootstrap.min.css set `[hidden] { display: none !important; }` so we also need the `!important` here to be able to override the default hidden behavior on the sphinx rendered scikit-learn.org. See: https://github.com/scikit-learn/scikit-learn/issues/21755 */display: inline-block !important;position: relative;}#sk-container-id-2 div.sk-text-repr-fallback {display: none;}</style><div id=\"sk-container-id-2\" class=\"sk-top-container\"><div class=\"sk-text-repr-fallback\"><pre>LogisticRegression(C=10)</pre><b>In a Jupyter environment, please rerun this cell to show the HTML representation or trust the notebook. <br />On GitHub, the HTML representation is unable to render, please try loading this page with nbviewer.org.</b></div><div class=\"sk-container\" hidden><div class=\"sk-item\"><div class=\"sk-estimator sk-toggleable\"><input class=\"sk-toggleable__control sk-hidden--visually\" id=\"sk-estimator-id-2\" type=\"checkbox\" checked><label for=\"sk-estimator-id-2\" class=\"sk-toggleable__label sk-toggleable__label-arrow\">LogisticRegression</label><div class=\"sk-toggleable__content\"><pre>LogisticRegression(C=10)</pre></div></div></div></div></div>"
      ],
      "text/plain": [
       "LogisticRegression(C=10)"
      ]
     },
     "execution_count": 87,
     "metadata": {},
     "output_type": "execute_result"
    }
   ],
   "source": [
    "logreg.fit(X_train, y_train)"
   ]
  },
  {
   "cell_type": "code",
   "execution_count": 88,
   "id": "ce7b74e3-0420-4ebc-ad42-39490f9c4ed6",
   "metadata": {},
   "outputs": [
    {
     "data": {
      "text/plain": [
       "0.4142708306863518"
      ]
     },
     "execution_count": 88,
     "metadata": {},
     "output_type": "execute_result"
    }
   ],
   "source": [
    "y_true = y_train\n",
    "y_pred = logreg.predict(X_train)\n",
    "f1_score(y_true=y_true, y_pred=y_pred)"
   ]
  },
  {
   "cell_type": "code",
   "execution_count": 89,
   "id": "b7b7cfbb-faf6-4cc7-b8a3-9dfd2ea2d17b",
   "metadata": {},
   "outputs": [
    {
     "data": {
      "text/plain": [
       "0.4155939012142792"
      ]
     },
     "execution_count": 89,
     "metadata": {},
     "output_type": "execute_result"
    }
   ],
   "source": [
    "y_true = y_test\n",
    "y_pred = logreg.predict(X_test)\n",
    "f1_score(y_true=y_true, y_pred=y_pred)"
   ]
  },
  {
   "cell_type": "code",
   "execution_count": 90,
   "id": "a84565dc-b360-4a6d-8808-00237ea08bd4",
   "metadata": {},
   "outputs": [],
   "source": [
    "tree= DecisionTreeClassifier()"
   ]
  },
  {
   "cell_type": "code",
   "execution_count": 91,
   "id": "2a9cee55-b001-4f26-832c-2f85007a8a95",
   "metadata": {},
   "outputs": [
    {
     "ename": "KeyboardInterrupt",
     "evalue": "",
     "output_type": "error",
     "traceback": [
      "\u001b[1;31m---------------------------------------------------------------------------\u001b[0m",
      "\u001b[1;31mKeyboardInterrupt\u001b[0m                         Traceback (most recent call last)",
      "\u001b[1;32m~\\AppData\\Local\\Temp\\ipykernel_14848\\2865282584.py\u001b[0m in \u001b[0;36m<module>\u001b[1;34m\u001b[0m\n\u001b[1;32m----> 1\u001b[1;33m \u001b[0mtree\u001b[0m\u001b[1;33m.\u001b[0m\u001b[0mfit\u001b[0m\u001b[1;33m(\u001b[0m\u001b[0mX_train\u001b[0m\u001b[1;33m,\u001b[0m \u001b[0my_train\u001b[0m\u001b[1;33m)\u001b[0m\u001b[1;33m\u001b[0m\u001b[1;33m\u001b[0m\u001b[0m\n\u001b[0m",
      "\u001b[1;32m~\\Anaconda3\\envs\\machine_learning\\lib\\site-packages\\sklearn\\tree\\_classes.py\u001b[0m in \u001b[0;36mfit\u001b[1;34m(self, X, y, sample_weight, check_input)\u001b[0m\n\u001b[0;32m    967\u001b[0m         \"\"\"\n\u001b[0;32m    968\u001b[0m \u001b[1;33m\u001b[0m\u001b[0m\n\u001b[1;32m--> 969\u001b[1;33m         super().fit(\n\u001b[0m\u001b[0;32m    970\u001b[0m             \u001b[0mX\u001b[0m\u001b[1;33m,\u001b[0m\u001b[1;33m\u001b[0m\u001b[1;33m\u001b[0m\u001b[0m\n\u001b[0;32m    971\u001b[0m             \u001b[0my\u001b[0m\u001b[1;33m,\u001b[0m\u001b[1;33m\u001b[0m\u001b[1;33m\u001b[0m\u001b[0m\n",
      "\u001b[1;32m~\\Anaconda3\\envs\\machine_learning\\lib\\site-packages\\sklearn\\tree\\_classes.py\u001b[0m in \u001b[0;36mfit\u001b[1;34m(self, X, y, sample_weight, check_input)\u001b[0m\n\u001b[0;32m    456\u001b[0m             )\n\u001b[0;32m    457\u001b[0m \u001b[1;33m\u001b[0m\u001b[0m\n\u001b[1;32m--> 458\u001b[1;33m         \u001b[0mbuilder\u001b[0m\u001b[1;33m.\u001b[0m\u001b[0mbuild\u001b[0m\u001b[1;33m(\u001b[0m\u001b[0mself\u001b[0m\u001b[1;33m.\u001b[0m\u001b[0mtree_\u001b[0m\u001b[1;33m,\u001b[0m \u001b[0mX\u001b[0m\u001b[1;33m,\u001b[0m \u001b[0my\u001b[0m\u001b[1;33m,\u001b[0m \u001b[0msample_weight\u001b[0m\u001b[1;33m)\u001b[0m\u001b[1;33m\u001b[0m\u001b[1;33m\u001b[0m\u001b[0m\n\u001b[0m\u001b[0;32m    459\u001b[0m \u001b[1;33m\u001b[0m\u001b[0m\n\u001b[0;32m    460\u001b[0m         \u001b[1;32mif\u001b[0m \u001b[0mself\u001b[0m\u001b[1;33m.\u001b[0m\u001b[0mn_outputs_\u001b[0m \u001b[1;33m==\u001b[0m \u001b[1;36m1\u001b[0m \u001b[1;32mand\u001b[0m \u001b[0mis_classifier\u001b[0m\u001b[1;33m(\u001b[0m\u001b[0mself\u001b[0m\u001b[1;33m)\u001b[0m\u001b[1;33m:\u001b[0m\u001b[1;33m\u001b[0m\u001b[1;33m\u001b[0m\u001b[0m\n",
      "\u001b[1;31mKeyboardInterrupt\u001b[0m: "
     ]
    }
   ],
   "source": [
    "tree.fit(X_train, y_train)"
   ]
  },
  {
   "cell_type": "code",
   "execution_count": null,
   "id": "90a70943-5b65-4caf-8c19-ad970156b553",
   "metadata": {},
   "outputs": [],
   "source": [
    "y_true = y_train\n",
    "y_pred = logreg.predict(X_train)\n",
    "f1_score(y_true=y_true, y_pred=y_pred)"
   ]
  }
 ],
 "metadata": {
  "kernelspec": {
   "display_name": "Python 3 (ipykernel)",
   "language": "python",
   "name": "python3"
  },
  "language_info": {
   "codemirror_mode": {
    "name": "ipython",
    "version": 3
   },
   "file_extension": ".py",
   "mimetype": "text/x-python",
   "name": "python",
   "nbconvert_exporter": "python",
   "pygments_lexer": "ipython3",
   "version": "3.9.0"
  },
  "toc-showcode": true,
  "toc-showtags": false
 },
 "nbformat": 4,
 "nbformat_minor": 5
}
