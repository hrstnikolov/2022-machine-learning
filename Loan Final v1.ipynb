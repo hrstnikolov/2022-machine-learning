{
 "cells": [
  {
   "cell_type": "code",
   "execution_count": 128,
   "id": "0a5a2f82-52ff-4260-ab5b-dce9f10a9473",
   "metadata": {},
   "outputs": [],
   "source": [
    "%matplotlib inline"
   ]
  },
  {
   "cell_type": "code",
   "execution_count": 129,
   "id": "e2803fb9-adb6-4a64-a956-9569da07a692",
   "metadata": {},
   "outputs": [],
   "source": [
    "import numpy as np\n",
    "import pandas as pd\n",
    "import matplotlib.pyplot as plt\n",
    "\n",
    "from pathlib import Path"
   ]
  },
  {
   "cell_type": "markdown",
   "id": "46f85227-0731-4810-ad9c-1004756ec9c0",
   "metadata": {
    "tags": []
   },
   "source": [
    "# Should this loan be approved or denied?"
   ]
  },
  {
   "cell_type": "markdown",
   "id": "b81fa203-ecb0-466c-bb8f-6d2e1d5299fc",
   "metadata": {},
   "source": [
    "## Abstract"
   ]
  },
  {
   "cell_type": "markdown",
   "id": "492d03be-e45b-4c0d-b411-4dd759414ae0",
   "metadata": {},
   "source": [
    "## Data"
   ]
  },
  {
   "cell_type": "code",
   "execution_count": null,
   "id": "2399003e-b35d-4ad3-b712-06f641446a82",
   "metadata": {},
   "outputs": [],
   "source": []
  }
 ],
 "metadata": {
  "kernelspec": {
   "display_name": "Python 3 (ipykernel)",
   "language": "python",
   "name": "python3"
  },
  "language_info": {
   "codemirror_mode": {
    "name": "ipython",
    "version": 3
   },
   "file_extension": ".py",
   "mimetype": "text/x-python",
   "name": "python",
   "nbconvert_exporter": "python",
   "pygments_lexer": "ipython3",
   "version": "3.9.0"
  }
 },
 "nbformat": 4,
 "nbformat_minor": 5
}
