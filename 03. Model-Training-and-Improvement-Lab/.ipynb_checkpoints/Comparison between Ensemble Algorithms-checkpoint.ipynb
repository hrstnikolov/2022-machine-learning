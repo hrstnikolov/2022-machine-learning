{
 "cells": [
  {
   "cell_type": "code",
   "execution_count": 1,
   "id": "8730fccf-b4b5-45a1-a853-254ee3c26e08",
   "metadata": {},
   "outputs": [],
   "source": [
    "%matplotlib inline"
   ]
  },
  {
   "cell_type": "code",
   "execution_count": 77,
   "id": "ee9cbc7b-cda0-46ea-a1cc-86a169f9ac17",
   "metadata": {},
   "outputs": [],
   "source": [
    "import pandas as pd\n",
    "import numpy as np\n",
    "import matplotlib.pyplot as plt\n",
    "\n",
    "from sklearn.preprocessing import MinMaxScaler\n",
    "\n",
    "from sklearn.model_selection import train_test_split\n",
    "\n",
    "from sklearn.linear_model import LogisticRegression\n",
    "from sklearn.tree import DecisionTreeClassifier\n",
    "from sklearn.ensemble import \\\n",
    "    BaggingClassifier, VotingClassifier, \\\n",
    "    AdaBoostClassifier, StackingClassifier, \\\n",
    "    RandomForestClassifier\n",
    "\n",
    "from sklearn.metrics import accuracy_score, classification_report\n",
    "\n",
    "import xgboost as xgb"
   ]
  },
  {
   "cell_type": "markdown",
   "id": "91418dfd-0ea3-479e-8a68-f14bb4adb7b8",
   "metadata": {},
   "source": [
    "# Comparison between Ensemble Algorithms"
   ]
  },
  {
   "cell_type": "markdown",
   "id": "a03ce75d-c529-45d2-b6c0-64e7cbbdd4b2",
   "metadata": {},
   "source": [
    "## Adult\n",
    "\n",
    "Prediction task is to determine whether a person makes over 50K a year.\n",
    "\n",
    "Data from [here](https://archive.ics.uci.edu/ml/datasets/adult)."
   ]
  },
  {
   "cell_type": "markdown",
   "id": "4fc0d086-bbc9-4ae4-8474-ba0f325752ec",
   "metadata": {},
   "source": [
    "### Process the data"
   ]
  },
  {
   "cell_type": "code",
   "execution_count": 55,
   "id": "e2567fab-16ff-48a9-8147-6987fbc8c9b0",
   "metadata": {},
   "outputs": [
    {
     "name": "stdout",
     "output_type": "stream",
     "text": [
      "Shape of the train and test sets for the features and target:\n",
      "(26048, 100)\n",
      "(6513, 100)\n",
      "(26048,)\n",
      "(6513,)\n"
     ]
    }
   ],
   "source": [
    "income_data = pd.read_csv(\"adult/adult.data\", header=None)\n",
    "income_data.columns = [\n",
    "    \"age\",\n",
    "    \"workclass\",\n",
    "    \"final_weight\",\n",
    "    \"education\",\n",
    "    \"education-num\",\n",
    "    \"marital-status\",\n",
    "    \"occupation\",\n",
    "    \"relationship\",\n",
    "    \"race\",\n",
    "    \"sex\",\n",
    "    \"capital_gain\",\n",
    "    \"capital_loss\",\n",
    "    \"hours_per_week\",\n",
    "    \"native_country\",\n",
    "    \"income_class\",\n",
    "]\n",
    "\n",
    "income_target = income_data.income_class\n",
    "income_target = income_target.str.strip()\n",
    "\n",
    "income_attributes = income_data.drop(columns=\"income_class\")\n",
    "income_attributes = pd.get_dummies(income_attributes, drop_first=True)\n",
    "scaler = MinMaxScaler()\n",
    "income_attributes = scaler.fit_transform(income_attributes)\n",
    "\n",
    "income_attributes_train, income_attributes_test, \\\n",
    "income_target_train, income_target_test, \\\n",
    "= train_test_split(income_attributes, income_target, train_size=0.8, test_size=0.2)\n",
    "\n",
    "print(\"Shape of the train and test sets for the features and target:\")\n",
    "for group in [income_attributes_train, income_attributes_test, income_target_train, income_target_test]:\n",
    "    print(group.shape)"
   ]
  },
  {
   "cell_type": "code",
   "execution_count": 67,
   "id": "5697bd4e-61e2-4d0c-8934-c4c3ef675827",
   "metadata": {},
   "outputs": [
    {
     "name": "stdout",
     "output_type": "stream",
     "text": [
      "Proportion of target classses:\n",
      "Training set:\t [0.76 0.24]\n",
      "Test set:\t [0.75 0.25]\n"
     ]
    }
   ],
   "source": [
    "print(\"Proportion of target classses:\")\n",
    "print(\n",
    "    \"Training set:\\t\",\n",
    "    income_target_train.value_counts(normalize=True).values.round(2)\n",
    ")\n",
    "\n",
    "print(\n",
    "    \"Test set:\\t\",\n",
    "    income_target_test.value_counts(normalize=True).values.round(2)\n",
    ")"
   ]
  },
  {
   "cell_type": "markdown",
   "id": "4730bde8-46ed-4614-818a-aa6e1ff7f245",
   "metadata": {},
   "source": [
    "### Classifier models"
   ]
  },
  {
   "cell_type": "code",
   "execution_count": 32,
   "id": "980df3ed-8bf7-4295-83a5-cd06126b24c1",
   "metadata": {},
   "outputs": [],
   "source": [
    "X_train, y_train = income_attributes_train, income_target_train\n",
    "X_test, y_test = income_attributes_test, income_target_test"
   ]
  },
  {
   "cell_type": "code",
   "execution_count": 92,
   "id": "63f8cf2b-bb88-4779-a559-eb21b699fb5d",
   "metadata": {},
   "outputs": [],
   "source": [
    "def print_model_score(model, on_training=False):\n",
    "    print(\"On test data:\")\n",
    "    print(f\"Default estimator score: {model.score(X_test, y_test):.2f}\")\n",
    "    print(f\"Accuracy:\\t\\t {accuracy_score(y_test, model.predict(X_test)):.2f}\")\n",
    "    \n",
    "    if on_training:\n",
    "        print(\"On training data:\")\n",
    "        print(f\"Default estimator score: {model.score(X_train, y_train):.2f}\")\n",
    "        print(f\"Accuracy:\\t\\t {accuracy_score(y_train, model.predict(X_train)):.2f}\")"
   ]
  },
  {
   "cell_type": "markdown",
   "id": "92684563-a2fa-4f93-8873-aeb04e39fc94",
   "metadata": {},
   "source": [
    "#### Decision tree"
   ]
  },
  {
   "cell_type": "code",
   "execution_count": 95,
   "id": "ff2c240f-f779-4f15-808b-01d819945973",
   "metadata": {},
   "outputs": [
    {
     "name": "stdout",
     "output_type": "stream",
     "text": [
      "Decision tree scores\n",
      "Depth 1\n",
      "On test data:\n",
      "Default estimator score: 0.76\n",
      "Accuracy:\t\t 0.76\n",
      "\n",
      "Depth 2\n",
      "On test data:\n",
      "Default estimator score: 0.83\n",
      "Accuracy:\t\t 0.83\n",
      "\n",
      "Depth 4\n",
      "On test data:\n",
      "Default estimator score: 0.85\n",
      "Accuracy:\t\t 0.85\n",
      "\n",
      "Depth 8\n",
      "On test data:\n",
      "Default estimator score: 0.86\n",
      "Accuracy:\t\t 0.86\n"
     ]
    }
   ],
   "source": [
    "print(\"Decision tree scores\")\n",
    "\n",
    "print(\"Depth 1\")\n",
    "tree_depth1 = DecisionTreeClassifier(max_depth=1)\n",
    "tree_depth1.fit(X_train, y_train)\n",
    "print_model_score(tree_depth1)\n",
    "\n",
    "print(\"\\nDepth 2\")\n",
    "tree_depth2 = DecisionTreeClassifier(max_depth=2)\n",
    "tree_depth2.fit(X_train, y_train)\n",
    "print_model_score(tree_depth2)\n",
    "\n",
    "print(\"\\nDepth 4\")\n",
    "tree_depth4 = DecisionTreeClassifier(max_depth=4)\n",
    "tree_depth4.fit(X_train, y_train)\n",
    "print_model_score(tree_depth4)\n",
    "\n",
    "print(\"\\nDepth 8\")\n",
    "tree_depth8 = DecisionTreeClassifier(max_depth=8)\n",
    "tree_depth8.fit(X_train, y_train)\n",
    "print_model_score(tree_depth8)"
   ]
  },
  {
   "cell_type": "code",
   "execution_count": 90,
   "id": "ac7a5eac-7698-473b-a2ed-7cd769b106a9",
   "metadata": {},
   "outputs": [
    {
     "name": "stdout",
     "output_type": "stream",
     "text": [
      "Tree, max depth=1 \n",
      "               precision    recall  f1-score   support\n",
      "\n",
      "       <=50K       0.76      1.00      0.86      4957\n",
      "        >50K       0.00      0.00      0.00      1556\n",
      "\n",
      "    accuracy                           0.76      6513\n",
      "   macro avg       0.38      0.50      0.43      6513\n",
      "weighted avg       0.58      0.76      0.66      6513\n",
      " \n",
      "\n",
      "Tree, max depth=2 \n",
      "               precision    recall  f1-score   support\n",
      "\n",
      "       <=50K       0.85      0.95      0.89      4957\n",
      "        >50K       0.73      0.45      0.56      1556\n",
      "\n",
      "    accuracy                           0.83      6513\n",
      "   macro avg       0.79      0.70      0.73      6513\n",
      "weighted avg       0.82      0.83      0.81      6513\n",
      " \n",
      "\n",
      "Tree, max depth=4 \n",
      "               precision    recall  f1-score   support\n",
      "\n",
      "       <=50K       0.86      0.95      0.90      4957\n",
      "        >50K       0.76      0.53      0.62      1556\n",
      "\n",
      "    accuracy                           0.85      6513\n",
      "   macro avg       0.81      0.74      0.76      6513\n",
      "weighted avg       0.84      0.85      0.84      6513\n",
      " \n",
      "\n",
      "Tree, max depth=8 \n",
      "               precision    recall  f1-score   support\n",
      "\n",
      "       <=50K       0.87      0.96      0.91      4957\n",
      "        >50K       0.80      0.55      0.65      1556\n",
      "\n",
      "    accuracy                           0.86      6513\n",
      "   macro avg       0.84      0.75      0.78      6513\n",
      "weighted avg       0.85      0.86      0.85      6513\n",
      " \n",
      "\n"
     ]
    }
   ],
   "source": [
    "all_trees = [tree_depth1, tree_depth2, tree_depth4, tree_depth8]\n",
    "titles = [f\"Tree, max depth={x}\" for x in list(\"1248\")]\n",
    "\n",
    "for a_tree, title in zip(all_trees, titles):\n",
    "    report = classification_report(\n",
    "        y_test, \n",
    "        a_tree.predict(X_test),\n",
    "        zero_division=False\n",
    "    )\n",
    "    print(title, \"\\n\", report, \"\\n\")"
   ]
  },
  {
   "cell_type": "markdown",
   "id": "1cab7958-41d8-4620-a8b7-97d9f56d63b8",
   "metadata": {},
   "source": [
    "#### Random forest"
   ]
  },
  {
   "cell_type": "code",
   "execution_count": 103,
   "id": "bdbce9b5-d0c6-416d-8b44-18abe37fbd7d",
   "metadata": {},
   "outputs": [
    {
     "data": {
      "text/html": [
       "<style>#sk-container-id-8 {color: black;background-color: white;}#sk-container-id-8 pre{padding: 0;}#sk-container-id-8 div.sk-toggleable {background-color: white;}#sk-container-id-8 label.sk-toggleable__label {cursor: pointer;display: block;width: 100%;margin-bottom: 0;padding: 0.3em;box-sizing: border-box;text-align: center;}#sk-container-id-8 label.sk-toggleable__label-arrow:before {content: \"▸\";float: left;margin-right: 0.25em;color: #696969;}#sk-container-id-8 label.sk-toggleable__label-arrow:hover:before {color: black;}#sk-container-id-8 div.sk-estimator:hover label.sk-toggleable__label-arrow:before {color: black;}#sk-container-id-8 div.sk-toggleable__content {max-height: 0;max-width: 0;overflow: hidden;text-align: left;background-color: #f0f8ff;}#sk-container-id-8 div.sk-toggleable__content pre {margin: 0.2em;color: black;border-radius: 0.25em;background-color: #f0f8ff;}#sk-container-id-8 input.sk-toggleable__control:checked~div.sk-toggleable__content {max-height: 200px;max-width: 100%;overflow: auto;}#sk-container-id-8 input.sk-toggleable__control:checked~label.sk-toggleable__label-arrow:before {content: \"▾\";}#sk-container-id-8 div.sk-estimator input.sk-toggleable__control:checked~label.sk-toggleable__label {background-color: #d4ebff;}#sk-container-id-8 div.sk-label input.sk-toggleable__control:checked~label.sk-toggleable__label {background-color: #d4ebff;}#sk-container-id-8 input.sk-hidden--visually {border: 0;clip: rect(1px 1px 1px 1px);clip: rect(1px, 1px, 1px, 1px);height: 1px;margin: -1px;overflow: hidden;padding: 0;position: absolute;width: 1px;}#sk-container-id-8 div.sk-estimator {font-family: monospace;background-color: #f0f8ff;border: 1px dotted black;border-radius: 0.25em;box-sizing: border-box;margin-bottom: 0.5em;}#sk-container-id-8 div.sk-estimator:hover {background-color: #d4ebff;}#sk-container-id-8 div.sk-parallel-item::after {content: \"\";width: 100%;border-bottom: 1px solid gray;flex-grow: 1;}#sk-container-id-8 div.sk-label:hover label.sk-toggleable__label {background-color: #d4ebff;}#sk-container-id-8 div.sk-serial::before {content: \"\";position: absolute;border-left: 1px solid gray;box-sizing: border-box;top: 0;bottom: 0;left: 50%;z-index: 0;}#sk-container-id-8 div.sk-serial {display: flex;flex-direction: column;align-items: center;background-color: white;padding-right: 0.2em;padding-left: 0.2em;position: relative;}#sk-container-id-8 div.sk-item {position: relative;z-index: 1;}#sk-container-id-8 div.sk-parallel {display: flex;align-items: stretch;justify-content: center;background-color: white;position: relative;}#sk-container-id-8 div.sk-item::before, #sk-container-id-8 div.sk-parallel-item::before {content: \"\";position: absolute;border-left: 1px solid gray;box-sizing: border-box;top: 0;bottom: 0;left: 50%;z-index: -1;}#sk-container-id-8 div.sk-parallel-item {display: flex;flex-direction: column;z-index: 1;position: relative;background-color: white;}#sk-container-id-8 div.sk-parallel-item:first-child::after {align-self: flex-end;width: 50%;}#sk-container-id-8 div.sk-parallel-item:last-child::after {align-self: flex-start;width: 50%;}#sk-container-id-8 div.sk-parallel-item:only-child::after {width: 0;}#sk-container-id-8 div.sk-dashed-wrapped {border: 1px dashed gray;margin: 0 0.4em 0.5em 0.4em;box-sizing: border-box;padding-bottom: 0.4em;background-color: white;}#sk-container-id-8 div.sk-label label {font-family: monospace;font-weight: bold;display: inline-block;line-height: 1.2em;}#sk-container-id-8 div.sk-label-container {text-align: center;}#sk-container-id-8 div.sk-container {/* jupyter's `normalize.less` sets `[hidden] { display: none; }` but bootstrap.min.css set `[hidden] { display: none !important; }` so we also need the `!important` here to be able to override the default hidden behavior on the sphinx rendered scikit-learn.org. See: https://github.com/scikit-learn/scikit-learn/issues/21755 */display: inline-block !important;position: relative;}#sk-container-id-8 div.sk-text-repr-fallback {display: none;}</style><div id=\"sk-container-id-8\" class=\"sk-top-container\"><div class=\"sk-text-repr-fallback\"><pre>RandomForestClassifier(n_estimators=30)</pre><b>In a Jupyter environment, please rerun this cell to show the HTML representation or trust the notebook. <br />On GitHub, the HTML representation is unable to render, please try loading this page with nbviewer.org.</b></div><div class=\"sk-container\" hidden><div class=\"sk-item\"><div class=\"sk-estimator sk-toggleable\"><input class=\"sk-toggleable__control sk-hidden--visually\" id=\"sk-estimator-id-10\" type=\"checkbox\" checked><label for=\"sk-estimator-id-10\" class=\"sk-toggleable__label sk-toggleable__label-arrow\">RandomForestClassifier</label><div class=\"sk-toggleable__content\"><pre>RandomForestClassifier(n_estimators=30)</pre></div></div></div></div></div>"
      ],
      "text/plain": [
       "RandomForestClassifier(n_estimators=30)"
      ]
     },
     "execution_count": 103,
     "metadata": {},
     "output_type": "execute_result"
    }
   ],
   "source": [
    "forest_5 = RandomForestClassifier(n_estimators=5)\n",
    "forest_5.fit(X_train, y_train)\n",
    "\n",
    "forest_10 = RandomForestClassifier(n_estimators=10)\n",
    "forest_10.fit(X_train, y_train)\n",
    "\n",
    "forest_30 = RandomForestClassifier(n_estimators=30)\n",
    "forest_30.fit(X_train, y_train)"
   ]
  },
  {
   "cell_type": "markdown",
   "id": "9bb4ef87-d468-44bf-aafe-7b76f8c5540b",
   "metadata": {},
   "source": [
    "The random tree score is the mean accuracy on the given test data and labels."
   ]
  },
  {
   "cell_type": "code",
   "execution_count": 115,
   "id": "62e6612d-3813-4821-8b6b-7cb723745a3e",
   "metadata": {},
   "outputs": [
    {
     "name": "stdout",
     "output_type": "stream",
     "text": [
      "Score = mean accuracy\n",
      "\n",
      "Random forest, number of estimators 5: 0.838\n",
      "Random forest, number of estimators 10: 0.846\n",
      "Random forest, number of estimators 30: 0.853\n"
     ]
    }
   ],
   "source": [
    "all_forests = [forest_5, forest_10, forest_30, ]\n",
    "titles = [f\"Random forest, number of estimators {x}: \" for x in [5, 10, 30]]\n",
    "\n",
    "print(\"Score = mean accuracy\\n\")\n",
    "for a_forest, title in zip(all_forests, titles):\n",
    "    score = a_forest.score(X_test, y_test)\n",
    "    print(f\"{title}{score:.3f}\")"
   ]
  },
  {
   "cell_type": "markdown",
   "id": "ced7b9b4-3212-46bd-b484-0564eb4a72ae",
   "metadata": {},
   "source": [
    "### Comparisons"
   ]
  },
  {
   "cell_type": "code",
   "execution_count": 122,
   "id": "70344a45-a3e0-40f4-b5f7-cb961dbae9a9",
   "metadata": {},
   "outputs": [],
   "source": [
    "tree_depth2 = DecisionTreeClassifier(max_depth=2)\n",
    "tree_depth4 = DecisionTreeClassifier(max_depth=4)\n",
    "tree_depth8 = DecisionTreeClassifier(max_depth=8)"
   ]
  },
  {
   "cell_type": "markdown",
   "id": "a8de15f8-6744-4287-860f-3677817c6c0c",
   "metadata": {},
   "source": [
    "#### Bagging vs Voting"
   ]
  },
  {
   "cell_type": "code",
   "execution_count": 118,
   "id": "56658edd-a45a-44a0-9889-99f44569b2a8",
   "metadata": {
    "collapsed": true,
    "jupyter": {
     "outputs_hidden": true
    },
    "tags": []
   },
   "outputs": [
    {
     "data": {
      "text/html": [
       "<style>#sk-container-id-9 {color: black;background-color: white;}#sk-container-id-9 pre{padding: 0;}#sk-container-id-9 div.sk-toggleable {background-color: white;}#sk-container-id-9 label.sk-toggleable__label {cursor: pointer;display: block;width: 100%;margin-bottom: 0;padding: 0.3em;box-sizing: border-box;text-align: center;}#sk-container-id-9 label.sk-toggleable__label-arrow:before {content: \"▸\";float: left;margin-right: 0.25em;color: #696969;}#sk-container-id-9 label.sk-toggleable__label-arrow:hover:before {color: black;}#sk-container-id-9 div.sk-estimator:hover label.sk-toggleable__label-arrow:before {color: black;}#sk-container-id-9 div.sk-toggleable__content {max-height: 0;max-width: 0;overflow: hidden;text-align: left;background-color: #f0f8ff;}#sk-container-id-9 div.sk-toggleable__content pre {margin: 0.2em;color: black;border-radius: 0.25em;background-color: #f0f8ff;}#sk-container-id-9 input.sk-toggleable__control:checked~div.sk-toggleable__content {max-height: 200px;max-width: 100%;overflow: auto;}#sk-container-id-9 input.sk-toggleable__control:checked~label.sk-toggleable__label-arrow:before {content: \"▾\";}#sk-container-id-9 div.sk-estimator input.sk-toggleable__control:checked~label.sk-toggleable__label {background-color: #d4ebff;}#sk-container-id-9 div.sk-label input.sk-toggleable__control:checked~label.sk-toggleable__label {background-color: #d4ebff;}#sk-container-id-9 input.sk-hidden--visually {border: 0;clip: rect(1px 1px 1px 1px);clip: rect(1px, 1px, 1px, 1px);height: 1px;margin: -1px;overflow: hidden;padding: 0;position: absolute;width: 1px;}#sk-container-id-9 div.sk-estimator {font-family: monospace;background-color: #f0f8ff;border: 1px dotted black;border-radius: 0.25em;box-sizing: border-box;margin-bottom: 0.5em;}#sk-container-id-9 div.sk-estimator:hover {background-color: #d4ebff;}#sk-container-id-9 div.sk-parallel-item::after {content: \"\";width: 100%;border-bottom: 1px solid gray;flex-grow: 1;}#sk-container-id-9 div.sk-label:hover label.sk-toggleable__label {background-color: #d4ebff;}#sk-container-id-9 div.sk-serial::before {content: \"\";position: absolute;border-left: 1px solid gray;box-sizing: border-box;top: 0;bottom: 0;left: 50%;z-index: 0;}#sk-container-id-9 div.sk-serial {display: flex;flex-direction: column;align-items: center;background-color: white;padding-right: 0.2em;padding-left: 0.2em;position: relative;}#sk-container-id-9 div.sk-item {position: relative;z-index: 1;}#sk-container-id-9 div.sk-parallel {display: flex;align-items: stretch;justify-content: center;background-color: white;position: relative;}#sk-container-id-9 div.sk-item::before, #sk-container-id-9 div.sk-parallel-item::before {content: \"\";position: absolute;border-left: 1px solid gray;box-sizing: border-box;top: 0;bottom: 0;left: 50%;z-index: -1;}#sk-container-id-9 div.sk-parallel-item {display: flex;flex-direction: column;z-index: 1;position: relative;background-color: white;}#sk-container-id-9 div.sk-parallel-item:first-child::after {align-self: flex-end;width: 50%;}#sk-container-id-9 div.sk-parallel-item:last-child::after {align-self: flex-start;width: 50%;}#sk-container-id-9 div.sk-parallel-item:only-child::after {width: 0;}#sk-container-id-9 div.sk-dashed-wrapped {border: 1px dashed gray;margin: 0 0.4em 0.5em 0.4em;box-sizing: border-box;padding-bottom: 0.4em;background-color: white;}#sk-container-id-9 div.sk-label label {font-family: monospace;font-weight: bold;display: inline-block;line-height: 1.2em;}#sk-container-id-9 div.sk-label-container {text-align: center;}#sk-container-id-9 div.sk-container {/* jupyter's `normalize.less` sets `[hidden] { display: none; }` but bootstrap.min.css set `[hidden] { display: none !important; }` so we also need the `!important` here to be able to override the default hidden behavior on the sphinx rendered scikit-learn.org. See: https://github.com/scikit-learn/scikit-learn/issues/21755 */display: inline-block !important;position: relative;}#sk-container-id-9 div.sk-text-repr-fallback {display: none;}</style><div id=\"sk-container-id-9\" class=\"sk-top-container\"><div class=\"sk-text-repr-fallback\"><pre>BaggingClassifier(base_estimator=DecisionTreeClassifier(max_depth=8))</pre><b>In a Jupyter environment, please rerun this cell to show the HTML representation or trust the notebook. <br />On GitHub, the HTML representation is unable to render, please try loading this page with nbviewer.org.</b></div><div class=\"sk-container\" hidden><div class=\"sk-item sk-dashed-wrapped\"><div class=\"sk-label-container\"><div class=\"sk-label sk-toggleable\"><input class=\"sk-toggleable__control sk-hidden--visually\" id=\"sk-estimator-id-11\" type=\"checkbox\" ><label for=\"sk-estimator-id-11\" class=\"sk-toggleable__label sk-toggleable__label-arrow\">BaggingClassifier</label><div class=\"sk-toggleable__content\"><pre>BaggingClassifier(base_estimator=DecisionTreeClassifier(max_depth=8))</pre></div></div></div><div class=\"sk-parallel\"><div class=\"sk-parallel-item\"><div class=\"sk-item\"><div class=\"sk-label-container\"><div class=\"sk-label sk-toggleable\"><input class=\"sk-toggleable__control sk-hidden--visually\" id=\"sk-estimator-id-12\" type=\"checkbox\" ><label for=\"sk-estimator-id-12\" class=\"sk-toggleable__label sk-toggleable__label-arrow\">base_estimator: DecisionTreeClassifier</label><div class=\"sk-toggleable__content\"><pre>DecisionTreeClassifier(max_depth=8)</pre></div></div></div><div class=\"sk-serial\"><div class=\"sk-item\"><div class=\"sk-estimator sk-toggleable\"><input class=\"sk-toggleable__control sk-hidden--visually\" id=\"sk-estimator-id-13\" type=\"checkbox\" ><label for=\"sk-estimator-id-13\" class=\"sk-toggleable__label sk-toggleable__label-arrow\">DecisionTreeClassifier</label><div class=\"sk-toggleable__content\"><pre>DecisionTreeClassifier(max_depth=8)</pre></div></div></div></div></div></div></div></div></div></div>"
      ],
      "text/plain": [
       "BaggingClassifier(base_estimator=DecisionTreeClassifier(max_depth=8))"
      ]
     },
     "execution_count": 118,
     "metadata": {},
     "output_type": "execute_result"
    }
   ],
   "source": [
    "bag_2 = BaggingClassifier(tree_depth2, n_estimators=10)\n",
    "bag_2.fit(X_train, y_train)\n",
    "\n",
    "bag_4 = BaggingClassifier(tree_depth4, n_estimators=10)\n",
    "bag_4.fit(X_train, y_train)\n",
    "\n",
    "bag_8 = BaggingClassifier(tree_depth8, n_estimators=10)\n",
    "bag_8.fit(X_train, y_train)"
   ]
  },
  {
   "cell_type": "code",
   "execution_count": 123,
   "id": "cdb5f1a6-2619-462b-a76f-068f0448b3b2",
   "metadata": {},
   "outputs": [],
   "source": [
    "# vote_2 = VotingClassifier(tree_depth2)\n",
    "# vote_2.fit(X_train, y_train)\n",
    "\n",
    "# vote_4 = VotingClassifier(tree_depth4)\n",
    "# vote_4.fit(X_train, y_train)\n",
    "\n",
    "# vote_8 = VotingClassifier(tree_depth8)\n",
    "# vote_8.fit(X_train, y_train)"
   ]
  },
  {
   "cell_type": "markdown",
   "id": "6442ee12-5290-427c-a14e-48e69469ca8f",
   "metadata": {},
   "source": [
    "#### AdaBoost vs StackingClassifier"
   ]
  },
  {
   "cell_type": "code",
   "execution_count": null,
   "id": "907ad36f-05da-4678-8dea-c0baae79f221",
   "metadata": {},
   "outputs": [],
   "source": [
    "ada_2 = AdaBoostClassifier(base_estimator=tree_depth2)\n",
    "ada_2 = StackingClassifier(base_estimator=tree_depth2)"
   ]
  },
  {
   "cell_type": "code",
   "execution_count": null,
   "id": "e53187cd-c9c9-4bb4-a2cb-c7d7347b2e51",
   "metadata": {},
   "outputs": [],
   "source": []
  }
 ],
 "metadata": {
  "kernelspec": {
   "display_name": "Python 3 (ipykernel)",
   "language": "python",
   "name": "python3"
  },
  "language_info": {
   "codemirror_mode": {
    "name": "ipython",
    "version": 3
   },
   "file_extension": ".py",
   "mimetype": "text/x-python",
   "name": "python",
   "nbconvert_exporter": "python",
   "pygments_lexer": "ipython3",
   "version": "3.9.0"
  }
 },
 "nbformat": 4,
 "nbformat_minor": 5
}
