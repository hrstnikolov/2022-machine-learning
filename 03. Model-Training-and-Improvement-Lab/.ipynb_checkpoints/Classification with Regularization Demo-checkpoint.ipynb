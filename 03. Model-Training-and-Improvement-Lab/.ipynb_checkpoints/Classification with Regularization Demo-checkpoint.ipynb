{
 "cells": [
  {
   "cell_type": "code",
   "execution_count": 2,
   "id": "26e27789-0962-4d36-995d-478ea7bcf619",
   "metadata": {},
   "outputs": [],
   "source": [
    "%matplotlib inline"
   ]
  },
  {
   "cell_type": "code",
   "execution_count": 1,
   "id": "300a4cab-3785-4d00-9e10-1af24b62786f",
   "metadata": {},
   "outputs": [],
   "source": [
    "import numpy as np\n",
    "import pandas as pd\n",
    "import matplotlib.pyplot as plt\n",
    "from sklearn.preprocessing import MinMaxScaler\n",
    "from sklearn.model_selection import train_test_split\n",
    "from sklearn.linear_model import LogisticRegression"
   ]
  },
  {
   "cell_type": "markdown",
   "id": "bae0e718-1f96-415f-8a05-e39275e0d54d",
   "metadata": {},
   "source": [
    "# Classification with Regularization Demo"
   ]
  },
  {
   "cell_type": "markdown",
   "id": "d4d2329a-44a5-462e-96fb-b026c686c317",
   "metadata": {},
   "source": [
    "## Income dataset\n",
    "\n",
    "> Prediction task is to determine whether a person makes over 50K a year.\n",
    "\n",
    "Дали доходът на човек е под или над 50К$. [Данни](https://archive.ics.uci.edu/ml/datasets/adult)"
   ]
  },
  {
   "cell_type": "markdown",
   "id": "7faa63b2-028a-4222-a84e-4fb9cf03cecc",
   "metadata": {},
   "source": [
    "### Prepare data"
   ]
  },
  {
   "cell_type": "code",
   "execution_count": 14,
   "id": "9d62e3c6-317b-47f5-a74c-a406df0af2a9",
   "metadata": {},
   "outputs": [
    {
     "data": {
      "text/html": [
       "<div>\n",
       "<style scoped>\n",
       "    .dataframe tbody tr th:only-of-type {\n",
       "        vertical-align: middle;\n",
       "    }\n",
       "\n",
       "    .dataframe tbody tr th {\n",
       "        vertical-align: top;\n",
       "    }\n",
       "\n",
       "    .dataframe thead th {\n",
       "        text-align: right;\n",
       "    }\n",
       "</style>\n",
       "<table border=\"1\" class=\"dataframe\">\n",
       "  <thead>\n",
       "    <tr style=\"text-align: right;\">\n",
       "      <th></th>\n",
       "      <th>0</th>\n",
       "      <th>1</th>\n",
       "      <th>2</th>\n",
       "      <th>3</th>\n",
       "      <th>4</th>\n",
       "      <th>5</th>\n",
       "      <th>6</th>\n",
       "      <th>7</th>\n",
       "      <th>8</th>\n",
       "      <th>9</th>\n",
       "      <th>10</th>\n",
       "      <th>11</th>\n",
       "      <th>12</th>\n",
       "      <th>13</th>\n",
       "      <th>14</th>\n",
       "    </tr>\n",
       "  </thead>\n",
       "  <tbody>\n",
       "    <tr>\n",
       "      <th>0</th>\n",
       "      <td>39</td>\n",
       "      <td>State-gov</td>\n",
       "      <td>77516</td>\n",
       "      <td>Bachelors</td>\n",
       "      <td>13</td>\n",
       "      <td>Never-married</td>\n",
       "      <td>Adm-clerical</td>\n",
       "      <td>Not-in-family</td>\n",
       "      <td>White</td>\n",
       "      <td>Male</td>\n",
       "      <td>2174</td>\n",
       "      <td>0</td>\n",
       "      <td>40</td>\n",
       "      <td>United-States</td>\n",
       "      <td>&lt;=50K</td>\n",
       "    </tr>\n",
       "    <tr>\n",
       "      <th>1</th>\n",
       "      <td>50</td>\n",
       "      <td>Self-emp-not-inc</td>\n",
       "      <td>83311</td>\n",
       "      <td>Bachelors</td>\n",
       "      <td>13</td>\n",
       "      <td>Married-civ-spouse</td>\n",
       "      <td>Exec-managerial</td>\n",
       "      <td>Husband</td>\n",
       "      <td>White</td>\n",
       "      <td>Male</td>\n",
       "      <td>0</td>\n",
       "      <td>0</td>\n",
       "      <td>13</td>\n",
       "      <td>United-States</td>\n",
       "      <td>&lt;=50K</td>\n",
       "    </tr>\n",
       "  </tbody>\n",
       "</table>\n",
       "</div>"
      ],
      "text/plain": [
       "   0                  1      2           3   4                    5   \\\n",
       "0  39          State-gov  77516   Bachelors  13        Never-married   \n",
       "1  50   Self-emp-not-inc  83311   Bachelors  13   Married-civ-spouse   \n",
       "\n",
       "                 6               7       8      9     10  11  12  \\\n",
       "0      Adm-clerical   Not-in-family   White   Male  2174   0  40   \n",
       "1   Exec-managerial         Husband   White   Male     0   0  13   \n",
       "\n",
       "               13      14  \n",
       "0   United-States   <=50K  \n",
       "1   United-States   <=50K  "
      ]
     },
     "execution_count": 14,
     "metadata": {},
     "output_type": "execute_result"
    }
   ],
   "source": [
    "income_data = pd.read_csv(\"adult/adult.data\", header=None)\n",
    "income_data.head(2)"
   ]
  },
  {
   "cell_type": "code",
   "execution_count": 15,
   "id": "ecfd3b88-4e94-4237-8540-7aa8cb6474d0",
   "metadata": {},
   "outputs": [],
   "source": [
    "income_data.columns = [\n",
    "    \"age\",\n",
    "    \"workclass\",\n",
    "    \"final_weight\",\n",
    "    \"education\",\n",
    "    \"education-num\",\n",
    "    \"marital-status\",\n",
    "    \"occupation\",\n",
    "    \"relationship\",\n",
    "    \"race\",\n",
    "    \"sex\",\n",
    "    \"capital_gain\",\n",
    "    \"capital_loss\",\n",
    "    \"hours_per_week\",\n",
    "    \"native_country\",\n",
    "    \"income_class\",\n",
    "]"
   ]
  },
  {
   "cell_type": "code",
   "execution_count": 16,
   "id": "f7fe1b80-6f2c-4b7f-a26c-3cd03a56d64a",
   "metadata": {},
   "outputs": [],
   "source": [
    "income_attributes = income_data.drop(columns=\"income_class\")\n",
    "income_target = income_data.income_class"
   ]
  },
  {
   "cell_type": "code",
   "execution_count": 17,
   "id": "01b806f7-34a6-4230-9600-92d9dbdf179b",
   "metadata": {},
   "outputs": [
    {
     "data": {
      "text/plain": [
       "((32561, 14), (32561,))"
      ]
     },
     "execution_count": 17,
     "metadata": {},
     "output_type": "execute_result"
    }
   ],
   "source": [
    "income_attributes.shape, income_target.shape"
   ]
  },
  {
   "cell_type": "code",
   "execution_count": 18,
   "id": "8965bc17-96ce-47cd-bac6-dbcd10811029",
   "metadata": {},
   "outputs": [
    {
     "data": {
      "text/plain": [
       "(32561, 100)"
      ]
     },
     "execution_count": 18,
     "metadata": {},
     "output_type": "execute_result"
    }
   ],
   "source": [
    "income_attributes = pd.get_dummies(income_attributes, drop_first=True)\n",
    "income_attributes.shape"
   ]
  },
  {
   "cell_type": "code",
   "execution_count": 19,
   "id": "c1fd8b4d-41a9-4146-be3d-d4facd89b8ff",
   "metadata": {},
   "outputs": [
    {
     "data": {
      "text/plain": [
       "array([dtype('int64'), dtype('uint8')], dtype=object)"
      ]
     },
     "execution_count": 19,
     "metadata": {},
     "output_type": "execute_result"
    }
   ],
   "source": [
    "# ensure data is numeric\n",
    "income_attributes.dtypes.unique()"
   ]
  },
  {
   "cell_type": "code",
   "execution_count": 20,
   "id": "784b1039-809b-4465-9007-3c17d152883a",
   "metadata": {},
   "outputs": [
    {
     "data": {
      "text/plain": [
       "(32561, 100)"
      ]
     },
     "execution_count": 20,
     "metadata": {},
     "output_type": "execute_result"
    }
   ],
   "source": [
    "scaler = MinMaxScaler()\n",
    "income_attributes = scaler.fit_transform(income_attributes)\n",
    "income_attributes.shape"
   ]
  },
  {
   "cell_type": "markdown",
   "id": "0a641c98-d354-47ce-a329-caf82e0cae3f",
   "metadata": {},
   "source": [
    "### Model data"
   ]
  },
  {
   "cell_type": "code",
   "execution_count": 25,
   "id": "8776aedd-f54c-4b57-8206-0df9bd5e4fca",
   "metadata": {},
   "outputs": [
    {
     "name": "stdout",
     "output_type": "stream",
     "text": [
      "(26048, 100)\n",
      "(6513, 100)\n",
      "(26048,)\n",
      "(6513,)\n"
     ]
    }
   ],
   "source": [
    "income_attributes_train, income_attributes_test, \\\n",
    "income_target_train, income_target_test, \\\n",
    "= train_test_split(income_attributes, income_target, train_size=0.8, test_size=0.2)\n",
    "\n",
    "\n",
    "for group in [income_attributes_train, income_attributes_test, income_target_train, income_target_test]:\n",
    "    print(group.shape)"
   ]
  },
  {
   "cell_type": "markdown",
   "id": "8fbbcc27-7cf0-4c66-82c4-b740b80c3781",
   "metadata": {},
   "source": [
    "#### Effect of BIG regularization"
   ]
  },
  {
   "cell_type": "code",
   "execution_count": 42,
   "id": "8b08d0f9-47cf-47a6-8bda-96f30a20f5d7",
   "metadata": {
    "tags": []
   },
   "outputs": [
    {
     "name": "stderr",
     "output_type": "stream",
     "text": [
      "C:\\Users\\a1056968\\Anaconda3\\envs\\machine_learning\\lib\\site-packages\\sklearn\\linear_model\\_logistic.py:444: ConvergenceWarning: lbfgs failed to converge (status=1):\n",
      "STOP: TOTAL NO. of ITERATIONS REACHED LIMIT.\n",
      "\n",
      "Increase the number of iterations (max_iter) or scale the data as shown in:\n",
      "    https://scikit-learn.org/stable/modules/preprocessing.html\n",
      "Please also refer to the documentation for alternative solver options:\n",
      "    https://scikit-learn.org/stable/modules/linear_model.html#logistic-regression\n",
      "  n_iter_i = _check_optimize_result(\n"
     ]
    }
   ],
   "source": [
    "Cs = np.logspace(-6, 2, 9)\n",
    "coef_n = 0\n",
    "\n",
    "result = []\n",
    "for C in Cs:\n",
    "    model = LogisticRegression(C=C, max_iter=500)\n",
    "    model.fit(income_attributes_train, income_target_train)\n",
    "    weight = model.coef_[0][coef_n]\n",
    "    predicted_targets = set(model.predict(income_attributes_train))\n",
    "    \n",
    "    result.append((C, weight, predicted_targets))"
   ]
  },
  {
   "cell_type": "code",
   "execution_count": 43,
   "id": "3e76b4c3-6d0f-41a9-8163-6b07a8e430e9",
   "metadata": {},
   "outputs": [
    {
     "data": {
      "text/html": [
       "<div>\n",
       "<style scoped>\n",
       "    .dataframe tbody tr th:only-of-type {\n",
       "        vertical-align: middle;\n",
       "    }\n",
       "\n",
       "    .dataframe tbody tr th {\n",
       "        vertical-align: top;\n",
       "    }\n",
       "\n",
       "    .dataframe thead th {\n",
       "        text-align: right;\n",
       "    }\n",
       "</style>\n",
       "<table border=\"1\" class=\"dataframe\">\n",
       "  <thead>\n",
       "    <tr style=\"text-align: right;\">\n",
       "      <th></th>\n",
       "      <th>C</th>\n",
       "      <th>weight</th>\n",
       "      <th>predicted_targets</th>\n",
       "    </tr>\n",
       "  </thead>\n",
       "  <tbody>\n",
       "    <tr>\n",
       "      <th>0</th>\n",
       "      <td>0.000001</td>\n",
       "      <td>0.000484</td>\n",
       "      <td>{ &lt;=50K}</td>\n",
       "    </tr>\n",
       "    <tr>\n",
       "      <th>1</th>\n",
       "      <td>0.000010</td>\n",
       "      <td>0.004748</td>\n",
       "      <td>{ &lt;=50K}</td>\n",
       "    </tr>\n",
       "    <tr>\n",
       "      <th>2</th>\n",
       "      <td>0.000100</td>\n",
       "      <td>0.040077</td>\n",
       "      <td>{ &lt;=50K}</td>\n",
       "    </tr>\n",
       "    <tr>\n",
       "      <th>3</th>\n",
       "      <td>0.001000</td>\n",
       "      <td>0.199999</td>\n",
       "      <td>{ &lt;=50K,  &gt;50K}</td>\n",
       "    </tr>\n",
       "    <tr>\n",
       "      <th>4</th>\n",
       "      <td>0.010000</td>\n",
       "      <td>0.735861</td>\n",
       "      <td>{ &lt;=50K,  &gt;50K}</td>\n",
       "    </tr>\n",
       "    <tr>\n",
       "      <th>5</th>\n",
       "      <td>0.100000</td>\n",
       "      <td>1.591770</td>\n",
       "      <td>{ &lt;=50K,  &gt;50K}</td>\n",
       "    </tr>\n",
       "    <tr>\n",
       "      <th>6</th>\n",
       "      <td>1.000000</td>\n",
       "      <td>1.835464</td>\n",
       "      <td>{ &lt;=50K,  &gt;50K}</td>\n",
       "    </tr>\n",
       "    <tr>\n",
       "      <th>7</th>\n",
       "      <td>10.000000</td>\n",
       "      <td>1.862918</td>\n",
       "      <td>{ &lt;=50K,  &gt;50K}</td>\n",
       "    </tr>\n",
       "    <tr>\n",
       "      <th>8</th>\n",
       "      <td>100.000000</td>\n",
       "      <td>1.864926</td>\n",
       "      <td>{ &lt;=50K,  &gt;50K}</td>\n",
       "    </tr>\n",
       "  </tbody>\n",
       "</table>\n",
       "</div>"
      ],
      "text/plain": [
       "            C    weight predicted_targets\n",
       "0    0.000001  0.000484          { <=50K}\n",
       "1    0.000010  0.004748          { <=50K}\n",
       "2    0.000100  0.040077          { <=50K}\n",
       "3    0.001000  0.199999   { <=50K,  >50K}\n",
       "4    0.010000  0.735861   { <=50K,  >50K}\n",
       "5    0.100000  1.591770   { <=50K,  >50K}\n",
       "6    1.000000  1.835464   { <=50K,  >50K}\n",
       "7   10.000000  1.862918   { <=50K,  >50K}\n",
       "8  100.000000  1.864926   { <=50K,  >50K}"
      ]
     },
     "execution_count": 43,
     "metadata": {},
     "output_type": "execute_result"
    }
   ],
   "source": [
    "columns = [\"C\", \"weight\", \"predicted_targets\"]\n",
    "pd.DataFrame(data=result, columns=columns)"
   ]
  },
  {
   "cell_type": "markdown",
   "id": "8f9e42f5-9b38-4326-8f49-d7aa2e56fca9",
   "metadata": {},
   "source": [
    "При голяма регуляризация (т.е. малко С):\n",
    "1) тегловният коефициент w на практика  изчезва, става 0.\n",
    "2) моделът предсказва САМО 1 клас - majority класа \"<=50K\", този, с повече записи. Виж долу."
   ]
  },
  {
   "cell_type": "code",
   "execution_count": 44,
   "id": "f981e52a-eb83-4630-ace6-ae054fe57de8",
   "metadata": {},
   "outputs": [
    {
     "data": {
      "text/plain": [
       " <=50K    19805\n",
       " >50K      6243\n",
       "Name: income_class, dtype: int64"
      ]
     },
     "execution_count": 44,
     "metadata": {},
     "output_type": "execute_result"
    }
   ],
   "source": [
    "income_target_train.value_counts()"
   ]
  }
 ],
 "metadata": {
  "kernelspec": {
   "display_name": "Python 3 (ipykernel)",
   "language": "python",
   "name": "python3"
  },
  "language_info": {
   "codemirror_mode": {
    "name": "ipython",
    "version": 3
   },
   "file_extension": ".py",
   "mimetype": "text/x-python",
   "name": "python",
   "nbconvert_exporter": "python",
   "pygments_lexer": "ipython3",
   "version": "3.9.0"
  }
 },
 "nbformat": 4,
 "nbformat_minor": 5
}
