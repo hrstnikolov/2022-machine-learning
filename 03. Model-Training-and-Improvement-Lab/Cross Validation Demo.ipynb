{
 "cells": [
  {
   "cell_type": "code",
   "execution_count": 13,
   "id": "e4dfa24d-c8f0-4f26-b1f0-e6659ddbfaa9",
   "metadata": {},
   "outputs": [],
   "source": [
    "%matplotlib inline"
   ]
  },
  {
   "cell_type": "code",
   "execution_count": 24,
   "id": "6681d109-62b1-4159-afdb-407c8918d515",
   "metadata": {},
   "outputs": [],
   "source": [
    "import numpy as np\n",
    "import pandas as pd\n",
    "import matplotlib.pyplot as plt\n",
    "from sklearn.preprocessing import MinMaxScaler, FunctionTransformer\n",
    "from sklearn.model_selection import train_test_split, KFold, StratifiedKFold, cross_val_score\n",
    "from sklearn.linear_model import LogisticRegression\n",
    "from sklearn.compose import ColumnTransformer, make_column_selector\n",
    "from sklearn.pipeline import Pipeline"
   ]
  },
  {
   "cell_type": "code",
   "execution_count": 21,
   "id": "5adbb8da-33b6-4e98-880d-387962e6e7c7",
   "metadata": {},
   "outputs": [],
   "source": [
    "RANDOM_STATE = 1"
   ]
  },
  {
   "cell_type": "markdown",
   "id": "338ffe66-b9b1-473e-910f-f2e69021e6d8",
   "metadata": {},
   "source": [
    "# Cross Validation"
   ]
  },
  {
   "cell_type": "markdown",
   "id": "d572e936-d95e-4ff4-86c8-0b5f754bf08b",
   "metadata": {},
   "source": [
    "## Bank dataset\n",
    "Стъпки:\n",
    "1. Разделяне на данните на $k$ групи.\n",
    "2. Сформиране на трениращи данни от $k-1$ групи. Последната оставяме за тестване на модела.\n",
    "3. Повтаряне на 2 докато изчепаме възможните данни.\n",
    "\n",
    "Данните са почистени. Суровият датасет е от [тук](https://archive.ics.uci.edu/ml/datasets/bank+marketing).\n",
    "\n",
    "Описание:\n",
    "> The data is related with direct marketing campaigns of a Portuguese banking institution. The marketing campaigns were based on phone calls. Often, more than one contact to the same client was required, in order to access if the product (bank term deposit) would be ('yes') or not ('no') subscribed."
   ]
  },
  {
   "cell_type": "markdown",
   "id": "1df9258a-df5f-472e-bbee-a263afbca7ba",
   "metadata": {},
   "source": [
    "### Prepare data"
   ]
  },
  {
   "cell_type": "code",
   "execution_count": 15,
   "id": "81925637-969f-4021-a0a8-0fb04da91603",
   "metadata": {},
   "outputs": [],
   "source": [
    "bank_data = pd.read_csv(\"../datasets/bank/bank.csv\", sep=\";\")\n",
    "bank_features = bank_data.drop(columns=\"y\")\n",
    "\n",
    "bank_features = pd.get_dummies(bank_features)\n",
    "\n",
    "bank_labels = bank_data[\"y\"]\n",
    "bank_labels = bank_labels.replace({\"no\": 0, \"yes\": 1})\n",
    "\n",
    "bank_features_train, bank_features_test, bank_labels_train, bank_labels_test = \\\n",
    "train_test_split(bank_features, bank_labels, train_size=0.7, test_size=0.3, stratify=bank_labels)"
   ]
  },
  {
   "cell_type": "code",
   "execution_count": 17,
   "id": "c3f5b8f4-de69-48e6-8a1e-8579f280ba10",
   "metadata": {},
   "outputs": [
    {
     "name": "stdout",
     "output_type": "stream",
     "text": [
      "Test and train split shapes:\n",
      "(3164, 51)\n",
      "(1357, 51)\n",
      "(3164,)\n",
      "(1357,)\n"
     ]
    }
   ],
   "source": [
    "print('Test and train split shapes:')\n",
    "for a_set in [bank_features_train, bank_features_test, bank_labels_train, bank_labels_test]:\n",
    "    print(a_set.shape)"
   ]
  },
  {
   "cell_type": "markdown",
   "id": "f15d3d8e-699c-4535-a8d9-67aec83b721e",
   "metadata": {},
   "source": [
    "### Model data"
   ]
  },
  {
   "cell_type": "code",
   "execution_count": 5,
   "id": "3b0ff5e7-f2ff-4aef-954a-65a1665fe7d2",
   "metadata": {},
   "outputs": [],
   "source": [
    "logistic_regression = LogisticRegression(C=10e6)"
   ]
  },
  {
   "cell_type": "code",
   "execution_count": 27,
   "id": "fab101e3-84d4-45a2-b2ea-be95a8ea1c4d",
   "metadata": {},
   "outputs": [],
   "source": [
    "stratified_kfold = StratifiedKFold(n_splits=5)"
   ]
  },
  {
   "cell_type": "code",
   "execution_count": 12,
   "id": "3d67158c-2c20-4384-bf65-18cd811af786",
   "metadata": {},
   "outputs": [
    {
     "data": {
      "text/plain": [
       "(3164, 51)"
      ]
     },
     "execution_count": 12,
     "metadata": {},
     "output_type": "execute_result"
    }
   ],
   "source": [
    "bank_features_train.shape"
   ]
  },
  {
   "cell_type": "markdown",
   "id": "3a9a0f65-bc4f-4c18-a9e9-729c49ed64aa",
   "metadata": {},
   "source": [
    "https://scikit-learn.org/stable/modules/cross_validation.html#stratified-k-fold"
   ]
  },
  {
   "cell_type": "code",
   "execution_count": 38,
   "id": "4bdfe25b-235d-4b33-a383-aad6cc97339d",
   "metadata": {
    "tags": []
   },
   "outputs": [
    {
     "name": "stdout",
     "output_type": "stream",
     "text": [
      "train set indeces: 617 - 3163\n",
      "test set indeces: 0 - 635\n",
      "==============================\n",
      "train set indeces: 0 - 3163\n",
      "test set indeces: 617 - 1268\n",
      "==============================\n",
      "train set indeces: 0 - 3163\n",
      "test set indeces: 1222 - 1961\n",
      "==============================\n",
      "train set indeces: 0 - 3163\n",
      "test set indeces: 1891 - 2539\n",
      "==============================\n",
      "train set indeces: 0 - 2539\n",
      "test set indeces: 2509 - 3163\n",
      "==============================\n"
     ]
    }
   ],
   "source": [
    "for train_indeces, test_indeces in stratified_kfold.split(bank_features_train, bank_labels_train):\n",
    "    print(\n",
    "        f\"train set indeces: {train_indeces.min()} - {train_indeces.max()}\",\n",
    "        f\"test set indeces: {test_indeces.min()} - {test_indeces.max()}\",\n",
    "        \"=\" * 30,\n",
    "        sep=\"\\n\",\n",
    "    )"
   ]
  },
  {
   "cell_type": "markdown",
   "id": "822c3576-7fe0-4838-8e0d-a2caa15102ca",
   "metadata": {},
   "source": [
    "Ще осредни"
   ]
  },
  {
   "cell_type": "code",
   "execution_count": 44,
   "id": "c77b8912-772d-4de9-a781-1c921b27f3d3",
   "metadata": {
    "collapsed": true,
    "jupyter": {
     "outputs_hidden": true
    },
    "tags": []
   },
   "outputs": [
    {
     "name": "stderr",
     "output_type": "stream",
     "text": [
      "C:\\Users\\a1056968\\Anaconda3\\envs\\machine_learning\\lib\\site-packages\\sklearn\\linear_model\\_logistic.py:444: ConvergenceWarning: lbfgs failed to converge (status=1):\n",
      "STOP: TOTAL NO. of ITERATIONS REACHED LIMIT.\n",
      "\n",
      "Increase the number of iterations (max_iter) or scale the data as shown in:\n",
      "    https://scikit-learn.org/stable/modules/preprocessing.html\n",
      "Please also refer to the documentation for alternative solver options:\n",
      "    https://scikit-learn.org/stable/modules/linear_model.html#logistic-regression\n",
      "  n_iter_i = _check_optimize_result(\n",
      "C:\\Users\\a1056968\\Anaconda3\\envs\\machine_learning\\lib\\site-packages\\sklearn\\linear_model\\_logistic.py:444: ConvergenceWarning: lbfgs failed to converge (status=1):\n",
      "STOP: TOTAL NO. of ITERATIONS REACHED LIMIT.\n",
      "\n",
      "Increase the number of iterations (max_iter) or scale the data as shown in:\n",
      "    https://scikit-learn.org/stable/modules/preprocessing.html\n",
      "Please also refer to the documentation for alternative solver options:\n",
      "    https://scikit-learn.org/stable/modules/linear_model.html#logistic-regression\n",
      "  n_iter_i = _check_optimize_result(\n",
      "C:\\Users\\a1056968\\Anaconda3\\envs\\machine_learning\\lib\\site-packages\\sklearn\\linear_model\\_logistic.py:444: ConvergenceWarning: lbfgs failed to converge (status=1):\n",
      "STOP: TOTAL NO. of ITERATIONS REACHED LIMIT.\n",
      "\n",
      "Increase the number of iterations (max_iter) or scale the data as shown in:\n",
      "    https://scikit-learn.org/stable/modules/preprocessing.html\n",
      "Please also refer to the documentation for alternative solver options:\n",
      "    https://scikit-learn.org/stable/modules/linear_model.html#logistic-regression\n",
      "  n_iter_i = _check_optimize_result(\n",
      "C:\\Users\\a1056968\\Anaconda3\\envs\\machine_learning\\lib\\site-packages\\sklearn\\linear_model\\_logistic.py:444: ConvergenceWarning: lbfgs failed to converge (status=1):\n",
      "STOP: TOTAL NO. of ITERATIONS REACHED LIMIT.\n",
      "\n",
      "Increase the number of iterations (max_iter) or scale the data as shown in:\n",
      "    https://scikit-learn.org/stable/modules/preprocessing.html\n",
      "Please also refer to the documentation for alternative solver options:\n",
      "    https://scikit-learn.org/stable/modules/linear_model.html#logistic-regression\n",
      "  n_iter_i = _check_optimize_result(\n",
      "C:\\Users\\a1056968\\Anaconda3\\envs\\machine_learning\\lib\\site-packages\\sklearn\\linear_model\\_logistic.py:444: ConvergenceWarning: lbfgs failed to converge (status=1):\n",
      "STOP: TOTAL NO. of ITERATIONS REACHED LIMIT.\n",
      "\n",
      "Increase the number of iterations (max_iter) or scale the data as shown in:\n",
      "    https://scikit-learn.org/stable/modules/preprocessing.html\n",
      "Please also refer to the documentation for alternative solver options:\n",
      "    https://scikit-learn.org/stable/modules/linear_model.html#logistic-regression\n",
      "  n_iter_i = _check_optimize_result(\n"
     ]
    }
   ],
   "source": [
    "scores = cross_val_score(\n",
    "    estimator = LogisticRegression(C=10e6 , max_iter=500),\n",
    "    scoring=\"accuracy\",\n",
    "    X = bank_features_train,\n",
    "    y = bank_labels_train,\n",
    "    cv=stratified_kfold,\n",
    ")"
   ]
  },
  {
   "cell_type": "code",
   "execution_count": 45,
   "id": "4d151ccb-cb76-488b-92fb-036c29f84ea5",
   "metadata": {},
   "outputs": [
    {
     "data": {
      "text/plain": [
       "array([0.88625592, 0.89731438, 0.90363349, 0.90679305, 0.89082278])"
      ]
     },
     "execution_count": 45,
     "metadata": {},
     "output_type": "execute_result"
    }
   ],
   "source": [
    "scores"
   ]
  },
  {
   "cell_type": "markdown",
   "id": "e8bc164b-f4bc-422b-b6fa-f3978b7dab9c",
   "metadata": {},
   "source": [
    "5 scores since the num of folds k in kfold cross validation indexes is 5."
   ]
  },
  {
   "cell_type": "code",
   "execution_count": null,
   "id": "c642891d-554a-4381-a78f-42acf9c620f0",
   "metadata": {},
   "outputs": [],
   "source": []
  },
  {
   "cell_type": "markdown",
   "id": "6e70101a-277c-407c-aceb-41434036c878",
   "metadata": {},
   "source": [
    "## TODO: Using pipeline"
   ]
  },
  {
   "cell_type": "code",
   "execution_count": 67,
   "id": "e5398e66-1c87-48c9-a5bd-fb5e4af7b52a",
   "metadata": {},
   "outputs": [],
   "source": [
    "numeric_transformer = Pipeline([\n",
    "    (\"scaler\", MinMaxScaler()),\n",
    "])\n",
    "\n",
    "categorical_transformer = Pipeline([\n",
    "    (\"one hot encoding\", FunctionTransformer(func=lambda data: pd.get_dummies(data))),\n",
    "])\n",
    "\n",
    "\n",
    "numeric_selector = make_column_selector(dtype_exclude=object)\n",
    "categorical_selector = make_column_selector(dtype_include=object)\n",
    "\n",
    "features_preprocessor = ColumnTransformer(transformers=[\n",
    "    ('categorical', categorical_transformer, categorical_selector),\n",
    "    ('numeric', numeric_transformer, numeric_selector),\n",
    "])"
   ]
  },
  {
   "cell_type": "code",
   "execution_count": 4,
   "id": "cd797974-9d8a-464e-ae50-04b00d44ca7c",
   "metadata": {},
   "outputs": [
    {
     "data": {
      "text/html": [
       "<div>\n",
       "<style scoped>\n",
       "    .dataframe tbody tr th:only-of-type {\n",
       "        vertical-align: middle;\n",
       "    }\n",
       "\n",
       "    .dataframe tbody tr th {\n",
       "        vertical-align: top;\n",
       "    }\n",
       "\n",
       "    .dataframe thead th {\n",
       "        text-align: right;\n",
       "    }\n",
       "</style>\n",
       "<table border=\"1\" class=\"dataframe\">\n",
       "  <thead>\n",
       "    <tr style=\"text-align: right;\">\n",
       "      <th></th>\n",
       "      <th>age</th>\n",
       "      <th>job</th>\n",
       "      <th>marital</th>\n",
       "      <th>education</th>\n",
       "      <th>default</th>\n",
       "      <th>balance</th>\n",
       "      <th>housing</th>\n",
       "      <th>loan</th>\n",
       "      <th>contact</th>\n",
       "      <th>day</th>\n",
       "      <th>month</th>\n",
       "      <th>duration</th>\n",
       "      <th>campaign</th>\n",
       "      <th>pdays</th>\n",
       "      <th>previous</th>\n",
       "      <th>poutcome</th>\n",
       "    </tr>\n",
       "  </thead>\n",
       "  <tbody>\n",
       "    <tr>\n",
       "      <th>0</th>\n",
       "      <td>30</td>\n",
       "      <td>unemployed</td>\n",
       "      <td>married</td>\n",
       "      <td>primary</td>\n",
       "      <td>no</td>\n",
       "      <td>1787</td>\n",
       "      <td>no</td>\n",
       "      <td>no</td>\n",
       "      <td>cellular</td>\n",
       "      <td>19</td>\n",
       "      <td>oct</td>\n",
       "      <td>79</td>\n",
       "      <td>1</td>\n",
       "      <td>-1</td>\n",
       "      <td>0</td>\n",
       "      <td>unknown</td>\n",
       "    </tr>\n",
       "    <tr>\n",
       "      <th>1</th>\n",
       "      <td>33</td>\n",
       "      <td>services</td>\n",
       "      <td>married</td>\n",
       "      <td>secondary</td>\n",
       "      <td>no</td>\n",
       "      <td>4789</td>\n",
       "      <td>yes</td>\n",
       "      <td>yes</td>\n",
       "      <td>cellular</td>\n",
       "      <td>11</td>\n",
       "      <td>may</td>\n",
       "      <td>220</td>\n",
       "      <td>1</td>\n",
       "      <td>339</td>\n",
       "      <td>4</td>\n",
       "      <td>failure</td>\n",
       "    </tr>\n",
       "    <tr>\n",
       "      <th>2</th>\n",
       "      <td>35</td>\n",
       "      <td>management</td>\n",
       "      <td>single</td>\n",
       "      <td>tertiary</td>\n",
       "      <td>no</td>\n",
       "      <td>1350</td>\n",
       "      <td>yes</td>\n",
       "      <td>no</td>\n",
       "      <td>cellular</td>\n",
       "      <td>16</td>\n",
       "      <td>apr</td>\n",
       "      <td>185</td>\n",
       "      <td>1</td>\n",
       "      <td>330</td>\n",
       "      <td>1</td>\n",
       "      <td>failure</td>\n",
       "    </tr>\n",
       "    <tr>\n",
       "      <th>3</th>\n",
       "      <td>30</td>\n",
       "      <td>management</td>\n",
       "      <td>married</td>\n",
       "      <td>tertiary</td>\n",
       "      <td>no</td>\n",
       "      <td>1476</td>\n",
       "      <td>yes</td>\n",
       "      <td>yes</td>\n",
       "      <td>unknown</td>\n",
       "      <td>3</td>\n",
       "      <td>jun</td>\n",
       "      <td>199</td>\n",
       "      <td>4</td>\n",
       "      <td>-1</td>\n",
       "      <td>0</td>\n",
       "      <td>unknown</td>\n",
       "    </tr>\n",
       "    <tr>\n",
       "      <th>4</th>\n",
       "      <td>59</td>\n",
       "      <td>blue-collar</td>\n",
       "      <td>married</td>\n",
       "      <td>secondary</td>\n",
       "      <td>no</td>\n",
       "      <td>0</td>\n",
       "      <td>yes</td>\n",
       "      <td>no</td>\n",
       "      <td>unknown</td>\n",
       "      <td>5</td>\n",
       "      <td>may</td>\n",
       "      <td>226</td>\n",
       "      <td>1</td>\n",
       "      <td>-1</td>\n",
       "      <td>0</td>\n",
       "      <td>unknown</td>\n",
       "    </tr>\n",
       "  </tbody>\n",
       "</table>\n",
       "</div>"
      ],
      "text/plain": [
       "   age          job  marital  education default  balance housing loan  \\\n",
       "0   30   unemployed  married    primary      no     1787      no   no   \n",
       "1   33     services  married  secondary      no     4789     yes  yes   \n",
       "2   35   management   single   tertiary      no     1350     yes   no   \n",
       "3   30   management  married   tertiary      no     1476     yes  yes   \n",
       "4   59  blue-collar  married  secondary      no        0     yes   no   \n",
       "\n",
       "    contact  day month  duration  campaign  pdays  previous poutcome  \n",
       "0  cellular   19   oct        79         1     -1         0  unknown  \n",
       "1  cellular   11   may       220         1    339         4  failure  \n",
       "2  cellular   16   apr       185         1    330         1  failure  \n",
       "3   unknown    3   jun       199         4     -1         0  unknown  \n",
       "4   unknown    5   may       226         1     -1         0  unknown  "
      ]
     },
     "execution_count": 4,
     "metadata": {},
     "output_type": "execute_result"
    }
   ],
   "source": [
    "bank_data = pd.read_csv(\"../datasets/bank/bank.csv\", sep=\";\")\n",
    "\n",
    "bank_features = bank_data.drop(columns=\"y\")\n",
    "bank_features.head()"
   ]
  },
  {
   "cell_type": "code",
   "execution_count": 5,
   "id": "9202186a-ce33-43ff-9d75-56051b6a890b",
   "metadata": {},
   "outputs": [
    {
     "ename": "NameError",
     "evalue": "name 'features_preprocessor' is not defined",
     "output_type": "error",
     "traceback": [
      "\u001b[1;31m---------------------------------------------------------------------------\u001b[0m",
      "\u001b[1;31mNameError\u001b[0m                                 Traceback (most recent call last)",
      "\u001b[1;32m~\\AppData\\Local\\Temp\\ipykernel_18776\\946201055.py\u001b[0m in \u001b[0;36m<module>\u001b[1;34m\u001b[0m\n\u001b[1;32m----> 1\u001b[1;33m \u001b[0mpd\u001b[0m\u001b[1;33m.\u001b[0m\u001b[0mDataFrame\u001b[0m\u001b[1;33m(\u001b[0m\u001b[0mfeatures_preprocessor\u001b[0m\u001b[1;33m.\u001b[0m\u001b[0mfit_transform\u001b[0m\u001b[1;33m(\u001b[0m\u001b[0mbank_features\u001b[0m\u001b[1;33m)\u001b[0m\u001b[1;33m)\u001b[0m\u001b[1;33m\u001b[0m\u001b[1;33m\u001b[0m\u001b[0m\n\u001b[0m",
      "\u001b[1;31mNameError\u001b[0m: name 'features_preprocessor' is not defined"
     ]
    }
   ],
   "source": [
    "pd.DataFrame(features_preprocessor.fit_transform(bank_features))"
   ]
  },
  {
   "cell_type": "code",
   "execution_count": null,
   "id": "7b331e98-8dba-4e37-bc8a-39df860857eb",
   "metadata": {},
   "outputs": [],
   "source": [
    "\n",
    "replacer = FunctionTransformer(func = lambda data: data.replace({\"no\": 0, \"yes\": 1}))\n",
    "# replacer.fit_transform(bank_data.y)\n",
    "\n"
   ]
  }
 ],
 "metadata": {
  "kernelspec": {
   "display_name": "Python 3 (ipykernel)",
   "language": "python",
   "name": "python3"
  },
  "language_info": {
   "codemirror_mode": {
    "name": "ipython",
    "version": 3
   },
   "file_extension": ".py",
   "mimetype": "text/x-python",
   "name": "python",
   "nbconvert_exporter": "python",
   "pygments_lexer": "ipython3",
   "version": "3.9.0"
  }
 },
 "nbformat": 4,
 "nbformat_minor": 5
}
