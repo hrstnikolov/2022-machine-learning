{
 "cells": [
  {
   "cell_type": "code",
   "execution_count": 1,
   "id": "26e27789-0962-4d36-995d-478ea7bcf619",
   "metadata": {},
   "outputs": [],
   "source": [
    "%matplotlib inline"
   ]
  },
  {
   "cell_type": "code",
   "execution_count": 2,
   "id": "300a4cab-3785-4d00-9e10-1af24b62786f",
   "metadata": {},
   "outputs": [],
   "source": [
    "import numpy as np\n",
    "import pandas as pd\n",
    "import matplotlib.pyplot as plt\n",
    "\n",
    "from sklearn.datasets import load_iris\n",
    "from sklearn.linear_model import LogisticRegression, LinearRegression\n",
    "from sklearn.preprocessing import PolynomialFeatures, MinMaxScaler\n",
    "from sklearn.model_selection import train_test_split\n",
    "from sklearn.metrics import \\\n",
    "    accuracy_score, confusion_matrix, classification_report,\\\n",
    "    ConfusionMatrixDisplay, explained_variance_score, f1_score, \\\n",
    "    mean_squared_error, plot_confusion_matrix, plot_roc_curve, \\\n",
    "    precision_score"
   ]
  },
  {
   "cell_type": "markdown",
   "id": "1289c584-1086-4aed-b921-039149f83921",
   "metadata": {},
   "source": [
    "# Model Training and Improvement Demos"
   ]
  },
  {
   "cell_type": "markdown",
   "id": "f21dcabe-a812-4105-84db-7fc38b239cf1",
   "metadata": {},
   "source": [
    "## Income dataset\n",
    "\n",
    "> Prediction task is to determine whether a person makes over 50K a year.\n",
    "\n",
    "Дали доходът на човек е под или над 50К$."
   ]
  },
  {
   "cell_type": "markdown",
   "id": "433b33fa-da84-47aa-b2d5-ee27865cefb5",
   "metadata": {},
   "source": [
    "### Clean data"
   ]
  },
  {
   "cell_type": "code",
   "execution_count": 3,
   "id": "9d62e3c6-317b-47f5-a74c-a406df0af2a9",
   "metadata": {},
   "outputs": [
    {
     "data": {
      "text/html": [
       "<div>\n",
       "<style scoped>\n",
       "    .dataframe tbody tr th:only-of-type {\n",
       "        vertical-align: middle;\n",
       "    }\n",
       "\n",
       "    .dataframe tbody tr th {\n",
       "        vertical-align: top;\n",
       "    }\n",
       "\n",
       "    .dataframe thead th {\n",
       "        text-align: right;\n",
       "    }\n",
       "</style>\n",
       "<table border=\"1\" class=\"dataframe\">\n",
       "  <thead>\n",
       "    <tr style=\"text-align: right;\">\n",
       "      <th></th>\n",
       "      <th>0</th>\n",
       "      <th>1</th>\n",
       "      <th>2</th>\n",
       "      <th>3</th>\n",
       "      <th>4</th>\n",
       "      <th>5</th>\n",
       "      <th>6</th>\n",
       "      <th>7</th>\n",
       "      <th>8</th>\n",
       "      <th>9</th>\n",
       "      <th>10</th>\n",
       "      <th>11</th>\n",
       "      <th>12</th>\n",
       "      <th>13</th>\n",
       "      <th>14</th>\n",
       "    </tr>\n",
       "  </thead>\n",
       "  <tbody>\n",
       "    <tr>\n",
       "      <th>0</th>\n",
       "      <td>39</td>\n",
       "      <td>State-gov</td>\n",
       "      <td>77516</td>\n",
       "      <td>Bachelors</td>\n",
       "      <td>13</td>\n",
       "      <td>Never-married</td>\n",
       "      <td>Adm-clerical</td>\n",
       "      <td>Not-in-family</td>\n",
       "      <td>White</td>\n",
       "      <td>Male</td>\n",
       "      <td>2174</td>\n",
       "      <td>0</td>\n",
       "      <td>40</td>\n",
       "      <td>United-States</td>\n",
       "      <td>&lt;=50K</td>\n",
       "    </tr>\n",
       "    <tr>\n",
       "      <th>1</th>\n",
       "      <td>50</td>\n",
       "      <td>Self-emp-not-inc</td>\n",
       "      <td>83311</td>\n",
       "      <td>Bachelors</td>\n",
       "      <td>13</td>\n",
       "      <td>Married-civ-spouse</td>\n",
       "      <td>Exec-managerial</td>\n",
       "      <td>Husband</td>\n",
       "      <td>White</td>\n",
       "      <td>Male</td>\n",
       "      <td>0</td>\n",
       "      <td>0</td>\n",
       "      <td>13</td>\n",
       "      <td>United-States</td>\n",
       "      <td>&lt;=50K</td>\n",
       "    </tr>\n",
       "  </tbody>\n",
       "</table>\n",
       "</div>"
      ],
      "text/plain": [
       "   0                  1      2           3   4                    5   \\\n",
       "0  39          State-gov  77516   Bachelors  13        Never-married   \n",
       "1  50   Self-emp-not-inc  83311   Bachelors  13   Married-civ-spouse   \n",
       "\n",
       "                 6               7       8      9     10  11  12  \\\n",
       "0      Adm-clerical   Not-in-family   White   Male  2174   0  40   \n",
       "1   Exec-managerial         Husband   White   Male     0   0  13   \n",
       "\n",
       "               13      14  \n",
       "0   United-States   <=50K  \n",
       "1   United-States   <=50K  "
      ]
     },
     "execution_count": 3,
     "metadata": {},
     "output_type": "execute_result"
    }
   ],
   "source": [
    "income_data = pd.read_csv(\"adult/adult.data\", header=None)\n",
    "income_data.head(2)"
   ]
  },
  {
   "cell_type": "code",
   "execution_count": 4,
   "id": "ecfd3b88-4e94-4237-8540-7aa8cb6474d0",
   "metadata": {},
   "outputs": [],
   "source": [
    "income_data.columns = [\n",
    "    \"age\",\n",
    "    \"workclass\",\n",
    "    \"final_weight\",\n",
    "    \"education\",\n",
    "    \"education-num\",\n",
    "    \"marital-status\",\n",
    "    \"occupation\",\n",
    "    \"relationship\",\n",
    "    \"race\",\n",
    "    \"sex\",\n",
    "    \"capital_gain\",\n",
    "    \"capital_loss\",\n",
    "    \"hours_per_week\",\n",
    "    \"native_country\",\n",
    "    \"income_class\",\n",
    "]"
   ]
  },
  {
   "cell_type": "code",
   "execution_count": 5,
   "id": "f7fe1b80-6f2c-4b7f-a26c-3cd03a56d64a",
   "metadata": {},
   "outputs": [],
   "source": [
    "income_attributes = income_data.drop(columns=\"income_class\")\n",
    "income_target = income_data.income_class"
   ]
  },
  {
   "cell_type": "code",
   "execution_count": 6,
   "id": "01b806f7-34a6-4230-9600-92d9dbdf179b",
   "metadata": {},
   "outputs": [
    {
     "data": {
      "text/plain": [
       "((32561, 14), (32561,))"
      ]
     },
     "execution_count": 6,
     "metadata": {},
     "output_type": "execute_result"
    }
   ],
   "source": [
    "income_attributes.shape, income_target.shape"
   ]
  },
  {
   "cell_type": "code",
   "execution_count": 7,
   "id": "8965bc17-96ce-47cd-bac6-dbcd10811029",
   "metadata": {},
   "outputs": [
    {
     "data": {
      "text/plain": [
       "(32561, 100)"
      ]
     },
     "execution_count": 7,
     "metadata": {},
     "output_type": "execute_result"
    }
   ],
   "source": [
    "income_attributes = pd.get_dummies(income_attributes, drop_first=True)\n",
    "income_attributes.shape"
   ]
  },
  {
   "cell_type": "code",
   "execution_count": 8,
   "id": "c1fd8b4d-41a9-4146-be3d-d4facd89b8ff",
   "metadata": {},
   "outputs": [
    {
     "data": {
      "text/plain": [
       "array([dtype('int64'), dtype('uint8')], dtype=object)"
      ]
     },
     "execution_count": 8,
     "metadata": {},
     "output_type": "execute_result"
    }
   ],
   "source": [
    "# ensure data is numeric\n",
    "income_attributes.dtypes.unique()"
   ]
  },
  {
   "cell_type": "code",
   "execution_count": 9,
   "id": "784b1039-809b-4465-9007-3c17d152883a",
   "metadata": {},
   "outputs": [
    {
     "data": {
      "text/plain": [
       "array([0.30136986, 0.0443019 , 0.8       , 0.02174022, 0.        ,\n",
       "       0.39795918, 0.        , 0.        , 0.        , 0.        ,\n",
       "       0.        , 0.        , 1.        , 0.        , 0.        ,\n",
       "       0.        , 0.        , 0.        , 0.        , 0.        ,\n",
       "       0.        , 0.        , 1.        , 0.        , 0.        ,\n",
       "       0.        , 0.        , 0.        , 0.        , 0.        ,\n",
       "       0.        , 0.        , 1.        , 0.        , 0.        ,\n",
       "       1.        , 0.        , 0.        , 0.        , 0.        ,\n",
       "       0.        , 0.        , 0.        , 0.        , 0.        ,\n",
       "       0.        , 0.        , 0.        , 0.        , 1.        ,\n",
       "       0.        , 0.        , 0.        , 0.        , 0.        ,\n",
       "       0.        , 0.        , 1.        , 1.        , 0.        ,\n",
       "       0.        , 0.        , 0.        , 0.        , 0.        ,\n",
       "       0.        , 0.        , 0.        , 0.        , 0.        ,\n",
       "       0.        , 0.        , 0.        , 0.        , 0.        ,\n",
       "       0.        , 0.        , 0.        , 0.        , 0.        ,\n",
       "       0.        , 0.        , 0.        , 0.        , 0.        ,\n",
       "       0.        , 0.        , 0.        , 0.        , 0.        ,\n",
       "       0.        , 0.        , 0.        , 0.        , 0.        ,\n",
       "       0.        , 0.        , 1.        , 0.        , 0.        ])"
      ]
     },
     "execution_count": 9,
     "metadata": {},
     "output_type": "execute_result"
    }
   ],
   "source": [
    "scaler = MinMaxScaler()\n",
    "income_attributes = scaler.fit_transform(income_attributes)\n",
    "income_attributes[0]"
   ]
  },
  {
   "cell_type": "markdown",
   "id": "9765b265-4318-4b7f-bc93-4702405c2486",
   "metadata": {},
   "source": [
    "### Model data"
   ]
  },
  {
   "cell_type": "code",
   "execution_count": 10,
   "id": "8776aedd-f54c-4b57-8206-0df9bd5e4fca",
   "metadata": {},
   "outputs": [
    {
     "name": "stdout",
     "output_type": "stream",
     "text": [
      "(26048, 100)\n",
      "(6513, 100)\n",
      "(26048,)\n",
      "(6513,)\n"
     ]
    }
   ],
   "source": [
    "income_attributes_train, income_attributes_test, \\\n",
    "income_target_train, income_target_test, \\\n",
    "= train_test_split(income_attributes, income_target, train_size=0.8, test_size=0.2)\n",
    "\n",
    "\n",
    "for group in [income_attributes_train, income_attributes_test, income_target_train, income_target_test]:\n",
    "    print(group.shape)"
   ]
  },
  {
   "cell_type": "code",
   "execution_count": 37,
   "id": "181702c8-543c-4fbf-8071-4de12491aa2e",
   "metadata": {},
   "outputs": [
    {
     "name": "stderr",
     "output_type": "stream",
     "text": [
      "C:\\Users\\a1056968\\Anaconda3\\envs\\machine_learning\\lib\\site-packages\\sklearn\\linear_model\\_logistic.py:444: ConvergenceWarning: lbfgs failed to converge (status=1):\n",
      "STOP: TOTAL NO. of ITERATIONS REACHED LIMIT.\n",
      "\n",
      "Increase the number of iterations (max_iter) or scale the data as shown in:\n",
      "    https://scikit-learn.org/stable/modules/preprocessing.html\n",
      "Please also refer to the documentation for alternative solver options:\n",
      "    https://scikit-learn.org/stable/modules/linear_model.html#logistic-regression\n",
      "  n_iter_i = _check_optimize_result(\n"
     ]
    },
    {
     "data": {
      "text/html": [
       "<style>#sk-container-id-2 {color: black;background-color: white;}#sk-container-id-2 pre{padding: 0;}#sk-container-id-2 div.sk-toggleable {background-color: white;}#sk-container-id-2 label.sk-toggleable__label {cursor: pointer;display: block;width: 100%;margin-bottom: 0;padding: 0.3em;box-sizing: border-box;text-align: center;}#sk-container-id-2 label.sk-toggleable__label-arrow:before {content: \"▸\";float: left;margin-right: 0.25em;color: #696969;}#sk-container-id-2 label.sk-toggleable__label-arrow:hover:before {color: black;}#sk-container-id-2 div.sk-estimator:hover label.sk-toggleable__label-arrow:before {color: black;}#sk-container-id-2 div.sk-toggleable__content {max-height: 0;max-width: 0;overflow: hidden;text-align: left;background-color: #f0f8ff;}#sk-container-id-2 div.sk-toggleable__content pre {margin: 0.2em;color: black;border-radius: 0.25em;background-color: #f0f8ff;}#sk-container-id-2 input.sk-toggleable__control:checked~div.sk-toggleable__content {max-height: 200px;max-width: 100%;overflow: auto;}#sk-container-id-2 input.sk-toggleable__control:checked~label.sk-toggleable__label-arrow:before {content: \"▾\";}#sk-container-id-2 div.sk-estimator input.sk-toggleable__control:checked~label.sk-toggleable__label {background-color: #d4ebff;}#sk-container-id-2 div.sk-label input.sk-toggleable__control:checked~label.sk-toggleable__label {background-color: #d4ebff;}#sk-container-id-2 input.sk-hidden--visually {border: 0;clip: rect(1px 1px 1px 1px);clip: rect(1px, 1px, 1px, 1px);height: 1px;margin: -1px;overflow: hidden;padding: 0;position: absolute;width: 1px;}#sk-container-id-2 div.sk-estimator {font-family: monospace;background-color: #f0f8ff;border: 1px dotted black;border-radius: 0.25em;box-sizing: border-box;margin-bottom: 0.5em;}#sk-container-id-2 div.sk-estimator:hover {background-color: #d4ebff;}#sk-container-id-2 div.sk-parallel-item::after {content: \"\";width: 100%;border-bottom: 1px solid gray;flex-grow: 1;}#sk-container-id-2 div.sk-label:hover label.sk-toggleable__label {background-color: #d4ebff;}#sk-container-id-2 div.sk-serial::before {content: \"\";position: absolute;border-left: 1px solid gray;box-sizing: border-box;top: 0;bottom: 0;left: 50%;z-index: 0;}#sk-container-id-2 div.sk-serial {display: flex;flex-direction: column;align-items: center;background-color: white;padding-right: 0.2em;padding-left: 0.2em;position: relative;}#sk-container-id-2 div.sk-item {position: relative;z-index: 1;}#sk-container-id-2 div.sk-parallel {display: flex;align-items: stretch;justify-content: center;background-color: white;position: relative;}#sk-container-id-2 div.sk-item::before, #sk-container-id-2 div.sk-parallel-item::before {content: \"\";position: absolute;border-left: 1px solid gray;box-sizing: border-box;top: 0;bottom: 0;left: 50%;z-index: -1;}#sk-container-id-2 div.sk-parallel-item {display: flex;flex-direction: column;z-index: 1;position: relative;background-color: white;}#sk-container-id-2 div.sk-parallel-item:first-child::after {align-self: flex-end;width: 50%;}#sk-container-id-2 div.sk-parallel-item:last-child::after {align-self: flex-start;width: 50%;}#sk-container-id-2 div.sk-parallel-item:only-child::after {width: 0;}#sk-container-id-2 div.sk-dashed-wrapped {border: 1px dashed gray;margin: 0 0.4em 0.5em 0.4em;box-sizing: border-box;padding-bottom: 0.4em;background-color: white;}#sk-container-id-2 div.sk-label label {font-family: monospace;font-weight: bold;display: inline-block;line-height: 1.2em;}#sk-container-id-2 div.sk-label-container {text-align: center;}#sk-container-id-2 div.sk-container {/* jupyter's `normalize.less` sets `[hidden] { display: none; }` but bootstrap.min.css set `[hidden] { display: none !important; }` so we also need the `!important` here to be able to override the default hidden behavior on the sphinx rendered scikit-learn.org. See: https://github.com/scikit-learn/scikit-learn/issues/21755 */display: inline-block !important;position: relative;}#sk-container-id-2 div.sk-text-repr-fallback {display: none;}</style><div id=\"sk-container-id-2\" class=\"sk-top-container\"><div class=\"sk-text-repr-fallback\"><pre>LogisticRegression(C=1000000000.0)</pre><b>In a Jupyter environment, please rerun this cell to show the HTML representation or trust the notebook. <br />On GitHub, the HTML representation is unable to render, please try loading this page with nbviewer.org.</b></div><div class=\"sk-container\" hidden><div class=\"sk-item\"><div class=\"sk-estimator sk-toggleable\"><input class=\"sk-toggleable__control sk-hidden--visually\" id=\"sk-estimator-id-2\" type=\"checkbox\" checked><label for=\"sk-estimator-id-2\" class=\"sk-toggleable__label sk-toggleable__label-arrow\">LogisticRegression</label><div class=\"sk-toggleable__content\"><pre>LogisticRegression(C=1000000000.0)</pre></div></div></div></div></div>"
      ],
      "text/plain": [
       "LogisticRegression(C=1000000000.0)"
      ]
     },
     "execution_count": 37,
     "metadata": {},
     "output_type": "execute_result"
    }
   ],
   "source": [
    "model = LogisticRegression(C=1e9)\n",
    "model.fit(income_attributes_train, income_target_train)"
   ]
  },
  {
   "cell_type": "markdown",
   "id": "e45d3e22-de6a-41b0-8282-142236feb85e",
   "metadata": {
    "tags": []
   },
   "source": [
    "### Score model"
   ]
  },
  {
   "cell_type": "code",
   "execution_count": 38,
   "id": "96fc2416-2086-4c5f-8472-62ab93baa3d8",
   "metadata": {},
   "outputs": [
    {
     "data": {
      "text/plain": [
       " <=50K    0.75919\n",
       " >50K     0.24081\n",
       "Name: income_class, dtype: float64"
      ]
     },
     "execution_count": 38,
     "metadata": {},
     "output_type": "execute_result"
    }
   ],
   "source": [
    "income_target.value_counts(normalize=True)"
   ]
  },
  {
   "cell_type": "code",
   "execution_count": 47,
   "id": "cea9a025-8ae3-437c-b2b6-35ea0f5b80dd",
   "metadata": {},
   "outputs": [],
   "source": [
    "y_true = income_target_test\n",
    "y_pred = model.predict(income_attributes_test)"
   ]
  },
  {
   "cell_type": "code",
   "execution_count": 48,
   "id": "e1337498-6a7f-4a56-82d6-f89a0c60f9f0",
   "metadata": {},
   "outputs": [
    {
     "data": {
      "text/plain": [
       "0.7094542659492697"
      ]
     },
     "execution_count": 48,
     "metadata": {},
     "output_type": "execute_result"
    }
   ],
   "source": [
    "precision_score(y_true, y_pred, pos_label=\" >50K\")"
   ]
  },
  {
   "cell_type": "code",
   "execution_count": 49,
   "id": "d44b4d2e-2e7b-4458-b08c-3c6f179ef552",
   "metadata": {},
   "outputs": [
    {
     "data": {
      "text/plain": [
       "0.8850729086722947"
      ]
     },
     "execution_count": 49,
     "metadata": {},
     "output_type": "execute_result"
    }
   ],
   "source": [
    "precision_score(y_true, y_pred, pos_label=\" <=50K\")"
   ]
  },
  {
   "cell_type": "code",
   "execution_count": 50,
   "id": "0335d3bd-da6a-4629-adf7-5b0473cb1593",
   "metadata": {},
   "outputs": [
    {
     "data": {
      "text/plain": [
       "0.8499923230462153"
      ]
     },
     "execution_count": 50,
     "metadata": {},
     "output_type": "execute_result"
    }
   ],
   "source": [
    "model.score(income_attributes_test, income_target_test)"
   ]
  },
  {
   "cell_type": "code",
   "execution_count": 51,
   "id": "4ddcec72-fdf9-4fb5-b35e-157178155190",
   "metadata": {},
   "outputs": [
    {
     "data": {
      "text/plain": [
       "0.8538083538083538"
      ]
     },
     "execution_count": 51,
     "metadata": {},
     "output_type": "execute_result"
    }
   ],
   "source": [
    "model.score(income_attributes_train, income_target_train)"
   ]
  },
  {
   "cell_type": "code",
   "execution_count": 52,
   "id": "85c16e9a-7462-4789-9539-7e7c52f09371",
   "metadata": {},
   "outputs": [
    {
     "data": {
      "text/plain": [
       "0.8499923230462153"
      ]
     },
     "execution_count": 52,
     "metadata": {},
     "output_type": "execute_result"
    }
   ],
   "source": [
    "accuracy_score(y_true, y_pred)"
   ]
  },
  {
   "cell_type": "code",
   "execution_count": 53,
   "id": "7158a3b2-39b8-4fd2-8cc9-31c17bc7b43b",
   "metadata": {},
   "outputs": [
    {
     "name": "stdout",
     "output_type": "stream",
     "text": [
      "              precision    recall  f1-score   support\n",
      "\n",
      "       <=50K       0.89      0.92      0.90      4991\n",
      "        >50K       0.71      0.61      0.65      1522\n",
      "\n",
      "    accuracy                           0.85      6513\n",
      "   macro avg       0.80      0.77      0.78      6513\n",
      "weighted avg       0.84      0.85      0.85      6513\n",
      "\n"
     ]
    }
   ],
   "source": [
    "print(classification_report(y_true, y_pred))"
   ]
  },
  {
   "cell_type": "markdown",
   "id": "89b95f03-ca72-4b02-bc60-023b66f01ae7",
   "metadata": {},
   "source": [
    "### Тълкуване на метриките за оценка на модела"
   ]
  },
  {
   "cell_type": "markdown",
   "id": "1b6503ba-41c6-43c3-8fcf-abc6dc1fd884",
   "metadata": {},
   "source": [
    "Тълкуване на горната таблица. Интересува ни високата заплата, >50К. Това е позитивния клас:\n",
    "\n",
    "- 71% от тези, за коиот сме предвидили че са с висока заплата, реално са с такава\n",
    "\n",
    "- за 29% от 1522 сме казали че са с висока заплата, но това е било грешно\n",
    "\n",
    "- от всички, които са с висока заплата сме \"хванали\" 61%, \"изпуснали\" сме 39%\n",
    "\n",
    "- Пример: Ако P (precision) беше 95%, а R (recall) - 52%, това ще означава модела не бърка когато казва че заплата е голяма, но \"хваща\" само половината от случайте. Това значи висок bias (?),\n",
    "\n",
    "\n",
    "Ideally, we would want both: a model that **identifies all of our positive cases (R = 100%)** and that is at the same time **identifies only positive cases (P = 100%)**."
   ]
  },
  {
   "cell_type": "code",
   "execution_count": 17,
   "id": "9d00f04c-b525-479a-88bd-fbcdd46e3229",
   "metadata": {},
   "outputs": [
    {
     "data": {
      "text/plain": [
       "('confusion_matrix,',\n",
       " 'classification_report,',\n",
       " 'ConfusionMatrixDisplay,',\n",
       " 'explained_variance_score,',\n",
       " 'f1_score,',\n",
       " 'mean_squared_error,',\n",
       " 'plot_confusion_matrix,',\n",
       " 'plot_roc_curve')"
      ]
     },
     "execution_count": 17,
     "metadata": {},
     "output_type": "execute_result"
    }
   ],
   "source": [
    ", confusion_matrix, classification_report,\\\n",
    "    ConfusionMatrixDisplay, explained_variance_score, f1_score, \\\n",
    "    mean_squared_error, plot_confusion_matrix, plot_roc_curve"
   ]
  },
  {
   "cell_type": "code",
   "execution_count": null,
   "id": "a3794798-b9da-49ab-b5ae-d5f0878b06c8",
   "metadata": {},
   "outputs": [],
   "source": [
    "plot_roc_curve()"
   ]
  },
  {
   "cell_type": "markdown",
   "id": "c5abdaa4-a863-4184-9b2d-1d80bb418060",
   "metadata": {
    "tags": []
   },
   "source": [
    "## Iris dataset"
   ]
  },
  {
   "cell_type": "code",
   "execution_count": 18,
   "id": "2c4ca762-4260-4573-b139-92006f1e5d49",
   "metadata": {},
   "outputs": [],
   "source": [
    "iris = load_iris()\n",
    "attributes, labels = iris.data[:, [2, 3]], iris.target"
   ]
  },
  {
   "cell_type": "code",
   "execution_count": 19,
   "id": "6a77b647-8920-4b2f-9631-17b3c0d6487b",
   "metadata": {},
   "outputs": [
    {
     "data": {
      "text/plain": [
       "array([[1.4, 0.2],\n",
       "       [1.4, 0.2],\n",
       "       [1.3, 0.2]])"
      ]
     },
     "execution_count": 19,
     "metadata": {},
     "output_type": "execute_result"
    }
   ],
   "source": [
    "attributes[:3]"
   ]
  },
  {
   "cell_type": "code",
   "execution_count": 20,
   "id": "b67d4963-a6ee-4ee9-b1bf-1dba09ba3d25",
   "metadata": {},
   "outputs": [
    {
     "data": {
      "text/plain": [
       "array([0, 0, 0])"
      ]
     },
     "execution_count": 20,
     "metadata": {},
     "output_type": "execute_result"
    }
   ],
   "source": [
    "labels[:3]"
   ]
  },
  {
   "cell_type": "code",
   "execution_count": 21,
   "id": "f64454b5-17b0-42fd-a9c0-13c386adc01f",
   "metadata": {},
   "outputs": [],
   "source": [
    "weights, params = [], []\n",
    "for c in np.arange(-5, 5):\n",
    "    model = LogisticRegression(C = 10.0 ** c)\n",
    "    model.fit(attributes, labels)\n",
    "    weights.append(model.coef_[1]) # Display only the second class\n",
    "    params.append(10.0 ** c)\n",
    "weights = np.array(weights)"
   ]
  },
  {
   "cell_type": "code",
   "execution_count": 22,
   "id": "12585005-a9d8-4469-ab10-2798968538c1",
   "metadata": {},
   "outputs": [
    {
     "data": {
      "text/plain": [
       "array([[-9.55959694, -5.88663343],\n",
       "       [ 1.90505851, -2.273875  ],\n",
       "       [ 7.65453842,  8.16050843]])"
      ]
     },
     "execution_count": 22,
     "metadata": {},
     "output_type": "execute_result"
    }
   ],
   "source": [
    "model.coef_"
   ]
  },
  {
   "cell_type": "code",
   "execution_count": 23,
   "id": "0bac681e-1c18-4159-b39d-70d04cb46be9",
   "metadata": {},
   "outputs": [
    {
     "data": {
      "image/png": "[encoded data removed]",
      "text/plain": [
       "<Figure size 640x480 with 1 Axes>"
      ]
     },
     "metadata": {},
     "output_type": "display_data"
    }
   ],
   "source": [
    "plt.plot(params, weights[:, 0], label = \"Petal length\")\n",
    "plt.plot(params, weights[:, 1], label = \"Petal width\")\n",
    "plt.xlabel(\"C\")\n",
    "plt.ylabel(\"Weight coefficient\")\n",
    "plt.xscale(\"log\")\n",
    "plt.legend()\n",
    "plt.show()"
   ]
  },
  {
   "cell_type": "markdown",
   "id": "8dc4864b-1cbe-423e-b1d1-f86a70fd1d0e",
   "metadata": {},
   "source": [
    "При голяма регуляризация  (lambda) т.е. малко С, тегловните коефициенти стават практически 0."
   ]
  },
  {
   "cell_type": "code",
   "execution_count": null,
   "id": "2c9de42f-5ccb-4b87-8e8b-433eb0feba51",
   "metadata": {},
   "outputs": [],
   "source": []
  }
 ],
 "metadata": {
  "kernelspec": {
   "display_name": "Python 3 (ipykernel)",
   "language": "python",
   "name": "python3"
  },
  "language_info": {
   "codemirror_mode": {
    "name": "ipython",
    "version": 3
   },
   "file_extension": ".py",
   "mimetype": "text/x-python",
   "name": "python",
   "nbconvert_exporter": "python",
   "pygments_lexer": "ipython3",
   "version": "3.9.0"
  }
 },
 "nbformat": 4,
 "nbformat_minor": 5
}
