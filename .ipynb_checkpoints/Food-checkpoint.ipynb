{
 "cells": [
  {
   "cell_type": "code",
   "execution_count": null,
   "id": "12b0a9fa-74bb-4da0-b77b-d52f2ed1bc45",
   "metadata": {},
   "outputs": [],
   "source": [
    "%matplotlib inline"
   ]
  },
  {
   "cell_type": "code",
   "execution_count": 1,
   "id": "7aa6b20a-3ebb-42af-b424-f1cb936f06fe",
   "metadata": {},
   "outputs": [],
   "source": [
    "import numpy as np\n",
    "import pandas as pd\n",
    "import matplotlib.pyplot as plt\n",
    "\n",
    "from pathlib import Path"
   ]
  },
  {
   "cell_type": "markdown",
   "id": "fe0f06c4-11a5-4117-9bc8-79e1cc54c255",
   "metadata": {},
   "source": [
    "# Food"
   ]
  },
  {
   "cell_type": "markdown",
   "id": "49bd006d-8e6a-4618-a811-b4dec43d29ab",
   "metadata": {
    "tags": []
   },
   "source": [
    "## Preprocess and explore"
   ]
  },
  {
   "cell_type": "code",
   "execution_count": 2,
   "id": "ddc3af78-ee79-43f1-b05b-b660ee0bd0e7",
   "metadata": {},
   "outputs": [],
   "source": [
    "path = Path().home() / 'Desktop' / 'en.openfoodfacts.org.products.csv'\n",
    "food = pd.read_csv(path, nrows=100, on_bad_lines='skip', sep='\\t')"
   ]
  },
  {
   "cell_type": "code",
   "execution_count": 11,
   "id": "e716e334-210a-4d69-9657-f339742548f2",
   "metadata": {
    "collapsed": true,
    "jupyter": {
     "outputs_hidden": true
    },
    "tags": []
   },
   "outputs": [
    {
     "data": {
      "text/plain": [
       "[(0, 'code'),\n",
       " (1, 'url'),\n",
       " (2, 'creator'),\n",
       " (3, 'created_t'),\n",
       " (4, 'created_datetime'),\n",
       " (5, 'last_modified_t'),\n",
       " (6, 'last_modified_datetime'),\n",
       " (7, 'product_name'),\n",
       " (8, 'abbreviated_product_name'),\n",
       " (9, 'generic_name'),\n",
       " (10, 'quantity'),\n",
       " (11, 'packaging'),\n",
       " (12, 'packaging_tags'),\n",
       " (13, 'packaging_en'),\n",
       " (14, 'packaging_text'),\n",
       " (15, 'brands'),\n",
       " (16, 'brands_tags'),\n",
       " (17, 'categories'),\n",
       " (18, 'categories_tags'),\n",
       " (19, 'categories_en'),\n",
       " (20, 'origins'),\n",
       " (21, 'origins_tags'),\n",
       " (22, 'origins_en'),\n",
       " (23, 'manufacturing_places'),\n",
       " (24, 'manufacturing_places_tags'),\n",
       " (25, 'labels'),\n",
       " (26, 'labels_tags'),\n",
       " (27, 'labels_en'),\n",
       " (28, 'emb_codes'),\n",
       " (29, 'emb_codes_tags'),\n",
       " (30, 'first_packaging_code_geo'),\n",
       " (31, 'cities'),\n",
       " (32, 'cities_tags'),\n",
       " (33, 'purchase_places'),\n",
       " (34, 'stores'),\n",
       " (35, 'countries'),\n",
       " (36, 'countries_tags'),\n",
       " (37, 'countries_en'),\n",
       " (38, 'ingredients_text'),\n",
       " (39, 'ingredients_tags'),\n",
       " (40, 'allergens'),\n",
       " (41, 'allergens_en'),\n",
       " (42, 'traces'),\n",
       " (43, 'traces_tags'),\n",
       " (44, 'traces_en'),\n",
       " (45, 'serving_size'),\n",
       " (46, 'serving_quantity'),\n",
       " (47, 'no_nutriments'),\n",
       " (48, 'additives_n'),\n",
       " (49, 'additives'),\n",
       " (50, 'additives_tags'),\n",
       " (51, 'additives_en'),\n",
       " (52, 'nutriscore_score'),\n",
       " (53, 'nutriscore_grade'),\n",
       " (54, 'nova_group'),\n",
       " (55, 'pnns_groups_1'),\n",
       " (56, 'pnns_groups_2'),\n",
       " (57, 'food_groups'),\n",
       " (58, 'food_groups_tags'),\n",
       " (59, 'food_groups_en'),\n",
       " (60, 'states'),\n",
       " (61, 'states_tags'),\n",
       " (62, 'states_en'),\n",
       " (63, 'brand_owner'),\n",
       " (64, 'ecoscore_score'),\n",
       " (65, 'ecoscore_grade'),\n",
       " (66, 'main_category'),\n",
       " (67, 'main_category_en'),\n",
       " (68, 'image_url'),\n",
       " (69, 'image_small_url'),\n",
       " (70, 'image_ingredients_url'),\n",
       " (71, 'image_ingredients_small_url'),\n",
       " (72, 'image_nutrition_url'),\n",
       " (73, 'image_nutrition_small_url'),\n",
       " (74, 'energy-kj_100g'),\n",
       " (75, 'energy-kcal_100g'),\n",
       " (76, 'energy_100g'),\n",
       " (77, 'energy-from-fat_100g'),\n",
       " (78, 'fat_100g'),\n",
       " (79, 'saturated-fat_100g'),\n",
       " (80, '-butyric-acid_100g'),\n",
       " (81, '-caproic-acid_100g'),\n",
       " (82, '-caprylic-acid_100g'),\n",
       " (83, '-capric-acid_100g'),\n",
       " (84, '-lauric-acid_100g'),\n",
       " (85, '-myristic-acid_100g'),\n",
       " (86, '-palmitic-acid_100g'),\n",
       " (87, '-stearic-acid_100g'),\n",
       " (88, '-arachidic-acid_100g'),\n",
       " (89, '-behenic-acid_100g'),\n",
       " (90, '-lignoceric-acid_100g'),\n",
       " (91, '-cerotic-acid_100g'),\n",
       " (92, '-montanic-acid_100g'),\n",
       " (93, '-melissic-acid_100g'),\n",
       " (94, 'monounsaturated-fat_100g'),\n",
       " (95, 'polyunsaturated-fat_100g'),\n",
       " (96, 'omega-3-fat_100g'),\n",
       " (97, '-alpha-linolenic-acid_100g'),\n",
       " (98, '-eicosapentaenoic-acid_100g'),\n",
       " (99, '-docosahexaenoic-acid_100g'),\n",
       " (100, 'omega-6-fat_100g'),\n",
       " (101, '-linoleic-acid_100g'),\n",
       " (102, '-arachidonic-acid_100g'),\n",
       " (103, '-gamma-linolenic-acid_100g'),\n",
       " (104, '-dihomo-gamma-linolenic-acid_100g'),\n",
       " (105, 'omega-9-fat_100g'),\n",
       " (106, '-oleic-acid_100g'),\n",
       " (107, '-elaidic-acid_100g'),\n",
       " (108, '-gondoic-acid_100g'),\n",
       " (109, '-mead-acid_100g'),\n",
       " (110, '-erucic-acid_100g'),\n",
       " (111, '-nervonic-acid_100g'),\n",
       " (112, 'trans-fat_100g'),\n",
       " (113, 'cholesterol_100g'),\n",
       " (114, 'carbohydrates_100g'),\n",
       " (115, 'sugars_100g'),\n",
       " (116, '-sucrose_100g'),\n",
       " (117, '-glucose_100g'),\n",
       " (118, '-fructose_100g'),\n",
       " (119, '-lactose_100g'),\n",
       " (120, '-maltose_100g'),\n",
       " (121, '-maltodextrins_100g'),\n",
       " (122, 'starch_100g'),\n",
       " (123, 'polyols_100g'),\n",
       " (124, 'fiber_100g'),\n",
       " (125, 'soluble-fiber_100g'),\n",
       " (126, 'insoluble-fiber_100g'),\n",
       " (127, 'proteins_100g'),\n",
       " (128, 'casein_100g'),\n",
       " (129, 'serum-proteins_100g'),\n",
       " (130, 'nucleotides_100g'),\n",
       " (131, 'salt_100g'),\n",
       " (132, 'sodium_100g'),\n",
       " (133, 'alcohol_100g'),\n",
       " (134, 'vitamin-a_100g'),\n",
       " (135, 'beta-carotene_100g'),\n",
       " (136, 'vitamin-d_100g'),\n",
       " (137, 'vitamin-e_100g'),\n",
       " (138, 'vitamin-k_100g'),\n",
       " (139, 'vitamin-c_100g'),\n",
       " (140, 'vitamin-b1_100g'),\n",
       " (141, 'vitamin-b2_100g'),\n",
       " (142, 'vitamin-pp_100g'),\n",
       " (143, 'vitamin-b6_100g'),\n",
       " (144, 'vitamin-b9_100g'),\n",
       " (145, 'folates_100g'),\n",
       " (146, 'vitamin-b12_100g'),\n",
       " (147, 'biotin_100g'),\n",
       " (148, 'pantothenic-acid_100g'),\n",
       " (149, 'silica_100g'),\n",
       " (150, 'bicarbonate_100g'),\n",
       " (151, 'potassium_100g'),\n",
       " (152, 'chloride_100g'),\n",
       " (153, 'calcium_100g'),\n",
       " (154, 'phosphorus_100g'),\n",
       " (155, 'iron_100g'),\n",
       " (156, 'magnesium_100g'),\n",
       " (157, 'zinc_100g'),\n",
       " (158, 'copper_100g'),\n",
       " (159, 'manganese_100g'),\n",
       " (160, 'fluoride_100g'),\n",
       " (161, 'selenium_100g'),\n",
       " (162, 'chromium_100g'),\n",
       " (163, 'molybdenum_100g'),\n",
       " (164, 'iodine_100g'),\n",
       " (165, 'caffeine_100g'),\n",
       " (166, 'taurine_100g'),\n",
       " (167, 'ph_100g'),\n",
       " (168, 'fruits-vegetables-nuts_100g'),\n",
       " (169, 'fruits-vegetables-nuts-dried_100g'),\n",
       " (170, 'fruits-vegetables-nuts-estimate_100g'),\n",
       " (171, 'fruits-vegetables-nuts-estimate-from-ingredients_100g'),\n",
       " (172, 'collagen-meat-protein-ratio_100g'),\n",
       " (173, 'cocoa_100g'),\n",
       " (174, 'chlorophyl_100g'),\n",
       " (175, 'carbon-footprint_100g'),\n",
       " (176, 'carbon-footprint-from-meat-or-fish_100g'),\n",
       " (177, 'nutrition-score-fr_100g'),\n",
       " (178, 'nutrition-score-uk_100g'),\n",
       " (179, 'glycemic-index_100g'),\n",
       " (180, 'water-hardness_100g'),\n",
       " (181, 'choline_100g'),\n",
       " (182, 'phylloquinone_100g'),\n",
       " (183, 'beta-glucan_100g'),\n",
       " (184, 'inositol_100g'),\n",
       " (185, 'carnitine_100g')]"
      ]
     },
     "execution_count": 11,
     "metadata": {},
     "output_type": "execute_result"
    }
   ],
   "source": [
    "list(enumerate(food.columns.to_list()))"
   ]
  },
  {
   "cell_type": "code",
   "execution_count": 7,
   "id": "ec8108f1-04e9-4481-bb5f-2e3d141d39fb",
   "metadata": {},
   "outputs": [
    {
     "data": {
      "text/plain": [
       "0      France\n",
       "1     Germany\n",
       "2       Spain\n",
       "3      France\n",
       "4      France\n",
       "       ...   \n",
       "95     France\n",
       "96     France\n",
       "97        NaN\n",
       "98     France\n",
       "99     France\n",
       "Name: countries_en, Length: 100, dtype: object"
      ]
     },
     "execution_count": 7,
     "metadata": {},
     "output_type": "execute_result"
    }
   ],
   "source": [
    "food.countries_en"
   ]
  },
  {
   "cell_type": "code",
   "execution_count": 15,
   "id": "4a52b5c8-699a-456b-8348-055ccb282292",
   "metadata": {},
   "outputs": [],
   "source": [
    "countries = pd.read_csv(path, usecols=[37], nrows=10000, on_bad_lines='skip', sep='\\t')"
   ]
  },
  {
   "cell_type": "code",
   "execution_count": 19,
   "id": "3c718293-2d51-4ac1-b0bd-75749200b49f",
   "metadata": {},
   "outputs": [
    {
     "ename": "KeyError",
     "evalue": "'Japan'",
     "output_type": "error",
     "traceback": [
      "\u001b[1;31m---------------------------------------------------------------------------\u001b[0m",
      "\u001b[1;31mKeyError\u001b[0m                                  Traceback (most recent call last)",
      "\u001b[1;32m~\\Anaconda3\\envs\\machine_learning\\lib\\site-packages\\pandas\\core\\indexes\\base.py\u001b[0m in \u001b[0;36mget_loc\u001b[1;34m(self, key, method, tolerance)\u001b[0m\n\u001b[0;32m   3628\u001b[0m             \u001b[1;32mtry\u001b[0m\u001b[1;33m:\u001b[0m\u001b[1;33m\u001b[0m\u001b[1;33m\u001b[0m\u001b[0m\n\u001b[1;32m-> 3629\u001b[1;33m                 \u001b[1;32mreturn\u001b[0m \u001b[0mself\u001b[0m\u001b[1;33m.\u001b[0m\u001b[0m_engine\u001b[0m\u001b[1;33m.\u001b[0m\u001b[0mget_loc\u001b[0m\u001b[1;33m(\u001b[0m\u001b[0mcasted_key\u001b[0m\u001b[1;33m)\u001b[0m\u001b[1;33m\u001b[0m\u001b[1;33m\u001b[0m\u001b[0m\n\u001b[0m\u001b[0;32m   3630\u001b[0m             \u001b[1;32mexcept\u001b[0m \u001b[0mKeyError\u001b[0m \u001b[1;32mas\u001b[0m \u001b[0merr\u001b[0m\u001b[1;33m:\u001b[0m\u001b[1;33m\u001b[0m\u001b[1;33m\u001b[0m\u001b[0m\n",
      "\u001b[1;32m~\\Anaconda3\\envs\\machine_learning\\lib\\site-packages\\pandas\\_libs\\index.pyx\u001b[0m in \u001b[0;36mpandas._libs.index.IndexEngine.get_loc\u001b[1;34m()\u001b[0m\n",
      "\u001b[1;32m~\\Anaconda3\\envs\\machine_learning\\lib\\site-packages\\pandas\\_libs\\index.pyx\u001b[0m in \u001b[0;36mpandas._libs.index.IndexEngine.get_loc\u001b[1;34m()\u001b[0m\n",
      "\u001b[1;32mpandas\\_libs\\hashtable_class_helper.pxi\u001b[0m in \u001b[0;36mpandas._libs.hashtable.PyObjectHashTable.get_item\u001b[1;34m()\u001b[0m\n",
      "\u001b[1;32mpandas\\_libs\\hashtable_class_helper.pxi\u001b[0m in \u001b[0;36mpandas._libs.hashtable.PyObjectHashTable.get_item\u001b[1;34m()\u001b[0m\n",
      "\u001b[1;31mKeyError\u001b[0m: 'Japan'",
      "\nThe above exception was the direct cause of the following exception:\n",
      "\u001b[1;31mKeyError\u001b[0m                                  Traceback (most recent call last)",
      "\u001b[1;32m~\\AppData\\Local\\Temp\\ipykernel_11092\\870040354.py\u001b[0m in \u001b[0;36m<module>\u001b[1;34m\u001b[0m\n\u001b[1;32m----> 1\u001b[1;33m \u001b[0mcountries\u001b[0m\u001b[1;33m.\u001b[0m\u001b[0mvalue_counts\u001b[0m\u001b[1;33m(\u001b[0m\u001b[1;33m)\u001b[0m\u001b[1;33m[\u001b[0m\u001b[1;34m'Japan'\u001b[0m\u001b[1;33m]\u001b[0m\u001b[1;33m\u001b[0m\u001b[1;33m\u001b[0m\u001b[0m\n\u001b[0m",
      "\u001b[1;32m~\\Anaconda3\\envs\\machine_learning\\lib\\site-packages\\pandas\\core\\series.py\u001b[0m in \u001b[0;36m__getitem__\u001b[1;34m(self, key)\u001b[0m\n\u001b[0;32m    956\u001b[0m \u001b[1;33m\u001b[0m\u001b[0m\n\u001b[0;32m    957\u001b[0m         \u001b[1;32melif\u001b[0m \u001b[0mkey_is_scalar\u001b[0m\u001b[1;33m:\u001b[0m\u001b[1;33m\u001b[0m\u001b[1;33m\u001b[0m\u001b[0m\n\u001b[1;32m--> 958\u001b[1;33m             \u001b[1;32mreturn\u001b[0m \u001b[0mself\u001b[0m\u001b[1;33m.\u001b[0m\u001b[0m_get_value\u001b[0m\u001b[1;33m(\u001b[0m\u001b[0mkey\u001b[0m\u001b[1;33m)\u001b[0m\u001b[1;33m\u001b[0m\u001b[1;33m\u001b[0m\u001b[0m\n\u001b[0m\u001b[0;32m    959\u001b[0m \u001b[1;33m\u001b[0m\u001b[0m\n\u001b[0;32m    960\u001b[0m         \u001b[1;32mif\u001b[0m \u001b[0mis_hashable\u001b[0m\u001b[1;33m(\u001b[0m\u001b[0mkey\u001b[0m\u001b[1;33m)\u001b[0m\u001b[1;33m:\u001b[0m\u001b[1;33m\u001b[0m\u001b[1;33m\u001b[0m\u001b[0m\n",
      "\u001b[1;32m~\\Anaconda3\\envs\\machine_learning\\lib\\site-packages\\pandas\\core\\series.py\u001b[0m in \u001b[0;36m_get_value\u001b[1;34m(self, label, takeable)\u001b[0m\n\u001b[0;32m   1067\u001b[0m \u001b[1;33m\u001b[0m\u001b[0m\n\u001b[0;32m   1068\u001b[0m         \u001b[1;31m# Similar to Index.get_value, but we do not fall back to positional\u001b[0m\u001b[1;33m\u001b[0m\u001b[1;33m\u001b[0m\u001b[1;33m\u001b[0m\u001b[0m\n\u001b[1;32m-> 1069\u001b[1;33m         \u001b[0mloc\u001b[0m \u001b[1;33m=\u001b[0m \u001b[0mself\u001b[0m\u001b[1;33m.\u001b[0m\u001b[0mindex\u001b[0m\u001b[1;33m.\u001b[0m\u001b[0mget_loc\u001b[0m\u001b[1;33m(\u001b[0m\u001b[0mlabel\u001b[0m\u001b[1;33m)\u001b[0m\u001b[1;33m\u001b[0m\u001b[1;33m\u001b[0m\u001b[0m\n\u001b[0m\u001b[0;32m   1070\u001b[0m         \u001b[1;32mreturn\u001b[0m \u001b[0mself\u001b[0m\u001b[1;33m.\u001b[0m\u001b[0mindex\u001b[0m\u001b[1;33m.\u001b[0m\u001b[0m_get_values_for_loc\u001b[0m\u001b[1;33m(\u001b[0m\u001b[0mself\u001b[0m\u001b[1;33m,\u001b[0m \u001b[0mloc\u001b[0m\u001b[1;33m,\u001b[0m \u001b[0mlabel\u001b[0m\u001b[1;33m)\u001b[0m\u001b[1;33m\u001b[0m\u001b[1;33m\u001b[0m\u001b[0m\n\u001b[0;32m   1071\u001b[0m \u001b[1;33m\u001b[0m\u001b[0m\n",
      "\u001b[1;32m~\\Anaconda3\\envs\\machine_learning\\lib\\site-packages\\pandas\\core\\indexes\\multi.py\u001b[0m in \u001b[0;36mget_loc\u001b[1;34m(self, key, method)\u001b[0m\n\u001b[0;32m   2867\u001b[0m \u001b[1;33m\u001b[0m\u001b[0m\n\u001b[0;32m   2868\u001b[0m         \u001b[1;32mif\u001b[0m \u001b[1;32mnot\u001b[0m \u001b[0misinstance\u001b[0m\u001b[1;33m(\u001b[0m\u001b[0mkey\u001b[0m\u001b[1;33m,\u001b[0m \u001b[0mtuple\u001b[0m\u001b[1;33m)\u001b[0m\u001b[1;33m:\u001b[0m\u001b[1;33m\u001b[0m\u001b[1;33m\u001b[0m\u001b[0m\n\u001b[1;32m-> 2869\u001b[1;33m             \u001b[0mloc\u001b[0m \u001b[1;33m=\u001b[0m \u001b[0mself\u001b[0m\u001b[1;33m.\u001b[0m\u001b[0m_get_level_indexer\u001b[0m\u001b[1;33m(\u001b[0m\u001b[0mkey\u001b[0m\u001b[1;33m,\u001b[0m \u001b[0mlevel\u001b[0m\u001b[1;33m=\u001b[0m\u001b[1;36m0\u001b[0m\u001b[1;33m)\u001b[0m\u001b[1;33m\u001b[0m\u001b[1;33m\u001b[0m\u001b[0m\n\u001b[0m\u001b[0;32m   2870\u001b[0m             \u001b[1;32mreturn\u001b[0m \u001b[0m_maybe_to_slice\u001b[0m\u001b[1;33m(\u001b[0m\u001b[0mloc\u001b[0m\u001b[1;33m)\u001b[0m\u001b[1;33m\u001b[0m\u001b[1;33m\u001b[0m\u001b[0m\n\u001b[0;32m   2871\u001b[0m \u001b[1;33m\u001b[0m\u001b[0m\n",
      "\u001b[1;32m~\\Anaconda3\\envs\\machine_learning\\lib\\site-packages\\pandas\\core\\indexes\\multi.py\u001b[0m in \u001b[0;36m_get_level_indexer\u001b[1;34m(self, key, level, indexer)\u001b[0m\n\u001b[0;32m   3220\u001b[0m         \u001b[1;32melse\u001b[0m\u001b[1;33m:\u001b[0m\u001b[1;33m\u001b[0m\u001b[1;33m\u001b[0m\u001b[0m\n\u001b[0;32m   3221\u001b[0m \u001b[1;33m\u001b[0m\u001b[0m\n\u001b[1;32m-> 3222\u001b[1;33m             \u001b[0midx\u001b[0m \u001b[1;33m=\u001b[0m \u001b[0mself\u001b[0m\u001b[1;33m.\u001b[0m\u001b[0m_get_loc_single_level_index\u001b[0m\u001b[1;33m(\u001b[0m\u001b[0mlevel_index\u001b[0m\u001b[1;33m,\u001b[0m \u001b[0mkey\u001b[0m\u001b[1;33m)\u001b[0m\u001b[1;33m\u001b[0m\u001b[1;33m\u001b[0m\u001b[0m\n\u001b[0m\u001b[0;32m   3223\u001b[0m \u001b[1;33m\u001b[0m\u001b[0m\n\u001b[0;32m   3224\u001b[0m             \u001b[1;32mif\u001b[0m \u001b[0mlevel\u001b[0m \u001b[1;33m>\u001b[0m \u001b[1;36m0\u001b[0m \u001b[1;32mor\u001b[0m \u001b[0mself\u001b[0m\u001b[1;33m.\u001b[0m\u001b[0m_lexsort_depth\u001b[0m \u001b[1;33m==\u001b[0m \u001b[1;36m0\u001b[0m\u001b[1;33m:\u001b[0m\u001b[1;33m\u001b[0m\u001b[1;33m\u001b[0m\u001b[0m\n",
      "\u001b[1;32m~\\Anaconda3\\envs\\machine_learning\\lib\\site-packages\\pandas\\core\\indexes\\multi.py\u001b[0m in \u001b[0;36m_get_loc_single_level_index\u001b[1;34m(self, level_index, key)\u001b[0m\n\u001b[0;32m   2800\u001b[0m             \u001b[1;32mreturn\u001b[0m \u001b[1;33m-\u001b[0m\u001b[1;36m1\u001b[0m\u001b[1;33m\u001b[0m\u001b[1;33m\u001b[0m\u001b[0m\n\u001b[0;32m   2801\u001b[0m         \u001b[1;32melse\u001b[0m\u001b[1;33m:\u001b[0m\u001b[1;33m\u001b[0m\u001b[1;33m\u001b[0m\u001b[0m\n\u001b[1;32m-> 2802\u001b[1;33m             \u001b[1;32mreturn\u001b[0m \u001b[0mlevel_index\u001b[0m\u001b[1;33m.\u001b[0m\u001b[0mget_loc\u001b[0m\u001b[1;33m(\u001b[0m\u001b[0mkey\u001b[0m\u001b[1;33m)\u001b[0m\u001b[1;33m\u001b[0m\u001b[1;33m\u001b[0m\u001b[0m\n\u001b[0m\u001b[0;32m   2803\u001b[0m \u001b[1;33m\u001b[0m\u001b[0m\n\u001b[0;32m   2804\u001b[0m     \u001b[1;32mdef\u001b[0m \u001b[0mget_loc\u001b[0m\u001b[1;33m(\u001b[0m\u001b[0mself\u001b[0m\u001b[1;33m,\u001b[0m \u001b[0mkey\u001b[0m\u001b[1;33m,\u001b[0m \u001b[0mmethod\u001b[0m\u001b[1;33m=\u001b[0m\u001b[1;32mNone\u001b[0m\u001b[1;33m)\u001b[0m\u001b[1;33m:\u001b[0m\u001b[1;33m\u001b[0m\u001b[1;33m\u001b[0m\u001b[0m\n",
      "\u001b[1;32m~\\Anaconda3\\envs\\machine_learning\\lib\\site-packages\\pandas\\core\\indexes\\base.py\u001b[0m in \u001b[0;36mget_loc\u001b[1;34m(self, key, method, tolerance)\u001b[0m\n\u001b[0;32m   3629\u001b[0m                 \u001b[1;32mreturn\u001b[0m \u001b[0mself\u001b[0m\u001b[1;33m.\u001b[0m\u001b[0m_engine\u001b[0m\u001b[1;33m.\u001b[0m\u001b[0mget_loc\u001b[0m\u001b[1;33m(\u001b[0m\u001b[0mcasted_key\u001b[0m\u001b[1;33m)\u001b[0m\u001b[1;33m\u001b[0m\u001b[1;33m\u001b[0m\u001b[0m\n\u001b[0;32m   3630\u001b[0m             \u001b[1;32mexcept\u001b[0m \u001b[0mKeyError\u001b[0m \u001b[1;32mas\u001b[0m \u001b[0merr\u001b[0m\u001b[1;33m:\u001b[0m\u001b[1;33m\u001b[0m\u001b[1;33m\u001b[0m\u001b[0m\n\u001b[1;32m-> 3631\u001b[1;33m                 \u001b[1;32mraise\u001b[0m \u001b[0mKeyError\u001b[0m\u001b[1;33m(\u001b[0m\u001b[0mkey\u001b[0m\u001b[1;33m)\u001b[0m \u001b[1;32mfrom\u001b[0m \u001b[0merr\u001b[0m\u001b[1;33m\u001b[0m\u001b[1;33m\u001b[0m\u001b[0m\n\u001b[0m\u001b[0;32m   3632\u001b[0m             \u001b[1;32mexcept\u001b[0m \u001b[0mTypeError\u001b[0m\u001b[1;33m:\u001b[0m\u001b[1;33m\u001b[0m\u001b[1;33m\u001b[0m\u001b[0m\n\u001b[0;32m   3633\u001b[0m                 \u001b[1;31m# If we have a listlike key, _check_indexing_error will raise\u001b[0m\u001b[1;33m\u001b[0m\u001b[1;33m\u001b[0m\u001b[1;33m\u001b[0m\u001b[0m\n",
      "\u001b[1;31mKeyError\u001b[0m: 'Japan'"
     ]
    }
   ],
   "source": [
    "countries.value_counts()['Japan']"
   ]
  },
  {
   "cell_type": "code",
   "execution_count": null,
   "id": "75e7fb29-b097-49e4-9d06-38f16460f830",
   "metadata": {},
   "outputs": [],
   "source": []
  },
  {
   "cell_type": "markdown",
   "id": "798b946e-232c-41b0-952c-8f1243d42764",
   "metadata": {},
   "source": [
    "##"
   ]
  },
  {
   "cell_type": "code",
   "execution_count": null,
   "id": "9ac36235-e039-4525-ad46-6eae4a1cb650",
   "metadata": {},
   "outputs": [],
   "source": []
  },
  {
   "cell_type": "code",
   "execution_count": null,
   "id": "3ff09228-05d2-46d6-a87c-75dbb140e1e8",
   "metadata": {},
   "outputs": [],
   "source": []
  },
  {
   "cell_type": "code",
   "execution_count": null,
   "id": "356a4f5a-1c25-4774-a7e5-03410b7ebcbf",
   "metadata": {},
   "outputs": [],
   "source": []
  },
  {
   "cell_type": "code",
   "execution_count": null,
   "id": "0c22071a-ffea-4042-980c-e8937fc241ad",
   "metadata": {},
   "outputs": [],
   "source": []
  }
 ],
 "metadata": {
  "kernelspec": {
   "display_name": "Python 3 (ipykernel)",
   "language": "python",
   "name": "python3"
  },
  "language_info": {
   "codemirror_mode": {
    "name": "ipython",
    "version": 3
   },
   "file_extension": ".py",
   "mimetype": "text/x-python",
   "name": "python",
   "nbconvert_exporter": "python",
   "pygments_lexer": "ipython3",
   "version": "3.9.0"
  }
 },
 "nbformat": 4,
 "nbformat_minor": 5
}
