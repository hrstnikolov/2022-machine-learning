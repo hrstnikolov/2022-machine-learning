{
 "cells": [
  {
   "cell_type": "code",
   "execution_count": 3,
   "id": "aba10c01-cf09-4214-9fda-52ba7715e7df",
   "metadata": {},
   "outputs": [],
   "source": [
    "import pyautogui\n",
    "from pathlib import Path\n",
    "from datetime import datetime\n",
    "import time\n",
    "from fpdf import FPDF"
   ]
  },
  {
   "cell_type": "markdown",
   "id": "e32d142f-9e42-4d66-a0f9-f053c5f13414",
   "metadata": {},
   "source": [
    "# Macro to take screenshots and combine in image"
   ]
  },
  {
   "cell_type": "code",
   "execution_count": 36,
   "id": "97403939-3d3c-48bc-b587-9ee8e96e156b",
   "metadata": {},
   "outputs": [],
   "source": [
    "OUTPUT_DIR = Path(r'C:\\Users\\a1056968\\Desktop\\dfss')\n",
    "SCREENSHOT_IMAGE_FORMAT = \"%Y_%m_%d_%H_%M_%S_%f\"\n",
    "OUTPUT_PDF_NAME = \"dfss-slides.pdf\""
   ]
  },
  {
   "cell_type": "code",
   "execution_count": 39,
   "id": "c483ff4d-8e39-4a76-a7d4-41d87a039821",
   "metadata": {},
   "outputs": [],
   "source": [
    "for _ in range(10):\n",
    "    screenshot = pyautogui.screenshot(region=(250, 130, 1300, 830))\n",
    "    FILENAME = f'{datetime.now().strftime(SCREENSHOT_IMAGE_FORMAT)}.png'\n",
    "    screenshot.save(OUTPUT_DIR / FILENAME)\n",
    "    time.sleep(0.5)\n",
    "    pyautogui.click(x=70, y=150)"
   ]
  },
  {
   "cell_type": "code",
   "execution_count": 34,
   "id": "a94aad45-877d-4fbc-a7a2-62c8ffe770ea",
   "metadata": {},
   "outputs": [
    {
     "data": {
      "text/plain": [
       "''"
      ]
     },
     "execution_count": 34,
     "metadata": {},
     "output_type": "execute_result"
    }
   ],
   "source": [
    "pdf = FPDF('L', 'mm', 'A4')\n",
    "for image in OUTPUT_DIR.iterdir():\n",
    "    pdf.add_page()\n",
    "    pdf.image(str(image), w=280)\n",
    "pdf.output(str(OUTPUT_DIR / OUTPUT_PDF_NAME), \"F\")"
   ]
  },
  {
   "cell_type": "code",
   "execution_count": null,
   "id": "697ea931-f757-492f-b72d-aec3efc18ddf",
   "metadata": {},
   "outputs": [],
   "source": []
  }
 ],
 "metadata": {
  "kernelspec": {
   "display_name": "Python 3 (ipykernel)",
   "language": "python",
   "name": "python3"
  },
  "language_info": {
   "codemirror_mode": {
    "name": "ipython",
    "version": 3
   },
   "file_extension": ".py",
   "mimetype": "text/x-python",
   "name": "python",
   "nbconvert_exporter": "python",
   "pygments_lexer": "ipython3",
   "version": "3.9.0"
  }
 },
 "nbformat": 4,
 "nbformat_minor": 5
}
