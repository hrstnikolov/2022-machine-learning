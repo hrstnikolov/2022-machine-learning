{
 "cells": [
  {
   "cell_type": "code",
   "execution_count": 1,
   "id": "8f93bfb9-ea52-49cc-94ec-ca637ae1db25",
   "metadata": {},
   "outputs": [],
   "source": [
    "%matplotlib inline"
   ]
  },
  {
   "cell_type": "code",
   "execution_count": 2,
   "id": "efb76e98-d729-412d-885a-03496e5bfd53",
   "metadata": {},
   "outputs": [],
   "source": [
    "import numpy as np\n",
    "import pandas as pd\n",
    "import matplotlib.pyplot as plt\n",
    "\n",
    "from sklearn.preprocessing import MinMaxScaler, PolynomialFeatures\n",
    "from sklearn.linear_model import LinearRegression, LogisticRegression, RANSACRegressor\n",
    "from sklearn.metrics import mean_absolute_error, mean_squared_error"
   ]
  },
  {
   "cell_type": "markdown",
   "id": "8baf010e-9c51-4351-976c-f4b9a02f584b",
   "metadata": {},
   "source": [
    "# Linear and Logistic Regression Demos"
   ]
  },
  {
   "cell_type": "markdown",
   "id": "80792976-0fe5-4baf-8f45-c1a4791e9cb3",
   "metadata": {
    "tags": []
   },
   "source": [
    "## Housing"
   ]
  },
  {
   "cell_type": "markdown",
   "id": "4fe1a9ba-4687-431e-863f-f86e5e54fbbf",
   "metadata": {},
   "source": [
    "### Read, clean and explore"
   ]
  },
  {
   "cell_type": "markdown",
   "id": "d052c20a-c322-4820-aa5e-90ea0aa4b3f8",
   "metadata": {},
   "source": [
    "Data from [here](https://archive.ics.uci.edu/ml/machine-learning-databases/housing/).\n",
    "\n",
    "Целта ни е да предсказваме `price` променливата чрез другите. `price` е цената на имота в хиляди $. "
   ]
  },
  {
   "cell_type": "code",
   "execution_count": 3,
   "id": "600202f4-bad1-410a-98ad-a6698d32c156",
   "metadata": {},
   "outputs": [
    {
     "data": {
      "text/html": [
       "<div>\n",
       "<style scoped>\n",
       "    .dataframe tbody tr th:only-of-type {\n",
       "        vertical-align: middle;\n",
       "    }\n",
       "\n",
       "    .dataframe tbody tr th {\n",
       "        vertical-align: top;\n",
       "    }\n",
       "\n",
       "    .dataframe thead th {\n",
       "        text-align: right;\n",
       "    }\n",
       "</style>\n",
       "<table border=\"1\" class=\"dataframe\">\n",
       "  <thead>\n",
       "    <tr style=\"text-align: right;\">\n",
       "      <th></th>\n",
       "      <th>0</th>\n",
       "      <th>1</th>\n",
       "      <th>2</th>\n",
       "      <th>3</th>\n",
       "      <th>4</th>\n",
       "      <th>5</th>\n",
       "      <th>6</th>\n",
       "      <th>7</th>\n",
       "      <th>8</th>\n",
       "      <th>9</th>\n",
       "      <th>10</th>\n",
       "      <th>11</th>\n",
       "      <th>12</th>\n",
       "      <th>13</th>\n",
       "    </tr>\n",
       "  </thead>\n",
       "  <tbody>\n",
       "    <tr>\n",
       "      <th>0</th>\n",
       "      <td>0.00632</td>\n",
       "      <td>18.0</td>\n",
       "      <td>2.31</td>\n",
       "      <td>0</td>\n",
       "      <td>0.538</td>\n",
       "      <td>6.575</td>\n",
       "      <td>65.2</td>\n",
       "      <td>4.0900</td>\n",
       "      <td>1</td>\n",
       "      <td>296.0</td>\n",
       "      <td>15.3</td>\n",
       "      <td>396.9</td>\n",
       "      <td>4.98</td>\n",
       "      <td>24.0</td>\n",
       "    </tr>\n",
       "    <tr>\n",
       "      <th>1</th>\n",
       "      <td>0.02731</td>\n",
       "      <td>0.0</td>\n",
       "      <td>7.07</td>\n",
       "      <td>0</td>\n",
       "      <td>0.469</td>\n",
       "      <td>6.421</td>\n",
       "      <td>78.9</td>\n",
       "      <td>4.9671</td>\n",
       "      <td>2</td>\n",
       "      <td>242.0</td>\n",
       "      <td>17.8</td>\n",
       "      <td>396.9</td>\n",
       "      <td>9.14</td>\n",
       "      <td>21.6</td>\n",
       "    </tr>\n",
       "  </tbody>\n",
       "</table>\n",
       "</div>"
      ],
      "text/plain": [
       "        0     1     2   3      4      5     6       7   8      9     10  \\\n",
       "0  0.00632  18.0  2.31   0  0.538  6.575  65.2  4.0900   1  296.0  15.3   \n",
       "1  0.02731   0.0  7.07   0  0.469  6.421  78.9  4.9671   2  242.0  17.8   \n",
       "\n",
       "      11    12    13  \n",
       "0  396.9  4.98  24.0  \n",
       "1  396.9  9.14  21.6  "
      ]
     },
     "execution_count": 3,
     "metadata": {},
     "output_type": "execute_result"
    }
   ],
   "source": [
    "housing = pd.read_fwf(\"https://archive.ics.uci.edu/ml/machine-learning-databases/housing/housing.data\", header = None)\n",
    "housing.head(2)"
   ]
  },
  {
   "cell_type": "code",
   "execution_count": 4,
   "id": "fc2ccb00-84ee-4c23-9789-eb7c68a10975",
   "metadata": {},
   "outputs": [
    {
     "data": {
      "text/html": [
       "<div>\n",
       "<style scoped>\n",
       "    .dataframe tbody tr th:only-of-type {\n",
       "        vertical-align: middle;\n",
       "    }\n",
       "\n",
       "    .dataframe tbody tr th {\n",
       "        vertical-align: top;\n",
       "    }\n",
       "\n",
       "    .dataframe thead th {\n",
       "        text-align: right;\n",
       "    }\n",
       "</style>\n",
       "<table border=\"1\" class=\"dataframe\">\n",
       "  <thead>\n",
       "    <tr style=\"text-align: right;\">\n",
       "      <th></th>\n",
       "      <th>crime_rate</th>\n",
       "      <th>zoned_land</th>\n",
       "      <th>industry</th>\n",
       "      <th>bounds_river</th>\n",
       "      <th>nox_conc</th>\n",
       "      <th>rooms</th>\n",
       "      <th>age</th>\n",
       "      <th>distance</th>\n",
       "      <th>highways</th>\n",
       "      <th>tax</th>\n",
       "      <th>pt_ratio</th>\n",
       "      <th>b_estimator</th>\n",
       "      <th>pop_status</th>\n",
       "      <th>price</th>\n",
       "    </tr>\n",
       "  </thead>\n",
       "  <tbody>\n",
       "    <tr>\n",
       "      <th>0</th>\n",
       "      <td>0.00632</td>\n",
       "      <td>18.0</td>\n",
       "      <td>2.31</td>\n",
       "      <td>0</td>\n",
       "      <td>0.538</td>\n",
       "      <td>6.575</td>\n",
       "      <td>65.2</td>\n",
       "      <td>4.0900</td>\n",
       "      <td>1</td>\n",
       "      <td>296.0</td>\n",
       "      <td>15.3</td>\n",
       "      <td>396.9</td>\n",
       "      <td>4.98</td>\n",
       "      <td>24.0</td>\n",
       "    </tr>\n",
       "    <tr>\n",
       "      <th>1</th>\n",
       "      <td>0.02731</td>\n",
       "      <td>0.0</td>\n",
       "      <td>7.07</td>\n",
       "      <td>0</td>\n",
       "      <td>0.469</td>\n",
       "      <td>6.421</td>\n",
       "      <td>78.9</td>\n",
       "      <td>4.9671</td>\n",
       "      <td>2</td>\n",
       "      <td>242.0</td>\n",
       "      <td>17.8</td>\n",
       "      <td>396.9</td>\n",
       "      <td>9.14</td>\n",
       "      <td>21.6</td>\n",
       "    </tr>\n",
       "  </tbody>\n",
       "</table>\n",
       "</div>"
      ],
      "text/plain": [
       "   crime_rate  zoned_land  industry  bounds_river  nox_conc  rooms   age  \\\n",
       "0     0.00632        18.0      2.31             0     0.538  6.575  65.2   \n",
       "1     0.02731         0.0      7.07             0     0.469  6.421  78.9   \n",
       "\n",
       "   distance  highways    tax  pt_ratio  b_estimator  pop_status  price  \n",
       "0    4.0900         1  296.0      15.3        396.9        4.98   24.0  \n",
       "1    4.9671         2  242.0      17.8        396.9        9.14   21.6  "
      ]
     },
     "execution_count": 4,
     "metadata": {},
     "output_type": "execute_result"
    }
   ],
   "source": [
    "housing.columns = [\"crime_rate\", \"zoned_land\", \"industry\", \"bounds_river\", \"nox_conc\", \"rooms\", \"age\", \"distance\",  \"highways\", \"tax\", \"pt_ratio\", \"b_estimator\", \"pop_status\", \"price\"]\n",
    "housing.head(2)"
   ]
  },
  {
   "cell_type": "code",
   "execution_count": 5,
   "id": "7613dfab-8938-4bf4-909f-4124e48bd8b6",
   "metadata": {},
   "outputs": [
    {
     "data": {
      "text/plain": [
       "crime_rate      float64\n",
       "zoned_land      float64\n",
       "industry        float64\n",
       "bounds_river      int64\n",
       "nox_conc        float64\n",
       "rooms           float64\n",
       "age             float64\n",
       "distance        float64\n",
       "highways          int64\n",
       "tax             float64\n",
       "pt_ratio        float64\n",
       "b_estimator     float64\n",
       "pop_status      float64\n",
       "price           float64\n",
       "dtype: object"
      ]
     },
     "execution_count": 5,
     "metadata": {},
     "output_type": "execute_result"
    }
   ],
   "source": [
    "housing.dtypes"
   ]
  },
  {
   "cell_type": "markdown",
   "id": "3fa0e1f9-7a78-4377-bbff-346c1df7ef49",
   "metadata": {},
   "source": [
    "#### Split"
   ]
  },
  {
   "cell_type": "code",
   "execution_count": 6,
   "id": "7646883d-bb71-4bc5-a4ff-d54d564a6b63",
   "metadata": {},
   "outputs": [
    {
     "data": {
      "text/plain": [
       "(506, 13)"
      ]
     },
     "execution_count": 6,
     "metadata": {},
     "output_type": "execute_result"
    }
   ],
   "source": [
    "housing_characteristics = housing.drop(columns=\"price\")\n",
    "housing_characteristics.shape"
   ]
  },
  {
   "cell_type": "code",
   "execution_count": 7,
   "id": "2dbf5ddc-4841-4ba7-acdf-2ef3f767defa",
   "metadata": {},
   "outputs": [
    {
     "data": {
      "text/plain": [
       "(506,)"
      ]
     },
     "execution_count": 7,
     "metadata": {},
     "output_type": "execute_result"
    }
   ],
   "source": [
    "housing_prices = housing.price\n",
    "housing_prices.shape"
   ]
  },
  {
   "cell_type": "markdown",
   "id": "d12fae9a-5eb0-4c8c-8e65-12b0a2f2fc57",
   "metadata": {},
   "source": [
    "`sklearn` се грижи `housing_prices` да е вектор стълб."
   ]
  },
  {
   "cell_type": "markdown",
   "id": "e1ed44bd-9575-4888-8513-2b261d5f19d7",
   "metadata": {},
   "source": [
    "#### Indicator variables"
   ]
  },
  {
   "cell_type": "code",
   "execution_count": 8,
   "id": "57ef48f4-b086-4f37-88ad-9a4cd75585cc",
   "metadata": {},
   "outputs": [
    {
     "data": {
      "text/html": [
       "<div>\n",
       "<style scoped>\n",
       "    .dataframe tbody tr th:only-of-type {\n",
       "        vertical-align: middle;\n",
       "    }\n",
       "\n",
       "    .dataframe tbody tr th {\n",
       "        vertical-align: top;\n",
       "    }\n",
       "\n",
       "    .dataframe thead th {\n",
       "        text-align: right;\n",
       "    }\n",
       "</style>\n",
       "<table border=\"1\" class=\"dataframe\">\n",
       "  <thead>\n",
       "    <tr style=\"text-align: right;\">\n",
       "      <th></th>\n",
       "      <th>crime_rate</th>\n",
       "      <th>zoned_land</th>\n",
       "      <th>industry</th>\n",
       "      <th>bounds_river</th>\n",
       "      <th>nox_conc</th>\n",
       "      <th>rooms</th>\n",
       "      <th>age</th>\n",
       "      <th>distance</th>\n",
       "      <th>highways</th>\n",
       "      <th>tax</th>\n",
       "      <th>pt_ratio</th>\n",
       "      <th>b_estimator</th>\n",
       "      <th>pop_status</th>\n",
       "    </tr>\n",
       "  </thead>\n",
       "  <tbody>\n",
       "    <tr>\n",
       "      <th>0</th>\n",
       "      <td>0.00632</td>\n",
       "      <td>18.0</td>\n",
       "      <td>2.31</td>\n",
       "      <td>0</td>\n",
       "      <td>0.538</td>\n",
       "      <td>6.575</td>\n",
       "      <td>65.2</td>\n",
       "      <td>4.0900</td>\n",
       "      <td>1</td>\n",
       "      <td>296.0</td>\n",
       "      <td>15.3</td>\n",
       "      <td>396.9</td>\n",
       "      <td>4.98</td>\n",
       "    </tr>\n",
       "    <tr>\n",
       "      <th>1</th>\n",
       "      <td>0.02731</td>\n",
       "      <td>0.0</td>\n",
       "      <td>7.07</td>\n",
       "      <td>0</td>\n",
       "      <td>0.469</td>\n",
       "      <td>6.421</td>\n",
       "      <td>78.9</td>\n",
       "      <td>4.9671</td>\n",
       "      <td>2</td>\n",
       "      <td>242.0</td>\n",
       "      <td>17.8</td>\n",
       "      <td>396.9</td>\n",
       "      <td>9.14</td>\n",
       "    </tr>\n",
       "  </tbody>\n",
       "</table>\n",
       "</div>"
      ],
      "text/plain": [
       "   crime_rate  zoned_land  industry  bounds_river  nox_conc  rooms   age  \\\n",
       "0     0.00632        18.0      2.31             0     0.538  6.575  65.2   \n",
       "1     0.02731         0.0      7.07             0     0.469  6.421  78.9   \n",
       "\n",
       "   distance  highways    tax  pt_ratio  b_estimator  pop_status  \n",
       "0    4.0900         1  296.0      15.3        396.9        4.98  \n",
       "1    4.9671         2  242.0      17.8        396.9        9.14  "
      ]
     },
     "execution_count": 8,
     "metadata": {},
     "output_type": "execute_result"
    }
   ],
   "source": [
    "housing_characteristics_with_dummies = pd.get_dummies(housing_characteristics)\n",
    "housing_characteristics_with_dummies.head(2)"
   ]
  },
  {
   "cell_type": "markdown",
   "id": "7ab9869a-a5ec-4b17-9972-40a83d374bac",
   "metadata": {},
   "source": [
    "Няма категориини променливи."
   ]
  },
  {
   "cell_type": "markdown",
   "id": "4cc2b33c-79fd-49ab-8248-74b674ae21c1",
   "metadata": {},
   "source": [
    "#### Normalization"
   ]
  },
  {
   "cell_type": "code",
   "execution_count": 9,
   "id": "268c6abd-dd2a-4097-a511-03d7495e8c97",
   "metadata": {},
   "outputs": [
    {
     "data": {
      "text/plain": [
       "(numpy.ndarray, (506, 13))"
      ]
     },
     "execution_count": 9,
     "metadata": {},
     "output_type": "execute_result"
    }
   ],
   "source": [
    "scaler = MinMaxScaler()\n",
    "housing_characteristics_scaled = scaler.fit_transform(housing_characteristics_with_dummies)\n",
    "type(housing_characteristics_scaled), housing_characteristics_scaled.shape"
   ]
  },
  {
   "cell_type": "markdown",
   "id": "09602bc4-3be5-4794-9d76-6ddbf28838fe",
   "metadata": {},
   "source": [
    "Скалирането или нормализирането на данни запазва формата на честотното разпределение, но стойностите са вече между 0 и 1."
   ]
  },
  {
   "cell_type": "markdown",
   "id": "34624b96-12d4-4aa1-ba7c-7e8f7c632dcd",
   "metadata": {},
   "source": [
    "### Modeling"
   ]
  },
  {
   "cell_type": "markdown",
   "id": "3db4391f-7125-4798-be5c-77325b766914",
   "metadata": {},
   "source": [
    "#### Test a model"
   ]
  },
  {
   "cell_type": "code",
   "execution_count": 10,
   "id": "9c90721e-1c51-4ce5-89ae-b3acaaadd17f",
   "metadata": {},
   "outputs": [
    {
     "data": {
      "text/html": [
       "<style>#sk-container-id-1 {color: black;background-color: white;}#sk-container-id-1 pre{padding: 0;}#sk-container-id-1 div.sk-toggleable {background-color: white;}#sk-container-id-1 label.sk-toggleable__label {cursor: pointer;display: block;width: 100%;margin-bottom: 0;padding: 0.3em;box-sizing: border-box;text-align: center;}#sk-container-id-1 label.sk-toggleable__label-arrow:before {content: \"▸\";float: left;margin-right: 0.25em;color: #696969;}#sk-container-id-1 label.sk-toggleable__label-arrow:hover:before {color: black;}#sk-container-id-1 div.sk-estimator:hover label.sk-toggleable__label-arrow:before {color: black;}#sk-container-id-1 div.sk-toggleable__content {max-height: 0;max-width: 0;overflow: hidden;text-align: left;background-color: #f0f8ff;}#sk-container-id-1 div.sk-toggleable__content pre {margin: 0.2em;color: black;border-radius: 0.25em;background-color: #f0f8ff;}#sk-container-id-1 input.sk-toggleable__control:checked~div.sk-toggleable__content {max-height: 200px;max-width: 100%;overflow: auto;}#sk-container-id-1 input.sk-toggleable__control:checked~label.sk-toggleable__label-arrow:before {content: \"▾\";}#sk-container-id-1 div.sk-estimator input.sk-toggleable__control:checked~label.sk-toggleable__label {background-color: #d4ebff;}#sk-container-id-1 div.sk-label input.sk-toggleable__control:checked~label.sk-toggleable__label {background-color: #d4ebff;}#sk-container-id-1 input.sk-hidden--visually {border: 0;clip: rect(1px 1px 1px 1px);clip: rect(1px, 1px, 1px, 1px);height: 1px;margin: -1px;overflow: hidden;padding: 0;position: absolute;width: 1px;}#sk-container-id-1 div.sk-estimator {font-family: monospace;background-color: #f0f8ff;border: 1px dotted black;border-radius: 0.25em;box-sizing: border-box;margin-bottom: 0.5em;}#sk-container-id-1 div.sk-estimator:hover {background-color: #d4ebff;}#sk-container-id-1 div.sk-parallel-item::after {content: \"\";width: 100%;border-bottom: 1px solid gray;flex-grow: 1;}#sk-container-id-1 div.sk-label:hover label.sk-toggleable__label {background-color: #d4ebff;}#sk-container-id-1 div.sk-serial::before {content: \"\";position: absolute;border-left: 1px solid gray;box-sizing: border-box;top: 0;bottom: 0;left: 50%;z-index: 0;}#sk-container-id-1 div.sk-serial {display: flex;flex-direction: column;align-items: center;background-color: white;padding-right: 0.2em;padding-left: 0.2em;position: relative;}#sk-container-id-1 div.sk-item {position: relative;z-index: 1;}#sk-container-id-1 div.sk-parallel {display: flex;align-items: stretch;justify-content: center;background-color: white;position: relative;}#sk-container-id-1 div.sk-item::before, #sk-container-id-1 div.sk-parallel-item::before {content: \"\";position: absolute;border-left: 1px solid gray;box-sizing: border-box;top: 0;bottom: 0;left: 50%;z-index: -1;}#sk-container-id-1 div.sk-parallel-item {display: flex;flex-direction: column;z-index: 1;position: relative;background-color: white;}#sk-container-id-1 div.sk-parallel-item:first-child::after {align-self: flex-end;width: 50%;}#sk-container-id-1 div.sk-parallel-item:last-child::after {align-self: flex-start;width: 50%;}#sk-container-id-1 div.sk-parallel-item:only-child::after {width: 0;}#sk-container-id-1 div.sk-dashed-wrapped {border: 1px dashed gray;margin: 0 0.4em 0.5em 0.4em;box-sizing: border-box;padding-bottom: 0.4em;background-color: white;}#sk-container-id-1 div.sk-label label {font-family: monospace;font-weight: bold;display: inline-block;line-height: 1.2em;}#sk-container-id-1 div.sk-label-container {text-align: center;}#sk-container-id-1 div.sk-container {/* jupyter's `normalize.less` sets `[hidden] { display: none; }` but bootstrap.min.css set `[hidden] { display: none !important; }` so we also need the `!important` here to be able to override the default hidden behavior on the sphinx rendered scikit-learn.org. See: https://github.com/scikit-learn/scikit-learn/issues/21755 */display: inline-block !important;position: relative;}#sk-container-id-1 div.sk-text-repr-fallback {display: none;}</style><div id=\"sk-container-id-1\" class=\"sk-top-container\"><div class=\"sk-text-repr-fallback\"><pre>LinearRegression()</pre><b>In a Jupyter environment, please rerun this cell to show the HTML representation or trust the notebook. <br />On GitHub, the HTML representation is unable to render, please try loading this page with nbviewer.org.</b></div><div class=\"sk-container\" hidden><div class=\"sk-item\"><div class=\"sk-estimator sk-toggleable\"><input class=\"sk-toggleable__control sk-hidden--visually\" id=\"sk-estimator-id-1\" type=\"checkbox\" checked><label for=\"sk-estimator-id-1\" class=\"sk-toggleable__label sk-toggleable__label-arrow\">LinearRegression</label><div class=\"sk-toggleable__content\"><pre>LinearRegression()</pre></div></div></div></div></div>"
      ],
      "text/plain": [
       "LinearRegression()"
      ]
     },
     "execution_count": 10,
     "metadata": {},
     "output_type": "execute_result"
    }
   ],
   "source": [
    "housing_model = LinearRegression()\n",
    "housing_model.fit(housing_characteristics_scaled, housing_prices)"
   ]
  },
  {
   "cell_type": "code",
   "execution_count": 11,
   "id": "86933543-fc97-4b80-8a5c-15327bad7716",
   "metadata": {},
   "outputs": [
    {
     "name": "stdout",
     "output_type": "stream",
     "text": [
      "[  2.08448854   1.49403979   0.34690497   3.00565375  -7.54441381\n",
      "  22.43940145   0.27658754  -9.35981793   1.35281035  -1.26826011\n",
      "  -9.07603108   3.74177288 -19.03479847]\n",
      "23.68929153467697\n"
     ]
    }
   ],
   "source": [
    "print(housing_model.coef_)\n",
    "print(housing_model.intercept_)"
   ]
  },
  {
   "cell_type": "code",
   "execution_count": 65,
   "id": "cba34657-a37a-4452-9351-cef64b9961f3",
   "metadata": {},
   "outputs": [
    {
     "data": {
      "image/png": "[encoded data removed]",
      "text/plain": [
       "<Figure size 640x480 with 1 Axes>"
      ]
     },
     "metadata": {},
     "output_type": "display_data"
    }
   ],
   "source": [
    "weights = pd.Series(\n",
    "    data=housing_model.coef_,\n",
    "    index=housing_characteristics.columns,\n",
    ")\n",
    "\n",
    "weights = np.abs(weights)\n",
    "weights = weights.sort_values()\n",
    "weights = weights / weights.max()\n",
    "\n",
    "plt.barh(\n",
    "    y=weights.index,\n",
    "    width=weights,\n",
    ")\n",
    "plt.title(\"Input variable (relative) weights\")\n",
    "plt.show()"
   ]
  },
  {
   "cell_type": "code",
   "execution_count": 12,
   "id": "7cd5da2c-63f1-4bfb-8e2f-86e41e1a209f",
   "metadata": {},
   "outputs": [
    {
     "data": {
      "text/plain": [
       "(13,)"
      ]
     },
     "execution_count": 12,
     "metadata": {},
     "output_type": "execute_result"
    }
   ],
   "source": [
    "housing_model.coef_.shape"
   ]
  },
  {
   "cell_type": "markdown",
   "id": "db8b8b20-ca29-4764-b91e-daf1263b0a5d",
   "metadata": {},
   "source": [
    "Имаме 13 тегловни коефициента, по един за всяка колона. Очаквано.\n",
    "\n",
    "Очакваната цена на къща е = $2.08 crime rate + 1.49 zoned land ...$. Всички параметри са скалирани.\n",
    "\n",
    "Можем да интерпретираме резултатите от линейните модели като гледаме коефициентите (тегловните). Не всички модели могат да се интерпретират така лесно.\n",
    "\n",
    "`intercept`-а е цената на къща когато всички характеристики са 0. Това са скалирани характеристики, т.е. 0 отговаря на мининалната стойност на конкретната променлива (характеристика).\n",
    "\n",
    "`fit` - процес по трениране на модела с данните от наблюдаваната извадка."
   ]
  },
  {
   "cell_type": "markdown",
   "id": "f66aae3a-011c-4520-ae86-6762ccb997eb",
   "metadata": {},
   "source": [
    "#### Оценка на модела"
   ]
  },
  {
   "cell_type": "code",
   "execution_count": 105,
   "id": "c4478152-8bcc-4e0e-80e0-4eb7129d34cd",
   "metadata": {},
   "outputs": [
    {
     "data": {
      "text/plain": [
       "0.7198065414937174"
      ]
     },
     "execution_count": 105,
     "metadata": {},
     "output_type": "execute_result"
    }
   ],
   "source": [
    "R_squared = housing_model.score(housing_characteristics_scaled, housing_prices)\n",
    "R_squared"
   ]
  },
  {
   "cell_type": "code",
   "execution_count": 111,
   "id": "06fa6b3b-942a-4910-a847-aa820123a764",
   "metadata": {},
   "outputs": [
    {
     "data": {
      "text/html": [
       "<div>\n",
       "<style scoped>\n",
       "    .dataframe tbody tr th:only-of-type {\n",
       "        vertical-align: middle;\n",
       "    }\n",
       "\n",
       "    .dataframe tbody tr th {\n",
       "        vertical-align: top;\n",
       "    }\n",
       "\n",
       "    .dataframe thead th {\n",
       "        text-align: right;\n",
       "    }\n",
       "</style>\n",
       "<table border=\"1\" class=\"dataframe\">\n",
       "  <thead>\n",
       "    <tr style=\"text-align: right;\">\n",
       "      <th></th>\n",
       "      <th>observed_price</th>\n",
       "      <th>predicted_price</th>\n",
       "      <th>residual</th>\n",
       "      <th>absolute_error</th>\n",
       "    </tr>\n",
       "  </thead>\n",
       "  <tbody>\n",
       "    <tr>\n",
       "      <th>0</th>\n",
       "      <td>24.0</td>\n",
       "      <td>30.11</td>\n",
       "      <td>-6.11</td>\n",
       "      <td>6.11</td>\n",
       "    </tr>\n",
       "    <tr>\n",
       "      <th>1</th>\n",
       "      <td>21.6</td>\n",
       "      <td>25.13</td>\n",
       "      <td>-3.53</td>\n",
       "      <td>3.53</td>\n",
       "    </tr>\n",
       "    <tr>\n",
       "      <th>2</th>\n",
       "      <td>34.7</td>\n",
       "      <td>31.01</td>\n",
       "      <td>3.69</td>\n",
       "      <td>3.69</td>\n",
       "    </tr>\n",
       "    <tr>\n",
       "      <th>3</th>\n",
       "      <td>33.4</td>\n",
       "      <td>29.05</td>\n",
       "      <td>4.35</td>\n",
       "      <td>4.35</td>\n",
       "    </tr>\n",
       "    <tr>\n",
       "      <th>4</th>\n",
       "      <td>36.2</td>\n",
       "      <td>28.48</td>\n",
       "      <td>7.72</td>\n",
       "      <td>7.72</td>\n",
       "    </tr>\n",
       "    <tr>\n",
       "      <th>...</th>\n",
       "      <td>...</td>\n",
       "      <td>...</td>\n",
       "      <td>...</td>\n",
       "      <td>...</td>\n",
       "    </tr>\n",
       "    <tr>\n",
       "      <th>501</th>\n",
       "      <td>22.4</td>\n",
       "      <td>23.31</td>\n",
       "      <td>-0.91</td>\n",
       "      <td>0.91</td>\n",
       "    </tr>\n",
       "    <tr>\n",
       "      <th>502</th>\n",
       "      <td>20.6</td>\n",
       "      <td>21.86</td>\n",
       "      <td>-1.26</td>\n",
       "      <td>1.26</td>\n",
       "    </tr>\n",
       "    <tr>\n",
       "      <th>503</th>\n",
       "      <td>23.9</td>\n",
       "      <td>27.52</td>\n",
       "      <td>-3.62</td>\n",
       "      <td>3.62</td>\n",
       "    </tr>\n",
       "    <tr>\n",
       "      <th>504</th>\n",
       "      <td>22.0</td>\n",
       "      <td>26.03</td>\n",
       "      <td>-4.03</td>\n",
       "      <td>4.03</td>\n",
       "    </tr>\n",
       "    <tr>\n",
       "      <th>505</th>\n",
       "      <td>11.9</td>\n",
       "      <td>21.88</td>\n",
       "      <td>-9.98</td>\n",
       "      <td>9.98</td>\n",
       "    </tr>\n",
       "  </tbody>\n",
       "</table>\n",
       "<p>506 rows × 4 columns</p>\n",
       "</div>"
      ],
      "text/plain": [
       "     observed_price  predicted_price  residual  absolute_error\n",
       "0              24.0            30.11     -6.11            6.11\n",
       "1              21.6            25.13     -3.53            3.53\n",
       "2              34.7            31.01      3.69            3.69\n",
       "3              33.4            29.05      4.35            4.35\n",
       "4              36.2            28.48      7.72            7.72\n",
       "..              ...              ...       ...             ...\n",
       "501            22.4            23.31     -0.91            0.91\n",
       "502            20.6            21.86     -1.26            1.26\n",
       "503            23.9            27.52     -3.62            3.62\n",
       "504            22.0            26.03     -4.03            4.03\n",
       "505            11.9            21.88     -9.98            9.98\n",
       "\n",
       "[506 rows x 4 columns]"
      ]
     },
     "execution_count": 111,
     "metadata": {},
     "output_type": "execute_result"
    }
   ],
   "source": [
    "price_predictions = housing_model.predict(housing_characteristics_scaled)\n",
    "\n",
    "price_comparison = pd.DataFrame(data={\n",
    "    \"observed_price\": housing_prices,\n",
    "    \"predicted_price\": price_predictions.round(2)\n",
    "})\n",
    "\n",
    "price_comparison[\"residual\"] = price_comparison.observed_price - price_comparison.predicted_price\n",
    "price_comparison[\"absolute_error\"] = price_comparison.residual.abs()\n",
    "price_comparison"
   ]
  },
  {
   "cell_type": "code",
   "execution_count": 113,
   "id": "18bac422-875f-405b-b8f6-56f870640471",
   "metadata": {},
   "outputs": [
    {
     "data": {
      "text/plain": [
       "(3.361462450592886, 3.3614773754775227)"
      ]
     },
     "execution_count": 113,
     "metadata": {},
     "output_type": "execute_result"
    }
   ],
   "source": [
    "MAE_manually_calculated = price_comparison.absolute_error.mean()\n",
    "MAE_automatically_calculated = mean_absolute_error(housing_prices, price_predictions)\n",
    "\n",
    "MAE_manually_calculated, MAE_automatically_calculated"
   ]
  },
  {
   "cell_type": "code",
   "execution_count": 114,
   "id": "2538644d-5303-4da2-a57b-d16959bdfda4",
   "metadata": {},
   "outputs": [
    {
     "name": "stdout",
     "output_type": "stream",
     "text": [
      "Root-mean-square errror =  4.86351800705635\n"
     ]
    }
   ],
   "source": [
    "print(\"Root-mean-square errror = \", np.sqrt(mean_squared_error(housing_prices, price_predictions)))"
   ]
  },
  {
   "cell_type": "markdown",
   "id": "6e81f922-b1e6-42ea-8420-c5736fd8b318",
   "metadata": {},
   "source": [
    "С около 4800$ мога да сбъркам за една оценка."
   ]
  },
  {
   "cell_type": "markdown",
   "id": "9ba1f99c-9f0a-426c-81fe-e808a021ad9c",
   "metadata": {},
   "source": [
    "### Премахване на outlier-и (RANSAC)"
   ]
  },
  {
   "cell_type": "markdown",
   "id": "6d7bbac0-545a-41eb-9e41-388c0c740a86",
   "metadata": {},
   "source": [
    "#### Моделиране"
   ]
  },
  {
   "cell_type": "code",
   "execution_count": 17,
   "id": "727abaaf-aedb-4cf1-8a88-549657976ab7",
   "metadata": {},
   "outputs": [],
   "source": [
    "ransac = RANSACRegressor(\n",
    "    estimator=LinearRegression(),\n",
    "    max_trials=200,\n",
    "    min_samples=0.25,\n",
    ")"
   ]
  },
  {
   "cell_type": "code",
   "execution_count": 18,
   "id": "9d289d28-44e5-4615-92ea-1b3b95958022",
   "metadata": {},
   "outputs": [
    {
     "data": {
      "text/html": [
       "<style>#sk-container-id-2 {color: black;background-color: white;}#sk-container-id-2 pre{padding: 0;}#sk-container-id-2 div.sk-toggleable {background-color: white;}#sk-container-id-2 label.sk-toggleable__label {cursor: pointer;display: block;width: 100%;margin-bottom: 0;padding: 0.3em;box-sizing: border-box;text-align: center;}#sk-container-id-2 label.sk-toggleable__label-arrow:before {content: \"▸\";float: left;margin-right: 0.25em;color: #696969;}#sk-container-id-2 label.sk-toggleable__label-arrow:hover:before {color: black;}#sk-container-id-2 div.sk-estimator:hover label.sk-toggleable__label-arrow:before {color: black;}#sk-container-id-2 div.sk-toggleable__content {max-height: 0;max-width: 0;overflow: hidden;text-align: left;background-color: #f0f8ff;}#sk-container-id-2 div.sk-toggleable__content pre {margin: 0.2em;color: black;border-radius: 0.25em;background-color: #f0f8ff;}#sk-container-id-2 input.sk-toggleable__control:checked~div.sk-toggleable__content {max-height: 200px;max-width: 100%;overflow: auto;}#sk-container-id-2 input.sk-toggleable__control:checked~label.sk-toggleable__label-arrow:before {content: \"▾\";}#sk-container-id-2 div.sk-estimator input.sk-toggleable__control:checked~label.sk-toggleable__label {background-color: #d4ebff;}#sk-container-id-2 div.sk-label input.sk-toggleable__control:checked~label.sk-toggleable__label {background-color: #d4ebff;}#sk-container-id-2 input.sk-hidden--visually {border: 0;clip: rect(1px 1px 1px 1px);clip: rect(1px, 1px, 1px, 1px);height: 1px;margin: -1px;overflow: hidden;padding: 0;position: absolute;width: 1px;}#sk-container-id-2 div.sk-estimator {font-family: monospace;background-color: #f0f8ff;border: 1px dotted black;border-radius: 0.25em;box-sizing: border-box;margin-bottom: 0.5em;}#sk-container-id-2 div.sk-estimator:hover {background-color: #d4ebff;}#sk-container-id-2 div.sk-parallel-item::after {content: \"\";width: 100%;border-bottom: 1px solid gray;flex-grow: 1;}#sk-container-id-2 div.sk-label:hover label.sk-toggleable__label {background-color: #d4ebff;}#sk-container-id-2 div.sk-serial::before {content: \"\";position: absolute;border-left: 1px solid gray;box-sizing: border-box;top: 0;bottom: 0;left: 50%;z-index: 0;}#sk-container-id-2 div.sk-serial {display: flex;flex-direction: column;align-items: center;background-color: white;padding-right: 0.2em;padding-left: 0.2em;position: relative;}#sk-container-id-2 div.sk-item {position: relative;z-index: 1;}#sk-container-id-2 div.sk-parallel {display: flex;align-items: stretch;justify-content: center;background-color: white;position: relative;}#sk-container-id-2 div.sk-item::before, #sk-container-id-2 div.sk-parallel-item::before {content: \"\";position: absolute;border-left: 1px solid gray;box-sizing: border-box;top: 0;bottom: 0;left: 50%;z-index: -1;}#sk-container-id-2 div.sk-parallel-item {display: flex;flex-direction: column;z-index: 1;position: relative;background-color: white;}#sk-container-id-2 div.sk-parallel-item:first-child::after {align-self: flex-end;width: 50%;}#sk-container-id-2 div.sk-parallel-item:last-child::after {align-self: flex-start;width: 50%;}#sk-container-id-2 div.sk-parallel-item:only-child::after {width: 0;}#sk-container-id-2 div.sk-dashed-wrapped {border: 1px dashed gray;margin: 0 0.4em 0.5em 0.4em;box-sizing: border-box;padding-bottom: 0.4em;background-color: white;}#sk-container-id-2 div.sk-label label {font-family: monospace;font-weight: bold;display: inline-block;line-height: 1.2em;}#sk-container-id-2 div.sk-label-container {text-align: center;}#sk-container-id-2 div.sk-container {/* jupyter's `normalize.less` sets `[hidden] { display: none; }` but bootstrap.min.css set `[hidden] { display: none !important; }` so we also need the `!important` here to be able to override the default hidden behavior on the sphinx rendered scikit-learn.org. See: https://github.com/scikit-learn/scikit-learn/issues/21755 */display: inline-block !important;position: relative;}#sk-container-id-2 div.sk-text-repr-fallback {display: none;}</style><div id=\"sk-container-id-2\" class=\"sk-top-container\"><div class=\"sk-text-repr-fallback\"><pre>RANSACRegressor(estimator=LinearRegression(), max_trials=200, min_samples=0.25)</pre><b>In a Jupyter environment, please rerun this cell to show the HTML representation or trust the notebook. <br />On GitHub, the HTML representation is unable to render, please try loading this page with nbviewer.org.</b></div><div class=\"sk-container\" hidden><div class=\"sk-item sk-dashed-wrapped\"><div class=\"sk-label-container\"><div class=\"sk-label sk-toggleable\"><input class=\"sk-toggleable__control sk-hidden--visually\" id=\"sk-estimator-id-2\" type=\"checkbox\" ><label for=\"sk-estimator-id-2\" class=\"sk-toggleable__label sk-toggleable__label-arrow\">RANSACRegressor</label><div class=\"sk-toggleable__content\"><pre>RANSACRegressor(estimator=LinearRegression(), max_trials=200, min_samples=0.25)</pre></div></div></div><div class=\"sk-parallel\"><div class=\"sk-parallel-item\"><div class=\"sk-item\"><div class=\"sk-label-container\"><div class=\"sk-label sk-toggleable\"><input class=\"sk-toggleable__control sk-hidden--visually\" id=\"sk-estimator-id-3\" type=\"checkbox\" ><label for=\"sk-estimator-id-3\" class=\"sk-toggleable__label sk-toggleable__label-arrow\">estimator: LinearRegression</label><div class=\"sk-toggleable__content\"><pre>LinearRegression()</pre></div></div></div><div class=\"sk-serial\"><div class=\"sk-item\"><div class=\"sk-estimator sk-toggleable\"><input class=\"sk-toggleable__control sk-hidden--visually\" id=\"sk-estimator-id-4\" type=\"checkbox\" ><label for=\"sk-estimator-id-4\" class=\"sk-toggleable__label sk-toggleable__label-arrow\">LinearRegression</label><div class=\"sk-toggleable__content\"><pre>LinearRegression()</pre></div></div></div></div></div></div></div></div></div></div>"
      ],
      "text/plain": [
       "RANSACRegressor(estimator=LinearRegression(), max_trials=200, min_samples=0.25)"
      ]
     },
     "execution_count": 18,
     "metadata": {},
     "output_type": "execute_result"
    }
   ],
   "source": [
    "ransac.fit(housing_characteristics_scaled, housing_prices)"
   ]
  },
  {
   "cell_type": "code",
   "execution_count": 19,
   "id": "33e34ed4-8284-496b-9f7a-4b0f0c72781f",
   "metadata": {},
   "outputs": [
    {
     "data": {
      "text/plain": [
       "array([ 0.74617489,  1.32397936,  0.9109714 ,  1.73112703, -4.75568569,\n",
       "       28.80681881, -2.90727172, -6.6897096 ,  2.48406448, -2.34878583,\n",
       "       -6.69856082,  6.16902619, -8.84808783])"
      ]
     },
     "execution_count": 19,
     "metadata": {},
     "output_type": "execute_result"
    }
   ],
   "source": [
    "ransac.estimator_.coef_"
   ]
  },
  {
   "cell_type": "markdown",
   "id": "bd7e7be8-d7ab-476c-ae27-3faf213b64f3",
   "metadata": {},
   "source": [
    "#### Оценка"
   ]
  },
  {
   "cell_type": "code",
   "execution_count": 20,
   "id": "d019abff-3ea5-4e62-bdcc-6c9980581a20",
   "metadata": {},
   "outputs": [
    {
     "data": {
      "text/plain": [
       "0.6848502978891086"
      ]
     },
     "execution_count": 20,
     "metadata": {},
     "output_type": "execute_result"
    }
   ],
   "source": [
    "ransac.estimator_.score(housing_characteristics_scaled, housing_prices)"
   ]
  },
  {
   "cell_type": "code",
   "execution_count": 21,
   "id": "7a22e977-d604-412f-9e7f-da02742a02d9",
   "metadata": {},
   "outputs": [
    {
     "data": {
      "text/plain": [
       "array([ True,  True, False, False, False,  True,  True, False,  True,\n",
       "        True])"
      ]
     },
     "execution_count": 21,
     "metadata": {},
     "output_type": "execute_result"
    }
   ],
   "source": [
    "ransac.inlier_mask_[:10]"
   ]
  },
  {
   "cell_type": "code",
   "execution_count": 22,
   "id": "71226922-1c4c-40e6-a63c-ff91bcba8bab",
   "metadata": {},
   "outputs": [
    {
     "data": {
      "text/plain": [
       "True     380\n",
       "False    126\n",
       "dtype: int64"
      ]
     },
     "execution_count": 22,
     "metadata": {},
     "output_type": "execute_result"
    }
   ],
   "source": [
    "pd.DataFrame(ransac.inlier_mask_).value_counts()"
   ]
  },
  {
   "cell_type": "markdown",
   "id": "9acee737-36a7-4350-98c9-ebd373d50192",
   "metadata": {},
   "source": [
    "`RANSAC` е определил 377 записа като inlier-и, а останалите като outlier-и. После, е тренирал модела за inlier-ите. Затова и оценката върху всички данни (вкл и Outlier-ите) е по-ниска от преди. Нека проверим `score` само за Inlier-Ите.\n",
    "\n",
    "Моделът оптимизира само инлайър частта от данните, моделът се научава само от тях."
   ]
  },
  {
   "cell_type": "code",
   "execution_count": 23,
   "id": "6935ba79-6ae0-4d28-a257-6cbadc810fbe",
   "metadata": {},
   "outputs": [
    {
     "data": {
      "text/plain": [
       "0.9101991535366101"
      ]
     },
     "execution_count": 23,
     "metadata": {},
     "output_type": "execute_result"
    }
   ],
   "source": [
    "ransac.estimator_.score(housing_characteristics_scaled[ransac.inlier_mask_], housing_prices[ransac.inlier_mask_])"
   ]
  },
  {
   "cell_type": "code",
   "execution_count": 24,
   "id": "1a916c85-4ac7-4302-8aeb-fff217138291",
   "metadata": {},
   "outputs": [
    {
     "data": {
      "text/plain": [
       "0.5017101995364395"
      ]
     },
     "execution_count": 24,
     "metadata": {},
     "output_type": "execute_result"
    }
   ],
   "source": [
    "ransac.estimator_.score(housing_characteristics_scaled[~ransac.inlier_mask_], housing_prices[~ransac.inlier_mask_])"
   ]
  },
  {
   "cell_type": "markdown",
   "id": "e1b376db-1a0b-48b2-a2ae-f6dd78c35c56",
   "metadata": {},
   "source": [
    "#### Inliers vs outliers"
   ]
  },
  {
   "cell_type": "code",
   "execution_count": 25,
   "id": "4711f078-e616-413b-b9d6-19cd3508faf2",
   "metadata": {},
   "outputs": [
    {
     "data": {
      "text/html": [
       "<div>\n",
       "<style scoped>\n",
       "    .dataframe tbody tr th:only-of-type {\n",
       "        vertical-align: middle;\n",
       "    }\n",
       "\n",
       "    .dataframe tbody tr th {\n",
       "        vertical-align: top;\n",
       "    }\n",
       "\n",
       "    .dataframe thead th {\n",
       "        text-align: right;\n",
       "    }\n",
       "</style>\n",
       "<table border=\"1\" class=\"dataframe\">\n",
       "  <thead>\n",
       "    <tr style=\"text-align: right;\">\n",
       "      <th></th>\n",
       "      <th>crime_rate</th>\n",
       "      <th>zoned_land</th>\n",
       "      <th>industry</th>\n",
       "      <th>bounds_river</th>\n",
       "      <th>nox_conc</th>\n",
       "      <th>rooms</th>\n",
       "      <th>age</th>\n",
       "      <th>distance</th>\n",
       "      <th>highways</th>\n",
       "      <th>tax</th>\n",
       "      <th>pt_ratio</th>\n",
       "      <th>b_estimator</th>\n",
       "      <th>pop_status</th>\n",
       "      <th>price</th>\n",
       "    </tr>\n",
       "  </thead>\n",
       "  <tbody>\n",
       "    <tr>\n",
       "      <th>0</th>\n",
       "      <td>0.00632</td>\n",
       "      <td>18.0</td>\n",
       "      <td>2.31</td>\n",
       "      <td>0</td>\n",
       "      <td>0.538</td>\n",
       "      <td>6.575</td>\n",
       "      <td>65.2</td>\n",
       "      <td>4.0900</td>\n",
       "      <td>1</td>\n",
       "      <td>296.0</td>\n",
       "      <td>15.3</td>\n",
       "      <td>396.90</td>\n",
       "      <td>4.98</td>\n",
       "      <td>24.0</td>\n",
       "    </tr>\n",
       "    <tr>\n",
       "      <th>1</th>\n",
       "      <td>0.02731</td>\n",
       "      <td>0.0</td>\n",
       "      <td>7.07</td>\n",
       "      <td>0</td>\n",
       "      <td>0.469</td>\n",
       "      <td>6.421</td>\n",
       "      <td>78.9</td>\n",
       "      <td>4.9671</td>\n",
       "      <td>2</td>\n",
       "      <td>242.0</td>\n",
       "      <td>17.8</td>\n",
       "      <td>396.90</td>\n",
       "      <td>9.14</td>\n",
       "      <td>21.6</td>\n",
       "    </tr>\n",
       "    <tr>\n",
       "      <th>5</th>\n",
       "      <td>0.02985</td>\n",
       "      <td>0.0</td>\n",
       "      <td>2.18</td>\n",
       "      <td>0</td>\n",
       "      <td>0.458</td>\n",
       "      <td>6.430</td>\n",
       "      <td>58.7</td>\n",
       "      <td>6.0622</td>\n",
       "      <td>3</td>\n",
       "      <td>222.0</td>\n",
       "      <td>18.7</td>\n",
       "      <td>394.12</td>\n",
       "      <td>5.21</td>\n",
       "      <td>28.7</td>\n",
       "    </tr>\n",
       "    <tr>\n",
       "      <th>6</th>\n",
       "      <td>0.08829</td>\n",
       "      <td>12.5</td>\n",
       "      <td>7.87</td>\n",
       "      <td>0</td>\n",
       "      <td>0.524</td>\n",
       "      <td>6.012</td>\n",
       "      <td>66.6</td>\n",
       "      <td>5.5605</td>\n",
       "      <td>5</td>\n",
       "      <td>311.0</td>\n",
       "      <td>15.2</td>\n",
       "      <td>395.60</td>\n",
       "      <td>12.43</td>\n",
       "      <td>22.9</td>\n",
       "    </tr>\n",
       "    <tr>\n",
       "      <th>8</th>\n",
       "      <td>0.21124</td>\n",
       "      <td>12.5</td>\n",
       "      <td>7.87</td>\n",
       "      <td>0</td>\n",
       "      <td>0.524</td>\n",
       "      <td>5.631</td>\n",
       "      <td>100.0</td>\n",
       "      <td>6.0821</td>\n",
       "      <td>5</td>\n",
       "      <td>311.0</td>\n",
       "      <td>15.2</td>\n",
       "      <td>386.63</td>\n",
       "      <td>29.93</td>\n",
       "      <td>16.5</td>\n",
       "    </tr>\n",
       "  </tbody>\n",
       "</table>\n",
       "</div>"
      ],
      "text/plain": [
       "   crime_rate  zoned_land  industry  bounds_river  nox_conc  rooms    age  \\\n",
       "0     0.00632        18.0      2.31             0     0.538  6.575   65.2   \n",
       "1     0.02731         0.0      7.07             0     0.469  6.421   78.9   \n",
       "5     0.02985         0.0      2.18             0     0.458  6.430   58.7   \n",
       "6     0.08829        12.5      7.87             0     0.524  6.012   66.6   \n",
       "8     0.21124        12.5      7.87             0     0.524  5.631  100.0   \n",
       "\n",
       "   distance  highways    tax  pt_ratio  b_estimator  pop_status  price  \n",
       "0    4.0900         1  296.0      15.3       396.90        4.98   24.0  \n",
       "1    4.9671         2  242.0      17.8       396.90        9.14   21.6  \n",
       "5    6.0622         3  222.0      18.7       394.12        5.21   28.7  \n",
       "6    5.5605         5  311.0      15.2       395.60       12.43   22.9  \n",
       "8    6.0821         5  311.0      15.2       386.63       29.93   16.5  "
      ]
     },
     "execution_count": 25,
     "metadata": {},
     "output_type": "execute_result"
    }
   ],
   "source": [
    "inliers = housing[ransac.inlier_mask_]\n",
    "inliers.head()"
   ]
  },
  {
   "cell_type": "code",
   "execution_count": 26,
   "id": "d858ee3f-60c3-4a9c-a7a9-be12053f9aa7",
   "metadata": {},
   "outputs": [
    {
     "data": {
      "text/html": [
       "<div>\n",
       "<style scoped>\n",
       "    .dataframe tbody tr th:only-of-type {\n",
       "        vertical-align: middle;\n",
       "    }\n",
       "\n",
       "    .dataframe tbody tr th {\n",
       "        vertical-align: top;\n",
       "    }\n",
       "\n",
       "    .dataframe thead th {\n",
       "        text-align: right;\n",
       "    }\n",
       "</style>\n",
       "<table border=\"1\" class=\"dataframe\">\n",
       "  <thead>\n",
       "    <tr style=\"text-align: right;\">\n",
       "      <th></th>\n",
       "      <th>crime_rate</th>\n",
       "      <th>zoned_land</th>\n",
       "      <th>industry</th>\n",
       "      <th>bounds_river</th>\n",
       "      <th>nox_conc</th>\n",
       "      <th>rooms</th>\n",
       "      <th>age</th>\n",
       "      <th>distance</th>\n",
       "      <th>highways</th>\n",
       "      <th>tax</th>\n",
       "      <th>pt_ratio</th>\n",
       "      <th>b_estimator</th>\n",
       "      <th>pop_status</th>\n",
       "      <th>price</th>\n",
       "    </tr>\n",
       "  </thead>\n",
       "  <tbody>\n",
       "    <tr>\n",
       "      <th>2</th>\n",
       "      <td>0.02729</td>\n",
       "      <td>0.0</td>\n",
       "      <td>7.07</td>\n",
       "      <td>0</td>\n",
       "      <td>0.469</td>\n",
       "      <td>7.185</td>\n",
       "      <td>61.1</td>\n",
       "      <td>4.9671</td>\n",
       "      <td>2</td>\n",
       "      <td>242.0</td>\n",
       "      <td>17.8</td>\n",
       "      <td>392.83</td>\n",
       "      <td>4.03</td>\n",
       "      <td>34.7</td>\n",
       "    </tr>\n",
       "    <tr>\n",
       "      <th>3</th>\n",
       "      <td>0.03237</td>\n",
       "      <td>0.0</td>\n",
       "      <td>2.18</td>\n",
       "      <td>0</td>\n",
       "      <td>0.458</td>\n",
       "      <td>6.998</td>\n",
       "      <td>45.8</td>\n",
       "      <td>6.0622</td>\n",
       "      <td>3</td>\n",
       "      <td>222.0</td>\n",
       "      <td>18.7</td>\n",
       "      <td>394.63</td>\n",
       "      <td>2.94</td>\n",
       "      <td>33.4</td>\n",
       "    </tr>\n",
       "    <tr>\n",
       "      <th>4</th>\n",
       "      <td>0.06905</td>\n",
       "      <td>0.0</td>\n",
       "      <td>2.18</td>\n",
       "      <td>0</td>\n",
       "      <td>0.458</td>\n",
       "      <td>7.147</td>\n",
       "      <td>54.2</td>\n",
       "      <td>6.0622</td>\n",
       "      <td>3</td>\n",
       "      <td>222.0</td>\n",
       "      <td>18.7</td>\n",
       "      <td>396.90</td>\n",
       "      <td>5.33</td>\n",
       "      <td>36.2</td>\n",
       "    </tr>\n",
       "    <tr>\n",
       "      <th>7</th>\n",
       "      <td>0.14455</td>\n",
       "      <td>12.5</td>\n",
       "      <td>7.87</td>\n",
       "      <td>0</td>\n",
       "      <td>0.524</td>\n",
       "      <td>6.172</td>\n",
       "      <td>96.1</td>\n",
       "      <td>5.9505</td>\n",
       "      <td>5</td>\n",
       "      <td>311.0</td>\n",
       "      <td>15.2</td>\n",
       "      <td>396.90</td>\n",
       "      <td>19.15</td>\n",
       "      <td>27.1</td>\n",
       "    </tr>\n",
       "    <tr>\n",
       "      <th>10</th>\n",
       "      <td>0.22489</td>\n",
       "      <td>12.5</td>\n",
       "      <td>7.87</td>\n",
       "      <td>0</td>\n",
       "      <td>0.524</td>\n",
       "      <td>6.377</td>\n",
       "      <td>94.3</td>\n",
       "      <td>6.3467</td>\n",
       "      <td>5</td>\n",
       "      <td>311.0</td>\n",
       "      <td>15.2</td>\n",
       "      <td>392.52</td>\n",
       "      <td>20.45</td>\n",
       "      <td>15.0</td>\n",
       "    </tr>\n",
       "  </tbody>\n",
       "</table>\n",
       "</div>"
      ],
      "text/plain": [
       "    crime_rate  zoned_land  industry  bounds_river  nox_conc  rooms   age  \\\n",
       "2      0.02729         0.0      7.07             0     0.469  7.185  61.1   \n",
       "3      0.03237         0.0      2.18             0     0.458  6.998  45.8   \n",
       "4      0.06905         0.0      2.18             0     0.458  7.147  54.2   \n",
       "7      0.14455        12.5      7.87             0     0.524  6.172  96.1   \n",
       "10     0.22489        12.5      7.87             0     0.524  6.377  94.3   \n",
       "\n",
       "    distance  highways    tax  pt_ratio  b_estimator  pop_status  price  \n",
       "2     4.9671         2  242.0      17.8       392.83        4.03   34.7  \n",
       "3     6.0622         3  222.0      18.7       394.63        2.94   33.4  \n",
       "4     6.0622         3  222.0      18.7       396.90        5.33   36.2  \n",
       "7     5.9505         5  311.0      15.2       396.90       19.15   27.1  \n",
       "10    6.3467         5  311.0      15.2       392.52       20.45   15.0  "
      ]
     },
     "execution_count": 26,
     "metadata": {},
     "output_type": "execute_result"
    }
   ],
   "source": [
    "outliers = housing[~ransac.inlier_mask_]\n",
    "outliers.head()"
   ]
  },
  {
   "cell_type": "code",
   "execution_count": 27,
   "id": "43f8747a-fc4a-4110-8181-d33f11566ab1",
   "metadata": {},
   "outputs": [
    {
     "data": {
      "image/png": "[encoded data removed]",
      "text/plain": [
       "<Figure size 640x480 with 1 Axes>"
      ]
     },
     "metadata": {},
     "output_type": "display_data"
    }
   ],
   "source": [
    "plt.scatter(inliers.rooms, inliers.price, label=\"Inliers\")\n",
    "plt.scatter(outliers.rooms, outliers.price, label=\"Outliers\")\n",
    "\n",
    "plt.xlabel(\"Number of rooms\")\n",
    "plt.ylabel(\"Price [1000$]\")\n",
    "plt.legend()\n",
    "plt.show()"
   ]
  },
  {
   "cell_type": "code",
   "execution_count": 28,
   "id": "bc1024af-d507-4996-bacc-aa11aa4676b4",
   "metadata": {},
   "outputs": [
    {
     "data": {
      "image/png": "[encoded data removed]",
      "text/plain": [
       "<Figure size 640x480 with 1 Axes>"
      ]
     },
     "metadata": {},
     "output_type": "display_data"
    }
   ],
   "source": [
    "plt.scatter(inliers.age, inliers.price, label=\"Inliers\")\n",
    "plt.scatter(outliers.age, outliers.price, label=\"Outliers\")\n",
    "\n",
    "plt.xlabel(\"Age\")\n",
    "plt.ylabel(\"Price [1000$]\")\n",
    "plt.legend()\n",
    "plt.show()"
   ]
  },
  {
   "cell_type": "code",
   "execution_count": 29,
   "id": "100b1a6a-826c-4fec-b3b9-08a222a128fc",
   "metadata": {},
   "outputs": [
    {
     "data": {
      "image/png": "[encoded data removed]",
      "text/plain": [
       "<Figure size 640x480 with 1 Axes>"
      ]
     },
     "metadata": {},
     "output_type": "display_data"
    }
   ],
   "source": [
    "plt.scatter(inliers.highways, inliers.price, label=\"Inliers\")\n",
    "plt.scatter(outliers.highways, outliers.price, label=\"Outliers\")\n",
    "\n",
    "plt.xlabel(\"Index of accessibility to radial highways\")\n",
    "plt.ylabel(\"Price [1000$]\")\n",
    "plt.legend()\n",
    "plt.show()"
   ]
  },
  {
   "cell_type": "code",
   "execution_count": 30,
   "id": "fb22ea72-1f71-4dc8-b4d9-42c49ccdd6f6",
   "metadata": {},
   "outputs": [
    {
     "data": {
      "image/png": "[encoded data removed]",
      "text/plain": [
       "<Figure size 640x480 with 1 Axes>"
      ]
     },
     "metadata": {},
     "output_type": "display_data"
    }
   ],
   "source": [
    "plt.scatter(inliers.pop_status, inliers.price, label=\"Inliers\")\n",
    "plt.scatter(outliers.pop_status, outliers.price, label=\"Outliers\")\n",
    "\n",
    "plt.xlabel(\"Proportion of lower-status population\")\n",
    "plt.ylabel(\"Price [1000$]\")\n",
    "plt.legend()\n",
    "plt.show()\n"
   ]
  },
  {
   "cell_type": "markdown",
   "id": "6efd3d5c-b425-475c-8a80-e1380a494764",
   "metadata": {},
   "source": [
    "### Полиномна регресия\n",
    "\n",
    "`from sklearn.preprocessing import PolynomialFeatures`"
   ]
  },
  {
   "cell_type": "markdown",
   "id": "9a467c65-d05f-48c6-b751-180a0f638467",
   "metadata": {},
   "source": [
    "#### Demo"
   ]
  },
  {
   "cell_type": "code",
   "execution_count": 31,
   "id": "758319db-b0b8-430c-a321-a75a55105bc4",
   "metadata": {},
   "outputs": [
    {
     "name": "stdout",
     "output_type": "stream",
     "text": [
      "['1', 'x0', 'x1', 'x0^2', 'x0 x1', 'x1^2']\n",
      "2\n",
      "6\n"
     ]
    },
    {
     "name": "stderr",
     "output_type": "stream",
     "text": [
      "C:\\Users\\a1056968\\Anaconda3\\envs\\machine_learning\\lib\\site-packages\\sklearn\\utils\\deprecation.py:87: FutureWarning: Function get_feature_names is deprecated; get_feature_names is deprecated in 1.0 and will be removed in 1.2. Please use get_feature_names_out instead.\n",
      "  warnings.warn(msg, category=FutureWarning)\n",
      "C:\\Users\\a1056968\\Anaconda3\\envs\\machine_learning\\lib\\site-packages\\sklearn\\utils\\deprecation.py:103: FutureWarning: The attribute `n_input_features_` was deprecated in version 1.0 and will be removed in 1.2.\n",
      "  warnings.warn(msg, category=FutureWarning)\n"
     ]
    }
   ],
   "source": [
    "x = np.arange(6).reshape(3, 2)\n",
    "poly = PolynomialFeatures(2)\n",
    "x_transformed = poly.fit_transform(x)\n",
    "print(poly.get_feature_names())\n",
    "print(poly.n_input_features_)\n",
    "print(poly.n_output_features_)"
   ]
  },
  {
   "cell_type": "code",
   "execution_count": 32,
   "id": "a46811fc-830e-49c5-a3a1-d809065c4e1f",
   "metadata": {},
   "outputs": [
    {
     "data": {
      "text/plain": [
       "array([[0, 1],\n",
       "       [2, 3],\n",
       "       [4, 5]])"
      ]
     },
     "execution_count": 32,
     "metadata": {},
     "output_type": "execute_result"
    }
   ],
   "source": [
    "x"
   ]
  },
  {
   "cell_type": "code",
   "execution_count": 33,
   "id": "ff79c783-564c-4e27-94d8-3436a3b915ce",
   "metadata": {},
   "outputs": [
    {
     "data": {
      "text/plain": [
       "array([[ 1.,  0.,  1.,  0.,  0.,  1.],\n",
       "       [ 1.,  2.,  3.,  4.,  6.,  9.],\n",
       "       [ 1.,  4.,  5., 16., 20., 25.]])"
      ]
     },
     "execution_count": 33,
     "metadata": {},
     "output_type": "execute_result"
    }
   ],
   "source": [
    "x_transformed"
   ]
  },
  {
   "cell_type": "markdown",
   "id": "2936cabb-fb2c-4718-8be4-50eaaccbdda5",
   "metadata": {},
   "source": [
    "#### Полиномни features\n",
    "\n",
    "Това е pre-processing стъпка. Създаваме нови колони като произведения от съществуващите."
   ]
  },
  {
   "cell_type": "code",
   "execution_count": 34,
   "id": "e2288035-da34-4bac-a657-a790de563ceb",
   "metadata": {},
   "outputs": [],
   "source": [
    "polynomial_features = PolynomialFeatures(degree=3, interaction_only=True)"
   ]
  },
  {
   "cell_type": "code",
   "execution_count": 35,
   "id": "b02db093-efc7-4f9f-a878-f0ef7248c383",
   "metadata": {},
   "outputs": [],
   "source": [
    "housing_characteristics_degree_3 = polynomial_features.fit_transform(housing_characteristics_scaled)"
   ]
  },
  {
   "cell_type": "code",
   "execution_count": 36,
   "id": "b1c692e2-b347-4179-990f-02d09a117c38",
   "metadata": {},
   "outputs": [
    {
     "data": {
      "text/html": [
       "<style>#sk-container-id-3 {color: black;background-color: white;}#sk-container-id-3 pre{padding: 0;}#sk-container-id-3 div.sk-toggleable {background-color: white;}#sk-container-id-3 label.sk-toggleable__label {cursor: pointer;display: block;width: 100%;margin-bottom: 0;padding: 0.3em;box-sizing: border-box;text-align: center;}#sk-container-id-3 label.sk-toggleable__label-arrow:before {content: \"▸\";float: left;margin-right: 0.25em;color: #696969;}#sk-container-id-3 label.sk-toggleable__label-arrow:hover:before {color: black;}#sk-container-id-3 div.sk-estimator:hover label.sk-toggleable__label-arrow:before {color: black;}#sk-container-id-3 div.sk-toggleable__content {max-height: 0;max-width: 0;overflow: hidden;text-align: left;background-color: #f0f8ff;}#sk-container-id-3 div.sk-toggleable__content pre {margin: 0.2em;color: black;border-radius: 0.25em;background-color: #f0f8ff;}#sk-container-id-3 input.sk-toggleable__control:checked~div.sk-toggleable__content {max-height: 200px;max-width: 100%;overflow: auto;}#sk-container-id-3 input.sk-toggleable__control:checked~label.sk-toggleable__label-arrow:before {content: \"▾\";}#sk-container-id-3 div.sk-estimator input.sk-toggleable__control:checked~label.sk-toggleable__label {background-color: #d4ebff;}#sk-container-id-3 div.sk-label input.sk-toggleable__control:checked~label.sk-toggleable__label {background-color: #d4ebff;}#sk-container-id-3 input.sk-hidden--visually {border: 0;clip: rect(1px 1px 1px 1px);clip: rect(1px, 1px, 1px, 1px);height: 1px;margin: -1px;overflow: hidden;padding: 0;position: absolute;width: 1px;}#sk-container-id-3 div.sk-estimator {font-family: monospace;background-color: #f0f8ff;border: 1px dotted black;border-radius: 0.25em;box-sizing: border-box;margin-bottom: 0.5em;}#sk-container-id-3 div.sk-estimator:hover {background-color: #d4ebff;}#sk-container-id-3 div.sk-parallel-item::after {content: \"\";width: 100%;border-bottom: 1px solid gray;flex-grow: 1;}#sk-container-id-3 div.sk-label:hover label.sk-toggleable__label {background-color: #d4ebff;}#sk-container-id-3 div.sk-serial::before {content: \"\";position: absolute;border-left: 1px solid gray;box-sizing: border-box;top: 0;bottom: 0;left: 50%;z-index: 0;}#sk-container-id-3 div.sk-serial {display: flex;flex-direction: column;align-items: center;background-color: white;padding-right: 0.2em;padding-left: 0.2em;position: relative;}#sk-container-id-3 div.sk-item {position: relative;z-index: 1;}#sk-container-id-3 div.sk-parallel {display: flex;align-items: stretch;justify-content: center;background-color: white;position: relative;}#sk-container-id-3 div.sk-item::before, #sk-container-id-3 div.sk-parallel-item::before {content: \"\";position: absolute;border-left: 1px solid gray;box-sizing: border-box;top: 0;bottom: 0;left: 50%;z-index: -1;}#sk-container-id-3 div.sk-parallel-item {display: flex;flex-direction: column;z-index: 1;position: relative;background-color: white;}#sk-container-id-3 div.sk-parallel-item:first-child::after {align-self: flex-end;width: 50%;}#sk-container-id-3 div.sk-parallel-item:last-child::after {align-self: flex-start;width: 50%;}#sk-container-id-3 div.sk-parallel-item:only-child::after {width: 0;}#sk-container-id-3 div.sk-dashed-wrapped {border: 1px dashed gray;margin: 0 0.4em 0.5em 0.4em;box-sizing: border-box;padding-bottom: 0.4em;background-color: white;}#sk-container-id-3 div.sk-label label {font-family: monospace;font-weight: bold;display: inline-block;line-height: 1.2em;}#sk-container-id-3 div.sk-label-container {text-align: center;}#sk-container-id-3 div.sk-container {/* jupyter's `normalize.less` sets `[hidden] { display: none; }` but bootstrap.min.css set `[hidden] { display: none !important; }` so we also need the `!important` here to be able to override the default hidden behavior on the sphinx rendered scikit-learn.org. See: https://github.com/scikit-learn/scikit-learn/issues/21755 */display: inline-block !important;position: relative;}#sk-container-id-3 div.sk-text-repr-fallback {display: none;}</style><div id=\"sk-container-id-3\" class=\"sk-top-container\"><div class=\"sk-text-repr-fallback\"><pre>LinearRegression()</pre><b>In a Jupyter environment, please rerun this cell to show the HTML representation or trust the notebook. <br />On GitHub, the HTML representation is unable to render, please try loading this page with nbviewer.org.</b></div><div class=\"sk-container\" hidden><div class=\"sk-item\"><div class=\"sk-estimator sk-toggleable\"><input class=\"sk-toggleable__control sk-hidden--visually\" id=\"sk-estimator-id-5\" type=\"checkbox\" checked><label for=\"sk-estimator-id-5\" class=\"sk-toggleable__label sk-toggleable__label-arrow\">LinearRegression</label><div class=\"sk-toggleable__content\"><pre>LinearRegression()</pre></div></div></div></div></div>"
      ],
      "text/plain": [
       "LinearRegression()"
      ]
     },
     "execution_count": 36,
     "metadata": {},
     "output_type": "execute_result"
    }
   ],
   "source": [
    "polynomial_regression = LinearRegression()\n",
    "polynomial_regression.fit(housing_characteristics_degree_3, housing_prices)"
   ]
  },
  {
   "cell_type": "code",
   "execution_count": 37,
   "id": "465e4147-cb81-4a47-bd95-a5cd93bfbaa6",
   "metadata": {},
   "outputs": [
    {
     "data": {
      "text/plain": [
       "0.9672420252604617"
      ]
     },
     "execution_count": 37,
     "metadata": {},
     "output_type": "execute_result"
    }
   ],
   "source": [
    "polynomial_regression.score(housing_characteristics_degree_3, housing_prices)"
   ]
  },
  {
   "cell_type": "markdown",
   "id": "a9c3d19b-6cd5-43ec-a4fc-6427134bfae9",
   "metadata": {},
   "source": [
    "## Iris Classification\n",
    "\n",
    "Data from [here]()."
   ]
  },
  {
   "cell_type": "code",
   "execution_count": 38,
   "id": "c77a4022-8e73-4532-9209-96cb7a72d1de",
   "metadata": {},
   "outputs": [],
   "source": [
    "iris = pd.read_csv(\"https://archive.ics.uci.edu/ml/machine-learning-databases/iris/iris.data\", header=None)"
   ]
  },
  {
   "cell_type": "code",
   "execution_count": 39,
   "id": "40f36a25-92b3-48a6-8ad9-dd2e7ceaf333",
   "metadata": {},
   "outputs": [
    {
     "data": {
      "text/html": [
       "<div>\n",
       "<style scoped>\n",
       "    .dataframe tbody tr th:only-of-type {\n",
       "        vertical-align: middle;\n",
       "    }\n",
       "\n",
       "    .dataframe tbody tr th {\n",
       "        vertical-align: top;\n",
       "    }\n",
       "\n",
       "    .dataframe thead th {\n",
       "        text-align: right;\n",
       "    }\n",
       "</style>\n",
       "<table border=\"1\" class=\"dataframe\">\n",
       "  <thead>\n",
       "    <tr style=\"text-align: right;\">\n",
       "      <th></th>\n",
       "      <th>sepal_length</th>\n",
       "      <th>sepal_width</th>\n",
       "      <th>petal_length</th>\n",
       "      <th>petal_width</th>\n",
       "      <th>species</th>\n",
       "    </tr>\n",
       "  </thead>\n",
       "  <tbody>\n",
       "    <tr>\n",
       "      <th>0</th>\n",
       "      <td>5.1</td>\n",
       "      <td>3.5</td>\n",
       "      <td>1.4</td>\n",
       "      <td>0.2</td>\n",
       "      <td>Iris-setosa</td>\n",
       "    </tr>\n",
       "    <tr>\n",
       "      <th>1</th>\n",
       "      <td>4.9</td>\n",
       "      <td>3.0</td>\n",
       "      <td>1.4</td>\n",
       "      <td>0.2</td>\n",
       "      <td>Iris-setosa</td>\n",
       "    </tr>\n",
       "    <tr>\n",
       "      <th>2</th>\n",
       "      <td>4.7</td>\n",
       "      <td>3.2</td>\n",
       "      <td>1.3</td>\n",
       "      <td>0.2</td>\n",
       "      <td>Iris-setosa</td>\n",
       "    </tr>\n",
       "    <tr>\n",
       "      <th>3</th>\n",
       "      <td>4.6</td>\n",
       "      <td>3.1</td>\n",
       "      <td>1.5</td>\n",
       "      <td>0.2</td>\n",
       "      <td>Iris-setosa</td>\n",
       "    </tr>\n",
       "    <tr>\n",
       "      <th>4</th>\n",
       "      <td>5.0</td>\n",
       "      <td>3.6</td>\n",
       "      <td>1.4</td>\n",
       "      <td>0.2</td>\n",
       "      <td>Iris-setosa</td>\n",
       "    </tr>\n",
       "  </tbody>\n",
       "</table>\n",
       "</div>"
      ],
      "text/plain": [
       "   sepal_length  sepal_width  petal_length  petal_width      species\n",
       "0           5.1          3.5           1.4          0.2  Iris-setosa\n",
       "1           4.9          3.0           1.4          0.2  Iris-setosa\n",
       "2           4.7          3.2           1.3          0.2  Iris-setosa\n",
       "3           4.6          3.1           1.5          0.2  Iris-setosa\n",
       "4           5.0          3.6           1.4          0.2  Iris-setosa"
      ]
     },
     "execution_count": 39,
     "metadata": {},
     "output_type": "execute_result"
    }
   ],
   "source": [
    "iris.columns = [\"sepal_length\", \"sepal_width\", \"petal_length\", \"petal_width\", \"species\"]\n",
    "iris.head()"
   ]
  },
  {
   "cell_type": "code",
   "execution_count": 40,
   "id": "98187fd6-9ff7-4c1a-9bef-34e73a8bedd9",
   "metadata": {},
   "outputs": [
    {
     "data": {
      "text/plain": [
       "((150, 4), (150,))"
      ]
     },
     "execution_count": 40,
     "metadata": {},
     "output_type": "execute_result"
    }
   ],
   "source": [
    "iris_attributes = iris.drop(columns=\"species\")\n",
    "iris_species = iris.species\n",
    "\n",
    "iris_attributes.shape, iris_species.shape"
   ]
  },
  {
   "cell_type": "code",
   "execution_count": 41,
   "id": "a235f965-aa33-41e0-914e-eca7790cfd90",
   "metadata": {},
   "outputs": [
    {
     "data": {
      "text/plain": [
       "array([[0.22222222, 0.625     , 0.06779661, 0.04166667],\n",
       "       [0.16666667, 0.41666667, 0.06779661, 0.04166667],\n",
       "       [0.11111111, 0.5       , 0.05084746, 0.04166667],\n",
       "       [0.08333333, 0.45833333, 0.08474576, 0.04166667],\n",
       "       [0.19444444, 0.66666667, 0.06779661, 0.04166667]])"
      ]
     },
     "execution_count": 41,
     "metadata": {},
     "output_type": "execute_result"
    }
   ],
   "source": [
    "scaler = MinMaxScaler()\n",
    "iris_attributes_scaled = scaler.fit_transform(iris_attributes)\n",
    "iris_attributes_scaled[:5]"
   ]
  },
  {
   "cell_type": "code",
   "execution_count": 42,
   "id": "cd5761a7-d851-45f6-b45d-dfa7e92d6196",
   "metadata": {},
   "outputs": [
    {
     "data": {
      "text/html": [
       "<style>#sk-container-id-4 {color: black;background-color: white;}#sk-container-id-4 pre{padding: 0;}#sk-container-id-4 div.sk-toggleable {background-color: white;}#sk-container-id-4 label.sk-toggleable__label {cursor: pointer;display: block;width: 100%;margin-bottom: 0;padding: 0.3em;box-sizing: border-box;text-align: center;}#sk-container-id-4 label.sk-toggleable__label-arrow:before {content: \"▸\";float: left;margin-right: 0.25em;color: #696969;}#sk-container-id-4 label.sk-toggleable__label-arrow:hover:before {color: black;}#sk-container-id-4 div.sk-estimator:hover label.sk-toggleable__label-arrow:before {color: black;}#sk-container-id-4 div.sk-toggleable__content {max-height: 0;max-width: 0;overflow: hidden;text-align: left;background-color: #f0f8ff;}#sk-container-id-4 div.sk-toggleable__content pre {margin: 0.2em;color: black;border-radius: 0.25em;background-color: #f0f8ff;}#sk-container-id-4 input.sk-toggleable__control:checked~div.sk-toggleable__content {max-height: 200px;max-width: 100%;overflow: auto;}#sk-container-id-4 input.sk-toggleable__control:checked~label.sk-toggleable__label-arrow:before {content: \"▾\";}#sk-container-id-4 div.sk-estimator input.sk-toggleable__control:checked~label.sk-toggleable__label {background-color: #d4ebff;}#sk-container-id-4 div.sk-label input.sk-toggleable__control:checked~label.sk-toggleable__label {background-color: #d4ebff;}#sk-container-id-4 input.sk-hidden--visually {border: 0;clip: rect(1px 1px 1px 1px);clip: rect(1px, 1px, 1px, 1px);height: 1px;margin: -1px;overflow: hidden;padding: 0;position: absolute;width: 1px;}#sk-container-id-4 div.sk-estimator {font-family: monospace;background-color: #f0f8ff;border: 1px dotted black;border-radius: 0.25em;box-sizing: border-box;margin-bottom: 0.5em;}#sk-container-id-4 div.sk-estimator:hover {background-color: #d4ebff;}#sk-container-id-4 div.sk-parallel-item::after {content: \"\";width: 100%;border-bottom: 1px solid gray;flex-grow: 1;}#sk-container-id-4 div.sk-label:hover label.sk-toggleable__label {background-color: #d4ebff;}#sk-container-id-4 div.sk-serial::before {content: \"\";position: absolute;border-left: 1px solid gray;box-sizing: border-box;top: 0;bottom: 0;left: 50%;z-index: 0;}#sk-container-id-4 div.sk-serial {display: flex;flex-direction: column;align-items: center;background-color: white;padding-right: 0.2em;padding-left: 0.2em;position: relative;}#sk-container-id-4 div.sk-item {position: relative;z-index: 1;}#sk-container-id-4 div.sk-parallel {display: flex;align-items: stretch;justify-content: center;background-color: white;position: relative;}#sk-container-id-4 div.sk-item::before, #sk-container-id-4 div.sk-parallel-item::before {content: \"\";position: absolute;border-left: 1px solid gray;box-sizing: border-box;top: 0;bottom: 0;left: 50%;z-index: -1;}#sk-container-id-4 div.sk-parallel-item {display: flex;flex-direction: column;z-index: 1;position: relative;background-color: white;}#sk-container-id-4 div.sk-parallel-item:first-child::after {align-self: flex-end;width: 50%;}#sk-container-id-4 div.sk-parallel-item:last-child::after {align-self: flex-start;width: 50%;}#sk-container-id-4 div.sk-parallel-item:only-child::after {width: 0;}#sk-container-id-4 div.sk-dashed-wrapped {border: 1px dashed gray;margin: 0 0.4em 0.5em 0.4em;box-sizing: border-box;padding-bottom: 0.4em;background-color: white;}#sk-container-id-4 div.sk-label label {font-family: monospace;font-weight: bold;display: inline-block;line-height: 1.2em;}#sk-container-id-4 div.sk-label-container {text-align: center;}#sk-container-id-4 div.sk-container {/* jupyter's `normalize.less` sets `[hidden] { display: none; }` but bootstrap.min.css set `[hidden] { display: none !important; }` so we also need the `!important` here to be able to override the default hidden behavior on the sphinx rendered scikit-learn.org. See: https://github.com/scikit-learn/scikit-learn/issues/21755 */display: inline-block !important;position: relative;}#sk-container-id-4 div.sk-text-repr-fallback {display: none;}</style><div id=\"sk-container-id-4\" class=\"sk-top-container\"><div class=\"sk-text-repr-fallback\"><pre>LogisticRegression(C=1000000000.0)</pre><b>In a Jupyter environment, please rerun this cell to show the HTML representation or trust the notebook. <br />On GitHub, the HTML representation is unable to render, please try loading this page with nbviewer.org.</b></div><div class=\"sk-container\" hidden><div class=\"sk-item\"><div class=\"sk-estimator sk-toggleable\"><input class=\"sk-toggleable__control sk-hidden--visually\" id=\"sk-estimator-id-6\" type=\"checkbox\" checked><label for=\"sk-estimator-id-6\" class=\"sk-toggleable__label sk-toggleable__label-arrow\">LogisticRegression</label><div class=\"sk-toggleable__content\"><pre>LogisticRegression(C=1000000000.0)</pre></div></div></div></div></div>"
      ],
      "text/plain": [
       "LogisticRegression(C=1000000000.0)"
      ]
     },
     "execution_count": 42,
     "metadata": {},
     "output_type": "execute_result"
    }
   ],
   "source": [
    "iris_model = LogisticRegression(C = 1e9)\n",
    "iris_model.fit(iris_attributes_scaled, iris_species)"
   ]
  },
  {
   "cell_type": "code",
   "execution_count": 43,
   "id": "efad8930-2054-450b-a030-89c194041eb0",
   "metadata": {},
   "outputs": [
    {
     "data": {
      "text/plain": [
       "array([[-18.29679129,  29.19813694, -37.89417388, -38.3219437 ],\n",
       "       [ 13.58611302,  -6.58018128,  -8.87560643,  -2.78717031],\n",
       "       [  4.71067827, -22.61795566,  46.76978031,  41.10911401]])"
      ]
     },
     "execution_count": 43,
     "metadata": {},
     "output_type": "execute_result"
    }
   ],
   "source": [
    "iris_model.coef_"
   ]
  },
  {
   "cell_type": "markdown",
   "id": "791e0479-815b-48ee-b9bb-2529e896da96",
   "metadata": {},
   "source": [
    "Имаме 3 модела събрани в 1:\n",
    "- коефициентите за ред 1 са в случея когато Iris Setosa е 1, a останалите 2 вида са 0.\n",
    "\n",
    "Видове:\n",
    "- Iris Setosa\n",
    "- Iris Versicolour\n",
    "- Iris Virginica"
   ]
  },
  {
   "cell_type": "code",
   "execution_count": 44,
   "id": "aa39b99f-38db-4f34-90ed-508a71d9b772",
   "metadata": {},
   "outputs": [
    {
     "data": {
      "text/plain": [
       "0.9866666666666667"
      ]
     },
     "execution_count": 44,
     "metadata": {},
     "output_type": "execute_result"
    }
   ],
   "source": [
    "iris_model.score(iris_attributes_scaled, iris_species)"
   ]
  },
  {
   "cell_type": "code",
   "execution_count": 45,
   "id": "89d0e9cd-5afe-4798-9f85-dc59df6ef373",
   "metadata": {},
   "outputs": [
    {
     "data": {
      "text/plain": [
       "array(['Iris-setosa', 'Iris-setosa', 'Iris-setosa', 'Iris-setosa',\n",
       "       'Iris-setosa', 'Iris-setosa', 'Iris-setosa', 'Iris-setosa',\n",
       "       'Iris-setosa', 'Iris-setosa'], dtype=object)"
      ]
     },
     "execution_count": 45,
     "metadata": {},
     "output_type": "execute_result"
    }
   ],
   "source": [
    "iris_model.predict(iris_attributes_scaled)[:10]"
   ]
  },
  {
   "cell_type": "code",
   "execution_count": 46,
   "id": "f3134e3c-69f3-4097-a44b-800566cbac10",
   "metadata": {},
   "outputs": [
    {
     "data": {
      "text/plain": [
       "0.9866666666666667"
      ]
     },
     "execution_count": 46,
     "metadata": {},
     "output_type": "execute_result"
    }
   ],
   "source": [
    "iris_model.score(iris_attributes_scaled, iris_species)"
   ]
  },
  {
   "cell_type": "code",
   "execution_count": 47,
   "id": "178182e7-6afc-42cc-b205-8867def6749b",
   "metadata": {},
   "outputs": [
    {
     "data": {
      "text/plain": [
       "array([[1.00000000e+00, 1.02292805e-10, 1.55808686e-37],\n",
       "       [9.99999970e-01, 3.00429452e-08, 2.11688322e-33],\n",
       "       [1.00000000e+00, 1.58498332e-10, 1.87108297e-36],\n",
       "       [9.99999999e-01, 7.76309552e-10, 1.50865607e-34],\n",
       "       [1.00000000e+00, 9.50140661e-12, 9.49275281e-39]])"
      ]
     },
     "execution_count": 47,
     "metadata": {},
     "output_type": "execute_result"
    }
   ],
   "source": [
    "iris_model.predict_proba(iris_attributes_scaled)[:5]"
   ]
  },
  {
   "cell_type": "markdown",
   "id": "b9642e8f-290c-4bb6-94fd-3f6bc7f761a8",
   "metadata": {},
   "source": [
    "Това са вероятностите, с които предвижда модела за клас или наблюдение (цвете) от трите възможни."
   ]
  },
  {
   "cell_type": "code",
   "execution_count": 48,
   "id": "347b1004-0d85-4511-a7a1-1297bee555c1",
   "metadata": {},
   "outputs": [
    {
     "data": {
      "text/plain": [
       "0.9866666666666667"
      ]
     },
     "execution_count": 48,
     "metadata": {},
     "output_type": "execute_result"
    }
   ],
   "source": [
    "iris_model.score(iris_attributes_scaled, iris_species)"
   ]
  }
 ],
 "metadata": {
  "kernelspec": {
   "display_name": "Python 3 (ipykernel)",
   "language": "python",
   "name": "python3"
  },
  "language_info": {
   "codemirror_mode": {
    "name": "ipython",
    "version": 3
   },
   "file_extension": ".py",
   "mimetype": "text/x-python",
   "name": "python",
   "nbconvert_exporter": "python",
   "pygments_lexer": "ipython3",
   "version": "3.9.0"
  },
  "toc-autonumbering": false
 },
 "nbformat": 4,
 "nbformat_minor": 5
}
