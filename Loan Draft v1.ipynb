{
 "cells": [
  {
   "cell_type": "code",
   "execution_count": 128,
   "id": "8f41cdf1-bc0b-4704-95b7-d90fa5ebd42c",
   "metadata": {},
   "outputs": [],
   "source": [
    "%matplotlib inline"
   ]
  },
  {
   "cell_type": "code",
   "execution_count": 129,
   "id": "b4834dad-e505-4f38-b16d-8964014cc8a5",
   "metadata": {},
   "outputs": [],
   "source": [
    "import numpy as np\n",
    "import pandas as pd\n",
    "import matplotlib.pyplot as plt\n",
    "\n",
    "from pathlib import Path"
   ]
  },
  {
   "cell_type": "markdown",
   "id": "04f87eb4-7247-46bc-8203-ab6b2f6fe82d",
   "metadata": {},
   "source": [
    "# Should This Loan be Approved or Not? Draft"
   ]
  },
  {
   "cell_type": "markdown",
   "id": "a5d9f991-1475-45a6-9510-12cb9d6f8120",
   "metadata": {},
   "source": [
    "As a representative of the bank, should I grant a loan to a particular small business (Company X)? Why or  why not? The student makes this decision by assessing a loan’s risk.\n",
    "\n",
    "The assessment is accomplished by estimating the loan’s default probability through analyzing this historical dataset and then classifying the loan into one of two categories: (a) higher risk—likely to default on the loan (i.e., be charged off/failure to pay in full) or (b) lower risk—likely to pay off the loan in full."
   ]
  },
  {
   "cell_type": "markdown",
   "id": "9b122410-69f7-4d3b-a8cc-883442fe6f38",
   "metadata": {
    "tags": []
   },
   "source": [
    "### Read"
   ]
  },
  {
   "cell_type": "code",
   "execution_count": 130,
   "id": "bdd139c4-441e-4c00-a77c-4a6d23386fa5",
   "metadata": {},
   "outputs": [
    {
     "name": "stderr",
     "output_type": "stream",
     "text": [
      "C:\\Users\\a1056968\\AppData\\Local\\Temp\\ipykernel_10248\\1598949653.py:2: DtypeWarning: Columns (9) have mixed types. Specify dtype option on import or set low_memory=False.\n",
      "  loan = pd.read_csv(loan_directory / \"SBAnational.csv\")\n"
     ]
    }
   ],
   "source": [
    "loan_directory = Path(r\"C:\\Users\\a1056968\\Desktop\\loan\")\n",
    "loan = pd.read_csv(loan_directory / \"SBAnational.csv\")"
   ]
  },
  {
   "cell_type": "code",
   "execution_count": 131,
   "id": "5ea1f165-d18a-485a-8546-0e243ce46632",
   "metadata": {},
   "outputs": [
    {
     "data": {
      "text/html": [
       "<div>\n",
       "<style scoped>\n",
       "    .dataframe tbody tr th:only-of-type {\n",
       "        vertical-align: middle;\n",
       "    }\n",
       "\n",
       "    .dataframe tbody tr th {\n",
       "        vertical-align: top;\n",
       "    }\n",
       "\n",
       "    .dataframe thead th {\n",
       "        text-align: right;\n",
       "    }\n",
       "</style>\n",
       "<table border=\"1\" class=\"dataframe\">\n",
       "  <thead>\n",
       "    <tr style=\"text-align: right;\">\n",
       "      <th></th>\n",
       "      <th>LoanNr_ChkDgt</th>\n",
       "      <th>Name</th>\n",
       "      <th>City</th>\n",
       "      <th>State</th>\n",
       "      <th>Zip</th>\n",
       "      <th>Bank</th>\n",
       "      <th>BankState</th>\n",
       "      <th>NAICS</th>\n",
       "      <th>ApprovalDate</th>\n",
       "      <th>ApprovalFY</th>\n",
       "      <th>...</th>\n",
       "      <th>RevLineCr</th>\n",
       "      <th>LowDoc</th>\n",
       "      <th>ChgOffDate</th>\n",
       "      <th>DisbursementDate</th>\n",
       "      <th>DisbursementGross</th>\n",
       "      <th>BalanceGross</th>\n",
       "      <th>MIS_Status</th>\n",
       "      <th>ChgOffPrinGr</th>\n",
       "      <th>GrAppv</th>\n",
       "      <th>SBA_Appv</th>\n",
       "    </tr>\n",
       "  </thead>\n",
       "  <tbody>\n",
       "    <tr>\n",
       "      <th>0</th>\n",
       "      <td>1000014003</td>\n",
       "      <td>ABC HOBBYCRAFT</td>\n",
       "      <td>EVANSVILLE</td>\n",
       "      <td>IN</td>\n",
       "      <td>47711</td>\n",
       "      <td>FIFTH THIRD BANK</td>\n",
       "      <td>OH</td>\n",
       "      <td>451120</td>\n",
       "      <td>28-Feb-97</td>\n",
       "      <td>1997</td>\n",
       "      <td>...</td>\n",
       "      <td>N</td>\n",
       "      <td>Y</td>\n",
       "      <td>NaN</td>\n",
       "      <td>28-Feb-99</td>\n",
       "      <td>$60,000.00</td>\n",
       "      <td>$0.00</td>\n",
       "      <td>P I F</td>\n",
       "      <td>$0.00</td>\n",
       "      <td>$60,000.00</td>\n",
       "      <td>$48,000.00</td>\n",
       "    </tr>\n",
       "    <tr>\n",
       "      <th>1</th>\n",
       "      <td>1000024006</td>\n",
       "      <td>LANDMARK BAR &amp; GRILLE (THE)</td>\n",
       "      <td>NEW PARIS</td>\n",
       "      <td>IN</td>\n",
       "      <td>46526</td>\n",
       "      <td>1ST SOURCE BANK</td>\n",
       "      <td>IN</td>\n",
       "      <td>722410</td>\n",
       "      <td>28-Feb-97</td>\n",
       "      <td>1997</td>\n",
       "      <td>...</td>\n",
       "      <td>N</td>\n",
       "      <td>Y</td>\n",
       "      <td>NaN</td>\n",
       "      <td>31-May-97</td>\n",
       "      <td>$40,000.00</td>\n",
       "      <td>$0.00</td>\n",
       "      <td>P I F</td>\n",
       "      <td>$0.00</td>\n",
       "      <td>$40,000.00</td>\n",
       "      <td>$32,000.00</td>\n",
       "    </tr>\n",
       "    <tr>\n",
       "      <th>2</th>\n",
       "      <td>1000034009</td>\n",
       "      <td>WHITLOCK DDS, TODD M.</td>\n",
       "      <td>BLOOMINGTON</td>\n",
       "      <td>IN</td>\n",
       "      <td>47401</td>\n",
       "      <td>GRANT COUNTY STATE BANK</td>\n",
       "      <td>IN</td>\n",
       "      <td>621210</td>\n",
       "      <td>28-Feb-97</td>\n",
       "      <td>1997</td>\n",
       "      <td>...</td>\n",
       "      <td>N</td>\n",
       "      <td>N</td>\n",
       "      <td>NaN</td>\n",
       "      <td>31-Dec-97</td>\n",
       "      <td>$287,000.00</td>\n",
       "      <td>$0.00</td>\n",
       "      <td>P I F</td>\n",
       "      <td>$0.00</td>\n",
       "      <td>$287,000.00</td>\n",
       "      <td>$215,250.00</td>\n",
       "    </tr>\n",
       "    <tr>\n",
       "      <th>3</th>\n",
       "      <td>1000044001</td>\n",
       "      <td>BIG BUCKS PAWN &amp; JEWELRY, LLC</td>\n",
       "      <td>BROKEN ARROW</td>\n",
       "      <td>OK</td>\n",
       "      <td>74012</td>\n",
       "      <td>1ST NATL BK &amp; TR CO OF BROKEN</td>\n",
       "      <td>OK</td>\n",
       "      <td>0</td>\n",
       "      <td>28-Feb-97</td>\n",
       "      <td>1997</td>\n",
       "      <td>...</td>\n",
       "      <td>N</td>\n",
       "      <td>Y</td>\n",
       "      <td>NaN</td>\n",
       "      <td>30-Jun-97</td>\n",
       "      <td>$35,000.00</td>\n",
       "      <td>$0.00</td>\n",
       "      <td>P I F</td>\n",
       "      <td>$0.00</td>\n",
       "      <td>$35,000.00</td>\n",
       "      <td>$28,000.00</td>\n",
       "    </tr>\n",
       "    <tr>\n",
       "      <th>4</th>\n",
       "      <td>1000054004</td>\n",
       "      <td>ANASTASIA CONFECTIONS, INC.</td>\n",
       "      <td>ORLANDO</td>\n",
       "      <td>FL</td>\n",
       "      <td>32801</td>\n",
       "      <td>FLORIDA BUS. DEVEL CORP</td>\n",
       "      <td>FL</td>\n",
       "      <td>0</td>\n",
       "      <td>28-Feb-97</td>\n",
       "      <td>1997</td>\n",
       "      <td>...</td>\n",
       "      <td>N</td>\n",
       "      <td>N</td>\n",
       "      <td>NaN</td>\n",
       "      <td>14-May-97</td>\n",
       "      <td>$229,000.00</td>\n",
       "      <td>$0.00</td>\n",
       "      <td>P I F</td>\n",
       "      <td>$0.00</td>\n",
       "      <td>$229,000.00</td>\n",
       "      <td>$229,000.00</td>\n",
       "    </tr>\n",
       "  </tbody>\n",
       "</table>\n",
       "<p>5 rows × 27 columns</p>\n",
       "</div>"
      ],
      "text/plain": [
       "   LoanNr_ChkDgt                           Name          City State    Zip  \\\n",
       "0     1000014003                 ABC HOBBYCRAFT    EVANSVILLE    IN  47711   \n",
       "1     1000024006    LANDMARK BAR & GRILLE (THE)     NEW PARIS    IN  46526   \n",
       "2     1000034009          WHITLOCK DDS, TODD M.   BLOOMINGTON    IN  47401   \n",
       "3     1000044001  BIG BUCKS PAWN & JEWELRY, LLC  BROKEN ARROW    OK  74012   \n",
       "4     1000054004    ANASTASIA CONFECTIONS, INC.       ORLANDO    FL  32801   \n",
       "\n",
       "                            Bank BankState   NAICS ApprovalDate ApprovalFY  \\\n",
       "0               FIFTH THIRD BANK        OH  451120    28-Feb-97       1997   \n",
       "1                1ST SOURCE BANK        IN  722410    28-Feb-97       1997   \n",
       "2        GRANT COUNTY STATE BANK        IN  621210    28-Feb-97       1997   \n",
       "3  1ST NATL BK & TR CO OF BROKEN        OK       0    28-Feb-97       1997   \n",
       "4        FLORIDA BUS. DEVEL CORP        FL       0    28-Feb-97       1997   \n",
       "\n",
       "   ...  RevLineCr  LowDoc  ChgOffDate  DisbursementDate  DisbursementGross  \\\n",
       "0  ...          N       Y         NaN         28-Feb-99        $60,000.00    \n",
       "1  ...          N       Y         NaN         31-May-97        $40,000.00    \n",
       "2  ...          N       N         NaN         31-Dec-97       $287,000.00    \n",
       "3  ...          N       Y         NaN         30-Jun-97        $35,000.00    \n",
       "4  ...          N       N         NaN         14-May-97       $229,000.00    \n",
       "\n",
       "   BalanceGross  MIS_Status ChgOffPrinGr        GrAppv      SBA_Appv  \n",
       "0        $0.00        P I F       $0.00    $60,000.00    $48,000.00   \n",
       "1        $0.00        P I F       $0.00    $40,000.00    $32,000.00   \n",
       "2        $0.00        P I F       $0.00   $287,000.00   $215,250.00   \n",
       "3        $0.00        P I F       $0.00    $35,000.00    $28,000.00   \n",
       "4        $0.00        P I F       $0.00   $229,000.00   $229,000.00   \n",
       "\n",
       "[5 rows x 27 columns]"
      ]
     },
     "execution_count": 131,
     "metadata": {},
     "output_type": "execute_result"
    }
   ],
   "source": [
    "loan.head()"
   ]
  },
  {
   "cell_type": "markdown",
   "id": "eb26927a-7078-4134-810d-98c98fe18310",
   "metadata": {
    "tags": []
   },
   "source": [
    "### Get to know"
   ]
  },
  {
   "cell_type": "code",
   "execution_count": 132,
   "id": "1b07516a-96ce-4b76-9fec-e985b6b812fd",
   "metadata": {},
   "outputs": [
    {
     "data": {
      "text/plain": [
       "Index(['LoanNr_ChkDgt', 'Name', 'City', 'State', 'Zip', 'Bank', 'BankState',\n",
       "       'NAICS', 'ApprovalDate', 'ApprovalFY', 'Term', 'NoEmp', 'NewExist',\n",
       "       'CreateJob', 'RetainedJob', 'FranchiseCode', 'UrbanRural', 'RevLineCr',\n",
       "       'LowDoc', 'ChgOffDate', 'DisbursementDate', 'DisbursementGross',\n",
       "       'BalanceGross', 'MIS_Status', 'ChgOffPrinGr', 'GrAppv', 'SBA_Appv'],\n",
       "      dtype='object')"
      ]
     },
     "execution_count": 132,
     "metadata": {},
     "output_type": "execute_result"
    }
   ],
   "source": [
    "loan.columns"
   ]
  },
  {
   "cell_type": "code",
   "execution_count": 133,
   "id": "10779c9e-7e0e-448d-be83-b11705ec6fb2",
   "metadata": {},
   "outputs": [
    {
     "data": {
      "text/plain": [
       "LoanNr_ChkDgt          int64\n",
       "Name                  object\n",
       "City                  object\n",
       "State                 object\n",
       "Zip                    int64\n",
       "Bank                  object\n",
       "BankState             object\n",
       "NAICS                  int64\n",
       "ApprovalDate          object\n",
       "ApprovalFY            object\n",
       "Term                   int64\n",
       "NoEmp                  int64\n",
       "NewExist             float64\n",
       "CreateJob              int64\n",
       "RetainedJob            int64\n",
       "FranchiseCode          int64\n",
       "UrbanRural             int64\n",
       "RevLineCr             object\n",
       "LowDoc                object\n",
       "ChgOffDate            object\n",
       "DisbursementDate      object\n",
       "DisbursementGross     object\n",
       "BalanceGross          object\n",
       "MIS_Status            object\n",
       "ChgOffPrinGr          object\n",
       "GrAppv                object\n",
       "SBA_Appv              object\n",
       "dtype: object"
      ]
     },
     "execution_count": 133,
     "metadata": {},
     "output_type": "execute_result"
    }
   ],
   "source": [
    "loan.dtypes"
   ]
  },
  {
   "cell_type": "code",
   "execution_count": 134,
   "id": "8d93c335-2df6-462e-9db1-fce283086b29",
   "metadata": {},
   "outputs": [
    {
     "data": {
      "text/html": [
       "<div>\n",
       "<style scoped>\n",
       "    .dataframe tbody tr th:only-of-type {\n",
       "        vertical-align: middle;\n",
       "    }\n",
       "\n",
       "    .dataframe tbody tr th {\n",
       "        vertical-align: top;\n",
       "    }\n",
       "\n",
       "    .dataframe thead th {\n",
       "        text-align: right;\n",
       "    }\n",
       "</style>\n",
       "<table border=\"1\" class=\"dataframe\">\n",
       "  <thead>\n",
       "    <tr style=\"text-align: right;\">\n",
       "      <th></th>\n",
       "      <th>count</th>\n",
       "      <th>mean</th>\n",
       "      <th>std</th>\n",
       "      <th>min</th>\n",
       "      <th>25%</th>\n",
       "      <th>50%</th>\n",
       "      <th>75%</th>\n",
       "      <th>max</th>\n",
       "    </tr>\n",
       "  </thead>\n",
       "  <tbody>\n",
       "    <tr>\n",
       "      <th>LoanNr_ChkDgt</th>\n",
       "      <td>899164.0</td>\n",
       "      <td>4.772612e+09</td>\n",
       "      <td>2.538175e+09</td>\n",
       "      <td>1.000014e+09</td>\n",
       "      <td>2.589758e+09</td>\n",
       "      <td>4.361439e+09</td>\n",
       "      <td>6.904627e+09</td>\n",
       "      <td>9.996003e+09</td>\n",
       "    </tr>\n",
       "    <tr>\n",
       "      <th>Zip</th>\n",
       "      <td>899164.0</td>\n",
       "      <td>5.380439e+04</td>\n",
       "      <td>3.118416e+04</td>\n",
       "      <td>0.000000e+00</td>\n",
       "      <td>2.758700e+04</td>\n",
       "      <td>5.541000e+04</td>\n",
       "      <td>8.370400e+04</td>\n",
       "      <td>9.999900e+04</td>\n",
       "    </tr>\n",
       "    <tr>\n",
       "      <th>NAICS</th>\n",
       "      <td>899164.0</td>\n",
       "      <td>3.986610e+05</td>\n",
       "      <td>2.633183e+05</td>\n",
       "      <td>0.000000e+00</td>\n",
       "      <td>2.352100e+05</td>\n",
       "      <td>4.453100e+05</td>\n",
       "      <td>5.617300e+05</td>\n",
       "      <td>9.281200e+05</td>\n",
       "    </tr>\n",
       "    <tr>\n",
       "      <th>Term</th>\n",
       "      <td>899164.0</td>\n",
       "      <td>1.107731e+02</td>\n",
       "      <td>7.885731e+01</td>\n",
       "      <td>0.000000e+00</td>\n",
       "      <td>6.000000e+01</td>\n",
       "      <td>8.400000e+01</td>\n",
       "      <td>1.200000e+02</td>\n",
       "      <td>5.690000e+02</td>\n",
       "    </tr>\n",
       "    <tr>\n",
       "      <th>NoEmp</th>\n",
       "      <td>899164.0</td>\n",
       "      <td>1.141135e+01</td>\n",
       "      <td>7.410820e+01</td>\n",
       "      <td>0.000000e+00</td>\n",
       "      <td>2.000000e+00</td>\n",
       "      <td>4.000000e+00</td>\n",
       "      <td>1.000000e+01</td>\n",
       "      <td>9.999000e+03</td>\n",
       "    </tr>\n",
       "    <tr>\n",
       "      <th>NewExist</th>\n",
       "      <td>899028.0</td>\n",
       "      <td>1.280404e+00</td>\n",
       "      <td>4.517500e-01</td>\n",
       "      <td>0.000000e+00</td>\n",
       "      <td>1.000000e+00</td>\n",
       "      <td>1.000000e+00</td>\n",
       "      <td>2.000000e+00</td>\n",
       "      <td>2.000000e+00</td>\n",
       "    </tr>\n",
       "    <tr>\n",
       "      <th>CreateJob</th>\n",
       "      <td>899164.0</td>\n",
       "      <td>8.430376e+00</td>\n",
       "      <td>2.366882e+02</td>\n",
       "      <td>0.000000e+00</td>\n",
       "      <td>0.000000e+00</td>\n",
       "      <td>0.000000e+00</td>\n",
       "      <td>1.000000e+00</td>\n",
       "      <td>8.800000e+03</td>\n",
       "    </tr>\n",
       "    <tr>\n",
       "      <th>RetainedJob</th>\n",
       "      <td>899164.0</td>\n",
       "      <td>1.079726e+01</td>\n",
       "      <td>2.371206e+02</td>\n",
       "      <td>0.000000e+00</td>\n",
       "      <td>0.000000e+00</td>\n",
       "      <td>1.000000e+00</td>\n",
       "      <td>4.000000e+00</td>\n",
       "      <td>9.500000e+03</td>\n",
       "    </tr>\n",
       "    <tr>\n",
       "      <th>FranchiseCode</th>\n",
       "      <td>899164.0</td>\n",
       "      <td>2.753726e+03</td>\n",
       "      <td>1.275802e+04</td>\n",
       "      <td>0.000000e+00</td>\n",
       "      <td>1.000000e+00</td>\n",
       "      <td>1.000000e+00</td>\n",
       "      <td>1.000000e+00</td>\n",
       "      <td>9.999900e+04</td>\n",
       "    </tr>\n",
       "    <tr>\n",
       "      <th>UrbanRural</th>\n",
       "      <td>899164.0</td>\n",
       "      <td>7.577483e-01</td>\n",
       "      <td>6.464360e-01</td>\n",
       "      <td>0.000000e+00</td>\n",
       "      <td>0.000000e+00</td>\n",
       "      <td>1.000000e+00</td>\n",
       "      <td>1.000000e+00</td>\n",
       "      <td>2.000000e+00</td>\n",
       "    </tr>\n",
       "  </tbody>\n",
       "</table>\n",
       "</div>"
      ],
      "text/plain": [
       "                  count          mean           std           min  \\\n",
       "LoanNr_ChkDgt  899164.0  4.772612e+09  2.538175e+09  1.000014e+09   \n",
       "Zip            899164.0  5.380439e+04  3.118416e+04  0.000000e+00   \n",
       "NAICS          899164.0  3.986610e+05  2.633183e+05  0.000000e+00   \n",
       "Term           899164.0  1.107731e+02  7.885731e+01  0.000000e+00   \n",
       "NoEmp          899164.0  1.141135e+01  7.410820e+01  0.000000e+00   \n",
       "NewExist       899028.0  1.280404e+00  4.517500e-01  0.000000e+00   \n",
       "CreateJob      899164.0  8.430376e+00  2.366882e+02  0.000000e+00   \n",
       "RetainedJob    899164.0  1.079726e+01  2.371206e+02  0.000000e+00   \n",
       "FranchiseCode  899164.0  2.753726e+03  1.275802e+04  0.000000e+00   \n",
       "UrbanRural     899164.0  7.577483e-01  6.464360e-01  0.000000e+00   \n",
       "\n",
       "                        25%           50%           75%           max  \n",
       "LoanNr_ChkDgt  2.589758e+09  4.361439e+09  6.904627e+09  9.996003e+09  \n",
       "Zip            2.758700e+04  5.541000e+04  8.370400e+04  9.999900e+04  \n",
       "NAICS          2.352100e+05  4.453100e+05  5.617300e+05  9.281200e+05  \n",
       "Term           6.000000e+01  8.400000e+01  1.200000e+02  5.690000e+02  \n",
       "NoEmp          2.000000e+00  4.000000e+00  1.000000e+01  9.999000e+03  \n",
       "NewExist       1.000000e+00  1.000000e+00  2.000000e+00  2.000000e+00  \n",
       "CreateJob      0.000000e+00  0.000000e+00  1.000000e+00  8.800000e+03  \n",
       "RetainedJob    0.000000e+00  1.000000e+00  4.000000e+00  9.500000e+03  \n",
       "FranchiseCode  1.000000e+00  1.000000e+00  1.000000e+00  9.999900e+04  \n",
       "UrbanRural     0.000000e+00  1.000000e+00  1.000000e+00  2.000000e+00  "
      ]
     },
     "execution_count": 134,
     "metadata": {},
     "output_type": "execute_result"
    }
   ],
   "source": [
    "loan.describe().T"
   ]
  },
  {
   "cell_type": "code",
   "execution_count": 135,
   "id": "3e21c13d-8866-49c0-b301-3fdcd2b9470d",
   "metadata": {},
   "outputs": [
    {
     "name": "stdout",
     "output_type": "stream",
     "text": [
      "<class 'pandas.core.frame.DataFrame'>\n",
      "RangeIndex: 899164 entries, 0 to 899163\n",
      "Data columns (total 27 columns):\n",
      " #   Column             Non-Null Count   Dtype  \n",
      "---  ------             --------------   -----  \n",
      " 0   LoanNr_ChkDgt      899164 non-null  int64  \n",
      " 1   Name               899150 non-null  object \n",
      " 2   City               899134 non-null  object \n",
      " 3   State              899150 non-null  object \n",
      " 4   Zip                899164 non-null  int64  \n",
      " 5   Bank               897605 non-null  object \n",
      " 6   BankState          897598 non-null  object \n",
      " 7   NAICS              899164 non-null  int64  \n",
      " 8   ApprovalDate       899164 non-null  object \n",
      " 9   ApprovalFY         899164 non-null  object \n",
      " 10  Term               899164 non-null  int64  \n",
      " 11  NoEmp              899164 non-null  int64  \n",
      " 12  NewExist           899028 non-null  float64\n",
      " 13  CreateJob          899164 non-null  int64  \n",
      " 14  RetainedJob        899164 non-null  int64  \n",
      " 15  FranchiseCode      899164 non-null  int64  \n",
      " 16  UrbanRural         899164 non-null  int64  \n",
      " 17  RevLineCr          894636 non-null  object \n",
      " 18  LowDoc             896582 non-null  object \n",
      " 19  ChgOffDate         162699 non-null  object \n",
      " 20  DisbursementDate   896796 non-null  object \n",
      " 21  DisbursementGross  899164 non-null  object \n",
      " 22  BalanceGross       899164 non-null  object \n",
      " 23  MIS_Status         897167 non-null  object \n",
      " 24  ChgOffPrinGr       899164 non-null  object \n",
      " 25  GrAppv             899164 non-null  object \n",
      " 26  SBA_Appv           899164 non-null  object \n",
      "dtypes: float64(1), int64(9), object(17)\n",
      "memory usage: 185.2+ MB\n"
     ]
    }
   ],
   "source": [
    "loan.info()"
   ]
  },
  {
   "cell_type": "code",
   "execution_count": 136,
   "id": "21009478-4906-4b11-806d-ad05d282b3d7",
   "metadata": {},
   "outputs": [
    {
     "data": {
      "text/plain": [
       "LoanNr_ChkDgt        899164\n",
       "Name                 779583\n",
       "City                  32581\n",
       "State                    51\n",
       "Zip                   33611\n",
       "Bank                   5802\n",
       "BankState                56\n",
       "NAICS                  1312\n",
       "ApprovalDate           9859\n",
       "ApprovalFY               70\n",
       "Term                    412\n",
       "NoEmp                   599\n",
       "NewExist                  3\n",
       "CreateJob               246\n",
       "RetainedJob             358\n",
       "FranchiseCode          2768\n",
       "UrbanRural                3\n",
       "RevLineCr                18\n",
       "LowDoc                    8\n",
       "ChgOffDate             6448\n",
       "DisbursementDate       8472\n",
       "DisbursementGross    118859\n",
       "BalanceGross             15\n",
       "MIS_Status                2\n",
       "ChgOffPrinGr          83165\n",
       "GrAppv                22128\n",
       "SBA_Appv              38326\n",
       "dtype: int64"
      ]
     },
     "execution_count": 136,
     "metadata": {},
     "output_type": "execute_result"
    }
   ],
   "source": [
    "loan.nunique()"
   ]
  },
  {
   "cell_type": "code",
   "execution_count": 175,
   "id": "5326c0e6-44bf-4d6f-9033-b89e6c717ad8",
   "metadata": {},
   "outputs": [
    {
     "data": {
      "text/plain": [
       "LoanNr_ChkDgt             0\n",
       "Name                     14\n",
       "City                     30\n",
       "State                    14\n",
       "Zip                       0\n",
       "Bank                   1559\n",
       "BankState              1566\n",
       "NAICS                     0\n",
       "ApprovalDate              0\n",
       "ApprovalFY                0\n",
       "Term                      0\n",
       "NoEmp                     0\n",
       "NewExist                136\n",
       "CreateJob                 0\n",
       "RetainedJob               0\n",
       "FranchiseCode             0\n",
       "UrbanRural                0\n",
       "RevLineCr                 0\n",
       "LowDoc                    0\n",
       "ChgOffDate           736465\n",
       "DisbursementDate       2368\n",
       "DisbursementGross         0\n",
       "BalanceGross              0\n",
       "MIS_Status             1997\n",
       "ChgOffPrinGr              0\n",
       "GrAppv                    0\n",
       "SBA_Appv                  0\n",
       "industry                  0\n",
       "dtype: int64"
      ]
     },
     "execution_count": 175,
     "metadata": {},
     "output_type": "execute_result"
    }
   ],
   "source": [
    "loan.isna().sum()"
   ]
  },
  {
   "cell_type": "markdown",
   "id": "fa55e828-e25f-41fa-9bb1-59651d4ed455",
   "metadata": {
    "tags": []
   },
   "source": [
    "### Industry"
   ]
  },
  {
   "cell_type": "code",
   "execution_count": 137,
   "id": "ee26bb58-45ec-48d9-83e0-9c394dc0875c",
   "metadata": {},
   "outputs": [
    {
     "data": {
      "text/plain": [
       "0         201948\n",
       "722110     27989\n",
       "722211     19448\n",
       "811111     14585\n",
       "621210     14048\n",
       "           ...  \n",
       "423130       102\n",
       "424110       102\n",
       "327122       101\n",
       "562219       101\n",
       "541720       101\n",
       "Name: NAICS, Length: 717, dtype: int64"
      ]
     },
     "execution_count": 137,
     "metadata": {},
     "output_type": "execute_result"
    }
   ],
   "source": [
    "loan.NAICS.value_counts()[loan.NAICS.value_counts() > 100]"
   ]
  },
  {
   "cell_type": "code",
   "execution_count": 138,
   "id": "b109e3c2-4205-4267-991b-481783ce2ffb",
   "metadata": {},
   "outputs": [],
   "source": [
    "loan['industry'] = loan.NAICS // 10000"
   ]
  },
  {
   "cell_type": "code",
   "execution_count": 139,
   "id": "8e67a71d-b8e8-49cc-8765-5e261a2af257",
   "metadata": {
    "tags": []
   },
   "outputs": [
    {
     "data": {
      "text/plain": [
       "0     201948\n",
       "44     84737\n",
       "81     72618\n",
       "54     68170\n",
       "72     67600\n",
       "23     66646\n",
       "62     55366\n",
       "42     48743\n",
       "45     42514\n",
       "33     38284\n",
       "56     32685\n",
       "48     20310\n",
       "32     17936\n",
       "71     14640\n",
       "53     13632\n",
       "31     11809\n",
       "51     11379\n",
       "52      9496\n",
       "11      9005\n",
       "61      6425\n",
       "49      2221\n",
       "21      1851\n",
       "22       663\n",
       "55       257\n",
       "92       229\n",
       "Name: industry, dtype: int64"
      ]
     },
     "execution_count": 139,
     "metadata": {},
     "output_type": "execute_result"
    }
   ],
   "source": [
    "loan.industry.value_counts()"
   ]
  },
  {
   "cell_type": "markdown",
   "id": "fb03385a-c5f2-496f-913e-3d937b5e3142",
   "metadata": {},
   "source": [
    "### ApprovalFY"
   ]
  },
  {
   "cell_type": "code",
   "execution_count": 140,
   "id": "75eeef1a-420b-48ff-a6e3-4fdd979c7dda",
   "metadata": {
    "tags": []
   },
   "outputs": [
    {
     "data": {
      "text/plain": [
       "array([1997, 1980, 2006, 1998, 1999, 2000, 2001, 1972, 2003, 2004, 1978,\n",
       "       1979, 1981, 2005, 1962, 1982, 1965, 1966, 1983, 1973, 1984, 2007,\n",
       "       1985, 1986, 1987, 2008, 1988, 2009, 1989, 1991, 1990, 1974, 2010,\n",
       "       1967, 2011, 1992, 1993, 2002, 2012, 2013, 1994, 2014, 1975, 1977,\n",
       "       1976, 1968, '2004', '1994', '1979', '1976', '1967', '1975', '1974',\n",
       "       '1977', '1981', '1982', '1983', '1984', '1978', '1980', '1968',\n",
       "       '1976A', '1969', '1995', '1970', '2005', '1996', '1971', 1996,\n",
       "       1971], dtype=object)"
      ]
     },
     "execution_count": 140,
     "metadata": {},
     "output_type": "execute_result"
    }
   ],
   "source": [
    "loan.ApprovalFY.unique()"
   ]
  },
  {
   "cell_type": "code",
   "execution_count": 141,
   "id": "8416217b-948f-40e6-9f71-bd89ea29f021",
   "metadata": {},
   "outputs": [],
   "source": [
    "loan.ApprovalFY = loan.ApprovalFY.replace({'1976A': 1976})"
   ]
  },
  {
   "cell_type": "code",
   "execution_count": 142,
   "id": "8df4eb52-e0af-4713-a702-281b2c7ec021",
   "metadata": {},
   "outputs": [
    {
     "data": {
      "text/plain": [
       "1962        1\n",
       "1965        1\n",
       "1966        1\n",
       "1967        2\n",
       "1968        2\n",
       "1969        4\n",
       "1970        8\n",
       "1971       20\n",
       "1972       27\n",
       "1973       52\n",
       "1974       42\n",
       "1975       30\n",
       "1976       84\n",
       "1977      137\n",
       "1978      242\n",
       "1979      352\n",
       "1980      477\n",
       "1981      630\n",
       "1982      719\n",
       "1983     1684\n",
       "1984     2022\n",
       "1985     1944\n",
       "1986     2118\n",
       "1987     2218\n",
       "1988     1898\n",
       "1989    13248\n",
       "1990    14859\n",
       "1991    15666\n",
       "1992    20885\n",
       "1993    23305\n",
       "1994    31598\n",
       "1995    45758\n",
       "1996    40112\n",
       "1997    37748\n",
       "1998    36016\n",
       "1999    37363\n",
       "2000    37381\n",
       "2001    37350\n",
       "2002    44391\n",
       "2003    58193\n",
       "2004    68290\n",
       "2005    77525\n",
       "2006    76040\n",
       "2007    71876\n",
       "2008    39540\n",
       "2009    19126\n",
       "2010    16848\n",
       "2011    12608\n",
       "2012     5997\n",
       "2013     2458\n",
       "2014      268\n",
       "Name: ApprovalFY, dtype: int64"
      ]
     },
     "execution_count": 142,
     "metadata": {},
     "output_type": "execute_result"
    }
   ],
   "source": [
    "loan.ApprovalFY.astype('int16').value_counts().sort_index()"
   ]
  },
  {
   "cell_type": "markdown",
   "id": "ad862731-3c2d-44da-be36-882279983a21",
   "metadata": {},
   "source": [
    "### ApprovalDate"
   ]
  },
  {
   "cell_type": "code",
   "execution_count": 143,
   "id": "a27f2ba9-f33d-4cea-881c-90f2afff3551",
   "metadata": {},
   "outputs": [
    {
     "data": {
      "text/plain": [
       "0         28-Feb-97\n",
       "1         28-Feb-97\n",
       "2         28-Feb-97\n",
       "3         28-Feb-97\n",
       "4         28-Feb-97\n",
       "            ...    \n",
       "899159    27-Feb-97\n",
       "899160    27-Feb-97\n",
       "899161    27-Feb-97\n",
       "899162    27-Feb-97\n",
       "899163    27-Feb-97\n",
       "Name: ApprovalDate, Length: 899164, dtype: object"
      ]
     },
     "execution_count": 143,
     "metadata": {},
     "output_type": "execute_result"
    }
   ],
   "source": [
    "loan.ApprovalDate"
   ]
  },
  {
   "cell_type": "code",
   "execution_count": 144,
   "id": "929f1a9a-bf4a-40a1-9cae-b6113a1c436c",
   "metadata": {},
   "outputs": [
    {
     "data": {
      "text/plain": [
       "0        1997-02-28\n",
       "1        1997-02-28\n",
       "2        1997-02-28\n",
       "3        1997-02-28\n",
       "4        1997-02-28\n",
       "            ...    \n",
       "899159   1997-02-27\n",
       "899160   1997-02-27\n",
       "899161   1997-02-27\n",
       "899162   1997-02-27\n",
       "899163   1997-02-27\n",
       "Name: ApprovalDate, Length: 899164, dtype: datetime64[ns]"
      ]
     },
     "execution_count": 144,
     "metadata": {},
     "output_type": "execute_result"
    }
   ],
   "source": [
    "pd.to_datetime(loan.ApprovalDate, dayfirst=True)"
   ]
  },
  {
   "cell_type": "code",
   "execution_count": 145,
   "id": "f9e29b3a-4cff-4168-99d9-f9862b7ccb5d",
   "metadata": {},
   "outputs": [],
   "source": [
    "approval_dates = pd.to_datetime(loan.ApprovalDate, dayfirst=True)"
   ]
  },
  {
   "cell_type": "code",
   "execution_count": 146,
   "id": "903725b9-607c-4bdd-8eef-265d9d85aaca",
   "metadata": {},
   "outputs": [
    {
     "data": {
      "text/plain": [
       "649      2071-08-13\n",
       "7454     2071-11-16\n",
       "7509     2071-11-30\n",
       "20250    2071-08-06\n",
       "22206    2071-12-20\n",
       "26514    2071-07-13\n",
       "38362    2071-07-16\n",
       "38437    2071-09-10\n",
       "38920    2061-12-07\n",
       "44932    2064-11-27\n",
       "49244    2066-05-18\n",
       "434334   2067-02-28\n",
       "683481   2067-07-20\n",
       "689069   2067-04-25\n",
       "697801   2068-02-09\n",
       "720402   2068-12-03\n",
       "726149   2069-04-28\n",
       "729572   2070-04-20\n",
       "732056   2068-09-24\n",
       "738410   2069-01-31\n",
       "745197   2070-02-11\n",
       "747668   2069-10-13\n",
       "748184   2070-04-30\n",
       "750426   2071-04-16\n",
       "751558   2070-04-21\n",
       "754386   2069-10-09\n",
       "766960   2070-04-07\n",
       "767019   2070-07-22\n",
       "767065   2070-10-06\n",
       "767683   2070-11-06\n",
       "768081   2070-08-14\n",
       "771437   2070-09-01\n",
       "771486   2070-05-13\n",
       "772010   2070-10-09\n",
       "772589   2070-09-11\n",
       "772962   2070-07-23\n",
       "774035   2071-06-29\n",
       "774474   2070-10-12\n",
       "779337   2070-09-18\n",
       "779520   2070-12-31\n",
       "785511   2070-12-22\n",
       "799032   2070-12-30\n",
       "804226   2071-01-11\n",
       "805754   2071-05-28\n",
       "820902   2071-03-17\n",
       "820949   2071-04-26\n",
       "839161   2071-04-07\n",
       "Name: ApprovalDate, dtype: datetime64[ns]"
      ]
     },
     "execution_count": 146,
     "metadata": {},
     "output_type": "execute_result"
    }
   ],
   "source": [
    "invalid_approval_dates = approval_dates[approval_dates > \"2022-12-31\"]\n",
    "invalid_approval_dates"
   ]
  },
  {
   "cell_type": "code",
   "execution_count": 147,
   "id": "ff98ecae-ec25-48d3-87fa-b8f4c9e63a3d",
   "metadata": {},
   "outputs": [],
   "source": [
    "approval_dates[approval_dates > \"2022-12-31\"] = invalid_approval_dates - pd.DateOffset(years=100)"
   ]
  },
  {
   "cell_type": "markdown",
   "id": "007b3df1-58a7-4a38-8f23-c27dff7ace9b",
   "metadata": {},
   "source": [
    "### NoEmp"
   ]
  },
  {
   "cell_type": "code",
   "execution_count": 148,
   "id": "bd768137-fcae-420e-8027-0d186e51ff92",
   "metadata": {},
   "outputs": [
    {
     "name": "stdout",
     "output_type": "stream",
     "text": [
      "Proportion of cases with employees less then a limit:\n",
      "<=   20 employees: 0.88\n",
      "<=   50 employees: 0.97\n",
      "<=  100 employees: 0.99\n",
      "<=  200 employees: 1.00\n",
      "<=  500 employees: 1.00\n",
      "<= 1000 employees: 1.00\n"
     ]
    }
   ],
   "source": [
    "print(\"Proportion of cases with employees less then a limit:\")\n",
    "for employee_count in [20, 50, 100, 200, 500, 1000]:\n",
    "    proportion_of_all_emplyees = loan.NoEmp[loan.NoEmp <= employee_count].count() / loan.NoEmp.count()\n",
    "    print(f\"<= {employee_count:4d} employees: {proportion_of_all_emplyees:.2f}\")"
   ]
  },
  {
   "cell_type": "markdown",
   "id": "2f056e1b-461e-40a3-9b4e-823be8d07185",
   "metadata": {},
   "source": [
    "### NewExist"
   ]
  },
  {
   "cell_type": "code",
   "execution_count": 149,
   "id": "9806c9e1-df01-4125-ba1a-83c3c1a2305c",
   "metadata": {},
   "outputs": [
    {
     "data": {
      "text/plain": [
       "1.0    644869\n",
       "2.0    253125\n",
       "0.0      1034\n",
       "Name: NewExist, dtype: int64"
      ]
     },
     "execution_count": 149,
     "metadata": {},
     "output_type": "execute_result"
    }
   ],
   "source": [
    "loan.NewExist.value_counts()"
   ]
  },
  {
   "cell_type": "code",
   "execution_count": 150,
   "id": "efdd341d-3e46-4a2f-a56a-4fa39a05aa84",
   "metadata": {},
   "outputs": [],
   "source": [
    "loan.NewExist = loan.NewExist.replace({\n",
    "    1.0: \"existing\",\n",
    "    2.0: \"new\",\n",
    "    0.0: \"undefined\",\n",
    "})"
   ]
  },
  {
   "cell_type": "markdown",
   "id": "11ed3e25-30af-4d8a-b12b-b31cf886a809",
   "metadata": {
    "tags": []
   },
   "source": [
    "### CreateJob"
   ]
  },
  {
   "cell_type": "code",
   "execution_count": 151,
   "id": "9f65aece-0a5d-40ea-a744-0c21ed0fea3a",
   "metadata": {},
   "outputs": [
    {
     "data": {
      "image/png": "[encoded data removed]",
      "text/plain": [
       "<Figure size 640x480 with 1 Axes>"
      ]
     },
     "metadata": {},
     "output_type": "display_data"
    }
   ],
   "source": [
    "plt.hist(loan.CreateJob, log=True)\n",
    "plt.show()"
   ]
  },
  {
   "cell_type": "code",
   "execution_count": 152,
   "id": "574d02e9-e2a1-45ff-87cc-f7bd7ccf0933",
   "metadata": {},
   "outputs": [
    {
     "data": {
      "text/plain": [
       "dtype('int64')"
      ]
     },
     "execution_count": 152,
     "metadata": {},
     "output_type": "execute_result"
    }
   ],
   "source": [
    "loan.CreateJob.dtype"
   ]
  },
  {
   "cell_type": "markdown",
   "id": "2d0ef323-04e1-4d28-a81f-3612757375b6",
   "metadata": {
    "tags": []
   },
   "source": [
    "### RetainedJob"
   ]
  },
  {
   "cell_type": "code",
   "execution_count": 153,
   "id": "36e24d09-46e4-4d02-8acd-8fe57e21ac38",
   "metadata": {},
   "outputs": [
    {
     "data": {
      "image/png": "[encoded data removed]",
      "text/plain": [
       "<Figure size 640x480 with 1 Axes>"
      ]
     },
     "metadata": {},
     "output_type": "display_data"
    }
   ],
   "source": [
    "plt.hist(loan.RetainedJob, log=True)\n",
    "plt.show()"
   ]
  },
  {
   "cell_type": "code",
   "execution_count": 154,
   "id": "8d356f6f-af80-4b0b-8efa-eaa1f37c9115",
   "metadata": {},
   "outputs": [
    {
     "data": {
      "text/plain": [
       "dtype('int64')"
      ]
     },
     "execution_count": 154,
     "metadata": {},
     "output_type": "execute_result"
    }
   ],
   "source": [
    "loan.RetainedJob.dtype"
   ]
  },
  {
   "cell_type": "markdown",
   "id": "3040e119-d183-46b7-9dfb-c5be156be357",
   "metadata": {
    "tags": []
   },
   "source": [
    "### FranchiseCode"
   ]
  },
  {
   "cell_type": "code",
   "execution_count": 155,
   "id": "6012bb4a-7b1c-4b33-92ec-e09ae8bb99aa",
   "metadata": {},
   "outputs": [
    {
     "data": {
      "text/plain": [
       "1        638554\n",
       "0        208835\n",
       "78760      3373\n",
       "68020      1921\n",
       "50564      1034\n",
       "          ...  \n",
       "24421         1\n",
       "61615         1\n",
       "81580         1\n",
       "83876         1\n",
       "15930         1\n",
       "Name: FranchiseCode, Length: 2768, dtype: int64"
      ]
     },
     "execution_count": 155,
     "metadata": {},
     "output_type": "execute_result"
    }
   ],
   "source": [
    "loan.FranchiseCode.value_counts()"
   ]
  },
  {
   "cell_type": "code",
   "execution_count": 156,
   "id": "73b096ca-7019-4b1d-b6dd-8c49b4b21867",
   "metadata": {},
   "outputs": [
    {
     "name": "stderr",
     "output_type": "stream",
     "text": [
      "C:\\Users\\a1056968\\AppData\\Local\\Temp\\ipykernel_10248\\1876728990.py:1: SettingWithCopyWarning: \n",
      "A value is trying to be set on a copy of a slice from a DataFrame\n",
      "\n",
      "See the caveats in the documentation: https://pandas.pydata.org/pandas-docs/stable/user_guide/indexing.html#returning-a-view-versus-a-copy\n",
      "  loan.FranchiseCode[loan.FranchiseCode.isin([0, 1])] = \"no\"\n"
     ]
    },
    {
     "data": {
      "text/plain": [
       "0         yes\n",
       "1         yes\n",
       "2         yes\n",
       "3         yes\n",
       "4         yes\n",
       "         ... \n",
       "899159    yes\n",
       "899160    yes\n",
       "899161    yes\n",
       "899162    yes\n",
       "899163    yes\n",
       "Name: FranchiseCode, Length: 899164, dtype: object"
      ]
     },
     "execution_count": 156,
     "metadata": {},
     "output_type": "execute_result"
    }
   ],
   "source": [
    "loan.FranchiseCode[loan.FranchiseCode.isin([0, 1])] = \"no\"\n",
    "loan.FranchiseCode[~loan.FranchiseCode.isin([0, 1])] = \"yes\"\n",
    "\n",
    "loan.FranchiseCode"
   ]
  },
  {
   "cell_type": "markdown",
   "id": "a7037865-3745-4871-b10e-04b97af68ed9",
   "metadata": {
    "tags": []
   },
   "source": [
    "### UrbanRural"
   ]
  },
  {
   "cell_type": "code",
   "execution_count": 157,
   "id": "9d9bd829-82ad-4e3e-94c7-22270b1d65ea",
   "metadata": {},
   "outputs": [
    {
     "data": {
      "text/plain": [
       "array([0, 1, 2], dtype=int64)"
      ]
     },
     "execution_count": 157,
     "metadata": {},
     "output_type": "execute_result"
    }
   ],
   "source": [
    "loan.UrbanRural.unique()"
   ]
  },
  {
   "cell_type": "code",
   "execution_count": 158,
   "id": "77d0ed32-6272-4e15-aa47-91face7dca0f",
   "metadata": {},
   "outputs": [],
   "source": [
    "loan.UrbanRural = loan.UrbanRural.replace({\n",
    "    0: \"undefined\",\n",
    "    1: \"urban\",\n",
    "    2: \"rural\",\n",
    "})"
   ]
  },
  {
   "cell_type": "code",
   "execution_count": 159,
   "id": "f33bdf91-f46b-4d21-9ddc-4413a10e1493",
   "metadata": {},
   "outputs": [
    {
     "data": {
      "image/png": "[encoded data removed]",
      "text/plain": [
       "<Figure size 640x480 with 1 Axes>"
      ]
     },
     "metadata": {},
     "output_type": "display_data"
    }
   ],
   "source": [
    "def plot_proportion(series):\n",
    "    plt.pie(\n",
    "        x=series.value_counts(),\n",
    "        labels=series.value_counts().index,\n",
    "        autopct=\"%.1f\",\n",
    "    )\n",
    "    plt.show()\n",
    "\n",
    "    \n",
    "plot_proportion(loan.UrbanRural)"
   ]
  },
  {
   "cell_type": "markdown",
   "id": "dbc63ef8-8113-423a-a078-94fc02ac0cd1",
   "metadata": {
    "tags": []
   },
   "source": [
    "### RevLineCr"
   ]
  },
  {
   "cell_type": "code",
   "execution_count": 160,
   "id": "59539d4b-55cd-4131-aeaa-eb9898218463",
   "metadata": {},
   "outputs": [
    {
     "data": {
      "text/plain": [
       "array(['N', '0', 'Y', 'T', nan, '`', ',', '1', 'C', '3', '2', 'R', '7',\n",
       "       'A', '5', '.', '4', '-', 'Q'], dtype=object)"
      ]
     },
     "execution_count": 160,
     "metadata": {},
     "output_type": "execute_result"
    }
   ],
   "source": [
    "loan.RevLineCr.unique()"
   ]
  },
  {
   "cell_type": "code",
   "execution_count": 161,
   "id": "d97d7848-388c-40d9-9194-ea0d009c6644",
   "metadata": {},
   "outputs": [
    {
     "data": {
      "text/plain": [
       "0.3035608632018186"
      ]
     },
     "execution_count": 161,
     "metadata": {},
     "output_type": "execute_result"
    }
   ],
   "source": [
    "loan.RevLineCr[~loan.RevLineCr.isin(['Y','N'])].count() / len(loan.RevLineCr)"
   ]
  },
  {
   "cell_type": "code",
   "execution_count": 162,
   "id": "4eed3f33-0070-4d1b-8a7a-7d9ff93c825b",
   "metadata": {},
   "outputs": [
    {
     "data": {
      "text/plain": [
       "N    420288\n",
       "0    257602\n",
       "Y    201397\n",
       "T     15284\n",
       "1        23\n",
       "R        14\n",
       "`        11\n",
       "2         6\n",
       "C         2\n",
       "3         1\n",
       ",         1\n",
       "7         1\n",
       "A         1\n",
       "5         1\n",
       ".         1\n",
       "4         1\n",
       "-         1\n",
       "Q         1\n",
       "Name: RevLineCr, dtype: int64"
      ]
     },
     "execution_count": 162,
     "metadata": {},
     "output_type": "execute_result"
    }
   ],
   "source": [
    "loan.RevLineCr.value_counts()"
   ]
  },
  {
   "cell_type": "code",
   "execution_count": 163,
   "id": "2cc3e499-af10-43f3-806f-cb03aeca24b1",
   "metadata": {},
   "outputs": [
    {
     "name": "stderr",
     "output_type": "stream",
     "text": [
      "C:\\Users\\a1056968\\AppData\\Local\\Temp\\ipykernel_10248\\1264592953.py:1: SettingWithCopyWarning: \n",
      "A value is trying to be set on a copy of a slice from a DataFrame\n",
      "\n",
      "See the caveats in the documentation: https://pandas.pydata.org/pandas-docs/stable/user_guide/indexing.html#returning-a-view-versus-a-copy\n",
      "  loan.RevLineCr[~loan.RevLineCr.isin(['Y','N'])] = \"undefined\"\n"
     ]
    }
   ],
   "source": [
    "loan.RevLineCr[~loan.RevLineCr.isin(['Y','N'])] = \"invalid\""
   ]
  },
  {
   "cell_type": "code",
   "execution_count": 164,
   "id": "6cf3ce2f-0bd7-444d-8fd9-874b0b895229",
   "metadata": {},
   "outputs": [],
   "source": [
    "loan.loc[:, \"RevLineCr\"] = loan.RevLineCr.replace({\n",
    "    \"Y\": \"yes\",\n",
    "    \"N\": \"no\",\n",
    "})"
   ]
  },
  {
   "cell_type": "code",
   "execution_count": 165,
   "id": "114a6d22-e8a2-4e2e-8e28-8e119eb13829",
   "metadata": {},
   "outputs": [
    {
     "data": {
      "image/png": "[encoded data removed]",
      "text/plain": [
       "<Figure size 640x480 with 1 Axes>"
      ]
     },
     "metadata": {},
     "output_type": "display_data"
    }
   ],
   "source": [
    "plot_proportion(loan.RevLineCr)"
   ]
  },
  {
   "cell_type": "markdown",
   "id": "a5a49e1a-1a79-4bd3-8ed3-650954760cb2",
   "metadata": {
    "tags": []
   },
   "source": [
    "### Lowdoc"
   ]
  },
  {
   "cell_type": "code",
   "execution_count": 166,
   "id": "fa52e217-aeea-4888-8e31-d7b09d377ecc",
   "metadata": {},
   "outputs": [
    {
     "data": {
      "text/plain": [
       "N    782822\n",
       "Y    110335\n",
       "0      1491\n",
       "C       758\n",
       "S       603\n",
       "A       497\n",
       "R        75\n",
       "1         1\n",
       "Name: LowDoc, dtype: int64"
      ]
     },
     "execution_count": 166,
     "metadata": {},
     "output_type": "execute_result"
    }
   ],
   "source": [
    "loan.LowDoc.value_counts()"
   ]
  },
  {
   "cell_type": "code",
   "execution_count": 167,
   "id": "00a1cec5-2db6-4f8a-9f98-b036a8e5ff83",
   "metadata": {},
   "outputs": [
    {
     "name": "stderr",
     "output_type": "stream",
     "text": [
      "C:\\Users\\a1056968\\AppData\\Local\\Temp\\ipykernel_10248\\3150410801.py:1: SettingWithCopyWarning: \n",
      "A value is trying to be set on a copy of a slice from a DataFrame\n",
      "\n",
      "See the caveats in the documentation: https://pandas.pydata.org/pandas-docs/stable/user_guide/indexing.html#returning-a-view-versus-a-copy\n",
      "  loan.LowDoc[~loan.LowDoc.isin(['Y','N'])] = \"invalid\"\n"
     ]
    }
   ],
   "source": [
    "loan.LowDoc[~loan.LowDoc.isin(['Y','N'])] = \"invalid\""
   ]
  },
  {
   "cell_type": "code",
   "execution_count": 168,
   "id": "6d4ebca5-e870-4abd-9900-4bf05a472918",
   "metadata": {},
   "outputs": [],
   "source": [
    "loan.LowDoc = loan.LowDoc.replace({\n",
    "    \"Y\": \"yes\",\n",
    "    \"N\": \"no\",\n",
    "})"
   ]
  },
  {
   "cell_type": "code",
   "execution_count": 169,
   "id": "af97628a-b2df-4aa3-a254-20d7908fd03d",
   "metadata": {},
   "outputs": [
    {
     "data": {
      "image/png": "[encoded data removed]",
      "text/plain": [
       "<Figure size 640x480 with 1 Axes>"
      ]
     },
     "metadata": {},
     "output_type": "display_data"
    }
   ],
   "source": [
    "plot_proportion(loan.LowDoc)"
   ]
  },
  {
   "cell_type": "markdown",
   "id": "c6e5ef0b-85a4-497e-b767-46038d9425bf",
   "metadata": {
    "tags": []
   },
   "source": [
    "### LMIS_Statuswdoc"
   ]
  },
  {
   "cell_type": "code",
   "execution_count": 177,
   "id": "9a8de867-3f38-41f0-9a59-5904a5215ea8",
   "metadata": {},
   "outputs": [
    {
     "data": {
      "text/plain": [
       "array(['P I F', 'CHGOFF', nan], dtype=object)"
      ]
     },
     "execution_count": 177,
     "metadata": {},
     "output_type": "execute_result"
    }
   ],
   "source": [
    "loan.MIS_Status.unique()"
   ]
  },
  {
   "cell_type": "code",
   "execution_count": 183,
   "id": "54f45c94-b5f2-48a1-95d9-c93ed14919c7",
   "metadata": {},
   "outputs": [
    {
     "data": {
      "text/plain": [
       "0"
      ]
     },
     "execution_count": 183,
     "metadata": {},
     "output_type": "execute_result"
    }
   ],
   "source": [
    "loan.MIS_Status[loan.MIS_Status.isnull()].count()"
   ]
  },
  {
   "cell_type": "code",
   "execution_count": 178,
   "id": "22faef8b-8d6b-4b73-8a82-d1a7d49af93e",
   "metadata": {},
   "outputs": [
    {
     "data": {
      "image/png": "[encoded data removed]",
      "text/plain": [
       "<Figure size 640x480 with 1 Axes>"
      ]
     },
     "metadata": {},
     "output_type": "display_data"
    }
   ],
   "source": [
    "plot_proportion(loan.MIS_Status)"
   ]
  },
  {
   "cell_type": "code",
   "execution_count": null,
   "id": "97fb8b5e-ff41-441e-bc1c-c45fed2106b7",
   "metadata": {},
   "outputs": [],
   "source": []
  }
 ],
 "metadata": {
  "kernelspec": {
   "display_name": "Python 3 (ipykernel)",
   "language": "python",
   "name": "python3"
  },
  "language_info": {
   "codemirror_mode": {
    "name": "ipython",
    "version": 3
   },
   "file_extension": ".py",
   "mimetype": "text/x-python",
   "name": "python",
   "nbconvert_exporter": "python",
   "pygments_lexer": "ipython3",
   "version": "3.9.0"
  },
  "toc-showcode": false
 },
 "nbformat": 4,
 "nbformat_minor": 5
}
