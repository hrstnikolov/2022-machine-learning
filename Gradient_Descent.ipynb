{
  "nbformat": 4,
  "nbformat_minor": 0,
  "metadata": {
    "colab": {
      "provenance": [],
      "authorship_tag": "ABX9TyOe9opLJAf6yZ3DSjzwEE4+",
      "include_colab_link": true
    },
    "kernelspec": {
      "name": "python3",
      "display_name": "Python 3"
    },
    "language_info": {
      "name": "python"
    }
  },
  "cells": [
    {
      "cell_type": "markdown",
      "metadata": {
        "id": "view-in-github",
        "colab_type": "text"
      },
      "source": [
        "<a href=\"https://colab.research.google.com/github/hrstnikolov/machine-learning-2022/blob/main/Gradient_Descent.ipynb\" target=\"_parent\"><img src=\"https://colab.research.google.com/assets/colab-badge.svg\" alt=\"Open In Colab\"/></a>"
      ]
    },
    {
      "cell_type": "code",
      "execution_count": 1,
      "metadata": {
        "id": "FZmq_h3-5k2A"
      },
      "outputs": [],
      "source": [
        "%matplotlib inline"
      ]
    },
    {
      "cell_type": "code",
      "source": [
        "import numpy as np\n",
        "import pandas as pd\n",
        "import matplotlib.pyplot as plt"
      ],
      "metadata": {
        "id": "f4BwmB6-5mkF"
      },
      "execution_count": 2,
      "outputs": []
    },
    {
      "cell_type": "markdown",
      "source": [
        "# Gradient Descent"
      ],
      "metadata": {
        "id": "8x1NiqtM5pEu"
      }
    },
    {
      "cell_type": "code",
      "source": [
        "# Define observed data and plot\n",
        "\n",
        "data = np.array([\n",
        "    [1, 1.7],\n",
        "    [3, 2],\n",
        "    [3.5, 2.9],\n",
        "])\n",
        "\n",
        "x = data[:, 0]\n",
        "y = data[:, 1]\n",
        "\n",
        "def plot_data(color='C0'):\n",
        "    plt.scatter(x, y, c=color)\n",
        "    plt.xlim([0, 5])\n",
        "    plt.ylim([0, 4])\n",
        "\n",
        "plot_data()"
      ],
      "metadata": {
        "colab": {
          "base_uri": "https://localhost:8080/",
          "height": 269
        },
        "id": "T0qMm6S_5oLg",
        "outputId": "427b2e8a-bbdf-4a1f-9946-6d12d2637581"
      },
      "execution_count": 52,
      "outputs": [
        {
          "output_type": "display_data",
          "data": {
            "text/plain": [
              "<Figure size 432x288 with 1 Axes>"
            ],
            "image/png": "[encoded data removed]"
          },
          "metadata": {
            "needs_background": "light"
          }
        }
      ]
    },
    {
      "cell_type": "code",
      "source": [
        "# Create model func creator and plot an example\n",
        "\n",
        "def create_model_func(a, b):\n",
        "    return np.vectorize(lambda x: a * x + b)\n",
        "    \n",
        "dummy_model = create_model_func(a=0.5, b=1)\n",
        "\n",
        "model_x = np.array([0, 5])\n",
        "model_y = dummy_model(model_x)\n",
        "\n",
        "def plot_model(color='C1'):\n",
        "    plt.plot(model_x, model_y, c=color)\n",
        "\n",
        "\n",
        "plot_data()\n",
        "plot_model()"
      ],
      "metadata": {
        "colab": {
          "base_uri": "https://localhost:8080/",
          "height": 269
        },
        "id": "y0ck0Ca18PXk",
        "outputId": "381a7cc8-2b23-43b4-9f97-cb93dc771e89"
      },
      "execution_count": 53,
      "outputs": [
        {
          "output_type": "display_data",
          "data": {
            "text/plain": [
              "<Figure size 432x288 with 1 Axes>"
            ],
            "image/png": "[encoded data removed]"
          },
          "metadata": {
            "needs_background": "light"
          }
        }
      ]
    },
    {
      "cell_type": "code",
      "source": [
        "# Calc predicted output y tilda\n",
        "\n",
        "y_pred = dummy_model(x)\n",
        "\n",
        "def plot_y_pred(color='C2'):\n",
        "    plt.scatter(x, y_pred, c=color)\n",
        "\n",
        "plot_data()\n",
        "plot_model()\n",
        "plot_y_pred()"
      ],
      "metadata": {
        "colab": {
          "base_uri": "https://localhost:8080/",
          "height": 269
        },
        "id": "J7Jh3gKh7IJ3",
        "outputId": "79f38cd4-d3a4-4f7a-ffb3-ff44041eacbe"
      },
      "execution_count": 56,
      "outputs": [
        {
          "output_type": "display_data",
          "data": {
            "text/plain": [
              "<Figure size 432x288 with 1 Axes>"
            ],
            "image/png": "[encoded data removed]"
          },
          "metadata": {
            "needs_background": "light"
          }
        }
      ]
    },
    {
      "cell_type": "code",
      "source": [
        "# Define loss func and calculate it for each input `x` in the data\n",
        "\n",
        "def loss(y_pred, y_obs):\n",
        "    return (y_pred - y_obs) ** 2\n",
        "\n",
        "loss = np.vectorize(loss)\n",
        "\n",
        "loss(y_pred=y_pred, y_obs=y)"
      ],
      "metadata": {
        "colab": {
          "base_uri": "https://localhost:8080/"
        },
        "id": "xmsYI3yT-n6Q",
        "outputId": "54601175-389d-4c7a-f174-dd0d5448cc2a"
      },
      "execution_count": 57,
      "outputs": [
        {
          "output_type": "execute_result",
          "data": {
            "text/plain": [
              "array([0.04  , 0.25  , 0.0225])"
            ]
          },
          "metadata": {},
          "execution_count": 57
        }
      ]
    },
    {
      "cell_type": "code",
      "source": [
        "# Calcualte"
      ],
      "metadata": {
        "id": "zIceis-pAoi_"
      },
      "execution_count": null,
      "outputs": []
    },
    {
      "cell_type": "code",
      "source": [
        "\n",
        "\n",
        "a = np.linspace(-4, 4, 10)\n",
        "b = np.linspace(-4, 4, 10)"
      ],
      "metadata": {
        "id": "MbauiDvSAKxO"
      },
      "execution_count": null,
      "outputs": []
    },
    {
      "cell_type": "code",
      "source": [],
      "metadata": {
        "id": "qSLvSp1iADqd"
      },
      "execution_count": null,
      "outputs": []
    }
  ]
}