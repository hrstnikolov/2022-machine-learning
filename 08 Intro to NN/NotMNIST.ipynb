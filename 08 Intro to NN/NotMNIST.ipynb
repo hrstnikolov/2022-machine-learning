{
 "cells": [
  {
   "cell_type": "code",
   "execution_count": 1,
   "id": "62a41750-2f19-4bff-b841-b332712939e7",
   "metadata": {},
   "outputs": [],
   "source": [
    "%matplotlib inline"
   ]
  },
  {
   "cell_type": "code",
   "execution_count": 102,
   "id": "10ecbd2f-457d-44fc-8915-b0168185e850",
   "metadata": {},
   "outputs": [],
   "source": [
    "import numpy as np\n",
    "import pandas as pd\n",
    "import matplotlib.pyplot as plt\n",
    "\n",
    "from pathlib import Path\n",
    "\n",
    "import tensorflow as tf\n",
    "\n",
    "from sklearn.model_selection import train_test_split\n",
    "\n",
    "from tensorflow.keras.models import Sequential\n",
    "from tensorflow.keras.layers import Dense, Input, Flatten, Normalization"
   ]
  },
  {
   "cell_type": "markdown",
   "id": "e84ecbc1-b8cd-498d-99ee-e9d0b162e869",
   "metadata": {},
   "source": [
    "# Intro to NN - Not MNIST"
   ]
  },
  {
   "cell_type": "code",
   "execution_count": 10,
   "id": "6ad338b2-8c17-4057-8d9f-c83637f24db7",
   "metadata": {},
   "outputs": [],
   "source": [
    "DESKTOP = Path().home() / 'Desktop'\n",
    "not_mnist_dir = DESKTOP / 'notMNIST_small'"
   ]
  },
  {
   "cell_type": "code",
   "execution_count": 68,
   "id": "ed82388f-1f0f-40b0-b7e6-d04af2f7ec97",
   "metadata": {
    "tags": []
   },
   "outputs": [],
   "source": [
    "def load_notmnist(n_images=100):\n",
    "    labels = []\n",
    "    attributes = []\n",
    "    for folder in not_mnist_dir.iterdir():\n",
    "        image_files = list(folder.iterdir())[:n_images]\n",
    "        images = [plt.imread(image) for image in image_files]\n",
    "        attributes.extend(images)\n",
    "        labels.extend(folder.name * n_images)\n",
    "        \n",
    "    \n",
    "    return np.array(attributes), np.array(labels)"
   ]
  },
  {
   "cell_type": "code",
   "execution_count": 69,
   "id": "b8704ecf-115f-43ab-b01f-9d141f4373f0",
   "metadata": {},
   "outputs": [],
   "source": [
    "attributes, labels = load_notmnist(n_images=100)"
   ]
  },
  {
   "cell_type": "code",
   "execution_count": 70,
   "id": "fd4c8872-3505-4b2e-adc8-b7fb8d6adedd",
   "metadata": {},
   "outputs": [
    {
     "data": {
      "text/plain": [
       "((1000, 28, 28), (1000,))"
      ]
     },
     "execution_count": 70,
     "metadata": {},
     "output_type": "execute_result"
    }
   ],
   "source": [
    "attributes.shape, labels.shape"
   ]
  },
  {
   "cell_type": "code",
   "execution_count": 89,
   "id": "fdb0faf8-63ab-43d5-be1a-2934c76be726",
   "metadata": {},
   "outputs": [
    {
     "data": {
      "image/png": "[encoded data removed]",
      "text/plain": [
       "<Figure size 640x480 with 10 Axes>"
      ]
     },
     "metadata": {},
     "output_type": "display_data"
    }
   ],
   "source": [
    "fig, axs = plt.subplots(2, 5)\n",
    "for i, ax in zip(np.arange(50, 1000, 100), axs.flatten()):\n",
    "    ax.imshow(attributes[i], cmap=plt.cm.gray_r)\n",
    "    ax.set_title(labels[i])\n",
    "    ax.axis('off')\n",
    "plt.tight_layout()\n",
    "plt.show()"
   ]
  },
  {
   "cell_type": "code",
   "execution_count": 147,
   "id": "93c5b157-6929-4e65-9fa8-63c0d4d1c59a",
   "metadata": {},
   "outputs": [],
   "source": [
    "labels_numeric = np.array([ord(l) - ord('A') for l in labels])"
   ]
  },
  {
   "cell_type": "code",
   "execution_count": 148,
   "id": "cf810164-22b5-4238-a352-831faf1fe9fe",
   "metadata": {},
   "outputs": [
    {
     "data": {
      "text/plain": [
       "((900, 28, 28), (100, 28, 28), (900,), (100,))"
      ]
     },
     "execution_count": 148,
     "metadata": {},
     "output_type": "execute_result"
    }
   ],
   "source": [
    "X_train, X_test, y_train, y_test = train_test_split(attributes, labels_numeric, test_size=100, stratify=labels)\n",
    "\n",
    "X_train.shape, X_test.shape, y_train.shape, y_test.shape"
   ]
  },
  {
   "cell_type": "code",
   "execution_count": 149,
   "id": "9193968b-eb80-4f0b-b122-0eb9d18e51b2",
   "metadata": {},
   "outputs": [],
   "source": [
    "# pd.value_counts(y_train, normalize=True), pd.value_counts(y_train, normalize=True)"
   ]
  },
  {
   "cell_type": "code",
   "execution_count": 150,
   "id": "9134fe4c-06f0-44db-a76e-a8454f468043",
   "metadata": {},
   "outputs": [
    {
     "data": {
      "text/plain": [
       "((28, 28), 10)"
      ]
     },
     "execution_count": 150,
     "metadata": {},
     "output_type": "execute_result"
    }
   ],
   "source": [
    "INPUT_SHAPE = X_train[0].shape\n",
    "OUTPUT_SHAPE = len(np.unique(y_train))\n",
    "INPUT_SHAPE, OUTPUT_SHAPE"
   ]
  },
  {
   "cell_type": "code",
   "execution_count": 151,
   "id": "d9a45769-36ef-47db-9e55-da476b645ab6",
   "metadata": {},
   "outputs": [],
   "source": [
    "nn = Sequential([\n",
    "    Input(INPUT_SHAPE),\n",
    "    Flatten(),\n",
    "    Dense(16, activation='relu'),\n",
    "    Dense(16, activation='relu'),\n",
    "    Dense(OUTPUT_SHAPE, activation=tf.keras.activations.softmax),\n",
    "], name='nn_baseline')"
   ]
  },
  {
   "cell_type": "code",
   "execution_count": 152,
   "id": "bc50454d-879a-4f6a-83d0-64bad8fb45e1",
   "metadata": {},
   "outputs": [
    {
     "name": "stdout",
     "output_type": "stream",
     "text": [
      "Model: \"nn_baseline\"\n",
      "_________________________________________________________________\n",
      " Layer (type)                Output Shape              Param #   \n",
      "=================================================================\n",
      " flatten_5 (Flatten)         (None, 784)               0         \n",
      "                                                                 \n",
      " dense_15 (Dense)            (None, 16)                12560     \n",
      "                                                                 \n",
      " dense_16 (Dense)            (None, 16)                272       \n",
      "                                                                 \n",
      " dense_17 (Dense)            (None, 10)                170       \n",
      "                                                                 \n",
      "=================================================================\n",
      "Total params: 13,002\n",
      "Trainable params: 13,002\n",
      "Non-trainable params: 0\n",
      "_________________________________________________________________\n"
     ]
    }
   ],
   "source": [
    "nn.summary()"
   ]
  },
  {
   "cell_type": "code",
   "execution_count": 168,
   "id": "9d1b7476-c6c0-4a13-8359-57c9852d5d60",
   "metadata": {},
   "outputs": [],
   "source": [
    "nn.compile(\n",
    "    optimizer='adam',\n",
    "    loss='sparse_categorical_crossentropy',\n",
    "    # metrics=None,\n",
    "    # loss_weights=None,\n",
    "    # weighted_metrics=None,\n",
    "    # run_eagerly=None,\n",
    "    # steps_per_execution=None,\n",
    "    # jit_compile=None,\n",
    ")"
   ]
  },
  {
   "cell_type": "code",
   "execution_count": 169,
   "id": "dd72f527-b043-4fc0-ba69-14e22345b89d",
   "metadata": {},
   "outputs": [
    {
     "data": {
      "text/plain": [
       "((900, 28, 28), (900,))"
      ]
     },
     "execution_count": 169,
     "metadata": {},
     "output_type": "execute_result"
    }
   ],
   "source": [
    "X_train.shape, y_train.shape"
   ]
  },
  {
   "cell_type": "code",
   "execution_count": 171,
   "id": "413c12bc-0576-461a-9f80-7af5776f9643",
   "metadata": {
    "collapsed": true,
    "jupyter": {
     "outputs_hidden": true
    },
    "tags": []
   },
   "outputs": [
    {
     "name": "stdout",
     "output_type": "stream",
     "text": [
      "Epoch 1/120\n",
      "29/29 [==============================] - 0s 3ms/step - loss: 1.5884\n",
      "Epoch 2/120\n",
      "29/29 [==============================] - 0s 4ms/step - loss: 1.0609\n",
      "Epoch 3/120\n",
      "29/29 [==============================] - 0s 3ms/step - loss: 0.8272\n",
      "Epoch 4/120\n",
      "29/29 [==============================] - 0s 3ms/step - loss: 0.6629\n",
      "Epoch 5/120\n",
      "29/29 [==============================] - 0s 4ms/step - loss: 0.5877\n",
      "Epoch 6/120\n",
      "29/29 [==============================] - 0s 3ms/step - loss: 0.5228\n",
      "Epoch 7/120\n",
      "29/29 [==============================] - 0s 4ms/step - loss: 0.5017\n",
      "Epoch 8/120\n",
      "29/29 [==============================] - 0s 3ms/step - loss: 0.4536\n",
      "Epoch 9/120\n",
      "29/29 [==============================] - 0s 3ms/step - loss: 0.4222\n",
      "Epoch 10/120\n",
      "29/29 [==============================] - 0s 2ms/step - loss: 0.4011\n",
      "Epoch 11/120\n",
      "29/29 [==============================] - 0s 2ms/step - loss: 0.3711\n",
      "Epoch 12/120\n",
      "29/29 [==============================] - 0s 3ms/step - loss: 0.3418\n",
      "Epoch 13/120\n",
      "29/29 [==============================] - 0s 3ms/step - loss: 0.3254\n",
      "Epoch 14/120\n",
      "29/29 [==============================] - 0s 3ms/step - loss: 0.3073\n",
      "Epoch 15/120\n",
      "29/29 [==============================] - 0s 3ms/step - loss: 0.2906\n",
      "Epoch 16/120\n",
      "29/29 [==============================] - 0s 3ms/step - loss: 0.2754\n",
      "Epoch 17/120\n",
      "29/29 [==============================] - 0s 3ms/step - loss: 0.2584\n",
      "Epoch 18/120\n",
      "29/29 [==============================] - 0s 3ms/step - loss: 0.2660\n",
      "Epoch 19/120\n",
      "29/29 [==============================] - 0s 4ms/step - loss: 0.2390\n",
      "Epoch 20/120\n",
      "29/29 [==============================] - 0s 3ms/step - loss: 0.2236\n",
      "Epoch 21/120\n",
      "29/29 [==============================] - 0s 3ms/step - loss: 0.2046\n",
      "Epoch 22/120\n",
      "29/29 [==============================] - 0s 3ms/step - loss: 0.2038\n",
      "Epoch 23/120\n",
      "29/29 [==============================] - 0s 3ms/step - loss: 0.1860\n",
      "Epoch 24/120\n",
      "29/29 [==============================] - 0s 4ms/step - loss: 0.1747\n",
      "Epoch 25/120\n",
      "29/29 [==============================] - 0s 3ms/step - loss: 0.1669\n",
      "Epoch 26/120\n",
      "29/29 [==============================] - 0s 3ms/step - loss: 0.1565\n",
      "Epoch 27/120\n",
      "29/29 [==============================] - 0s 3ms/step - loss: 0.1503\n",
      "Epoch 28/120\n",
      "29/29 [==============================] - 0s 4ms/step - loss: 0.1454\n",
      "Epoch 29/120\n",
      "29/29 [==============================] - 0s 3ms/step - loss: 0.1369\n",
      "Epoch 30/120\n",
      "29/29 [==============================] - 0s 3ms/step - loss: 0.1311\n",
      "Epoch 31/120\n",
      "29/29 [==============================] - 0s 3ms/step - loss: 0.1274\n",
      "Epoch 32/120\n",
      "29/29 [==============================] - 0s 5ms/step - loss: 0.1317\n",
      "Epoch 33/120\n",
      "29/29 [==============================] - 0s 4ms/step - loss: 0.1194\n",
      "Epoch 34/120\n",
      "29/29 [==============================] - 0s 4ms/step - loss: 0.1116\n",
      "Epoch 35/120\n",
      "29/29 [==============================] - 0s 3ms/step - loss: 0.1012\n",
      "Epoch 36/120\n",
      "29/29 [==============================] - 0s 3ms/step - loss: 0.0978\n",
      "Epoch 37/120\n",
      "29/29 [==============================] - 0s 3ms/step - loss: 0.0936\n",
      "Epoch 38/120\n",
      "29/29 [==============================] - 0s 5ms/step - loss: 0.0933\n",
      "Epoch 39/120\n",
      "29/29 [==============================] - 0s 5ms/step - loss: 0.0897\n",
      "Epoch 40/120\n",
      "29/29 [==============================] - 0s 4ms/step - loss: 0.0867\n",
      "Epoch 41/120\n",
      "29/29 [==============================] - 0s 3ms/step - loss: 0.0832\n",
      "Epoch 42/120\n",
      "29/29 [==============================] - 0s 4ms/step - loss: 0.0774\n",
      "Epoch 43/120\n",
      "29/29 [==============================] - 0s 3ms/step - loss: 0.0768\n",
      "Epoch 44/120\n",
      "29/29 [==============================] - 0s 4ms/step - loss: 0.0725\n",
      "Epoch 45/120\n",
      "29/29 [==============================] - 0s 3ms/step - loss: 0.0649\n",
      "Epoch 46/120\n",
      "29/29 [==============================] - 0s 3ms/step - loss: 0.0670\n",
      "Epoch 47/120\n",
      "29/29 [==============================] - 0s 3ms/step - loss: 0.0607\n",
      "Epoch 48/120\n",
      "29/29 [==============================] - 0s 5ms/step - loss: 0.0577\n",
      "Epoch 49/120\n",
      "29/29 [==============================] - 0s 3ms/step - loss: 0.0578\n",
      "Epoch 50/120\n",
      "29/29 [==============================] - 0s 3ms/step - loss: 0.0564\n",
      "Epoch 51/120\n",
      "29/29 [==============================] - 0s 3ms/step - loss: 0.0515\n",
      "Epoch 52/120\n",
      "29/29 [==============================] - 0s 3ms/step - loss: 0.0503\n",
      "Epoch 53/120\n",
      "29/29 [==============================] - 0s 3ms/step - loss: 0.0483\n",
      "Epoch 54/120\n",
      "29/29 [==============================] - 0s 4ms/step - loss: 0.0473\n",
      "Epoch 55/120\n",
      "29/29 [==============================] - 0s 3ms/step - loss: 0.0455\n",
      "Epoch 56/120\n",
      "29/29 [==============================] - 0s 4ms/step - loss: 0.0440\n",
      "Epoch 57/120\n",
      "29/29 [==============================] - 0s 3ms/step - loss: 0.0430\n",
      "Epoch 58/120\n",
      "29/29 [==============================] - 0s 3ms/step - loss: 0.0429\n",
      "Epoch 59/120\n",
      "29/29 [==============================] - 0s 3ms/step - loss: 0.0413\n",
      "Epoch 60/120\n",
      "29/29 [==============================] - 0s 3ms/step - loss: 0.0383\n",
      "Epoch 61/120\n",
      "29/29 [==============================] - 0s 4ms/step - loss: 0.0375\n",
      "Epoch 62/120\n",
      "29/29 [==============================] - 0s 3ms/step - loss: 0.0369\n",
      "Epoch 63/120\n",
      "29/29 [==============================] - 0s 4ms/step - loss: 0.0353\n",
      "Epoch 64/120\n",
      "29/29 [==============================] - 0s 3ms/step - loss: 0.0359\n",
      "Epoch 65/120\n",
      "29/29 [==============================] - 0s 3ms/step - loss: 0.0436\n",
      "Epoch 66/120\n",
      "29/29 [==============================] - 0s 3ms/step - loss: 0.0356\n",
      "Epoch 67/120\n",
      "29/29 [==============================] - 0s 3ms/step - loss: 0.0316\n",
      "Epoch 68/120\n",
      "29/29 [==============================] - 0s 3ms/step - loss: 0.0314\n",
      "Epoch 69/120\n",
      "29/29 [==============================] - 0s 3ms/step - loss: 0.0312\n",
      "Epoch 70/120\n",
      "29/29 [==============================] - 0s 3ms/step - loss: 0.0298\n",
      "Epoch 71/120\n",
      "29/29 [==============================] - 0s 4ms/step - loss: 0.0291\n",
      "Epoch 72/120\n",
      "29/29 [==============================] - 0s 3ms/step - loss: 0.0280\n",
      "Epoch 73/120\n",
      "29/29 [==============================] - 0s 3ms/step - loss: 0.0276\n",
      "Epoch 74/120\n",
      "29/29 [==============================] - 0s 3ms/step - loss: 0.0265\n",
      "Epoch 75/120\n",
      "29/29 [==============================] - 0s 4ms/step - loss: 0.0259\n",
      "Epoch 76/120\n",
      "29/29 [==============================] - 0s 3ms/step - loss: 0.0257\n",
      "Epoch 77/120\n",
      "29/29 [==============================] - 0s 3ms/step - loss: 0.0249\n",
      "Epoch 78/120\n",
      "29/29 [==============================] - 0s 3ms/step - loss: 0.0242\n",
      "Epoch 79/120\n",
      "29/29 [==============================] - 0s 3ms/step - loss: 0.0259\n",
      "Epoch 80/120\n",
      "29/29 [==============================] - 0s 3ms/step - loss: 0.0245\n",
      "Epoch 81/120\n",
      "29/29 [==============================] - 0s 4ms/step - loss: 0.0225\n",
      "Epoch 82/120\n",
      "29/29 [==============================] - 0s 3ms/step - loss: 0.0221\n",
      "Epoch 83/120\n",
      "29/29 [==============================] - 0s 3ms/step - loss: 0.0217\n",
      "Epoch 84/120\n",
      "29/29 [==============================] - 0s 2ms/step - loss: 0.0210\n",
      "Epoch 85/120\n",
      "29/29 [==============================] - 0s 3ms/step - loss: 0.0203\n",
      "Epoch 86/120\n",
      "29/29 [==============================] - 0s 2ms/step - loss: 0.0207\n",
      "Epoch 87/120\n",
      "29/29 [==============================] - 0s 3ms/step - loss: 0.0199\n",
      "Epoch 88/120\n",
      "29/29 [==============================] - 0s 3ms/step - loss: 0.0193\n",
      "Epoch 89/120\n",
      "29/29 [==============================] - 0s 2ms/step - loss: 0.0196\n",
      "Epoch 90/120\n",
      "29/29 [==============================] - 0s 3ms/step - loss: 0.0192\n",
      "Epoch 91/120\n",
      "29/29 [==============================] - 0s 3ms/step - loss: 0.0182\n",
      "Epoch 92/120\n",
      "29/29 [==============================] - 0s 3ms/step - loss: 0.0180\n",
      "Epoch 93/120\n",
      "29/29 [==============================] - 0s 3ms/step - loss: 0.0179\n",
      "Epoch 94/120\n",
      "29/29 [==============================] - 0s 5ms/step - loss: 0.0172\n",
      "Epoch 95/120\n",
      "29/29 [==============================] - 0s 3ms/step - loss: 0.0165\n",
      "Epoch 96/120\n",
      "29/29 [==============================] - 0s 3ms/step - loss: 0.0162\n",
      "Epoch 97/120\n",
      "29/29 [==============================] - 0s 3ms/step - loss: 0.0155\n",
      "Epoch 98/120\n",
      "29/29 [==============================] - 0s 3ms/step - loss: 0.0152\n",
      "Epoch 99/120\n",
      "29/29 [==============================] - 0s 3ms/step - loss: 0.0152\n",
      "Epoch 100/120\n",
      "29/29 [==============================] - 0s 4ms/step - loss: 0.0147\n",
      "Epoch 101/120\n",
      "29/29 [==============================] - 0s 4ms/step - loss: 0.0143\n",
      "Epoch 102/120\n",
      "29/29 [==============================] - 0s 4ms/step - loss: 0.0145\n",
      "Epoch 103/120\n",
      "29/29 [==============================] - 0s 4ms/step - loss: 0.0140\n",
      "Epoch 104/120\n",
      "29/29 [==============================] - 0s 5ms/step - loss: 0.0137\n",
      "Epoch 105/120\n",
      "29/29 [==============================] - 0s 4ms/step - loss: 0.0139\n",
      "Epoch 106/120\n",
      "29/29 [==============================] - 0s 3ms/step - loss: 0.0613\n",
      "Epoch 107/120\n",
      "29/29 [==============================] - 0s 4ms/step - loss: 0.1528\n",
      "Epoch 108/120\n",
      "29/29 [==============================] - 0s 4ms/step - loss: 0.0760\n",
      "Epoch 109/120\n",
      "29/29 [==============================] - 0s 5ms/step - loss: 0.0761\n",
      "Epoch 110/120\n",
      "29/29 [==============================] - 0s 3ms/step - loss: 0.0282\n",
      "Epoch 111/120\n",
      "29/29 [==============================] - 0s 4ms/step - loss: 0.0227\n",
      "Epoch 112/120\n",
      "29/29 [==============================] - 0s 4ms/step - loss: 0.0243\n",
      "Epoch 113/120\n",
      "29/29 [==============================] - 0s 4ms/step - loss: 0.0143\n",
      "Epoch 114/120\n",
      "29/29 [==============================] - 0s 4ms/step - loss: 0.0134\n",
      "Epoch 115/120\n",
      "29/29 [==============================] - 0s 4ms/step - loss: 0.0125\n",
      "Epoch 116/120\n",
      "29/29 [==============================] - 0s 5ms/step - loss: 0.0120\n",
      "Epoch 117/120\n",
      "29/29 [==============================] - 0s 3ms/step - loss: 0.0118\n",
      "Epoch 118/120\n",
      "29/29 [==============================] - 0s 3ms/step - loss: 0.0116\n",
      "Epoch 119/120\n",
      "29/29 [==============================] - 0s 3ms/step - loss: 0.0112\n",
      "Epoch 120/120\n",
      "29/29 [==============================] - 0s 3ms/step - loss: 0.0110\n"
     ]
    },
    {
     "data": {
      "text/plain": [
       "<keras.callbacks.History at 0x1b7e9f20160>"
      ]
     },
     "execution_count": 171,
     "metadata": {},
     "output_type": "execute_result"
    }
   ],
   "source": [
    "nn.fit(\n",
    "    x=X_train,\n",
    "    y=y_train,\n",
    "    batch_size=32,\n",
    "    epochs=120,\n",
    "    # verbose='auto',\n",
    "    # callbacks=None,\n",
    "    # validation_split=0.0,\n",
    "    # validation_data=None,\n",
    "    # shuffle=True,\n",
    "    # class_weight=None,\n",
    "    # sample_weight=None,\n",
    "    # initial_epoch=0,\n",
    "    # steps_per_epoch=None,\n",
    "    # validation_steps=None,\n",
    "    # validation_batch_size=None,\n",
    "    # validation_freq=1,\n",
    "    # max_queue_size=10,\n",
    "    # workers=1,\n",
    "    # use_multiprocessing=False,\n",
    ")"
   ]
  },
  {
   "cell_type": "code",
   "execution_count": 196,
   "id": "80105870-31f4-4f6b-a94a-f00be791939f",
   "metadata": {},
   "outputs": [
    {
     "name": "stdout",
     "output_type": "stream",
     "text": [
      "4/4 [==============================] - 0s 3ms/step\n"
     ]
    }
   ],
   "source": [
    "predictions = nn.predict(X_test)\n"
   ]
  },
  {
   "cell_type": "code",
   "execution_count": 197,
   "id": "c7c139b4-4a88-4718-84e1-46a1b0a59232",
   "metadata": {},
   "outputs": [],
   "source": [
    "predicted = predictions.argmax(axis=1)\n",
    "results = pd.DataFrame({\n",
    "    'observed': y_test,\n",
    "    'predicted': predicted,\n",
    "})"
   ]
  },
  {
   "cell_type": "code",
   "execution_count": 198,
   "id": "ebdaef85-8a4b-4645-9877-c9220529eef6",
   "metadata": {},
   "outputs": [
    {
     "data": {
      "text/html": [
       "<div>\n",
       "<style scoped>\n",
       "    .dataframe tbody tr th:only-of-type {\n",
       "        vertical-align: middle;\n",
       "    }\n",
       "\n",
       "    .dataframe tbody tr th {\n",
       "        vertical-align: top;\n",
       "    }\n",
       "\n",
       "    .dataframe thead th {\n",
       "        text-align: right;\n",
       "    }\n",
       "</style>\n",
       "<table border=\"1\" class=\"dataframe\">\n",
       "  <thead>\n",
       "    <tr style=\"text-align: right;\">\n",
       "      <th></th>\n",
       "      <th>observed</th>\n",
       "      <th>predicted</th>\n",
       "    </tr>\n",
       "  </thead>\n",
       "  <tbody>\n",
       "    <tr>\n",
       "      <th>0</th>\n",
       "      <td>4</td>\n",
       "      <td>4</td>\n",
       "    </tr>\n",
       "    <tr>\n",
       "      <th>1</th>\n",
       "      <td>2</td>\n",
       "      <td>2</td>\n",
       "    </tr>\n",
       "    <tr>\n",
       "      <th>2</th>\n",
       "      <td>8</td>\n",
       "      <td>6</td>\n",
       "    </tr>\n",
       "    <tr>\n",
       "      <th>3</th>\n",
       "      <td>5</td>\n",
       "      <td>5</td>\n",
       "    </tr>\n",
       "    <tr>\n",
       "      <th>4</th>\n",
       "      <td>5</td>\n",
       "      <td>5</td>\n",
       "    </tr>\n",
       "    <tr>\n",
       "      <th>...</th>\n",
       "      <td>...</td>\n",
       "      <td>...</td>\n",
       "    </tr>\n",
       "    <tr>\n",
       "      <th>95</th>\n",
       "      <td>4</td>\n",
       "      <td>4</td>\n",
       "    </tr>\n",
       "    <tr>\n",
       "      <th>96</th>\n",
       "      <td>7</td>\n",
       "      <td>7</td>\n",
       "    </tr>\n",
       "    <tr>\n",
       "      <th>97</th>\n",
       "      <td>6</td>\n",
       "      <td>6</td>\n",
       "    </tr>\n",
       "    <tr>\n",
       "      <th>98</th>\n",
       "      <td>6</td>\n",
       "      <td>6</td>\n",
       "    </tr>\n",
       "    <tr>\n",
       "      <th>99</th>\n",
       "      <td>7</td>\n",
       "      <td>7</td>\n",
       "    </tr>\n",
       "  </tbody>\n",
       "</table>\n",
       "<p>100 rows × 2 columns</p>\n",
       "</div>"
      ],
      "text/plain": [
       "    observed  predicted\n",
       "0          4          4\n",
       "1          2          2\n",
       "2          8          6\n",
       "3          5          5\n",
       "4          5          5\n",
       "..       ...        ...\n",
       "95         4          4\n",
       "96         7          7\n",
       "97         6          6\n",
       "98         6          6\n",
       "99         7          7\n",
       "\n",
       "[100 rows x 2 columns]"
      ]
     },
     "execution_count": 198,
     "metadata": {},
     "output_type": "execute_result"
    }
   ],
   "source": [
    "results"
   ]
  },
  {
   "cell_type": "code",
   "execution_count": 203,
   "id": "5e8e2910-3117-49ee-adb9-508bdede2039",
   "metadata": {},
   "outputs": [
    {
     "data": {
      "text/html": [
       "<div>\n",
       "<style scoped>\n",
       "    .dataframe tbody tr th:only-of-type {\n",
       "        vertical-align: middle;\n",
       "    }\n",
       "\n",
       "    .dataframe tbody tr th {\n",
       "        vertical-align: top;\n",
       "    }\n",
       "\n",
       "    .dataframe thead th {\n",
       "        text-align: right;\n",
       "    }\n",
       "</style>\n",
       "<table border=\"1\" class=\"dataframe\">\n",
       "  <thead>\n",
       "    <tr style=\"text-align: right;\">\n",
       "      <th></th>\n",
       "      <th>observed</th>\n",
       "      <th>predicted</th>\n",
       "    </tr>\n",
       "  </thead>\n",
       "  <tbody>\n",
       "    <tr>\n",
       "      <th>2</th>\n",
       "      <td>8</td>\n",
       "      <td>6</td>\n",
       "    </tr>\n",
       "    <tr>\n",
       "      <th>19</th>\n",
       "      <td>1</td>\n",
       "      <td>9</td>\n",
       "    </tr>\n",
       "    <tr>\n",
       "      <th>20</th>\n",
       "      <td>4</td>\n",
       "      <td>5</td>\n",
       "    </tr>\n",
       "    <tr>\n",
       "      <th>35</th>\n",
       "      <td>4</td>\n",
       "      <td>2</td>\n",
       "    </tr>\n",
       "    <tr>\n",
       "      <th>36</th>\n",
       "      <td>6</td>\n",
       "      <td>2</td>\n",
       "    </tr>\n",
       "    <tr>\n",
       "      <th>42</th>\n",
       "      <td>0</td>\n",
       "      <td>8</td>\n",
       "    </tr>\n",
       "    <tr>\n",
       "      <th>49</th>\n",
       "      <td>7</td>\n",
       "      <td>0</td>\n",
       "    </tr>\n",
       "    <tr>\n",
       "      <th>52</th>\n",
       "      <td>9</td>\n",
       "      <td>8</td>\n",
       "    </tr>\n",
       "    <tr>\n",
       "      <th>58</th>\n",
       "      <td>1</td>\n",
       "      <td>9</td>\n",
       "    </tr>\n",
       "    <tr>\n",
       "      <th>80</th>\n",
       "      <td>3</td>\n",
       "      <td>2</td>\n",
       "    </tr>\n",
       "    <tr>\n",
       "      <th>92</th>\n",
       "      <td>4</td>\n",
       "      <td>8</td>\n",
       "    </tr>\n",
       "  </tbody>\n",
       "</table>\n",
       "</div>"
      ],
      "text/plain": [
       "    observed  predicted\n",
       "2          8          6\n",
       "19         1          9\n",
       "20         4          5\n",
       "35         4          2\n",
       "36         6          2\n",
       "42         0          8\n",
       "49         7          0\n",
       "52         9          8\n",
       "58         1          9\n",
       "80         3          2\n",
       "92         4          8"
      ]
     },
     "execution_count": 203,
     "metadata": {},
     "output_type": "execute_result"
    }
   ],
   "source": [
    "incorrect = results[results['observed'] != results['predicted']]\n",
    "incorrect"
   ]
  },
  {
   "cell_type": "code",
   "execution_count": 229,
   "id": "c746a198-3ec1-4ddc-af6e-3b1733e89d52",
   "metadata": {},
   "outputs": [
    {
     "data": {
      "text/plain": [
       "array(['A', 'B', 'C', 'D', 'E', 'F', 'G', 'H', 'I', 'J'], dtype='<U1')"
      ]
     },
     "execution_count": 229,
     "metadata": {},
     "output_type": "execute_result"
    }
   ],
   "source": [
    "np.unique(labels)"
   ]
  },
  {
   "cell_type": "code",
   "execution_count": 230,
   "id": "d171cd3e-c34a-496d-8a6d-550a85f379e3",
   "metadata": {},
   "outputs": [
    {
     "data": {
      "image/png": "[encoded data removed]",
      "text/plain": [
       "<Figure size 640x480 with 20 Axes>"
      ]
     },
     "metadata": {},
     "output_type": "display_data"
    }
   ],
   "source": [
    "fig, axs = plt.subplots(5,4)\n",
    "\n",
    "for i, ax in zip(incorrect.index, axs.flatten()):\n",
    "    ax.imshow(X_test[i], cmap='gray_r')\n",
    "    ax.axis('off')\n",
    "    ax.set_title('obsr: {}, pred: {}'.format(*incorrect.loc[i]))\n",
    "\n",
    "plt.tight_layout()\n",
    "plt.show()"
   ]
  },
  {
   "cell_type": "code",
   "execution_count": null,
   "id": "75903472-a090-4b79-848e-14cff496ed3d",
   "metadata": {},
   "outputs": [],
   "source": []
  }
 ],
 "metadata": {
  "kernelspec": {
   "display_name": "Python 3 (ipykernel)",
   "language": "python",
   "name": "python3"
  },
  "language_info": {
   "codemirror_mode": {
    "name": "ipython",
    "version": 3
   },
   "file_extension": ".py",
   "mimetype": "text/x-python",
   "name": "python",
   "nbconvert_exporter": "python",
   "pygments_lexer": "ipython3",
   "version": "3.9.0"
  }
 },
 "nbformat": 4,
 "nbformat_minor": 5
}
