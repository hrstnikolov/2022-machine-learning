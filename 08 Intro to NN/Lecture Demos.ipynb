{
 "cells": [
  {
   "cell_type": "code",
   "execution_count": 1,
   "id": "801e1004-3afc-47eb-890c-c2c4a217bf90",
   "metadata": {},
   "outputs": [],
   "source": [
    "%matplotlib inline"
   ]
  },
  {
   "cell_type": "code",
   "execution_count": 65,
   "id": "08df534b-66c5-42f1-9d15-b19c30abf882",
   "metadata": {},
   "outputs": [],
   "source": [
    "import numpy as np\n",
    "import pandas as pd\n",
    "import matplotlib.pyplot as plt\n",
    "\n",
    "from sklearn.datasets import load_digits\n",
    "from sklearn.preprocessing import MinMaxScaler\n",
    "from sklearn.model_selection import train_test_split\n",
    "from sklearn.neural_network import MLPClassifier\n",
    "\n",
    "import tensorflow as tf\n",
    "import tensorflow.keras"
   ]
  },
  {
   "cell_type": "code",
   "execution_count": 21,
   "id": "d703c9ae-59d4-4c89-b34b-237fbc9fa7f2",
   "metadata": {},
   "outputs": [],
   "source": [
    "RANDOM_STATE = 42"
   ]
  },
  {
   "cell_type": "markdown",
   "id": "2990f698-7df7-462d-b174-11e14c1ed387",
   "metadata": {},
   "source": [
    "# 08 Intro to NN Lecture Demos"
   ]
  },
  {
   "cell_type": "markdown",
   "id": "ad159587-f70c-436f-a61d-dd84d31b5677",
   "metadata": {},
   "source": [
    "## MNIST Digits"
   ]
  },
  {
   "cell_type": "markdown",
   "id": "a9de75db-0186-4d13-a7a2-bdc311466de3",
   "metadata": {},
   "source": [
    "### Load  data"
   ]
  },
  {
   "cell_type": "code",
   "execution_count": 6,
   "id": "701310fe-81b8-4a08-a755-da3e4ccdafdb",
   "metadata": {},
   "outputs": [
    {
     "data": {
      "text/plain": [
       "((1797, 64), (1797,))"
      ]
     },
     "execution_count": 6,
     "metadata": {},
     "output_type": "execute_result"
    }
   ],
   "source": [
    "digits = load_digits()\n",
    "attributes, labels = digits.data, digits.target\n",
    "attributes.shape, labels.shape"
   ]
  },
  {
   "cell_type": "code",
   "execution_count": 20,
   "id": "3863ec30-f13a-48a7-8b0e-2969379b223e",
   "metadata": {},
   "outputs": [
    {
     "data": {
      "image/png": "[encoded data removed]",
      "text/plain": [
       "<Figure size 640x480 with 16 Axes>"
      ]
     },
     "metadata": {},
     "output_type": "display_data"
    }
   ],
   "source": [
    "fig, axs = plt.subplots(4, 4)\n",
    "\n",
    "for i, ax in enumerate(axs.ravel()):\n",
    "    ax.imshow(attributes[i].reshape(8, 8))\n",
    "    ax.set_title(labels[i])\n",
    "    ax.axis('off')\n",
    "\n",
    "plt.suptitle('First 16 images and their labels')\n",
    "plt.tight_layout()\n",
    "plt.show()"
   ]
  },
  {
   "cell_type": "markdown",
   "id": "5fba7f78-93a3-4b5c-abc9-450d5e650405",
   "metadata": {},
   "source": [
    "### Scaled data"
   ]
  },
  {
   "cell_type": "code",
   "execution_count": 67,
   "id": "8904d3ca-84ae-4561-92d3-d68db8dc372b",
   "metadata": {},
   "outputs": [],
   "source": [
    "scaler = MinMaxScaler()\n",
    "attributes_scaled = scaler.fit_transform(attributes)"
   ]
  },
  {
   "cell_type": "code",
   "execution_count": 68,
   "id": "a94e429f-127b-43da-b9dc-f5fa262adc0e",
   "metadata": {},
   "outputs": [
    {
     "data": {
      "text/plain": [
       "((1597, 64), (200, 64), (1597,), (200,))"
      ]
     },
     "execution_count": 68,
     "metadata": {},
     "output_type": "execute_result"
    }
   ],
   "source": [
    "attributes_train, attributes_test, labels_train, labels_test = train_test_split(\n",
    "    attributes_scaled, labels, test_size = 200, shuffle=True, stratify=labels)\n",
    "\n",
    "attributes_train.shape, attributes_test.shape, labels_train.shape, labels_test.shape"
   ]
  },
  {
   "cell_type": "code",
   "execution_count": 72,
   "id": "83a53dc5-b886-42b1-83a2-e6be06050c8e",
   "metadata": {},
   "outputs": [
    {
     "name": "stderr",
     "output_type": "stream",
     "text": [
      "C:\\Users\\a1056968\\Anaconda3\\envs\\machine_learning\\lib\\site-packages\\sklearn\\neural_network\\_multilayer_perceptron.py:702: ConvergenceWarning: Stochastic Optimizer: Maximum iterations (500) reached and the optimization hasn't converged yet.\n",
      "  warnings.warn(\n",
      "C:\\Users\\a1056968\\Anaconda3\\envs\\machine_learning\\lib\\site-packages\\sklearn\\neural_network\\_multilayer_perceptron.py:702: ConvergenceWarning: Stochastic Optimizer: Maximum iterations (500) reached and the optimization hasn't converged yet.\n",
      "  warnings.warn(\n"
     ]
    }
   ],
   "source": [
    "params = [\n",
    "    ('identity', 'sgd'),\n",
    "    ('logistic', 'sgd'),\n",
    "    ('relu', 'sgd'),\n",
    "    ('relu', 'adam'),\n",
    "]\n",
    "\n",
    "\n",
    "benchmark = []\n",
    "for (activation, solver) in params:\n",
    "    model = MLPClassifier(\n",
    "        hidden_layer_sizes=(16, 16),\n",
    "        activation=activation,  # ['identity', 'logistic', 'relu', 'softmax', 'tanh']\n",
    "        solver=solver,\n",
    "        shuffle=True,\n",
    "        random_state=RANDOM_STATE,\n",
    "        max_iter=500,\n",
    "        tol=0.0001,\n",
    "    )\n",
    "\n",
    "    model.fit(attributes_train, labels_train)\n",
    "    score_train = model.score(attributes_train, labels_train)\n",
    "    score_test = model.score(attributes_test, labels_test)\n",
    "    benchmark.append([activation, solver, score_train, score_test])\n",
    "    \n",
    "benchmark = pd.DataFrame(benchmark, columns=['activation', 'solver', 'score_train', 'score_test'])"
   ]
  },
  {
   "cell_type": "code",
   "execution_count": 73,
   "id": "70153cb3-79c4-42d3-98e1-23b615215bcd",
   "metadata": {},
   "outputs": [
    {
     "data": {
      "text/html": [
       "<div>\n",
       "<style scoped>\n",
       "    .dataframe tbody tr th:only-of-type {\n",
       "        vertical-align: middle;\n",
       "    }\n",
       "\n",
       "    .dataframe tbody tr th {\n",
       "        vertical-align: top;\n",
       "    }\n",
       "\n",
       "    .dataframe thead th {\n",
       "        text-align: right;\n",
       "    }\n",
       "</style>\n",
       "<table border=\"1\" class=\"dataframe\">\n",
       "  <thead>\n",
       "    <tr style=\"text-align: right;\">\n",
       "      <th></th>\n",
       "      <th>activation</th>\n",
       "      <th>solver</th>\n",
       "      <th>score_train</th>\n",
       "      <th>score_test</th>\n",
       "    </tr>\n",
       "  </thead>\n",
       "  <tbody>\n",
       "    <tr>\n",
       "      <th>0</th>\n",
       "      <td>identity</td>\n",
       "      <td>sgd</td>\n",
       "      <td>0.960</td>\n",
       "      <td>0.950</td>\n",
       "    </tr>\n",
       "    <tr>\n",
       "      <th>1</th>\n",
       "      <td>logistic</td>\n",
       "      <td>sgd</td>\n",
       "      <td>0.100</td>\n",
       "      <td>0.095</td>\n",
       "    </tr>\n",
       "    <tr>\n",
       "      <th>2</th>\n",
       "      <td>relu</td>\n",
       "      <td>sgd</td>\n",
       "      <td>0.946</td>\n",
       "      <td>0.940</td>\n",
       "    </tr>\n",
       "    <tr>\n",
       "      <th>3</th>\n",
       "      <td>relu</td>\n",
       "      <td>adam</td>\n",
       "      <td>1.000</td>\n",
       "      <td>0.980</td>\n",
       "    </tr>\n",
       "  </tbody>\n",
       "</table>\n",
       "</div>"
      ],
      "text/plain": [
       "  activation solver  score_train  score_test\n",
       "0   identity    sgd        0.960       0.950\n",
       "1   logistic    sgd        0.100       0.095\n",
       "2       relu    sgd        0.946       0.940\n",
       "3       relu   adam        1.000       0.980"
      ]
     },
     "execution_count": 73,
     "metadata": {},
     "output_type": "execute_result"
    }
   ],
   "source": [
    "benchmark.round(3)"
   ]
  },
  {
   "cell_type": "markdown",
   "id": "93b748d2-7d14-40d8-a0d4-aa2e6f583bf6",
   "metadata": {},
   "source": [
    "### Not-scaled data"
   ]
  },
  {
   "cell_type": "code",
   "execution_count": 75,
   "id": "7b1f7ad4-ea97-47dd-8196-bf4155b6991d",
   "metadata": {},
   "outputs": [
    {
     "name": "stderr",
     "output_type": "stream",
     "text": [
      "C:\\Users\\a1056968\\Anaconda3\\envs\\machine_learning\\lib\\site-packages\\sklearn\\neural_network\\_multilayer_perceptron.py:702: ConvergenceWarning: Stochastic Optimizer: Maximum iterations (500) reached and the optimization hasn't converged yet.\n",
      "  warnings.warn(\n",
      "C:\\Users\\a1056968\\Anaconda3\\envs\\machine_learning\\lib\\site-packages\\sklearn\\neural_network\\_multilayer_perceptron.py:702: ConvergenceWarning: Stochastic Optimizer: Maximum iterations (500) reached and the optimization hasn't converged yet.\n",
      "  warnings.warn(\n"
     ]
    },
    {
     "data": {
      "text/html": [
       "<div>\n",
       "<style scoped>\n",
       "    .dataframe tbody tr th:only-of-type {\n",
       "        vertical-align: middle;\n",
       "    }\n",
       "\n",
       "    .dataframe tbody tr th {\n",
       "        vertical-align: top;\n",
       "    }\n",
       "\n",
       "    .dataframe thead th {\n",
       "        text-align: right;\n",
       "    }\n",
       "</style>\n",
       "<table border=\"1\" class=\"dataframe\">\n",
       "  <thead>\n",
       "    <tr style=\"text-align: right;\">\n",
       "      <th></th>\n",
       "      <th>activation</th>\n",
       "      <th>solver</th>\n",
       "      <th>score_train</th>\n",
       "      <th>score_test</th>\n",
       "    </tr>\n",
       "  </thead>\n",
       "  <tbody>\n",
       "    <tr>\n",
       "      <th>0</th>\n",
       "      <td>identity</td>\n",
       "      <td>sgd</td>\n",
       "      <td>0.999</td>\n",
       "      <td>0.945</td>\n",
       "    </tr>\n",
       "    <tr>\n",
       "      <th>1</th>\n",
       "      <td>logistic</td>\n",
       "      <td>sgd</td>\n",
       "      <td>0.691</td>\n",
       "      <td>0.715</td>\n",
       "    </tr>\n",
       "    <tr>\n",
       "      <th>2</th>\n",
       "      <td>relu</td>\n",
       "      <td>sgd</td>\n",
       "      <td>0.997</td>\n",
       "      <td>0.955</td>\n",
       "    </tr>\n",
       "    <tr>\n",
       "      <th>3</th>\n",
       "      <td>relu</td>\n",
       "      <td>adam</td>\n",
       "      <td>0.999</td>\n",
       "      <td>0.940</td>\n",
       "    </tr>\n",
       "  </tbody>\n",
       "</table>\n",
       "</div>"
      ],
      "text/plain": [
       "  activation solver  score_train  score_test\n",
       "0   identity    sgd        0.999       0.945\n",
       "1   logistic    sgd        0.691       0.715\n",
       "2       relu    sgd        0.997       0.955\n",
       "3       relu   adam        0.999       0.940"
      ]
     },
     "execution_count": 75,
     "metadata": {},
     "output_type": "execute_result"
    }
   ],
   "source": [
    "attributes_train, attributes_test, labels_train, labels_test = train_test_split(\n",
    "    attributes, labels, test_size = 200, shuffle=True, stratify=labels)\n",
    "\n",
    "attributes_train.shape, attributes_test.shape, labels_train.shape, labels_test.shape\n",
    "\n",
    "\n",
    "params = [\n",
    "    ('identity', 'sgd'),\n",
    "    ('logistic', 'sgd'),\n",
    "    ('relu', 'sgd'),\n",
    "    ('relu', 'adam'),\n",
    "]\n",
    "\n",
    "benchmark = []\n",
    "for (activation, solver) in params:\n",
    "    model = MLPClassifier(\n",
    "        hidden_layer_sizes=(16, 16),\n",
    "        activation=activation,  # ['identity', 'logistic', 'relu', 'softmax', 'tanh']\n",
    "        solver=solver,\n",
    "        shuffle=True,\n",
    "        random_state=RANDOM_STATE,\n",
    "        max_iter=500,\n",
    "        tol=0.0001,\n",
    "    )\n",
    "\n",
    "    model.fit(attributes_train, labels_train)\n",
    "    score_train = model.score(attributes_train, labels_train)\n",
    "    score_test = model.score(attributes_test, labels_test)\n",
    "    benchmark.append([activation, solver, score_train, score_test])\n",
    "    \n",
    "benchmark = pd.DataFrame(benchmark, columns=['activation', 'solver', 'score_train', 'score_test'])\n",
    "\n",
    "benchmark.round(3)"
   ]
  },
  {
   "cell_type": "markdown",
   "id": "ae473fed-81c0-493b-b5da-53f616dd3c89",
   "metadata": {},
   "source": [
    "Scaling matters for Sigmoid."
   ]
  },
  {
   "cell_type": "markdown",
   "id": "e7e8a0a1-e636-4077-96a6-db520a043045",
   "metadata": {},
   "source": [
    "### Updates"
   ]
  },
  {
   "cell_type": "code",
   "execution_count": 76,
   "id": "e004a025-ff73-4548-a206-0ca630f0e4de",
   "metadata": {
    "tags": []
   },
   "outputs": [
    {
     "data": {
      "text/plain": [
       "((1597, 64), (200, 64), (1597,), (200,))"
      ]
     },
     "execution_count": 76,
     "metadata": {},
     "output_type": "execute_result"
    }
   ],
   "source": [
    "attributes_train, attributes_test, labels_train, labels_test = train_test_split(\n",
    "    attributes_scaled, labels, test_size = 200, shuffle=True, stratify=labels)\n",
    "\n",
    "attributes_train.shape, attributes_test.shape, labels_train.shape, labels_test.shape"
   ]
  },
  {
   "cell_type": "code",
   "execution_count": 77,
   "id": "75c5c50b-b662-4a71-82e0-a5b1f95f2e33",
   "metadata": {
    "collapsed": true,
    "jupyter": {
     "outputs_hidden": true
    },
    "tags": []
   },
   "outputs": [
    {
     "name": "stdout",
     "output_type": "stream",
     "text": [
      "Iteration 1, loss = 2.33712179\n",
      "Iteration 2, loss = 2.29129080\n",
      "Iteration 3, loss = 2.24985061\n",
      "Iteration 4, loss = 2.20767378\n",
      "Iteration 5, loss = 2.15852299\n",
      "Iteration 6, loss = 2.09935339\n",
      "Iteration 7, loss = 2.03469031\n",
      "Iteration 8, loss = 1.96339879\n",
      "Iteration 9, loss = 1.88416030\n",
      "Iteration 10, loss = 1.80305905\n",
      "Iteration 11, loss = 1.71588636\n",
      "Iteration 12, loss = 1.62526704\n",
      "Iteration 13, loss = 1.53161730\n",
      "Iteration 14, loss = 1.43713180\n",
      "Iteration 15, loss = 1.34494112\n",
      "Iteration 16, loss = 1.25397453\n",
      "Iteration 17, loss = 1.16537224\n",
      "Iteration 18, loss = 1.08067645\n",
      "Iteration 19, loss = 0.99943332\n",
      "Iteration 20, loss = 0.92628748\n",
      "Iteration 21, loss = 0.86161467\n",
      "Iteration 22, loss = 0.80392227\n",
      "Iteration 23, loss = 0.75287666\n",
      "Iteration 24, loss = 0.70858022\n",
      "Iteration 25, loss = 0.66812633\n",
      "Iteration 26, loss = 0.63157648\n",
      "Iteration 27, loss = 0.59993319\n",
      "Iteration 28, loss = 0.57102589\n",
      "Iteration 29, loss = 0.54354268\n",
      "Iteration 30, loss = 0.51970874\n",
      "Iteration 31, loss = 0.49715364\n",
      "Iteration 32, loss = 0.47801139\n",
      "Iteration 33, loss = 0.45824186\n",
      "Iteration 34, loss = 0.44123788\n",
      "Iteration 35, loss = 0.42464038\n",
      "Iteration 36, loss = 0.40934414\n",
      "Iteration 37, loss = 0.39527029\n",
      "Iteration 38, loss = 0.38167742\n",
      "Iteration 39, loss = 0.36997967\n",
      "Iteration 40, loss = 0.35725886\n",
      "Iteration 41, loss = 0.34636004\n",
      "Iteration 42, loss = 0.33580781\n",
      "Iteration 43, loss = 0.32587923\n",
      "Iteration 44, loss = 0.31663534\n",
      "Iteration 45, loss = 0.30781767\n",
      "Iteration 46, loss = 0.29878730\n",
      "Iteration 47, loss = 0.29093900\n",
      "Iteration 48, loss = 0.28332694\n",
      "Iteration 49, loss = 0.27602755\n",
      "Iteration 50, loss = 0.26950741\n",
      "Iteration 51, loss = 0.26271287\n",
      "Iteration 52, loss = 0.25690182\n",
      "Iteration 53, loss = 0.25047693\n",
      "Iteration 54, loss = 0.24441756\n",
      "Iteration 55, loss = 0.23812939\n",
      "Iteration 56, loss = 0.23300360\n",
      "Iteration 57, loss = 0.22736458\n",
      "Iteration 58, loss = 0.22187979\n",
      "Iteration 59, loss = 0.21644349\n",
      "Iteration 60, loss = 0.21141444\n",
      "Iteration 61, loss = 0.20694221\n",
      "Iteration 62, loss = 0.20203837\n",
      "Iteration 63, loss = 0.19765825\n",
      "Iteration 64, loss = 0.19371634\n",
      "Iteration 65, loss = 0.18948864\n",
      "Iteration 66, loss = 0.18626722\n",
      "Iteration 67, loss = 0.18220255\n",
      "Iteration 68, loss = 0.17849030\n",
      "Iteration 69, loss = 0.17582654\n",
      "Iteration 70, loss = 0.17283615\n",
      "Iteration 71, loss = 0.16946326\n",
      "Iteration 72, loss = 0.16600426\n",
      "Iteration 73, loss = 0.16236126\n",
      "Iteration 74, loss = 0.15991337\n",
      "Iteration 75, loss = 0.15727927\n",
      "Iteration 76, loss = 0.15401860\n",
      "Iteration 77, loss = 0.15139868\n",
      "Iteration 78, loss = 0.14882080\n",
      "Iteration 79, loss = 0.14619625\n",
      "Iteration 80, loss = 0.14393545\n",
      "Iteration 81, loss = 0.14142605\n",
      "Iteration 82, loss = 0.13941917\n",
      "Iteration 83, loss = 0.13708474\n",
      "Iteration 84, loss = 0.13511432\n",
      "Iteration 85, loss = 0.13326766\n",
      "Iteration 86, loss = 0.13112609\n",
      "Iteration 87, loss = 0.12894574\n",
      "Iteration 88, loss = 0.12693322\n",
      "Iteration 89, loss = 0.12521243\n",
      "Iteration 90, loss = 0.12421415\n",
      "Iteration 91, loss = 0.12186024\n",
      "Iteration 92, loss = 0.11990033\n",
      "Iteration 93, loss = 0.11841489\n",
      "Iteration 94, loss = 0.11683231\n",
      "Iteration 95, loss = 0.11560102\n",
      "Iteration 96, loss = 0.11367022\n",
      "Iteration 97, loss = 0.11284283\n",
      "Iteration 98, loss = 0.11054646\n",
      "Iteration 99, loss = 0.10944300\n",
      "Iteration 100, loss = 0.10824424\n",
      "Iteration 101, loss = 0.10671231\n",
      "Iteration 102, loss = 0.10537235\n",
      "Iteration 103, loss = 0.10379762\n",
      "Iteration 104, loss = 0.10284924\n",
      "Iteration 105, loss = 0.10148203\n",
      "Iteration 106, loss = 0.10020701\n",
      "Iteration 107, loss = 0.09899006\n",
      "Iteration 108, loss = 0.09783798\n",
      "Iteration 109, loss = 0.09661221\n",
      "Iteration 110, loss = 0.09579936\n",
      "Iteration 111, loss = 0.09430847\n",
      "Iteration 112, loss = 0.09294732\n",
      "Iteration 113, loss = 0.09219037\n",
      "Iteration 114, loss = 0.09068473\n",
      "Iteration 115, loss = 0.09010653\n",
      "Iteration 116, loss = 0.08949742\n",
      "Iteration 117, loss = 0.08753147\n",
      "Iteration 118, loss = 0.08682559\n",
      "Iteration 119, loss = 0.08584871\n",
      "Iteration 120, loss = 0.08501316\n",
      "Iteration 121, loss = 0.08420120\n",
      "Iteration 122, loss = 0.08308834\n",
      "Iteration 123, loss = 0.08310830\n",
      "Iteration 124, loss = 0.08080407\n",
      "Iteration 125, loss = 0.08109462\n",
      "Iteration 126, loss = 0.07995064\n",
      "Iteration 127, loss = 0.07881119\n",
      "Iteration 128, loss = 0.07766696\n",
      "Iteration 129, loss = 0.07734616\n",
      "Iteration 130, loss = 0.07658238\n",
      "Iteration 131, loss = 0.07540963\n",
      "Iteration 132, loss = 0.07446228\n",
      "Iteration 133, loss = 0.07378114\n",
      "Iteration 134, loss = 0.07315879\n",
      "Iteration 135, loss = 0.07224131\n",
      "Iteration 136, loss = 0.07152419\n",
      "Iteration 137, loss = 0.07091343\n",
      "Iteration 138, loss = 0.07023388\n",
      "Iteration 139, loss = 0.06921815\n",
      "Iteration 140, loss = 0.06876103\n",
      "Iteration 141, loss = 0.06768995\n",
      "Iteration 142, loss = 0.06712756\n",
      "Iteration 143, loss = 0.06638376\n",
      "Iteration 144, loss = 0.06573341\n",
      "Iteration 145, loss = 0.06614008\n",
      "Iteration 146, loss = 0.06492607\n",
      "Iteration 147, loss = 0.06395415\n",
      "Iteration 148, loss = 0.06375454\n",
      "Iteration 149, loss = 0.06271752\n",
      "Iteration 150, loss = 0.06204310\n",
      "Iteration 151, loss = 0.06138917\n",
      "Iteration 152, loss = 0.06116089\n",
      "Iteration 153, loss = 0.06033294\n",
      "Iteration 154, loss = 0.05951750\n",
      "Iteration 155, loss = 0.05907203\n",
      "Iteration 156, loss = 0.05823149\n",
      "Iteration 157, loss = 0.05804472\n",
      "Iteration 158, loss = 0.05712335\n",
      "Iteration 159, loss = 0.05754039\n",
      "Iteration 160, loss = 0.05656153\n",
      "Iteration 161, loss = 0.05599841\n",
      "Iteration 162, loss = 0.05504473\n",
      "Iteration 163, loss = 0.05477437\n",
      "Iteration 164, loss = 0.05432478\n",
      "Iteration 165, loss = 0.05366896\n",
      "Iteration 166, loss = 0.05293731\n",
      "Iteration 167, loss = 0.05256033\n",
      "Iteration 168, loss = 0.05223136\n",
      "Iteration 169, loss = 0.05156751\n",
      "Iteration 170, loss = 0.05116076\n",
      "Iteration 171, loss = 0.05082928\n",
      "Iteration 172, loss = 0.05011579\n",
      "Iteration 173, loss = 0.04983063\n",
      "Iteration 174, loss = 0.04999865\n",
      "Iteration 175, loss = 0.04930668\n",
      "Iteration 176, loss = 0.04843920\n",
      "Iteration 177, loss = 0.04786487\n",
      "Iteration 178, loss = 0.04786295\n",
      "Iteration 179, loss = 0.04753109\n",
      "Iteration 180, loss = 0.04693652\n",
      "Iteration 181, loss = 0.04637992\n",
      "Iteration 182, loss = 0.04608665\n",
      "Iteration 183, loss = 0.04580697\n",
      "Iteration 184, loss = 0.04541843\n",
      "Iteration 185, loss = 0.04486670\n",
      "Iteration 186, loss = 0.04432003\n",
      "Iteration 187, loss = 0.04395581\n",
      "Iteration 188, loss = 0.04323193\n",
      "Iteration 189, loss = 0.04333133\n",
      "Iteration 190, loss = 0.04258395\n",
      "Iteration 191, loss = 0.04239857\n",
      "Iteration 192, loss = 0.04218649\n",
      "Iteration 193, loss = 0.04147726\n",
      "Iteration 194, loss = 0.04109487\n",
      "Iteration 195, loss = 0.04054368\n",
      "Iteration 196, loss = 0.04073360\n",
      "Iteration 197, loss = 0.03996501\n",
      "Iteration 198, loss = 0.03964401\n",
      "Iteration 199, loss = 0.03965085\n",
      "Iteration 200, loss = 0.03875411\n",
      "  activation solver  score_train  score_test\n",
      "0       relu   adam        0.992        0.97\n"
     ]
    },
    {
     "name": "stderr",
     "output_type": "stream",
     "text": [
      "C:\\Users\\a1056968\\Anaconda3\\envs\\machine_learning\\lib\\site-packages\\sklearn\\neural_network\\_multilayer_perceptron.py:702: ConvergenceWarning: Stochastic Optimizer: Maximum iterations (200) reached and the optimization hasn't converged yet.\n",
      "  warnings.warn(\n"
     ]
    }
   ],
   "source": [
    "params = [\n",
    "    ('relu', 'adam'),\n",
    "]\n",
    "\n",
    "def compare_hparams(params):\n",
    "\n",
    "    benchmark = []\n",
    "    for (activation, solver) in params:\n",
    "        model = MLPClassifier(\n",
    "            hidden_layer_sizes=(16, 16),\n",
    "            activation=activation,  # ['identity', 'logistic', 'relu', 'softmax', 'tanh']\n",
    "            solver=solver,\n",
    "            shuffle=True,\n",
    "            random_state=RANDOM_STATE,\n",
    "            max_iter=200,\n",
    "            tol=0.0001,\n",
    "            verbose=True,\n",
    "        )\n",
    "\n",
    "        model.fit(attributes_train, labels_train)\n",
    "        score_train = model.score(attributes_train, labels_train)\n",
    "        score_test = model.score(attributes_test, labels_test)\n",
    "        benchmark.append([activation, solver, score_train, score_test])\n",
    "\n",
    "    benchmark = pd.DataFrame(benchmark, columns=['activation', 'solver', 'score_train', 'score_test'])\n",
    "\n",
    "    print(benchmark.round(3))\n",
    "    \n",
    "compare_hparams(params)"
   ]
  },
  {
   "cell_type": "markdown",
   "id": "c684519f-77f4-4ec1-8876-c30e66a7fce1",
   "metadata": {},
   "source": [
    "### Coeffs"
   ]
  },
  {
   "cell_type": "code",
   "execution_count": 81,
   "id": "d99af863-92e7-43fe-b187-55cef50f910c",
   "metadata": {},
   "outputs": [
    {
     "name": "stdout",
     "output_type": "stream",
     "text": [
      "(64, 16)\n",
      "(16, 16)\n",
      "(16, 10)\n"
     ]
    }
   ],
   "source": [
    "for el in model.coefs_:\n",
    "    print(el.shape)"
   ]
  },
  {
   "cell_type": "code",
   "execution_count": 84,
   "id": "7a9fb486-5447-4f2a-a322-c785ac9c2d98",
   "metadata": {},
   "outputs": [
    {
     "data": {
      "text/plain": [
       "1440"
      ]
     },
     "execution_count": 84,
     "metadata": {},
     "output_type": "execute_result"
    }
   ],
   "source": [
    "np.sum([el.size for el in model.coefs_])"
   ]
  },
  {
   "cell_type": "code",
   "execution_count": null,
   "id": "a94c32a1-7bf9-4929-8d3c-c926bf813bf7",
   "metadata": {},
   "outputs": [],
   "source": []
  }
 ],
 "metadata": {
  "kernelspec": {
   "display_name": "Python 3 (ipykernel)",
   "language": "python",
   "name": "python3"
  },
  "language_info": {
   "codemirror_mode": {
    "name": "ipython",
    "version": 3
   },
   "file_extension": ".py",
   "mimetype": "text/x-python",
   "name": "python",
   "nbconvert_exporter": "python",
   "pygments_lexer": "ipython3",
   "version": "3.9.0"
  }
 },
 "nbformat": 4,
 "nbformat_minor": 5
}
