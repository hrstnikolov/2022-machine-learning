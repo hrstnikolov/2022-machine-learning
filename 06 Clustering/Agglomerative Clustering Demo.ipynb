{
 "cells": [
  {
   "cell_type": "code",
   "execution_count": 1,
   "id": "671f47d8",
   "metadata": {},
   "outputs": [],
   "source": [
    "%matplotlib inline"
   ]
  },
  {
   "cell_type": "code",
   "execution_count": 53,
   "id": "413c8465",
   "metadata": {},
   "outputs": [],
   "source": [
    "import numpy as np\n",
    "import pandas as pd\n",
    "import matplotlib.pyplot as plt\n",
    "\n",
    "from sklearn.datasets import load_wine\n",
    "from sklearn.cluster import AgglomerativeClustering, KMeans"
   ]
  },
  {
   "cell_type": "markdown",
   "id": "14146350",
   "metadata": {},
   "source": [
    "# Agglomerative Clustering Demo\n",
    "\n",
    "Wine data description in [here](https://scikit-learn.org/stable/datasets/toy_dataset.html#wine-dataset).\n",
    "\n",
    "The data is the results of a chemical analysis of wines grown in the same region in Italy by three different cultivators. There are thirteen different measurements taken for different constituents found in the three types of wine.\n",
    "\n",
    "**Objective** of the clustering analysis is to group the wines per cultivator based on the chemical data."
   ]
  },
  {
   "cell_type": "code",
   "execution_count": 16,
   "id": "45b23b68",
   "metadata": {
    "scrolled": true
   },
   "outputs": [
    {
     "data": {
      "text/plain": [
       "dict_keys(['data', 'target', 'frame', 'target_names', 'DESCR', 'feature_names'])"
      ]
     },
     "execution_count": 16,
     "metadata": {},
     "output_type": "execute_result"
    }
   ],
   "source": [
    "load_wine().keys()"
   ]
  },
  {
   "cell_type": "code",
   "execution_count": 17,
   "id": "ad8ac334",
   "metadata": {},
   "outputs": [],
   "source": [
    "wine = load_wine()\n",
    "attributes = wine.data\n",
    "classes = wine.target"
   ]
  },
  {
   "cell_type": "code",
   "execution_count": 19,
   "id": "a7f97e70",
   "metadata": {},
   "outputs": [
    {
     "data": {
      "text/plain": [
       "(178, 13)"
      ]
     },
     "execution_count": 19,
     "metadata": {},
     "output_type": "execute_result"
    }
   ],
   "source": [
    "attributes.shape"
   ]
  },
  {
   "cell_type": "code",
   "execution_count": 22,
   "id": "88ff15a7",
   "metadata": {},
   "outputs": [
    {
     "data": {
      "text/plain": [
       "array([0, 1, 2])"
      ]
     },
     "execution_count": 22,
     "metadata": {},
     "output_type": "execute_result"
    }
   ],
   "source": [
    "np.unique(classes)"
   ]
  },
  {
   "cell_type": "code",
   "execution_count": 23,
   "id": "aa0e5463",
   "metadata": {},
   "outputs": [],
   "source": [
    "aggl = AgglomerativeClustering(n_clusters=3, )"
   ]
  },
  {
   "cell_type": "code",
   "execution_count": 24,
   "id": "89a7a690",
   "metadata": {
    "scrolled": true
   },
   "outputs": [],
   "source": [
    "predicted_classes = aggl.fit_predict(attributes)"
   ]
  },
  {
   "cell_type": "code",
   "execution_count": 41,
   "id": "93336e56",
   "metadata": {},
   "outputs": [],
   "source": [
    "def rename_unique(arr):\n",
    "    unique_values = pd.unique(arr)\n",
    "    mapping = {value: i for i, value in enumerate(unique_values)}\n",
    "    new_arr = np.array([mapping[value] for value in arr])\n",
    "    \n",
    "    return new_arr"
   ]
  },
  {
   "cell_type": "code",
   "execution_count": 48,
   "id": "d0cc0501",
   "metadata": {},
   "outputs": [
    {
     "data": {
      "text/plain": [
       "0.47752808988764045"
      ]
     },
     "execution_count": 48,
     "metadata": {},
     "output_type": "execute_result"
    }
   ],
   "source": [
    "deltas = rename_unique(predicted_classes) - rename_unique(classes)\n",
    "correct = pd.value_counts(deltas, normalize=True)[0]"
   ]
  },
  {
   "cell_type": "code",
   "execution_count": 52,
   "id": "a7ff2984",
   "metadata": {},
   "outputs": [
    {
     "name": "stdout",
     "output_type": "stream",
     "text": [
      "ward - 0.48\n",
      "complete - 0.48\n",
      "average - 0.49\n",
      "single - 0.30\n"
     ]
    }
   ],
   "source": [
    "linkages = ['ward', 'complete', 'average', 'single']\n",
    "\n",
    "for linkage in linkages:\n",
    "    aggl = AgglomerativeClustering(n_clusters=3, linkage=linkage)\n",
    "    predicted_classes = aggl.fit_predict(attributes)\n",
    "    diffs = rename_unique(predicted_classes) - rename_unique(classes)\n",
    "    accuracy = pd.value_counts(diffs, normalize=True)[0]\n",
    "    print(f'{linkage} - {accuracy:.2f}')"
   ]
  },
  {
   "cell_type": "code",
   "execution_count": 55,
   "id": "1cac0f2a",
   "metadata": {},
   "outputs": [
    {
     "name": "stdout",
     "output_type": "stream",
     "text": [
      "k-means++ - 0.48\n"
     ]
    }
   ],
   "source": [
    "km = KMeans(n_clusters=3, init='k-means++')\n",
    "predicted_classes = km.fit_predict(attributes)\n",
    "diffs = rename_unique(predicted_classes) - rename_unique(classes)\n",
    "accuracy = pd.value_counts(diffs, normalize=True)[0]\n",
    "print(f'k-means++ - {accuracy:.2f}')"
   ]
  },
  {
   "cell_type": "code",
   "execution_count": 59,
   "id": "4b13b515",
   "metadata": {},
   "outputs": [
    {
     "name": "stdout",
     "output_type": "stream",
     "text": [
      "complete \t euclidean 0.48\n",
      "complete \t l1 0.48\n",
      "complete \t l2 0.48\n",
      "complete \t manhattan 0.48\n",
      "complete \t cosine 0.47\n",
      "average \t euclidean 0.49\n",
      "average \t l1 0.40\n",
      "average \t l2 0.49\n",
      "average \t manhattan 0.40\n",
      "average \t cosine 0.48\n",
      "single \t euclidean 0.30\n",
      "single \t l1 0.33\n",
      "single \t l2 0.30\n",
      "single \t manhattan 0.33\n",
      "single \t cosine 0.41\n"
     ]
    }
   ],
   "source": [
    "linkages = ['complete', 'average', 'single']\n",
    "affinities = [\"euclidean\", \"l1\", \"l2\", \"manhattan\", \"cosine\"]\n",
    "\n",
    "for linkage in linkages:\n",
    "    for affinity in affinities:\n",
    "        aggl = AgglomerativeClustering(n_clusters=3, linkage=linkage, affinity=affinity)\n",
    "        predicted_classes = aggl.fit_predict(attributes)\n",
    "        diffs = rename_unique(predicted_classes) - rename_unique(classes)\n",
    "        accuracy = pd.value_counts(diffs, normalize=True)[0]\n",
    "        print(f'{linkage} \\t {affinity} {accuracy:.2f}')"
   ]
  },
  {
   "cell_type": "code",
   "execution_count": null,
   "id": "2cbc3970",
   "metadata": {},
   "outputs": [],
   "source": []
  }
 ],
 "metadata": {
  "kernelspec": {
   "display_name": "Python 3 (ipykernel)",
   "language": "python",
   "name": "python3"
  },
  "language_info": {
   "codemirror_mode": {
    "name": "ipython",
    "version": 3
   },
   "file_extension": ".py",
   "mimetype": "text/x-python",
   "name": "python",
   "nbconvert_exporter": "python",
   "pygments_lexer": "ipython3",
   "version": "3.10.9"
  }
 },
 "nbformat": 4,
 "nbformat_minor": 5
}
