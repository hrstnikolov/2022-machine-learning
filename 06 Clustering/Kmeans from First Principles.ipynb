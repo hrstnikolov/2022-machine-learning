{
 "cells": [
  {
   "cell_type": "code",
   "execution_count": 1,
   "id": "3f0b0e0f",
   "metadata": {},
   "outputs": [],
   "source": [
    "%matplotlib inline"
   ]
  },
  {
   "cell_type": "code",
   "execution_count": 9,
   "id": "b0f62d38",
   "metadata": {},
   "outputs": [],
   "source": [
    "import numpy as np\n",
    "import pandas as pd\n",
    "import matplotlib.pyplot as plt\n",
    "\n",
    "from sklearn.datasets import make_blobs\n",
    "from sklearn.cluster import KMeans"
   ]
  },
  {
   "cell_type": "markdown",
   "id": "f5b15f04",
   "metadata": {},
   "source": [
    "# kMeans from First Principles"
   ]
  },
  {
   "cell_type": "markdown",
   "id": "bcfbab0a",
   "metadata": {},
   "source": [
    "## Custom algorightm"
   ]
  },
  {
   "cell_type": "code",
   "execution_count": 193,
   "id": "a11d195c",
   "metadata": {},
   "outputs": [],
   "source": [
    "X, y = make_blobs(\n",
    "    n_samples=16,\n",
    "    n_features=2,\n",
    "    centers=2,\n",
    "    cluster_std=1.0,\n",
    "    center_box=(-5.0, 5.0),\n",
    "    random_state=42,\n",
    ")"
   ]
  },
  {
   "cell_type": "code",
   "execution_count": 203,
   "id": "cb408729",
   "metadata": {},
   "outputs": [],
   "source": [
    "# Squared Euclidian distance\n",
    "def d(v, w):\n",
    "    result = np.sum((v - w) ** 2)\n",
    "    return result\n",
    "\n",
    "\n",
    "def custom_k_means(X, n_clusters=2, max_iter=100, tol=0.01):\n",
    "    # Choose at random `X` entries to use as initial seeds\n",
    "    seed_indeces = np.random.choice(np.arange(len(X)), n_clusters, replace=False)\n",
    "    C = X[seed_indeces, :]\n",
    "    \n",
    "    for _ in range(max_iter):\n",
    "        # Generate matrix with distances from each observation to each centroid\n",
    "        D = np.array([])\n",
    "        for x in X:\n",
    "            distances = np.array([d(x, c) for c in C])\n",
    "            if D.size == 0:\n",
    "                D = distances\n",
    "            else:\n",
    "                D = np.vstack([D, distances])\n",
    "\n",
    "        # Create clusters\n",
    "        labels = D.argmin(axis=1)\n",
    "        clusters = []\n",
    "        for l in np.unique(labels):\n",
    "            indeces = np.where(mask == l)\n",
    "            clusters.append(X[indeces, :])\n",
    "\n",
    "        # Calculate feature means for each cluster\n",
    "        cluster_means = np.array([c.mean(axis=0) for c in clusters])\n",
    "\n",
    "        # Break if the centroids movement is too small\n",
    "        movements = [d(C[i], cluster_means[i]) for i in range(len(C))]\n",
    "        print(movements)\n",
    "        print(np.sum(movements))\n",
    "        if np.sum(movements) <= tol:\n",
    "            break\n",
    "        \n",
    "        # Move the centroids\n",
    "        C = cluster_means\n",
    "    \n",
    "    inertia = np.sum(D.min(axis=1))\n",
    "    return inertia, C"
   ]
  },
  {
   "cell_type": "code",
   "execution_count": 204,
   "id": "c781c9de",
   "metadata": {},
   "outputs": [
    {
     "name": "stdout",
     "output_type": "stream",
     "text": [
      "[39.30977202048399, 76.86693708201328]\n",
      "116.17670910249727\n",
      "[0.0, 0.0]\n",
      "0.0\n"
     ]
    },
    {
     "data": {
      "text/plain": [
       "(442.6604597316407,\n",
       " array([[[-1.48875219,  4.27300611],\n",
       "         [-2.26742993,  4.8213904 ]],\n",
       " \n",
       "        [[-1.7240732 ,  5.04970311],\n",
       "         [-1.01263654,  2.59386282]]]))"
      ]
     },
     "execution_count": 204,
     "metadata": {},
     "output_type": "execute_result"
    }
   ],
   "source": [
    "inertia, centroids = custom_k_means(X)\n",
    "inertia, centroids"
   ]
  },
  {
   "cell_type": "code",
   "execution_count": 154,
   "id": "a6d34af6",
   "metadata": {
    "collapsed": true
   },
   "outputs": [
    {
     "name": "stdout",
     "output_type": "stream",
     "text": [
      "0 [[ 0.324614    5.27457779]\n",
      " [-1.48875219  4.27300611]]\n",
      "1 [[0.135015   1.96240539]\n",
      " [0.324614   5.27457779]]\n",
      "2 [[-1.15155697  4.65967508]\n",
      " [ 1.46898673  0.09317881]]\n",
      "3 [[ 1.46898673  0.09317881]\n",
      " [-1.15155697  4.65967508]]\n",
      "4 [[-1.15155697  4.65967508]\n",
      " [ 1.46898673  0.09317881]]\n",
      "5 [[ 1.46898673  0.09317881]\n",
      " [-1.15155697  4.65967508]]\n",
      "6 [[-1.15155697  4.65967508]\n",
      " [ 1.46898673  0.09317881]]\n",
      "7 [[ 1.46898673  0.09317881]\n",
      " [-1.15155697  4.65967508]]\n",
      "8 [[-1.15155697  4.65967508]\n",
      " [ 1.46898673  0.09317881]]\n",
      "9 [[ 1.46898673  0.09317881]\n",
      " [-1.15155697  4.65967508]]\n",
      "10 [[-1.15155697  4.65967508]\n",
      " [ 1.46898673  0.09317881]]\n",
      "11 [[ 1.46898673  0.09317881]\n",
      " [-1.15155697  4.65967508]]\n",
      "12 [[-1.15155697  4.65967508]\n",
      " [ 1.46898673  0.09317881]]\n",
      "13 [[ 1.46898673  0.09317881]\n",
      " [-1.15155697  4.65967508]]\n",
      "14 [[-1.15155697  4.65967508]\n",
      " [ 1.46898673  0.09317881]]\n",
      "15 [[ 1.46898673  0.09317881]\n",
      " [-1.15155697  4.65967508]]\n",
      "16 [[-1.15155697  4.65967508]\n",
      " [ 1.46898673  0.09317881]]\n",
      "17 [[ 1.46898673  0.09317881]\n",
      " [-1.15155697  4.65967508]]\n",
      "18 [[-1.15155697  4.65967508]\n",
      " [ 1.46898673  0.09317881]]\n",
      "19 [[ 1.46898673  0.09317881]\n",
      " [-1.15155697  4.65967508]]\n",
      "20 [[-1.15155697  4.65967508]\n",
      " [ 1.46898673  0.09317881]]\n",
      "21 [[ 1.46898673  0.09317881]\n",
      " [-1.15155697  4.65967508]]\n",
      "22 [[-1.15155697  4.65967508]\n",
      " [ 1.46898673  0.09317881]]\n",
      "23 [[ 1.46898673  0.09317881]\n",
      " [-1.15155697  4.65967508]]\n",
      "24 [[-1.15155697  4.65967508]\n",
      " [ 1.46898673  0.09317881]]\n",
      "25 [[ 1.46898673  0.09317881]\n",
      " [-1.15155697  4.65967508]]\n",
      "26 [[-1.15155697  4.65967508]\n",
      " [ 1.46898673  0.09317881]]\n",
      "27 [[ 1.46898673  0.09317881]\n",
      " [-1.15155697  4.65967508]]\n",
      "28 [[-1.15155697  4.65967508]\n",
      " [ 1.46898673  0.09317881]]\n",
      "29 [[ 1.46898673  0.09317881]\n",
      " [-1.15155697  4.65967508]]\n",
      "30 [[-1.15155697  4.65967508]\n",
      " [ 1.46898673  0.09317881]]\n",
      "31 [[ 1.46898673  0.09317881]\n",
      " [-1.15155697  4.65967508]]\n",
      "32 [[-1.15155697  4.65967508]\n",
      " [ 1.46898673  0.09317881]]\n",
      "33 [[ 1.46898673  0.09317881]\n",
      " [-1.15155697  4.65967508]]\n",
      "34 [[-1.15155697  4.65967508]\n",
      " [ 1.46898673  0.09317881]]\n",
      "35 [[ 1.46898673  0.09317881]\n",
      " [-1.15155697  4.65967508]]\n",
      "36 [[-1.15155697  4.65967508]\n",
      " [ 1.46898673  0.09317881]]\n",
      "37 [[ 1.46898673  0.09317881]\n",
      " [-1.15155697  4.65967508]]\n",
      "38 [[-1.15155697  4.65967508]\n",
      " [ 1.46898673  0.09317881]]\n",
      "39 [[ 1.46898673  0.09317881]\n",
      " [-1.15155697  4.65967508]]\n",
      "40 [[-1.15155697  4.65967508]\n",
      " [ 1.46898673  0.09317881]]\n",
      "41 [[ 1.46898673  0.09317881]\n",
      " [-1.15155697  4.65967508]]\n",
      "42 [[-1.15155697  4.65967508]\n",
      " [ 1.46898673  0.09317881]]\n",
      "43 [[ 1.46898673  0.09317881]\n",
      " [-1.15155697  4.65967508]]\n",
      "44 [[-1.15155697  4.65967508]\n",
      " [ 1.46898673  0.09317881]]\n",
      "45 [[ 1.46898673  0.09317881]\n",
      " [-1.15155697  4.65967508]]\n",
      "46 [[-1.15155697  4.65967508]\n",
      " [ 1.46898673  0.09317881]]\n",
      "47 [[ 1.46898673  0.09317881]\n",
      " [-1.15155697  4.65967508]]\n",
      "48 [[-1.15155697  4.65967508]\n",
      " [ 1.46898673  0.09317881]]\n",
      "49 [[ 1.46898673  0.09317881]\n",
      " [-1.15155697  4.65967508]]\n",
      "50 [[-1.15155697  4.65967508]\n",
      " [ 1.46898673  0.09317881]]\n",
      "51 [[ 1.46898673  0.09317881]\n",
      " [-1.15155697  4.65967508]]\n",
      "52 [[-1.15155697  4.65967508]\n",
      " [ 1.46898673  0.09317881]]\n",
      "53 [[ 1.46898673  0.09317881]\n",
      " [-1.15155697  4.65967508]]\n",
      "54 [[-1.15155697  4.65967508]\n",
      " [ 1.46898673  0.09317881]]\n",
      "55 [[ 1.46898673  0.09317881]\n",
      " [-1.15155697  4.65967508]]\n",
      "56 [[-1.15155697  4.65967508]\n",
      " [ 1.46898673  0.09317881]]\n",
      "57 [[ 1.46898673  0.09317881]\n",
      " [-1.15155697  4.65967508]]\n",
      "58 [[-1.15155697  4.65967508]\n",
      " [ 1.46898673  0.09317881]]\n",
      "59 [[ 1.46898673  0.09317881]\n",
      " [-1.15155697  4.65967508]]\n",
      "60 [[-1.15155697  4.65967508]\n",
      " [ 1.46898673  0.09317881]]\n",
      "61 [[ 1.46898673  0.09317881]\n",
      " [-1.15155697  4.65967508]]\n",
      "62 [[-1.15155697  4.65967508]\n",
      " [ 1.46898673  0.09317881]]\n",
      "63 [[ 1.46898673  0.09317881]\n",
      " [-1.15155697  4.65967508]]\n",
      "64 [[-1.15155697  4.65967508]\n",
      " [ 1.46898673  0.09317881]]\n",
      "65 [[ 1.46898673  0.09317881]\n",
      " [-1.15155697  4.65967508]]\n",
      "66 [[-1.15155697  4.65967508]\n",
      " [ 1.46898673  0.09317881]]\n",
      "67 [[ 1.46898673  0.09317881]\n",
      " [-1.15155697  4.65967508]]\n",
      "68 [[-1.15155697  4.65967508]\n",
      " [ 1.46898673  0.09317881]]\n",
      "69 [[ 1.46898673  0.09317881]\n",
      " [-1.15155697  4.65967508]]\n",
      "70 [[-1.15155697  4.65967508]\n",
      " [ 1.46898673  0.09317881]]\n",
      "71 [[ 1.46898673  0.09317881]\n",
      " [-1.15155697  4.65967508]]\n",
      "72 [[-1.15155697  4.65967508]\n",
      " [ 1.46898673  0.09317881]]\n",
      "73 [[ 1.46898673  0.09317881]\n",
      " [-1.15155697  4.65967508]]\n",
      "74 [[-1.15155697  4.65967508]\n",
      " [ 1.46898673  0.09317881]]\n",
      "75 [[ 1.46898673  0.09317881]\n",
      " [-1.15155697  4.65967508]]\n",
      "76 [[-1.15155697  4.65967508]\n",
      " [ 1.46898673  0.09317881]]\n",
      "77 [[ 1.46898673  0.09317881]\n",
      " [-1.15155697  4.65967508]]\n",
      "78 [[-1.15155697  4.65967508]\n",
      " [ 1.46898673  0.09317881]]\n",
      "79 [[ 1.46898673  0.09317881]\n",
      " [-1.15155697  4.65967508]]\n",
      "80 [[-1.15155697  4.65967508]\n",
      " [ 1.46898673  0.09317881]]\n",
      "81 [[ 1.46898673  0.09317881]\n",
      " [-1.15155697  4.65967508]]\n",
      "82 [[-1.15155697  4.65967508]\n",
      " [ 1.46898673  0.09317881]]\n",
      "83 [[ 1.46898673  0.09317881]\n",
      " [-1.15155697  4.65967508]]\n",
      "84 [[-1.15155697  4.65967508]\n",
      " [ 1.46898673  0.09317881]]\n",
      "85 [[ 1.46898673  0.09317881]\n",
      " [-1.15155697  4.65967508]]\n",
      "86 [[-1.15155697  4.65967508]\n",
      " [ 1.46898673  0.09317881]]\n",
      "87 [[ 1.46898673  0.09317881]\n",
      " [-1.15155697  4.65967508]]\n",
      "88 [[-1.15155697  4.65967508]\n",
      " [ 1.46898673  0.09317881]]\n",
      "89 [[ 1.46898673  0.09317881]\n",
      " [-1.15155697  4.65967508]]\n",
      "90 [[-1.15155697  4.65967508]\n",
      " [ 1.46898673  0.09317881]]\n",
      "91 [[ 1.46898673  0.09317881]\n",
      " [-1.15155697  4.65967508]]\n",
      "92 [[-1.15155697  4.65967508]\n",
      " [ 1.46898673  0.09317881]]\n",
      "93 [[ 1.46898673  0.09317881]\n",
      " [-1.15155697  4.65967508]]\n",
      "94 [[-1.15155697  4.65967508]\n",
      " [ 1.46898673  0.09317881]]\n",
      "95 [[ 1.46898673  0.09317881]\n",
      " [-1.15155697  4.65967508]]\n",
      "96 [[-1.15155697  4.65967508]\n",
      " [ 1.46898673  0.09317881]]\n",
      "97 [[ 1.46898673  0.09317881]\n",
      " [-1.15155697  4.65967508]]\n",
      "98 [[-1.15155697  4.65967508]\n",
      " [ 1.46898673  0.09317881]]\n",
      "99 [[ 1.46898673  0.09317881]\n",
      " [-1.15155697  4.65967508]]\n",
      "100 [[-1.15155697  4.65967508]\n",
      " [ 1.46898673  0.09317881]]\n"
     ]
    },
    {
     "ename": "TypeError",
     "evalue": "only size-1 arrays can be converted to Python scalars",
     "output_type": "error",
     "traceback": [
      "\u001b[1;31m---------------------------------------------------------------------------\u001b[0m",
      "\u001b[1;31mTypeError\u001b[0m                                 Traceback (most recent call last)",
      "\u001b[1;32m~\\Anaconda3\\envs\\machine_learning\\lib\\site-packages\\IPython\\core\\formatters.py\u001b[0m in \u001b[0;36m__call__\u001b[1;34m(self, obj)\u001b[0m\n\u001b[0;32m    339\u001b[0m                 \u001b[1;32mpass\u001b[0m\u001b[1;33m\u001b[0m\u001b[1;33m\u001b[0m\u001b[0m\n\u001b[0;32m    340\u001b[0m             \u001b[1;32melse\u001b[0m\u001b[1;33m:\u001b[0m\u001b[1;33m\u001b[0m\u001b[1;33m\u001b[0m\u001b[0m\n\u001b[1;32m--> 341\u001b[1;33m                 \u001b[1;32mreturn\u001b[0m \u001b[0mprinter\u001b[0m\u001b[1;33m(\u001b[0m\u001b[0mobj\u001b[0m\u001b[1;33m)\u001b[0m\u001b[1;33m\u001b[0m\u001b[1;33m\u001b[0m\u001b[0m\n\u001b[0m\u001b[0;32m    342\u001b[0m             \u001b[1;31m# Finally look for special method names\u001b[0m\u001b[1;33m\u001b[0m\u001b[1;33m\u001b[0m\u001b[1;33m\u001b[0m\u001b[0m\n\u001b[0;32m    343\u001b[0m             \u001b[0mmethod\u001b[0m \u001b[1;33m=\u001b[0m \u001b[0mget_real_method\u001b[0m\u001b[1;33m(\u001b[0m\u001b[0mobj\u001b[0m\u001b[1;33m,\u001b[0m \u001b[0mself\u001b[0m\u001b[1;33m.\u001b[0m\u001b[0mprint_method\u001b[0m\u001b[1;33m)\u001b[0m\u001b[1;33m\u001b[0m\u001b[1;33m\u001b[0m\u001b[0m\n",
      "\u001b[1;32m~\\Anaconda3\\envs\\machine_learning\\lib\\site-packages\\IPython\\core\\pylabtools.py\u001b[0m in \u001b[0;36mprint_figure\u001b[1;34m(fig, fmt, bbox_inches, base64, **kwargs)\u001b[0m\n\u001b[0;32m    149\u001b[0m         \u001b[0mFigureCanvasBase\u001b[0m\u001b[1;33m(\u001b[0m\u001b[0mfig\u001b[0m\u001b[1;33m)\u001b[0m\u001b[1;33m\u001b[0m\u001b[1;33m\u001b[0m\u001b[0m\n\u001b[0;32m    150\u001b[0m \u001b[1;33m\u001b[0m\u001b[0m\n\u001b[1;32m--> 151\u001b[1;33m     \u001b[0mfig\u001b[0m\u001b[1;33m.\u001b[0m\u001b[0mcanvas\u001b[0m\u001b[1;33m.\u001b[0m\u001b[0mprint_figure\u001b[0m\u001b[1;33m(\u001b[0m\u001b[0mbytes_io\u001b[0m\u001b[1;33m,\u001b[0m \u001b[1;33m**\u001b[0m\u001b[0mkw\u001b[0m\u001b[1;33m)\u001b[0m\u001b[1;33m\u001b[0m\u001b[1;33m\u001b[0m\u001b[0m\n\u001b[0m\u001b[0;32m    152\u001b[0m     \u001b[0mdata\u001b[0m \u001b[1;33m=\u001b[0m \u001b[0mbytes_io\u001b[0m\u001b[1;33m.\u001b[0m\u001b[0mgetvalue\u001b[0m\u001b[1;33m(\u001b[0m\u001b[1;33m)\u001b[0m\u001b[1;33m\u001b[0m\u001b[1;33m\u001b[0m\u001b[0m\n\u001b[0;32m    153\u001b[0m     \u001b[1;32mif\u001b[0m \u001b[0mfmt\u001b[0m \u001b[1;33m==\u001b[0m \u001b[1;34m'svg'\u001b[0m\u001b[1;33m:\u001b[0m\u001b[1;33m\u001b[0m\u001b[1;33m\u001b[0m\u001b[0m\n",
      "\u001b[1;32m~\\Anaconda3\\envs\\machine_learning\\lib\\site-packages\\matplotlib\\backend_bases.py\u001b[0m in \u001b[0;36mprint_figure\u001b[1;34m(self, filename, dpi, facecolor, edgecolor, orientation, format, bbox_inches, pad_inches, bbox_extra_artists, backend, **kwargs)\u001b[0m\n\u001b[0;32m   2293\u001b[0m                 )\n\u001b[0;32m   2294\u001b[0m                 \u001b[1;32mwith\u001b[0m \u001b[0mgetattr\u001b[0m\u001b[1;33m(\u001b[0m\u001b[0mrenderer\u001b[0m\u001b[1;33m,\u001b[0m \u001b[1;34m\"_draw_disabled\"\u001b[0m\u001b[1;33m,\u001b[0m \u001b[0mnullcontext\u001b[0m\u001b[1;33m)\u001b[0m\u001b[1;33m(\u001b[0m\u001b[1;33m)\u001b[0m\u001b[1;33m:\u001b[0m\u001b[1;33m\u001b[0m\u001b[1;33m\u001b[0m\u001b[0m\n\u001b[1;32m-> 2295\u001b[1;33m                     \u001b[0mself\u001b[0m\u001b[1;33m.\u001b[0m\u001b[0mfigure\u001b[0m\u001b[1;33m.\u001b[0m\u001b[0mdraw\u001b[0m\u001b[1;33m(\u001b[0m\u001b[0mrenderer\u001b[0m\u001b[1;33m)\u001b[0m\u001b[1;33m\u001b[0m\u001b[1;33m\u001b[0m\u001b[0m\n\u001b[0m\u001b[0;32m   2296\u001b[0m \u001b[1;33m\u001b[0m\u001b[0m\n\u001b[0;32m   2297\u001b[0m             \u001b[1;32mif\u001b[0m \u001b[0mbbox_inches\u001b[0m\u001b[1;33m:\u001b[0m\u001b[1;33m\u001b[0m\u001b[1;33m\u001b[0m\u001b[0m\n",
      "\u001b[1;32m~\\Anaconda3\\envs\\machine_learning\\lib\\site-packages\\matplotlib\\artist.py\u001b[0m in \u001b[0;36mdraw_wrapper\u001b[1;34m(artist, renderer, *args, **kwargs)\u001b[0m\n\u001b[0;32m     71\u001b[0m     \u001b[1;33m@\u001b[0m\u001b[0mwraps\u001b[0m\u001b[1;33m(\u001b[0m\u001b[0mdraw\u001b[0m\u001b[1;33m)\u001b[0m\u001b[1;33m\u001b[0m\u001b[1;33m\u001b[0m\u001b[0m\n\u001b[0;32m     72\u001b[0m     \u001b[1;32mdef\u001b[0m \u001b[0mdraw_wrapper\u001b[0m\u001b[1;33m(\u001b[0m\u001b[0martist\u001b[0m\u001b[1;33m,\u001b[0m \u001b[0mrenderer\u001b[0m\u001b[1;33m,\u001b[0m \u001b[1;33m*\u001b[0m\u001b[0margs\u001b[0m\u001b[1;33m,\u001b[0m \u001b[1;33m**\u001b[0m\u001b[0mkwargs\u001b[0m\u001b[1;33m)\u001b[0m\u001b[1;33m:\u001b[0m\u001b[1;33m\u001b[0m\u001b[1;33m\u001b[0m\u001b[0m\n\u001b[1;32m---> 73\u001b[1;33m         \u001b[0mresult\u001b[0m \u001b[1;33m=\u001b[0m \u001b[0mdraw\u001b[0m\u001b[1;33m(\u001b[0m\u001b[0martist\u001b[0m\u001b[1;33m,\u001b[0m \u001b[0mrenderer\u001b[0m\u001b[1;33m,\u001b[0m \u001b[1;33m*\u001b[0m\u001b[0margs\u001b[0m\u001b[1;33m,\u001b[0m \u001b[1;33m**\u001b[0m\u001b[0mkwargs\u001b[0m\u001b[1;33m)\u001b[0m\u001b[1;33m\u001b[0m\u001b[1;33m\u001b[0m\u001b[0m\n\u001b[0m\u001b[0;32m     74\u001b[0m         \u001b[1;32mif\u001b[0m \u001b[0mrenderer\u001b[0m\u001b[1;33m.\u001b[0m\u001b[0m_rasterizing\u001b[0m\u001b[1;33m:\u001b[0m\u001b[1;33m\u001b[0m\u001b[1;33m\u001b[0m\u001b[0m\n\u001b[0;32m     75\u001b[0m             \u001b[0mrenderer\u001b[0m\u001b[1;33m.\u001b[0m\u001b[0mstop_rasterizing\u001b[0m\u001b[1;33m(\u001b[0m\u001b[1;33m)\u001b[0m\u001b[1;33m\u001b[0m\u001b[1;33m\u001b[0m\u001b[0m\n",
      "\u001b[1;32m~\\Anaconda3\\envs\\machine_learning\\lib\\site-packages\\matplotlib\\artist.py\u001b[0m in \u001b[0;36mdraw_wrapper\u001b[1;34m(artist, renderer)\u001b[0m\n\u001b[0;32m     48\u001b[0m                 \u001b[0mrenderer\u001b[0m\u001b[1;33m.\u001b[0m\u001b[0mstart_filter\u001b[0m\u001b[1;33m(\u001b[0m\u001b[1;33m)\u001b[0m\u001b[1;33m\u001b[0m\u001b[1;33m\u001b[0m\u001b[0m\n\u001b[0;32m     49\u001b[0m \u001b[1;33m\u001b[0m\u001b[0m\n\u001b[1;32m---> 50\u001b[1;33m             \u001b[1;32mreturn\u001b[0m \u001b[0mdraw\u001b[0m\u001b[1;33m(\u001b[0m\u001b[0martist\u001b[0m\u001b[1;33m,\u001b[0m \u001b[0mrenderer\u001b[0m\u001b[1;33m)\u001b[0m\u001b[1;33m\u001b[0m\u001b[1;33m\u001b[0m\u001b[0m\n\u001b[0m\u001b[0;32m     51\u001b[0m         \u001b[1;32mfinally\u001b[0m\u001b[1;33m:\u001b[0m\u001b[1;33m\u001b[0m\u001b[1;33m\u001b[0m\u001b[0m\n\u001b[0;32m     52\u001b[0m             \u001b[1;32mif\u001b[0m \u001b[0martist\u001b[0m\u001b[1;33m.\u001b[0m\u001b[0mget_agg_filter\u001b[0m\u001b[1;33m(\u001b[0m\u001b[1;33m)\u001b[0m \u001b[1;32mis\u001b[0m \u001b[1;32mnot\u001b[0m \u001b[1;32mNone\u001b[0m\u001b[1;33m:\u001b[0m\u001b[1;33m\u001b[0m\u001b[1;33m\u001b[0m\u001b[0m\n",
      "\u001b[1;32m~\\Anaconda3\\envs\\machine_learning\\lib\\site-packages\\matplotlib\\figure.py\u001b[0m in \u001b[0;36mdraw\u001b[1;34m(self, renderer)\u001b[0m\n\u001b[0;32m   2835\u001b[0m \u001b[1;33m\u001b[0m\u001b[0m\n\u001b[0;32m   2836\u001b[0m             \u001b[0mself\u001b[0m\u001b[1;33m.\u001b[0m\u001b[0mpatch\u001b[0m\u001b[1;33m.\u001b[0m\u001b[0mdraw\u001b[0m\u001b[1;33m(\u001b[0m\u001b[0mrenderer\u001b[0m\u001b[1;33m)\u001b[0m\u001b[1;33m\u001b[0m\u001b[1;33m\u001b[0m\u001b[0m\n\u001b[1;32m-> 2837\u001b[1;33m             mimage._draw_list_compositing_images(\n\u001b[0m\u001b[0;32m   2838\u001b[0m                 renderer, self, artists, self.suppressComposite)\n\u001b[0;32m   2839\u001b[0m \u001b[1;33m\u001b[0m\u001b[0m\n",
      "\u001b[1;32m~\\Anaconda3\\envs\\machine_learning\\lib\\site-packages\\matplotlib\\image.py\u001b[0m in \u001b[0;36m_draw_list_compositing_images\u001b[1;34m(renderer, parent, artists, suppress_composite)\u001b[0m\n\u001b[0;32m    130\u001b[0m     \u001b[1;32mif\u001b[0m \u001b[0mnot_composite\u001b[0m \u001b[1;32mor\u001b[0m \u001b[1;32mnot\u001b[0m \u001b[0mhas_images\u001b[0m\u001b[1;33m:\u001b[0m\u001b[1;33m\u001b[0m\u001b[1;33m\u001b[0m\u001b[0m\n\u001b[0;32m    131\u001b[0m         \u001b[1;32mfor\u001b[0m \u001b[0ma\u001b[0m \u001b[1;32min\u001b[0m \u001b[0martists\u001b[0m\u001b[1;33m:\u001b[0m\u001b[1;33m\u001b[0m\u001b[1;33m\u001b[0m\u001b[0m\n\u001b[1;32m--> 132\u001b[1;33m             \u001b[0ma\u001b[0m\u001b[1;33m.\u001b[0m\u001b[0mdraw\u001b[0m\u001b[1;33m(\u001b[0m\u001b[0mrenderer\u001b[0m\u001b[1;33m)\u001b[0m\u001b[1;33m\u001b[0m\u001b[1;33m\u001b[0m\u001b[0m\n\u001b[0m\u001b[0;32m    133\u001b[0m     \u001b[1;32melse\u001b[0m\u001b[1;33m:\u001b[0m\u001b[1;33m\u001b[0m\u001b[1;33m\u001b[0m\u001b[0m\n\u001b[0;32m    134\u001b[0m         \u001b[1;31m# Composite any adjacent images together\u001b[0m\u001b[1;33m\u001b[0m\u001b[1;33m\u001b[0m\u001b[1;33m\u001b[0m\u001b[0m\n",
      "\u001b[1;32m~\\Anaconda3\\envs\\machine_learning\\lib\\site-packages\\matplotlib\\artist.py\u001b[0m in \u001b[0;36mdraw_wrapper\u001b[1;34m(artist, renderer)\u001b[0m\n\u001b[0;32m     48\u001b[0m                 \u001b[0mrenderer\u001b[0m\u001b[1;33m.\u001b[0m\u001b[0mstart_filter\u001b[0m\u001b[1;33m(\u001b[0m\u001b[1;33m)\u001b[0m\u001b[1;33m\u001b[0m\u001b[1;33m\u001b[0m\u001b[0m\n\u001b[0;32m     49\u001b[0m \u001b[1;33m\u001b[0m\u001b[0m\n\u001b[1;32m---> 50\u001b[1;33m             \u001b[1;32mreturn\u001b[0m \u001b[0mdraw\u001b[0m\u001b[1;33m(\u001b[0m\u001b[0martist\u001b[0m\u001b[1;33m,\u001b[0m \u001b[0mrenderer\u001b[0m\u001b[1;33m)\u001b[0m\u001b[1;33m\u001b[0m\u001b[1;33m\u001b[0m\u001b[0m\n\u001b[0m\u001b[0;32m     51\u001b[0m         \u001b[1;32mfinally\u001b[0m\u001b[1;33m:\u001b[0m\u001b[1;33m\u001b[0m\u001b[1;33m\u001b[0m\u001b[0m\n\u001b[0;32m     52\u001b[0m             \u001b[1;32mif\u001b[0m \u001b[0martist\u001b[0m\u001b[1;33m.\u001b[0m\u001b[0mget_agg_filter\u001b[0m\u001b[1;33m(\u001b[0m\u001b[1;33m)\u001b[0m \u001b[1;32mis\u001b[0m \u001b[1;32mnot\u001b[0m \u001b[1;32mNone\u001b[0m\u001b[1;33m:\u001b[0m\u001b[1;33m\u001b[0m\u001b[1;33m\u001b[0m\u001b[0m\n",
      "\u001b[1;32m~\\Anaconda3\\envs\\machine_learning\\lib\\site-packages\\matplotlib\\axes\\_base.py\u001b[0m in \u001b[0;36mdraw\u001b[1;34m(self, renderer)\u001b[0m\n\u001b[0;32m   3089\u001b[0m             \u001b[0mrenderer\u001b[0m\u001b[1;33m.\u001b[0m\u001b[0mstop_rasterizing\u001b[0m\u001b[1;33m(\u001b[0m\u001b[1;33m)\u001b[0m\u001b[1;33m\u001b[0m\u001b[1;33m\u001b[0m\u001b[0m\n\u001b[0;32m   3090\u001b[0m \u001b[1;33m\u001b[0m\u001b[0m\n\u001b[1;32m-> 3091\u001b[1;33m         mimage._draw_list_compositing_images(\n\u001b[0m\u001b[0;32m   3092\u001b[0m             renderer, self, artists, self.figure.suppressComposite)\n\u001b[0;32m   3093\u001b[0m \u001b[1;33m\u001b[0m\u001b[0m\n",
      "\u001b[1;32m~\\Anaconda3\\envs\\machine_learning\\lib\\site-packages\\matplotlib\\image.py\u001b[0m in \u001b[0;36m_draw_list_compositing_images\u001b[1;34m(renderer, parent, artists, suppress_composite)\u001b[0m\n\u001b[0;32m    130\u001b[0m     \u001b[1;32mif\u001b[0m \u001b[0mnot_composite\u001b[0m \u001b[1;32mor\u001b[0m \u001b[1;32mnot\u001b[0m \u001b[0mhas_images\u001b[0m\u001b[1;33m:\u001b[0m\u001b[1;33m\u001b[0m\u001b[1;33m\u001b[0m\u001b[0m\n\u001b[0;32m    131\u001b[0m         \u001b[1;32mfor\u001b[0m \u001b[0ma\u001b[0m \u001b[1;32min\u001b[0m \u001b[0martists\u001b[0m\u001b[1;33m:\u001b[0m\u001b[1;33m\u001b[0m\u001b[1;33m\u001b[0m\u001b[0m\n\u001b[1;32m--> 132\u001b[1;33m             \u001b[0ma\u001b[0m\u001b[1;33m.\u001b[0m\u001b[0mdraw\u001b[0m\u001b[1;33m(\u001b[0m\u001b[0mrenderer\u001b[0m\u001b[1;33m)\u001b[0m\u001b[1;33m\u001b[0m\u001b[1;33m\u001b[0m\u001b[0m\n\u001b[0m\u001b[0;32m    133\u001b[0m     \u001b[1;32melse\u001b[0m\u001b[1;33m:\u001b[0m\u001b[1;33m\u001b[0m\u001b[1;33m\u001b[0m\u001b[0m\n\u001b[0;32m    134\u001b[0m         \u001b[1;31m# Composite any adjacent images together\u001b[0m\u001b[1;33m\u001b[0m\u001b[1;33m\u001b[0m\u001b[1;33m\u001b[0m\u001b[0m\n",
      "\u001b[1;32m~\\Anaconda3\\envs\\machine_learning\\lib\\site-packages\\matplotlib\\artist.py\u001b[0m in \u001b[0;36mdraw_wrapper\u001b[1;34m(artist, renderer)\u001b[0m\n\u001b[0;32m     48\u001b[0m                 \u001b[0mrenderer\u001b[0m\u001b[1;33m.\u001b[0m\u001b[0mstart_filter\u001b[0m\u001b[1;33m(\u001b[0m\u001b[1;33m)\u001b[0m\u001b[1;33m\u001b[0m\u001b[1;33m\u001b[0m\u001b[0m\n\u001b[0;32m     49\u001b[0m \u001b[1;33m\u001b[0m\u001b[0m\n\u001b[1;32m---> 50\u001b[1;33m             \u001b[1;32mreturn\u001b[0m \u001b[0mdraw\u001b[0m\u001b[1;33m(\u001b[0m\u001b[0martist\u001b[0m\u001b[1;33m,\u001b[0m \u001b[0mrenderer\u001b[0m\u001b[1;33m)\u001b[0m\u001b[1;33m\u001b[0m\u001b[1;33m\u001b[0m\u001b[0m\n\u001b[0m\u001b[0;32m     51\u001b[0m         \u001b[1;32mfinally\u001b[0m\u001b[1;33m:\u001b[0m\u001b[1;33m\u001b[0m\u001b[1;33m\u001b[0m\u001b[0m\n\u001b[0;32m     52\u001b[0m             \u001b[1;32mif\u001b[0m \u001b[0martist\u001b[0m\u001b[1;33m.\u001b[0m\u001b[0mget_agg_filter\u001b[0m\u001b[1;33m(\u001b[0m\u001b[1;33m)\u001b[0m \u001b[1;32mis\u001b[0m \u001b[1;32mnot\u001b[0m \u001b[1;32mNone\u001b[0m\u001b[1;33m:\u001b[0m\u001b[1;33m\u001b[0m\u001b[1;33m\u001b[0m\u001b[0m\n",
      "\u001b[1;32m~\\Anaconda3\\envs\\machine_learning\\lib\\site-packages\\matplotlib\\text.py\u001b[0m in \u001b[0;36mdraw\u001b[1;34m(self, renderer)\u001b[0m\n\u001b[0;32m   1967\u001b[0m         \u001b[1;32mif\u001b[0m \u001b[0mrenderer\u001b[0m \u001b[1;32mis\u001b[0m \u001b[1;32mnot\u001b[0m \u001b[1;32mNone\u001b[0m\u001b[1;33m:\u001b[0m\u001b[1;33m\u001b[0m\u001b[1;33m\u001b[0m\u001b[0m\n\u001b[0;32m   1968\u001b[0m             \u001b[0mself\u001b[0m\u001b[1;33m.\u001b[0m\u001b[0m_renderer\u001b[0m \u001b[1;33m=\u001b[0m \u001b[0mrenderer\u001b[0m\u001b[1;33m\u001b[0m\u001b[1;33m\u001b[0m\u001b[0m\n\u001b[1;32m-> 1969\u001b[1;33m         \u001b[1;32mif\u001b[0m \u001b[1;32mnot\u001b[0m \u001b[0mself\u001b[0m\u001b[1;33m.\u001b[0m\u001b[0mget_visible\u001b[0m\u001b[1;33m(\u001b[0m\u001b[1;33m)\u001b[0m \u001b[1;32mor\u001b[0m \u001b[1;32mnot\u001b[0m \u001b[0mself\u001b[0m\u001b[1;33m.\u001b[0m\u001b[0m_check_xy\u001b[0m\u001b[1;33m(\u001b[0m\u001b[0mrenderer\u001b[0m\u001b[1;33m)\u001b[0m\u001b[1;33m:\u001b[0m\u001b[1;33m\u001b[0m\u001b[1;33m\u001b[0m\u001b[0m\n\u001b[0m\u001b[0;32m   1970\u001b[0m             \u001b[1;32mreturn\u001b[0m\u001b[1;33m\u001b[0m\u001b[1;33m\u001b[0m\u001b[0m\n\u001b[0;32m   1971\u001b[0m         \u001b[1;31m# Update text positions before `Text.draw` would, so that the\u001b[0m\u001b[1;33m\u001b[0m\u001b[1;33m\u001b[0m\u001b[1;33m\u001b[0m\u001b[0m\n",
      "\u001b[1;32m~\\Anaconda3\\envs\\machine_learning\\lib\\site-packages\\matplotlib\\text.py\u001b[0m in \u001b[0;36m_check_xy\u001b[1;34m(self, renderer)\u001b[0m\n\u001b[0;32m   1557\u001b[0m         \u001b[1;32mif\u001b[0m \u001b[0mb\u001b[0m \u001b[1;32mor\u001b[0m \u001b[1;33m(\u001b[0m\u001b[0mb\u001b[0m \u001b[1;32mis\u001b[0m \u001b[1;32mNone\u001b[0m \u001b[1;32mand\u001b[0m \u001b[0mself\u001b[0m\u001b[1;33m.\u001b[0m\u001b[0mxycoords\u001b[0m \u001b[1;33m==\u001b[0m \u001b[1;34m\"data\"\u001b[0m\u001b[1;33m)\u001b[0m\u001b[1;33m:\u001b[0m\u001b[1;33m\u001b[0m\u001b[1;33m\u001b[0m\u001b[0m\n\u001b[0;32m   1558\u001b[0m             \u001b[1;31m# check if self.xy is inside the axes.\u001b[0m\u001b[1;33m\u001b[0m\u001b[1;33m\u001b[0m\u001b[1;33m\u001b[0m\u001b[0m\n\u001b[1;32m-> 1559\u001b[1;33m             \u001b[0mxy_pixel\u001b[0m \u001b[1;33m=\u001b[0m \u001b[0mself\u001b[0m\u001b[1;33m.\u001b[0m\u001b[0m_get_position_xy\u001b[0m\u001b[1;33m(\u001b[0m\u001b[0mrenderer\u001b[0m\u001b[1;33m)\u001b[0m\u001b[1;33m\u001b[0m\u001b[1;33m\u001b[0m\u001b[0m\n\u001b[0m\u001b[0;32m   1560\u001b[0m             \u001b[1;32mreturn\u001b[0m \u001b[0mself\u001b[0m\u001b[1;33m.\u001b[0m\u001b[0maxes\u001b[0m\u001b[1;33m.\u001b[0m\u001b[0mcontains_point\u001b[0m\u001b[1;33m(\u001b[0m\u001b[0mxy_pixel\u001b[0m\u001b[1;33m)\u001b[0m\u001b[1;33m\u001b[0m\u001b[1;33m\u001b[0m\u001b[0m\n\u001b[0;32m   1561\u001b[0m         \u001b[1;32mreturn\u001b[0m \u001b[1;32mTrue\u001b[0m\u001b[1;33m\u001b[0m\u001b[1;33m\u001b[0m\u001b[0m\n",
      "\u001b[1;32m~\\Anaconda3\\envs\\machine_learning\\lib\\site-packages\\matplotlib\\text.py\u001b[0m in \u001b[0;36m_get_position_xy\u001b[1;34m(self, renderer)\u001b[0m\n\u001b[0;32m   1550\u001b[0m         \u001b[1;34m\"\"\"Return the pixel position of the annotated point.\"\"\"\u001b[0m\u001b[1;33m\u001b[0m\u001b[1;33m\u001b[0m\u001b[0m\n\u001b[0;32m   1551\u001b[0m         \u001b[0mx\u001b[0m\u001b[1;33m,\u001b[0m \u001b[0my\u001b[0m \u001b[1;33m=\u001b[0m \u001b[0mself\u001b[0m\u001b[1;33m.\u001b[0m\u001b[0mxy\u001b[0m\u001b[1;33m\u001b[0m\u001b[1;33m\u001b[0m\u001b[0m\n\u001b[1;32m-> 1552\u001b[1;33m         \u001b[1;32mreturn\u001b[0m \u001b[0mself\u001b[0m\u001b[1;33m.\u001b[0m\u001b[0m_get_xy\u001b[0m\u001b[1;33m(\u001b[0m\u001b[0mrenderer\u001b[0m\u001b[1;33m,\u001b[0m \u001b[0mx\u001b[0m\u001b[1;33m,\u001b[0m \u001b[0my\u001b[0m\u001b[1;33m,\u001b[0m \u001b[0mself\u001b[0m\u001b[1;33m.\u001b[0m\u001b[0mxycoords\u001b[0m\u001b[1;33m)\u001b[0m\u001b[1;33m\u001b[0m\u001b[1;33m\u001b[0m\u001b[0m\n\u001b[0m\u001b[0;32m   1553\u001b[0m \u001b[1;33m\u001b[0m\u001b[0m\n\u001b[0;32m   1554\u001b[0m     \u001b[1;32mdef\u001b[0m \u001b[0m_check_xy\u001b[0m\u001b[1;33m(\u001b[0m\u001b[0mself\u001b[0m\u001b[1;33m,\u001b[0m \u001b[0mrenderer\u001b[0m\u001b[1;33m)\u001b[0m\u001b[1;33m:\u001b[0m\u001b[1;33m\u001b[0m\u001b[1;33m\u001b[0m\u001b[0m\n",
      "\u001b[1;32m~\\Anaconda3\\envs\\machine_learning\\lib\\site-packages\\matplotlib\\text.py\u001b[0m in \u001b[0;36m_get_xy\u001b[1;34m(self, renderer, x, y, s)\u001b[0m\n\u001b[0;32m   1417\u001b[0m             \u001b[0ms1\u001b[0m\u001b[1;33m,\u001b[0m \u001b[0ms2\u001b[0m \u001b[1;33m=\u001b[0m \u001b[0ms\u001b[0m\u001b[1;33m,\u001b[0m \u001b[0ms\u001b[0m\u001b[1;33m\u001b[0m\u001b[1;33m\u001b[0m\u001b[0m\n\u001b[0;32m   1418\u001b[0m         \u001b[1;32mif\u001b[0m \u001b[0ms1\u001b[0m \u001b[1;33m==\u001b[0m \u001b[1;34m'data'\u001b[0m\u001b[1;33m:\u001b[0m\u001b[1;33m\u001b[0m\u001b[1;33m\u001b[0m\u001b[0m\n\u001b[1;32m-> 1419\u001b[1;33m             \u001b[0mx\u001b[0m \u001b[1;33m=\u001b[0m \u001b[0mfloat\u001b[0m\u001b[1;33m(\u001b[0m\u001b[0mself\u001b[0m\u001b[1;33m.\u001b[0m\u001b[0mconvert_xunits\u001b[0m\u001b[1;33m(\u001b[0m\u001b[0mx\u001b[0m\u001b[1;33m)\u001b[0m\u001b[1;33m)\u001b[0m\u001b[1;33m\u001b[0m\u001b[1;33m\u001b[0m\u001b[0m\n\u001b[0m\u001b[0;32m   1420\u001b[0m         \u001b[1;32mif\u001b[0m \u001b[0ms2\u001b[0m \u001b[1;33m==\u001b[0m \u001b[1;34m'data'\u001b[0m\u001b[1;33m:\u001b[0m\u001b[1;33m\u001b[0m\u001b[1;33m\u001b[0m\u001b[0m\n\u001b[0;32m   1421\u001b[0m             \u001b[0my\u001b[0m \u001b[1;33m=\u001b[0m \u001b[0mfloat\u001b[0m\u001b[1;33m(\u001b[0m\u001b[0mself\u001b[0m\u001b[1;33m.\u001b[0m\u001b[0mconvert_yunits\u001b[0m\u001b[1;33m(\u001b[0m\u001b[0my\u001b[0m\u001b[1;33m)\u001b[0m\u001b[1;33m)\u001b[0m\u001b[1;33m\u001b[0m\u001b[1;33m\u001b[0m\u001b[0m\n",
      "\u001b[1;31mTypeError\u001b[0m: only size-1 arrays can be converted to Python scalars"
     ]
    },
    {
     "data": {
      "text/plain": [
       "<Figure size 640x480 with 1 Axes>"
      ]
     },
     "metadata": {},
     "output_type": "display_data"
    }
   ],
   "source": [
    "inertia, centroids\n",
    "\n",
    "for i, c in enumerate(centroids):\n",
    "    print(i, c)\n",
    "    plt.annotate(i, c)\n",
    "plt.scatter(X[:, 0], X[:, 1], c=y, alpha=0.2)\n",
    "plt.show()"
   ]
  },
  {
   "cell_type": "markdown",
   "id": "194b7db0",
   "metadata": {},
   "source": [
    "## Draft"
   ]
  },
  {
   "cell_type": "code",
   "execution_count": 8,
   "id": "112591d4",
   "metadata": {},
   "outputs": [],
   "source": [
    "def d(v, w):\n",
    "    result = np.sum((v - w) ** 2)\n",
    "    return result\n",
    "\n",
    "v = np.array([2, 1])\n",
    "w = np.array([3, 2])\n",
    "assert d(v,w) == 2\n",
    "\n",
    "v = np.array([1, 2, 3])\n",
    "w = np.array([4, 5, 6])\n",
    "assert d(v,w) == 27"
   ]
  },
  {
   "cell_type": "code",
   "execution_count": 15,
   "id": "301afa33",
   "metadata": {},
   "outputs": [
    {
     "data": {
      "image/png": "[encoded data removed]",
      "text/plain": [
       "<Figure size 640x480 with 1 Axes>"
      ]
     },
     "metadata": {},
     "output_type": "display_data"
    }
   ],
   "source": [
    "X, y = make_blobs(\n",
    "    n_samples=8,\n",
    "    n_features=2,\n",
    "    centers=2,\n",
    "    cluster_std=1.0,\n",
    "    center_box=(-5.0, 5.0),\n",
    "    random_state=42,\n",
    ")\n",
    "\n",
    "plt.scatter(X[:, 0], X[:, 1], c=y)\n",
    "plt.show()"
   ]
  },
  {
   "cell_type": "code",
   "execution_count": 100,
   "id": "2dc4110a",
   "metadata": {},
   "outputs": [
    {
     "data": {
      "text/plain": [
       "array([[-1.48875219,  4.27300611],\n",
       "       [ 0.324614  ,  5.27457779],\n",
       "       [ 2.56190169, -0.9266954 ],\n",
       "       [-1.7180165 ,  4.04141331],\n",
       "       [-1.7240732 ,  5.04970311],\n",
       "       [ 1.3071083 ,  1.30083217],\n",
       "       [ 1.41191534, -0.42571886],\n",
       "       [ 0.59502159,  0.42429731]])"
      ]
     },
     "execution_count": 100,
     "metadata": {},
     "output_type": "execute_result"
    }
   ],
   "source": [
    "X"
   ]
  },
  {
   "cell_type": "code",
   "execution_count": 101,
   "id": "ed36ed80",
   "metadata": {},
   "outputs": [],
   "source": [
    "n_centers = 2\n",
    "indeces = np.random.choice(np.arange(len(X)), n_centers, replace=False)\n",
    "centers = X[indeces, :]"
   ]
  },
  {
   "cell_type": "code",
   "execution_count": 102,
   "id": "0d26835e",
   "metadata": {},
   "outputs": [
    {
     "data": {
      "text/plain": [
       "array([[-1.7240732 ,  5.04970311],\n",
       "       [ 1.3071083 ,  1.30083217]])"
      ]
     },
     "execution_count": 102,
     "metadata": {},
     "output_type": "execute_result"
    }
   ],
   "source": [
    "centers"
   ]
  },
  {
   "cell_type": "code",
   "execution_count": 104,
   "id": "59a8c4a4",
   "metadata": {},
   "outputs": [
    {
     "data": {
      "text/plain": [
       "array([[ 0.65863421, 16.65065373],\n",
       "       [ 4.24768787, 16.75594928],\n",
       "       [54.08691989,  6.53638556],\n",
       "       [ 1.016685  , 16.66216503],\n",
       "       [ 0.        , 23.24209453],\n",
       "       [23.24209453,  0.        ],\n",
       "       [39.81466984,  2.99196299],\n",
       "       [26.77257938,  1.27538085]])"
      ]
     },
     "execution_count": 104,
     "metadata": {},
     "output_type": "execute_result"
    }
   ],
   "source": [
    "distances = np.array([])\n",
    "for xi in X:\n",
    "    row = np.array([d(xi, c) for c in centers])\n",
    "    if distances.size == 0:\n",
    "        distances = row\n",
    "    else:\n",
    "        distances = np.vstack([distances, row])\n",
    "distances"
   ]
  },
  {
   "cell_type": "code",
   "execution_count": 110,
   "id": "4767d5bf",
   "metadata": {},
   "outputs": [
    {
     "data": {
      "text/plain": [
       "array([1, 1, 0, 1, 1, 0, 0, 0], dtype=int64)"
      ]
     },
     "execution_count": 110,
     "metadata": {},
     "output_type": "execute_result"
    }
   ],
   "source": [
    "assigned_labels = distances.argmax(axis=1)\n",
    "assigned_labels"
   ]
  },
  {
   "cell_type": "code",
   "execution_count": 111,
   "id": "c1738492",
   "metadata": {},
   "outputs": [
    {
     "data": {
      "text/plain": [
       "[array([[ 2.56190169, -0.9266954 ],\n",
       "        [ 1.3071083 ,  1.30083217],\n",
       "        [ 1.41191534, -0.42571886],\n",
       "        [ 0.59502159,  0.42429731]]),\n",
       " array([[-1.48875219,  4.27300611],\n",
       "        [ 0.324614  ,  5.27457779],\n",
       "        [-1.7180165 ,  4.04141331],\n",
       "        [-1.7240732 ,  5.04970311]])]"
      ]
     },
     "execution_count": 111,
     "metadata": {},
     "output_type": "execute_result"
    }
   ],
   "source": [
    "subsets = [X[assigned_labels == label, :] for label in np.unique(assigned_labels)]\n",
    "subsets"
   ]
  },
  {
   "cell_type": "code",
   "execution_count": 114,
   "id": "de6bc1e0",
   "metadata": {},
   "outputs": [
    {
     "data": {
      "text/plain": [
       "[array([1.46898673, 0.09317881]), array([-1.15155697,  4.65967508])]"
      ]
     },
     "execution_count": 114,
     "metadata": {},
     "output_type": "execute_result"
    }
   ],
   "source": [
    "subset_means = [s.mean(axis=0) for s in subsets]\n",
    "subset_means"
   ]
  },
  {
   "cell_type": "code",
   "execution_count": null,
   "id": "e24455b9",
   "metadata": {},
   "outputs": [],
   "source": []
  }
 ],
 "metadata": {
  "kernelspec": {
   "display_name": "Python 3 (ipykernel)",
   "language": "python",
   "name": "python3"
  },
  "language_info": {
   "codemirror_mode": {
    "name": "ipython",
    "version": 3
   },
   "file_extension": ".py",
   "mimetype": "text/x-python",
   "name": "python",
   "nbconvert_exporter": "python",
   "pygments_lexer": "ipython3",
   "version": "3.9.0"
  }
 },
 "nbformat": 4,
 "nbformat_minor": 5
}
